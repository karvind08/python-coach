{
 "cells": [
  {
   "cell_type": "code",
   "execution_count": 1,
   "metadata": {},
   "outputs": [],
   "source": [
    "import csv"
   ]
  },
  {
   "cell_type": "code",
   "execution_count": 3,
   "metadata": {},
   "outputs": [
    {
     "name": "stdout",
     "output_type": "stream",
     "text": [
      "Enter student record\n",
      "Enter roll number: 1\n",
      "Enter the name: Arvind\n",
      "Enter Phone Number: 9935902544\n",
      "Do you want to add more records: y\n",
      "Enter student record\n",
      "Enter roll number: 2\n",
      "Enter the name: Arvi\n",
      "Enter Phone Number: 993720531034\n",
      "Do you want to add more records: y\n",
      "Enter student record\n",
      "Enter roll number: 3\n",
      "Enter the name: amit\n",
      "Enter Phone Number: 9358442880\n",
      "Do you want to add more records: n\n"
     ]
    }
   ],
   "source": [
    "f = open('first.csv','w',newline='')\n",
    "dw = csv.writer(f)\n",
    "info = ['Roll No','Name','Phone']\n",
    "dw.writerow(info)\n",
    "record = []\n",
    "while True:\n",
    "    print('Enter student record')\n",
    "    r = int(input('Enter roll number: '))\n",
    "    n = input('Enter the name: ')\n",
    "    phn = input('Enter Phone Number: ')\n",
    "    data = [r,n,phn]\n",
    "    record.append(data)\n",
    "    ch = input('Do you want to add more records: ')\n",
    "    if ch == 'n':\n",
    "        break\n",
    "for i in record:\n",
    "    dw.writerow(i)\n",
    "f.close()"
   ]
  },
  {
   "cell_type": "code",
   "execution_count": 9,
   "metadata": {},
   "outputs": [
    {
     "name": "stdout",
     "output_type": "stream",
     "text": [
      "['Roll No', 'Name', 'Phone']\n",
      "['1', 'Arvind', '9935902544']\n",
      "['2', 'Arvi', '993720531034']\n",
      "['3', 'amit', '9358442880']\n"
     ]
    }
   ],
   "source": [
    "f = open('first.csv','r')\n",
    "dr = csv.reader(f)\n",
    "for i in dr:\n",
    "    print(i)\n",
    "f.close()"
   ]
  },
  {
   "cell_type": "code",
   "execution_count": 17,
   "metadata": {},
   "outputs": [
    {
     "name": "stdout",
     "output_type": "stream",
     "text": [
      "Enter student record\n",
      "Enter roll number: 1\n",
      "Enter the name: arvind\n",
      "Enter Phone Number: 9720531034\n",
      "Do you want to add more records: y\n",
      "Enter student record\n",
      "Enter roll number: 2\n",
      "Enter the name: amit\n",
      "Enter Phone Number: 9456077973\n",
      "Do you want to add more records: n\n"
     ]
    }
   ],
   "source": [
    "f = open('second.csv','w',newline='')\n",
    "sw = csv.writer(f)\n",
    "info = ['Roll No','Name','Phone']\n",
    "sw.writerow(info)\n",
    "record = []\n",
    "while True:\n",
    "    print('Enter student record')\n",
    "    r = int(input('Enter roll number: '))\n",
    "    n = input('Enter the name: ')\n",
    "    phn = input('Enter Phone Number: ')\n",
    "    data = [r,n,phn]\n",
    "    record.append(data)\n",
    "    ch = input('Do you want to add more records: ')\n",
    "    if ch == 'n':\n",
    "        break\n",
    "for i in record:\n",
    "    sw.writerow(i)\n",
    "f.close()"
   ]
  },
  {
   "cell_type": "code",
   "execution_count": 22,
   "metadata": {},
   "outputs": [
    {
     "name": "stdout",
     "output_type": "stream",
     "text": [
      "['Roll No', 'Name', 'Phone']\n",
      "['1', 'arvind', '9720531034']\n",
      "['2', 'amit', '9456077973']\n"
     ]
    }
   ],
   "source": [
    "f = open('second.csv','r',newline='\\r\\n')\n",
    "sr = csv.reader(f)\n",
    "for i in sr:\n",
    "    print(i)\n",
    "f.close()"
   ]
  },
  {
   "cell_type": "code",
   "execution_count": 23,
   "metadata": {},
   "outputs": [
    {
     "name": "stdout",
     "output_type": "stream",
     "text": [
      "['Roll No', 'Name', 'Phone']\n",
      "['1', 'arvind', '9720531034']\n",
      "['2', 'amit', '9456077973']\n"
     ]
    }
   ],
   "source": [
    "f = open('second.csv','r',newline='\\r\\n')\n",
    "sr = csv.reader(f)\n",
    "for i in sr:\n",
    "    print(i)\n",
    "f.close()"
   ]
  },
  {
   "cell_type": "code",
   "execution_count": 26,
   "metadata": {},
   "outputs": [
    {
     "name": "stdout",
     "output_type": "stream",
     "text": [
      "Roll No\n",
      "1\n",
      "2\n"
     ]
    }
   ],
   "source": [
    "f = open('second.csv','r',newline='\\r\\n')\n",
    "sr = csv.reader(f)\n",
    "for i in sr:\n",
    "    print(i[0])\n",
    "f.close()"
   ]
  },
  {
   "cell_type": "code",
   "execution_count": 27,
   "metadata": {},
   "outputs": [
    {
     "name": "stdout",
     "output_type": "stream",
     "text": [
      "Name\n",
      "arvind\n",
      "amit\n"
     ]
    }
   ],
   "source": [
    "f = open('second.csv','r',newline='\\r\\n')\n",
    "sr = csv.reader(f)\n",
    "for i in sr:\n",
    "    print(i[1])\n",
    "f.close()"
   ]
  },
  {
   "cell_type": "code",
   "execution_count": 33,
   "metadata": {},
   "outputs": [
    {
     "data": {
      "text/plain": [
       "['Roll No', 'Name', 'Phone']"
      ]
     },
     "execution_count": 33,
     "metadata": {},
     "output_type": "execute_result"
    }
   ],
   "source": [
    "f = open('second.csv','r',newline='\\r\\n')\n",
    "sr = csv.reader(f)\n",
    "next(sr)\n",
    "#for i in sr:\n",
    "#    print(i[2])\n",
    "#f.close()"
   ]
  },
  {
   "cell_type": "markdown",
   "metadata": {},
   "source": [
    "# Corey Shaufer"
   ]
  },
  {
   "cell_type": "code",
   "execution_count": 35,
   "metadata": {},
   "outputs": [
    {
     "name": "stdout",
     "output_type": "stream",
     "text": [
      "['Roll No', 'Name', 'Phone']\n",
      "['1', 'Arvind', '9935902544']\n",
      "['2', 'Arvi', '993720531034']\n",
      "['3', 'amit', '9358442880']\n"
     ]
    }
   ],
   "source": [
    "fcsv = open('first.csv','r')\n",
    "csv_reader = csv.reader(fcsv)\n",
    "#print(csv)\n",
    "for i in csv_reader:\n",
    "    print(i)"
   ]
  },
  {
   "cell_type": "code",
   "execution_count": 36,
   "metadata": {},
   "outputs": [
    {
     "name": "stdout",
     "output_type": "stream",
     "text": [
      "['1', 'Arvind', '9935902544']\n",
      "['2', 'Arvi', '993720531034']\n",
      "['3', 'amit', '9358442880']\n"
     ]
    }
   ],
   "source": [
    "fcsv = open('first.csv','r')\n",
    "csv_reader = csv.reader(fcsv)\n",
    "next(csv_reader)\n",
    "for i in csv_reader:\n",
    "    print(i)"
   ]
  },
  {
   "cell_type": "code",
   "execution_count": 37,
   "metadata": {},
   "outputs": [
    {
     "name": "stdout",
     "output_type": "stream",
     "text": [
      "Arvind\n",
      "Arvi\n",
      "amit\n"
     ]
    }
   ],
   "source": [
    "fcsv = open('first.csv','r')\n",
    "csv_reader = csv.reader(fcsv)\n",
    "next(csv_reader)\n",
    "for i in csv_reader:\n",
    "    print(i[1])"
   ]
  },
  {
   "cell_type": "code",
   "execution_count": 48,
   "metadata": {},
   "outputs": [],
   "source": [
    "fcsv = open('first.csv','r',newline='')\n",
    "csv_reader = csv.reader(fcsv)\n",
    "\n",
    "fcsv1 = open('newfile.csv','w')\n",
    "csv_writer = csv.writer(fcsv1,delimiter='-')\n",
    "\n",
    "for i in csv_reader:\n",
    "    csv_writer.writerow(i)\n",
    "f.close()\n"
   ]
  },
  {
   "cell_type": "code",
   "execution_count": 50,
   "metadata": {},
   "outputs": [
    {
     "name": "stdout",
     "output_type": "stream",
     "text": [
      "['1-Arvind-9935902544']\n",
      "['2-Arvi-993720531034']\n",
      "['3-amit-9358442880']\n"
     ]
    }
   ],
   "source": [
    "fcsv = open('newfile.csv','r',newline='\\r\\n')\n",
    "csv_reader = csv.reader(fcsv)\n",
    "next(csv_reader)\n",
    "for i in csv_reader:\n",
    "    print(i)\n",
    "f.close()"
   ]
  },
  {
   "cell_type": "code",
   "execution_count": 54,
   "metadata": {},
   "outputs": [],
   "source": [
    "fcsv = open('first.csv','r',newline='')\n",
    "csv_reader = csv.reader(fcsv)\n",
    "\n",
    "fcsv1 = open('newfile.csv','w')\n",
    "csv_writer = csv.writer(fcsv1,delimiter='\\t')\n",
    "\n",
    "for i in csv_reader:\n",
    "    csv_writer.writerow(i)\n",
    "f.close()\n"
   ]
  },
  {
   "cell_type": "code",
   "execution_count": 55,
   "metadata": {},
   "outputs": [
    {
     "name": "stdout",
     "output_type": "stream",
     "text": [
      "['1\\tArvind\\t9935902544']\n",
      "['2\\tArvi\\t993720531034']\n",
      "['3\\tamit\\t9358442880']\n"
     ]
    }
   ],
   "source": [
    "fcsv = open('newfile.csv','r',newline='\\r\\n')\n",
    "csv_reader = csv.reader(fcsv)\n",
    "next(csv_reader)\n",
    "for i in csv_reader:\n",
    "    print(i)\n",
    "f.close()"
   ]
  },
  {
   "cell_type": "code",
   "execution_count": 58,
   "metadata": {},
   "outputs": [
    {
     "name": "stdout",
     "output_type": "stream",
     "text": [
      "{'Roll No': '1', 'Name': 'Arvind', 'Phone': '9935902544'}\n",
      "{'Roll No': '2', 'Name': 'Arvi', 'Phone': '993720531034'}\n",
      "{'Roll No': '3', 'Name': 'amit', 'Phone': '9358442880'}\n"
     ]
    }
   ],
   "source": [
    "fcsv = open('first.csv','r',newline='\\r\\n')\n",
    "csv_reader = csv.DictReader(fcsv)\n",
    "for i in csv_reader:\n",
    "    print(i)\n",
    "f.close()"
   ]
  },
  {
   "cell_type": "code",
   "execution_count": 61,
   "metadata": {},
   "outputs": [
    {
     "name": "stdout",
     "output_type": "stream",
     "text": [
      "Arvind\n",
      "Arvi\n",
      "amit\n"
     ]
    }
   ],
   "source": [
    "fcsv = open('first.csv','r',newline='\\r\\n')\n",
    "csv_reader = csv.DictReader(fcsv)\n",
    "for i in csv_reader:\n",
    "    print(i['Name'])\n",
    "f.close()"
   ]
  },
  {
   "cell_type": "code",
   "execution_count": 66,
   "metadata": {},
   "outputs": [],
   "source": [
    "f = open('first.csv','r')\n",
    "csv_reader = csv.DictReader(f)\n",
    "\n",
    "f1 = open('new.csv','w')\n",
    "fieldnames = ['Roll No','Name','Phone']\n",
    "csv_writer = csv.DictWriter(f1,fieldnames=fieldnames)\n",
    "csv_writer.writeheader()\n",
    "for i in csv_reader:\n",
    "    csv_writer.writerow(i)\n",
    "    \n",
    "f.close()\n"
   ]
  },
  {
   "cell_type": "code",
   "execution_count": 72,
   "metadata": {},
   "outputs": [],
   "source": [
    "f = open('first.csv','r')\n",
    "csv_reader = csv.DictReader(f)\n",
    "\n",
    "f1 = open('new.csv','w')\n",
    "fieldnames = ['Roll No','Name']\n",
    "\n",
    "csv_writer = csv.DictWriter(f1,fieldnames=fieldnames)\n",
    "csv_writer.writeheader()\n",
    "for i in csv_reader:\n",
    "    del i['Phone']\n",
    "    csv_writer.writerow(i)\n",
    "    \n",
    "f.close()\n"
   ]
  },
  {
   "cell_type": "code",
   "execution_count": 71,
   "metadata": {},
   "outputs": [
    {
     "name": "stdout",
     "output_type": "stream",
     "text": [
      "{'Roll No': '1', 'Name': 'Arvind'}\n",
      "{'Roll No': '2', 'Name': 'Arvi'}\n",
      "{'Roll No': '3', 'Name': 'amit'}\n"
     ]
    }
   ],
   "source": [
    "fcsv = open('new.csv','r',newline='\\r\\n')\n",
    "csv_reader = csv.DictReader(fcsv)\n",
    "for i in csv_reader:\n",
    "    print(i)\n",
    "f.close()"
   ]
  },
  {
   "cell_type": "code",
   "execution_count": null,
   "metadata": {},
   "outputs": [],
   "source": []
  },
  {
   "cell_type": "code",
   "execution_count": null,
   "metadata": {},
   "outputs": [],
   "source": []
  }
 ],
 "metadata": {
  "kernelspec": {
   "display_name": "Python 3",
   "language": "python",
   "name": "python3"
  },
  "language_info": {
   "codemirror_mode": {
    "name": "ipython",
    "version": 3
   },
   "file_extension": ".py",
   "mimetype": "text/x-python",
   "name": "python",
   "nbconvert_exporter": "python",
   "pygments_lexer": "ipython3",
   "version": "3.9.1"
  }
 },
 "nbformat": 4,
 "nbformat_minor": 4
}
