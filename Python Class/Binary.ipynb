{
 "cells": [
  {
   "cell_type": "markdown",
   "metadata": {},
   "source": [
    "# Binary Files"
   ]
  },
  {
   "cell_type": "markdown",
   "metadata": {},
   "source": [
    "# In binary files, Information will be stored in binary format."
   ]
  },
  {
   "cell_type": "markdown",
   "metadata": {},
   "source": [
    "# There  is no delimiter to end a line in binary file. "
   ]
  },
  {
   "cell_type": "markdown",
   "metadata": {},
   "source": [
    "# Binary files are easy and fast in working."
   ]
  },
  {
   "cell_type": "markdown",
   "metadata": {},
   "source": [
    "# Modes"
   ]
  },
  {
   "cell_type": "markdown",
   "metadata": {},
   "source": [
    "# rb\n",
    "wb\n",
    "ab\n",
    "wb+\n",
    "rb+\n",
    "ab+"
   ]
  },
  {
   "cell_type": "code",
   "execution_count": null,
   "metadata": {},
   "outputs": [],
   "source": []
  },
  {
   "cell_type": "markdown",
   "metadata": {},
   "source": [
    "# Pickling: It is process of converting structure(list or dictionary) to the byte stream before writing to file."
   ]
  },
  {
   "cell_type": "markdown",
   "metadata": {},
   "source": [
    "# Unpickling: It is process of converting byte stream to structure."
   ]
  },
  {
   "cell_type": "markdown",
   "metadata": {},
   "source": [
    "# Pickle Module: pip install pickle"
   ]
  },
  {
   "cell_type": "markdown",
   "metadata": {},
   "source": [
    "# The Pickle module provides two functions.\n",
    "    a.pickle.dump()\n",
    "    b.pickle.load()"
   ]
  },
  {
   "cell_type": "markdown",
   "metadata": {},
   "source": [
    "# pickle.dump(): it is used to write data to the binary file. \n",
    "\n",
    "Syntax:\n",
    "\n",
    "pickle.dump(structure,fileobject)"
   ]
  },
  {
   "cell_type": "markdown",
   "metadata": {},
   "source": [
    "# pickle.load(): it is used to read data from the binary file. \n",
    "\n",
    "Syntax:\n",
    "structure = pickle.load(fileobject)\n"
   ]
  },
  {
   "cell_type": "markdown",
   "metadata": {},
   "source": [
    "# add list to binary file"
   ]
  },
  {
   "cell_type": "code",
   "execution_count": 1,
   "metadata": {},
   "outputs": [],
   "source": [
    "import pickle"
   ]
  },
  {
   "cell_type": "code",
   "execution_count": 10,
   "metadata": {},
   "outputs": [],
   "source": [
    "def write():\n",
    "    f = open('one.dat','wb')\n",
    "    list1 = ['Arvind','SRM','RGGI']\n",
    "    pickle.dump(list1,f)\n",
    "    f.close()\n",
    "write()"
   ]
  },
  {
   "cell_type": "code",
   "execution_count": null,
   "metadata": {},
   "outputs": [],
   "source": [
    "def read():\n",
    "    f = open('one.dat','rb')\n",
    "    s = pickle.load(f)\n",
    "    print(s)\n",
    "    f.close()\n",
    "read()"
   ]
  },
  {
   "cell_type": "markdown",
   "metadata": {},
   "source": [
    "# add dictionary to binary file"
   ]
  },
  {
   "cell_type": "code",
   "execution_count": 12,
   "metadata": {},
   "outputs": [],
   "source": [
    "def write1():\n",
    "    f = open('two.dat','wb')\n",
    "    d = {'name':'Arvind','Post':'AP','Phone':'9720531034'}\n",
    "    pickle.dump(d,f)\n",
    "    f.close()\n",
    "write1()"
   ]
  },
  {
   "cell_type": "code",
   "execution_count": 13,
   "metadata": {},
   "outputs": [
    {
     "name": "stdout",
     "output_type": "stream",
     "text": [
      "{'name': 'Arvind', 'Post': 'AP', 'Phone': '9720531034'}\n"
     ]
    }
   ],
   "source": [
    "def read1():\n",
    "    f1 = open('two.dat','rb')\n",
    "    s = pickle.load(f1)\n",
    "    print(s)\n",
    "    f1.close()\n",
    "read1()"
   ]
  },
  {
   "cell_type": "code",
   "execution_count": 14,
   "metadata": {},
   "outputs": [
    {
     "name": "stdout",
     "output_type": "stream",
     "text": [
      "[[1, 'Arvind', 89]]\n",
      "[[1, 'Arvind', 89], [2, 'Amit', 78]]\n",
      "[[1, 'Arvind', 89], [2, 'Amit', 78], [3, 'Kukku', 87]]\n"
     ]
    }
   ],
   "source": [
    "L = []\n",
    "r1 = [1,'Arvind',89]\n",
    "L.append(r1)\n",
    "print(L)\n",
    "r2 = [2,'Amit',78]\n",
    "L.append(r2)\n",
    "print(L)\n",
    "r3 = [3,'Kukku',87]\n",
    "L.append(r3)\n",
    "print(L)"
   ]
  },
  {
   "cell_type": "code",
   "execution_count": 15,
   "metadata": {},
   "outputs": [
    {
     "name": "stdout",
     "output_type": "stream",
     "text": [
      "[1, 'Arvind', 89]\n"
     ]
    }
   ],
   "source": [
    "print(L[0])"
   ]
  },
  {
   "cell_type": "code",
   "execution_count": 16,
   "metadata": {},
   "outputs": [
    {
     "name": "stdout",
     "output_type": "stream",
     "text": [
      "89\n"
     ]
    }
   ],
   "source": [
    "print(L[0][2])"
   ]
  },
  {
   "cell_type": "code",
   "execution_count": 17,
   "metadata": {},
   "outputs": [
    {
     "name": "stdout",
     "output_type": "stream",
     "text": [
      "Amit\n"
     ]
    }
   ],
   "source": [
    "print(L[1][1])"
   ]
  },
  {
   "cell_type": "markdown",
   "metadata": {},
   "source": [
    "# Write data to binary file"
   ]
  },
  {
   "cell_type": "code",
   "execution_count": 18,
   "metadata": {},
   "outputs": [
    {
     "name": "stdout",
     "output_type": "stream",
     "text": [
      "Enter the roll number: 1\n",
      "Enter the name: arvind\n",
      "Enter the marks: 99\n",
      "Do you want to add more records(y/n)?: y\n",
      "Enter the roll number: 2\n",
      "Enter the name: amit\n",
      "Enter the marks: 99\n",
      "Do you want to add more records(y/n)?: n\n"
     ]
    }
   ],
   "source": [
    "def writeone():\n",
    "    f = open('one.dat','wb')\n",
    "    records = []\n",
    "    while True:\n",
    "        r = int(input('Enter the roll number: '))\n",
    "        name = input('Enter the name: ')\n",
    "        marks = int(input('Enter the marks: '))\n",
    "        data = [r,name,marks]\n",
    "        records.append(data)\n",
    "        ch = input('Do you want to add more records(y/n)?: ')\n",
    "        if ch == 'n':\n",
    "            break\n",
    "    pickle.dump(records,f)\n",
    "    f.close()\n",
    "writeone()"
   ]
  },
  {
   "cell_type": "markdown",
   "metadata": {},
   "source": [
    "# Read data from binary file"
   ]
  },
  {
   "cell_type": "code",
   "execution_count": 19,
   "metadata": {},
   "outputs": [
    {
     "name": "stdout",
     "output_type": "stream",
     "text": [
      "[[1, 'arvind', 99], [2, 'amit', 99]]\n"
     ]
    }
   ],
   "source": [
    "def readone():\n",
    "    f = open('one.dat','rb')\n",
    "    rec = pickle.load(f)\n",
    "    print(rec)\n",
    "    f.close()\n",
    "readone()"
   ]
  },
  {
   "cell_type": "code",
   "execution_count": 20,
   "metadata": {},
   "outputs": [
    {
     "name": "stdout",
     "output_type": "stream",
     "text": [
      "[1, 'arvind', 99]\n",
      "[2, 'amit', 99]\n"
     ]
    }
   ],
   "source": [
    "def readone():\n",
    "    f = open('one.dat','rb')\n",
    "    rec = pickle.load(f)\n",
    "    for i in rec:\n",
    "        print(i)\n",
    "    f.close()\n",
    "readone()"
   ]
  },
  {
   "cell_type": "code",
   "execution_count": 24,
   "metadata": {},
   "outputs": [
    {
     "name": "stdout",
     "output_type": "stream",
     "text": [
      "1\n",
      "2\n"
     ]
    }
   ],
   "source": [
    "def readone():\n",
    "    f = open('one.dat','rb')\n",
    "    rec = pickle.load(f)\n",
    "    for i in rec:\n",
    "        r = i[0]\n",
    "        n = i[1]\n",
    "        m = i[2]\n",
    "        print(r,n,m)\n",
    "    f.close()\n",
    "readone()"
   ]
  },
  {
   "cell_type": "code",
   "execution_count": 25,
   "metadata": {},
   "outputs": [
    {
     "name": "stdout",
     "output_type": "stream",
     "text": [
      "Enter roll number: 3\n",
      "Enter name: sachin\n",
      "Enter the marks: 88\n",
      "Do you want to add more(y/n)? y\n",
      "Enter roll number: 4\n",
      "Enter name: kukku\n",
      "Enter the marks: 77\n",
      "Do you want to add more(y/n)? n\n"
     ]
    }
   ],
   "source": [
    "def writeoneappend():\n",
    "    f1 = open('one.dat','ab')\n",
    "    records = []\n",
    "    while True:\n",
    "        r = int(input('Enter roll number: '))\n",
    "        n = input('Enter name: ')\n",
    "        m = int(input('Enter the marks: '))\n",
    "        data = [r,n,m]\n",
    "        records.append(data)\n",
    "        ch = input('Do you want to add more(y/n)? ')\n",
    "        if ch == 'n':\n",
    "            break\n",
    "    pickle.dump(records,f1)\n",
    "    f1.close()\n",
    "writeoneappend()"
   ]
  },
  {
   "cell_type": "markdown",
   "metadata": {},
   "source": [
    "# read after append"
   ]
  },
  {
   "cell_type": "code",
   "execution_count": 26,
   "metadata": {},
   "outputs": [
    {
     "name": "stdout",
     "output_type": "stream",
     "text": [
      "[1, 'arvind', 99]\n",
      "[2, 'amit', 99]\n"
     ]
    }
   ],
   "source": [
    "def readoneappend():\n",
    "    f = open('one.dat','rb')\n",
    "    rec = pickle.load(f)\n",
    "    for i in rec:\n",
    "        print(i)\n",
    "    f.close()\n",
    "readoneappend()"
   ]
  },
  {
   "cell_type": "markdown",
   "metadata": {},
   "source": [
    "# read after append using while"
   ]
  },
  {
   "cell_type": "code",
   "execution_count": 67,
   "metadata": {},
   "outputs": [
    {
     "name": "stdout",
     "output_type": "stream",
     "text": [
      "[1, 'arvind', 99]\n",
      "[2, 'amit', 99]\n",
      "[3, 'sachin', 88]\n",
      "[4, 'kukku', 77]\n"
     ]
    },
    {
     "ename": "EOFError",
     "evalue": "Ran out of input",
     "output_type": "error",
     "traceback": [
      "\u001b[1;31m---------------------------------------------------------------------------\u001b[0m",
      "\u001b[1;31mEOFError\u001b[0m                                  Traceback (most recent call last)",
      "\u001b[1;32m<ipython-input-67-a997cdc53ef7>\u001b[0m in \u001b[0;36m<module>\u001b[1;34m\u001b[0m\n\u001b[0;32m      6\u001b[0m             \u001b[0mprint\u001b[0m\u001b[1;33m(\u001b[0m\u001b[0mi\u001b[0m\u001b[1;33m)\u001b[0m\u001b[1;33m\u001b[0m\u001b[1;33m\u001b[0m\u001b[0m\n\u001b[0;32m      7\u001b[0m     \u001b[0mf\u001b[0m\u001b[1;33m.\u001b[0m\u001b[0mclose\u001b[0m\u001b[1;33m(\u001b[0m\u001b[1;33m)\u001b[0m\u001b[1;33m\u001b[0m\u001b[1;33m\u001b[0m\u001b[0m\n\u001b[1;32m----> 8\u001b[1;33m \u001b[0mreadoneappend1\u001b[0m\u001b[1;33m(\u001b[0m\u001b[1;33m)\u001b[0m\u001b[1;33m\u001b[0m\u001b[1;33m\u001b[0m\u001b[0m\n\u001b[0m",
      "\u001b[1;32m<ipython-input-67-a997cdc53ef7>\u001b[0m in \u001b[0;36mreadoneappend1\u001b[1;34m()\u001b[0m\n\u001b[0;32m      2\u001b[0m     \u001b[0mf\u001b[0m \u001b[1;33m=\u001b[0m \u001b[0mopen\u001b[0m\u001b[1;33m(\u001b[0m\u001b[1;34m'one.dat'\u001b[0m\u001b[1;33m,\u001b[0m\u001b[1;34m'rb'\u001b[0m\u001b[1;33m)\u001b[0m\u001b[1;33m\u001b[0m\u001b[1;33m\u001b[0m\u001b[0m\n\u001b[0;32m      3\u001b[0m     \u001b[1;32mwhile\u001b[0m \u001b[1;32mTrue\u001b[0m\u001b[1;33m:\u001b[0m\u001b[1;33m\u001b[0m\u001b[1;33m\u001b[0m\u001b[0m\n\u001b[1;32m----> 4\u001b[1;33m         \u001b[0mrec\u001b[0m \u001b[1;33m=\u001b[0m \u001b[0mpickle\u001b[0m\u001b[1;33m.\u001b[0m\u001b[0mload\u001b[0m\u001b[1;33m(\u001b[0m\u001b[0mf\u001b[0m\u001b[1;33m)\u001b[0m\u001b[1;33m\u001b[0m\u001b[1;33m\u001b[0m\u001b[0m\n\u001b[0m\u001b[0;32m      5\u001b[0m         \u001b[1;32mfor\u001b[0m \u001b[0mi\u001b[0m \u001b[1;32min\u001b[0m \u001b[0mrec\u001b[0m\u001b[1;33m:\u001b[0m\u001b[1;33m\u001b[0m\u001b[1;33m\u001b[0m\u001b[0m\n\u001b[0;32m      6\u001b[0m             \u001b[0mprint\u001b[0m\u001b[1;33m(\u001b[0m\u001b[0mi\u001b[0m\u001b[1;33m)\u001b[0m\u001b[1;33m\u001b[0m\u001b[1;33m\u001b[0m\u001b[0m\n",
      "\u001b[1;31mEOFError\u001b[0m: Ran out of input"
     ]
    }
   ],
   "source": [
    "def readoneappend1():\n",
    "    f = open('one.dat','rb')\n",
    "    while True:\n",
    "        rec = pickle.load(f)\n",
    "        for i in rec:\n",
    "            print(i)\n",
    "    f.close()\n",
    "readoneappend1()"
   ]
  },
  {
   "cell_type": "markdown",
   "metadata": {},
   "source": [
    "# Exceptions"
   ]
  },
  {
   "cell_type": "code",
   "execution_count": 28,
   "metadata": {},
   "outputs": [
    {
     "name": "stdout",
     "output_type": "stream",
     "text": [
      "[1, 'arvind', 99]\n",
      "[2, 'amit', 99]\n",
      "[3, 'sachin', 88]\n",
      "[4, 'kukku', 77]\n"
     ]
    }
   ],
   "source": [
    "def readoneappend1():\n",
    "    f = open('one.dat','rb')\n",
    "    try:\n",
    "        while True:\n",
    "            rec = pickle.load(f)\n",
    "            for i in rec:\n",
    "                print(i)\n",
    "    except Exception:\n",
    "        f.close()\n",
    "readoneappend1()"
   ]
  },
  {
   "cell_type": "markdown",
   "metadata": {},
   "source": [
    "# Writing Data to binary file using dictionary"
   ]
  },
  {
   "cell_type": "code",
   "execution_count": 29,
   "metadata": {},
   "outputs": [
    {
     "name": "stdout",
     "output_type": "stream",
     "text": [
      "Enter the roll number: 1\n",
      "Enter the name: arvind\n",
      "Enter the marks: 99\n",
      "Do you want to add more records(y/n)? y\n",
      "Enter the roll number: 2\n",
      "Enter the name: amit\n",
      "Enter the marks: 88\n",
      "Do you want to add more records(y/n)? n\n"
     ]
    }
   ],
   "source": [
    "def writedict():\n",
    "    f = open('two.dat','wb')\n",
    "    di = {}\n",
    "    while True:\n",
    "        r = int(input('Enter the roll number: '))\n",
    "        name = input('Enter the name: ')\n",
    "        marks = int(input('Enter the marks: '))\n",
    "        di['roll'] = r\n",
    "        di['name'] = name\n",
    "        di['marks'] = marks\n",
    "        pickle.dump(di,f)\n",
    "        ch  = input('Do you want to add more records(y/n)? ')\n",
    "        if ch == 'n':\n",
    "            break\n",
    "    f.close()\n",
    "writedict()    "
   ]
  },
  {
   "cell_type": "markdown",
   "metadata": {},
   "source": [
    "# reading Data to binary file using dictionary."
   ]
  },
  {
   "cell_type": "code",
   "execution_count": 68,
   "metadata": {},
   "outputs": [
    {
     "name": "stdout",
     "output_type": "stream",
     "text": [
      "{'roll': 1, 'name': 'arvind', 'marks': 99}\n",
      "{'roll': 2, 'name': 'amit', 'marks': 88}\n",
      "{'': 3, 'n': 'sachin', 'm': '66'}\n",
      "{'': 4, 'n': 'kukku', 'm': '65'}\n",
      "{'roll': 4, 'name': 'sanju', 'marks': '77'}\n",
      "{'roll': 5, 'name': 'manju', 'marks': '87'}\n"
     ]
    }
   ],
   "source": [
    "def readdict():\n",
    "    f = open('two.dat','rb')\n",
    "    try:\n",
    "        while True:\n",
    "            rec = pickle.load(f)\n",
    "            print(rec)\n",
    "    except EOFError:\n",
    "        f.close()\n",
    "readdict()"
   ]
  },
  {
   "cell_type": "code",
   "execution_count": 34,
   "metadata": {},
   "outputs": [
    {
     "name": "stdout",
     "output_type": "stream",
     "text": [
      "Enter the roll number: 4\n",
      "Enter name: sanju\n",
      "Enter marks: 77\n",
      "more records(y/n)? y\n",
      "Enter the roll number: 5\n",
      "Enter name: manju\n",
      "Enter marks: 87\n",
      "more records(y/n)? n\n"
     ]
    }
   ],
   "source": [
    "def writedictappend():\n",
    "    f = open('two.dat','ab')\n",
    "    di = {}\n",
    "    while True:\n",
    "        r = int(input('Enter the roll number: '))\n",
    "        n = input('Enter name: ')\n",
    "        marks = input('Enter marks: ')\n",
    "        di['roll'] = r\n",
    "        di['name'] = n\n",
    "        di['marks'] = marks\n",
    "        pickle.dump(di,f)\n",
    "        ch = input('more records(y/n)? ')\n",
    "        if ch == 'n':\n",
    "            break\n",
    "    f.close()\n",
    "writedictappend()"
   ]
  },
  {
   "cell_type": "code",
   "execution_count": 36,
   "metadata": {},
   "outputs": [
    {
     "name": "stdout",
     "output_type": "stream",
     "text": [
      "{'roll': 1, 'name': 'arvind', 'marks': 99}\n",
      "{'roll': 2, 'name': 'amit', 'marks': 88}\n",
      "{'': 3, 'n': 'sachin', 'm': '66'}\n",
      "{'': 4, 'n': 'kukku', 'm': '65'}\n",
      "{'roll': 4, 'name': 'sanju', 'marks': '77'}\n",
      "{'roll': 5, 'name': 'manju', 'marks': '87'}\n"
     ]
    }
   ],
   "source": [
    "def readdict():\n",
    "    f = open('two.dat','rb')\n",
    "    try:\n",
    "        while True:\n",
    "            rec = pickle.load(f)\n",
    "            print(rec)\n",
    "    except EOFError:\n",
    "        f.close()\n",
    "readdict()"
   ]
  },
  {
   "cell_type": "code",
   "execution_count": 57,
   "metadata": {},
   "outputs": [
    {
     "name": "stdout",
     "output_type": "stream",
     "text": [
      "{'roll': 1, 'name': 'arvind', 'marks': 99}\n",
      "{'roll': 2, 'name': 'amit', 'marks': 88}\n",
      "{'': 3, 'n': 'sachin', 'm': '66'}\n",
      "{'': 4, 'n': 'kukku', 'm': '65'}\n",
      "{'roll': 4, 'name': 'sanju', 'marks': '77'}\n",
      "{'roll': 5, 'name': 'manju', 'marks': '87'}\n"
     ]
    }
   ],
   "source": [
    "def readdict():\n",
    "    f = open('two.dat','rb')\n",
    "    data = {}\n",
    "    try:\n",
    "        while True:\n",
    "            data = pickle.load(f)\n",
    "            print(data)\n",
    "    except EOFError:\n",
    "        f.close()\n",
    "readdict()"
   ]
  },
  {
   "cell_type": "code",
   "execution_count": null,
   "metadata": {},
   "outputs": [],
   "source": []
  },
  {
   "cell_type": "code",
   "execution_count": null,
   "metadata": {},
   "outputs": [],
   "source": []
  },
  {
   "cell_type": "code",
   "execution_count": null,
   "metadata": {},
   "outputs": [],
   "source": []
  },
  {
   "cell_type": "code",
   "execution_count": null,
   "metadata": {},
   "outputs": [],
   "source": []
  },
  {
   "cell_type": "markdown",
   "metadata": {},
   "source": [
    "# Search"
   ]
  },
  {
   "cell_type": "code",
   "execution_count": 47,
   "metadata": {},
   "outputs": [
    {
     "name": "stdout",
     "output_type": "stream",
     "text": [
      "Enter the roll number to search: 2\n",
      "[2, 'amit', 99]\n"
     ]
    }
   ],
   "source": [
    "def search():\n",
    "    f = open('one.dat','rb')\n",
    "    rec = pickle.load(f)\n",
    "    r = int(input('Enter the roll number to search: '))\n",
    "    found = 0\n",
    "    for i in rec:\n",
    "        if i[0] == r:\n",
    "            print(i)\n",
    "            found = 1\n",
    "    if found ==0:\n",
    "        print('Record not found')\n",
    "    f.close()\n",
    "search()"
   ]
  },
  {
   "cell_type": "markdown",
   "metadata": {},
   "source": [
    "# search dictionary"
   ]
  },
  {
   "cell_type": "code",
   "execution_count": 66,
   "metadata": {},
   "outputs": [
    {
     "name": "stdout",
     "output_type": "stream",
     "text": [
      "enter roll number: 2\n",
      "{'roll': 1, 'name': 'arvind', 'marks': 99}\n",
      "{'roll': 2, 'name': 'amit', 'marks': 88}\n",
      "{'': 3, 'n': 'sachin', 'm': '66'}\n"
     ]
    },
    {
     "ename": "KeyError",
     "evalue": "'roll'",
     "output_type": "error",
     "traceback": [
      "\u001b[1;31m---------------------------------------------------------------------------\u001b[0m",
      "\u001b[1;31mKeyError\u001b[0m                                  Traceback (most recent call last)",
      "\u001b[1;32m<ipython-input-66-9d35a99c0326>\u001b[0m in \u001b[0;36m<module>\u001b[1;34m\u001b[0m\n\u001b[0;32m     10\u001b[0m     \u001b[1;32mexcept\u001b[0m \u001b[0mEOFError\u001b[0m\u001b[1;33m:\u001b[0m\u001b[1;33m\u001b[0m\u001b[1;33m\u001b[0m\u001b[0m\n\u001b[0;32m     11\u001b[0m         \u001b[0mf\u001b[0m\u001b[1;33m.\u001b[0m\u001b[0mclose\u001b[0m\u001b[1;33m(\u001b[0m\u001b[1;33m)\u001b[0m\u001b[1;33m\u001b[0m\u001b[1;33m\u001b[0m\u001b[0m\n\u001b[1;32m---> 12\u001b[1;33m \u001b[0mreaddict\u001b[0m\u001b[1;33m(\u001b[0m\u001b[1;33m)\u001b[0m\u001b[1;33m\u001b[0m\u001b[1;33m\u001b[0m\u001b[0m\n\u001b[0m",
      "\u001b[1;32m<ipython-input-66-9d35a99c0326>\u001b[0m in \u001b[0;36mreaddict\u001b[1;34m()\u001b[0m\n\u001b[0;32m      6\u001b[0m             \u001b[0mrec\u001b[0m \u001b[1;33m=\u001b[0m \u001b[0mpickle\u001b[0m\u001b[1;33m.\u001b[0m\u001b[0mload\u001b[0m\u001b[1;33m(\u001b[0m\u001b[0mf\u001b[0m\u001b[1;33m)\u001b[0m\u001b[1;33m\u001b[0m\u001b[1;33m\u001b[0m\u001b[0m\n\u001b[0;32m      7\u001b[0m             \u001b[0mprint\u001b[0m\u001b[1;33m(\u001b[0m\u001b[0mrec\u001b[0m\u001b[1;33m)\u001b[0m\u001b[1;33m\u001b[0m\u001b[1;33m\u001b[0m\u001b[0m\n\u001b[1;32m----> 8\u001b[1;33m             \u001b[1;32mif\u001b[0m \u001b[0mrec\u001b[0m\u001b[1;33m[\u001b[0m\u001b[1;34m'roll'\u001b[0m\u001b[1;33m]\u001b[0m \u001b[1;33m==\u001b[0m \u001b[0mr\u001b[0m\u001b[1;33m:\u001b[0m\u001b[1;33m\u001b[0m\u001b[1;33m\u001b[0m\u001b[0m\n\u001b[0m\u001b[0;32m      9\u001b[0m                 \u001b[0mfound\u001b[0m \u001b[1;33m=\u001b[0m \u001b[1;36m1\u001b[0m\u001b[1;33m\u001b[0m\u001b[1;33m\u001b[0m\u001b[0m\n\u001b[0;32m     10\u001b[0m     \u001b[1;32mexcept\u001b[0m \u001b[0mEOFError\u001b[0m\u001b[1;33m:\u001b[0m\u001b[1;33m\u001b[0m\u001b[1;33m\u001b[0m\u001b[0m\n",
      "\u001b[1;31mKeyError\u001b[0m: 'roll'"
     ]
    }
   ],
   "source": [
    "def readdict():\n",
    "    f = open('two.dat','rb')\n",
    "    r = int(input('enter roll number: '))\n",
    "    try:\n",
    "        while True:\n",
    "            rec = pickle.load(f)\n",
    "            print(rec)\n",
    "            if rec['roll'] == r:\n",
    "                found = 1\n",
    "    except EOFError:\n",
    "        f.close()\n",
    "readdict()"
   ]
  },
  {
   "cell_type": "code",
   "execution_count": null,
   "metadata": {},
   "outputs": [],
   "source": []
  },
  {
   "cell_type": "code",
   "execution_count": null,
   "metadata": {},
   "outputs": [],
   "source": []
  },
  {
   "cell_type": "code",
   "execution_count": 9,
   "metadata": {},
   "outputs": [
    {
     "name": "stdout",
     "output_type": "stream",
     "text": [
      "1 arvind 67\n"
     ]
    }
   ],
   "source": [
    "def read4():\n",
    "    f = open('third.dat','rb')\n",
    "    data = pickle.load(f)\n",
    "    for i in data:\n",
    "        r = i[0]\n",
    "        name = i[1]\n",
    "        marks = i[2]\n",
    "        print(r,name,marks)\n",
    "    f.close()\n",
    "read4()"
   ]
  },
  {
   "cell_type": "code",
   "execution_count": 1,
   "metadata": {},
   "outputs": [],
   "source": [
    "import pickle"
   ]
  },
  {
   "cell_type": "code",
   "execution_count": 28,
   "metadata": {},
   "outputs": [
    {
     "name": "stdout",
     "output_type": "stream",
     "text": [
      "Enter the roll number: 1\n",
      "Enter the name: arvind\n",
      "Enter the marks: 99\n",
      "Do you want to add more(y/n)?y\n",
      "Enter the roll number: 2\n",
      "Enter the name: amit\n",
      "Enter the marks: 188\n",
      "Do you want to add more(y/n)?n\n"
     ]
    }
   ],
   "source": [
    "def write():\n",
    "    f = open('data.dat','wb')\n",
    "    records = []\n",
    "    while True:\n",
    "        r = int(input('Enter the roll number: '))\n",
    "        n = input('Enter the name: ')\n",
    "        m = int(input('Enter the marks: '))\n",
    "        da = [r,n,m]\n",
    "        records.append(da)\n",
    "        ch = input('Do you want to add more(y/n)?')\n",
    "        if ch == 'n':\n",
    "            break\n",
    "    pickle.dump(records,f)\n",
    "    f.close()\n",
    "write()"
   ]
  },
  {
   "cell_type": "code",
   "execution_count": 29,
   "metadata": {},
   "outputs": [
    {
     "name": "stdout",
     "output_type": "stream",
     "text": [
      "[1, 'arvind', 99]\n",
      "[2, 'amit', 188]\n"
     ]
    }
   ],
   "source": [
    "def read():\n",
    "    f = open('data.dat','rb')\n",
    "    try:\n",
    "        while True:\n",
    "            rec = pickle.load(f)\n",
    "            for i in rec:\n",
    "                print(i)\n",
    "    except EOFError:\n",
    "        f.close()\n",
    "read()"
   ]
  },
  {
   "cell_type": "code",
   "execution_count": 30,
   "metadata": {},
   "outputs": [
    {
     "name": "stdout",
     "output_type": "stream",
     "text": [
      "Enter the roll number: 10\n",
      "Enter the name: sachin\n",
      "Enter marks: 77\n",
      "Do you want to add more(Press y/n)?:y\n",
      "Enter the roll number: 20\n",
      "Enter the name: kukku\n",
      "Enter marks: 66\n",
      "Do you want to add more(Press y/n)?:n\n"
     ]
    }
   ],
   "source": [
    "def write2append():\n",
    "    f=open('data.dat','ab')\n",
    "    records=[]\n",
    "    while True:\n",
    "        roll=int(input('Enter the roll number: '))\n",
    "        name=input('Enter the name: ')\n",
    "        marks=int(input('Enter marks: '))\n",
    "        data = [roll,name,marks]\n",
    "        records.append(data)\n",
    "        ch=input('Do you want to add more(Press y/n)?:')\n",
    "        if ch=='n':\n",
    "            break\n",
    "    pickle.dump(records,f)\n",
    "    f.close()\n",
    "write2append()"
   ]
  },
  {
   "cell_type": "code",
   "execution_count": 31,
   "metadata": {},
   "outputs": [
    {
     "name": "stdout",
     "output_type": "stream",
     "text": [
      "[1, 'arvind', 99]\n",
      "[2, 'amit', 188]\n",
      "[10, 'sachin', 77]\n",
      "[20, 'kukku', 66]\n"
     ]
    }
   ],
   "source": [
    "def read():\n",
    "    f = open('data.dat','rb')\n",
    "    try:\n",
    "        while True:\n",
    "            rec = pickle.load(f)\n",
    "            for i in rec:\n",
    "                print(i)\n",
    "    except EOFError:\n",
    "        f.close()\n",
    "read()"
   ]
  },
  {
   "cell_type": "code",
   "execution_count": 25,
   "metadata": {},
   "outputs": [
    {
     "name": "stdout",
     "output_type": "stream",
     "text": [
      "[1, 'arvind', 99]\n"
     ]
    }
   ],
   "source": [
    "def readclg():\n",
    "    f = open('clg.dat','rb')\n",
    "    data = pickle.load(f)\n",
    "    for i in data:\n",
    "        print(i)\n",
    "    f.close()\n",
    "readclg()"
   ]
  },
  {
   "cell_type": "code",
   "execution_count": 6,
   "metadata": {},
   "outputs": [
    {
     "name": "stdout",
     "output_type": "stream",
     "text": [
      "Enter the roll number: 3\n",
      "Enter the name: sachin\n",
      "Enter marks: 88\n",
      "Do you want to add more(Press y/n)?:y\n",
      "Enter the roll number: 4\n",
      "Enter the name: pintu\n",
      "Enter marks: 66\n",
      "Do you want to add more(Press y/n)?:n\n"
     ]
    }
   ],
   "source": [
    "def write2append():\n",
    "    f=open('clg.dat','ab')\n",
    "    records=[]\n",
    "    while True:\n",
    "        roll=int(input('Enter the roll number: '))\n",
    "        name=input('Enter the name: ')\n",
    "        marks=int(input('Enter marks: '))\n",
    "        data = [roll,name,marks]\n",
    "        records.append(data)\n",
    "        ch=input('Do you want to add more(Press y/n)?:')\n",
    "        if ch=='n':\n",
    "            break\n",
    "    pickle.dump(records,f)\n",
    "    f.close()\n",
    "write2append()"
   ]
  },
  {
   "cell_type": "code",
   "execution_count": 7,
   "metadata": {},
   "outputs": [
    {
     "name": "stdout",
     "output_type": "stream",
     "text": [
      "[1, 'arvind', 100]\n",
      "[2, 'amit', 99]\n"
     ]
    }
   ],
   "source": [
    "def readclg():\n",
    "    f = open('clg.dat','rb')\n",
    "    data = pickle.load(f)\n",
    "    for i in data:\n",
    "        print(i)\n",
    "    f.close()\n",
    "readclg()"
   ]
  },
  {
   "cell_type": "code",
   "execution_count": 27,
   "metadata": {},
   "outputs": [
    {
     "name": "stdout",
     "output_type": "stream",
     "text": [
      "[1, 'arvind', 99]\n",
      "[1, 'arvind', 99]\n",
      "[2, 'amit', 98]\n"
     ]
    }
   ],
   "source": [
    "def read5():\n",
    "    f = open('clg.dat','rb')\n",
    "    try:\n",
    "        while True:\n",
    "            data = pickle.load(f)\n",
    "            for i in data:\n",
    "                print(i)\n",
    "    except EOFError:\n",
    "            f.close()        \n",
    "read5()"
   ]
  },
  {
   "cell_type": "markdown",
   "metadata": {},
   "source": [
    "# Exception:"
   ]
  },
  {
   "cell_type": "markdown",
   "metadata": {},
   "source": [
    "# An exception is an error that is occurs during the execution of program. Whenever, there is an error, Python program generates an exception that could be handled. "
   ]
  },
  {
   "cell_type": "markdown",
   "metadata": {},
   "source": [
    "# Errors:\n",
    "    \n",
    "Syntax Error\n",
    "compile time errors\n",
    "runtime errors"
   ]
  },
  {
   "cell_type": "markdown",
   "metadata": {},
   "source": [
    "# try block: put the code in the try block that can generate exception. "
   ]
  },
  {
   "cell_type": "markdown",
   "metadata": {},
   "source": [
    "# except block: if an exception occurs run this block"
   ]
  },
  {
   "cell_type": "code",
   "execution_count": 11,
   "metadata": {},
   "outputs": [
    {
     "name": "stdout",
     "output_type": "stream",
     "text": [
      "Enter the first number: 4\n",
      "Enter the second number: 0\n",
      "4 0\n"
     ]
    },
    {
     "ename": "ZeroDivisionError",
     "evalue": "division by zero",
     "output_type": "error",
     "traceback": [
      "\u001b[1;31m---------------------------------------------------------------------------\u001b[0m",
      "\u001b[1;31mZeroDivisionError\u001b[0m                         Traceback (most recent call last)",
      "\u001b[1;32m<ipython-input-11-40658f30fe10>\u001b[0m in \u001b[0;36m<module>\u001b[1;34m\u001b[0m\n\u001b[0;32m      2\u001b[0m \u001b[0mb\u001b[0m\u001b[1;33m=\u001b[0m\u001b[0mint\u001b[0m\u001b[1;33m(\u001b[0m\u001b[0minput\u001b[0m\u001b[1;33m(\u001b[0m\u001b[1;34m'Enter the second number: '\u001b[0m\u001b[1;33m)\u001b[0m\u001b[1;33m)\u001b[0m\u001b[1;33m\u001b[0m\u001b[1;33m\u001b[0m\u001b[0m\n\u001b[0;32m      3\u001b[0m \u001b[0mprint\u001b[0m\u001b[1;33m(\u001b[0m\u001b[0ma\u001b[0m\u001b[1;33m,\u001b[0m\u001b[0mb\u001b[0m\u001b[1;33m)\u001b[0m\u001b[1;33m\u001b[0m\u001b[1;33m\u001b[0m\u001b[0m\n\u001b[1;32m----> 4\u001b[1;33m \u001b[0mc\u001b[0m\u001b[1;33m=\u001b[0m\u001b[0ma\u001b[0m\u001b[1;33m/\u001b[0m\u001b[0mb\u001b[0m\u001b[1;33m\u001b[0m\u001b[1;33m\u001b[0m\u001b[0m\n\u001b[0m\u001b[0;32m      5\u001b[0m \u001b[0mprint\u001b[0m\u001b[1;33m(\u001b[0m\u001b[0mc\u001b[0m\u001b[1;33m)\u001b[0m\u001b[1;33m\u001b[0m\u001b[1;33m\u001b[0m\u001b[0m\n",
      "\u001b[1;31mZeroDivisionError\u001b[0m: division by zero"
     ]
    }
   ],
   "source": [
    "a=int(input('Enter the first number: '))\n",
    "b=int(input('Enter the second number: '))\n",
    "print(a,b)\n",
    "c=a/b\n",
    "print(c)"
   ]
  },
  {
   "cell_type": "code",
   "execution_count": 13,
   "metadata": {},
   "outputs": [
    {
     "name": "stdout",
     "output_type": "stream",
     "text": [
      "Enter the first number: 45\n",
      "Enter the second number: 0\n",
      "45 0\n",
      "You can't divide by zero\n"
     ]
    }
   ],
   "source": [
    "a=int(input('Enter the first number: '))\n",
    "b=int(input('Enter the second number: '))\n",
    "print(a,b)\n",
    "try:\n",
    "    c=a/b\n",
    "    print(c)\n",
    "except ZeroDivisionError:\n",
    "    print(\"You can't divide by zero\")"
   ]
  },
  {
   "cell_type": "code",
   "execution_count": 14,
   "metadata": {},
   "outputs": [
    {
     "name": "stdout",
     "output_type": "stream",
     "text": [
      "Enter the first number: 4\n",
      "Enter the second number: 0\n",
      "4 0\n",
      "You can't divide by zero\n"
     ]
    }
   ],
   "source": [
    "a=int(input('Enter the first number: '))\n",
    "b=int(input('Enter the second number: '))\n",
    "print(a,b)\n",
    "try:\n",
    "    c=a/b\n",
    "    print(c)\n",
    "except Exception:\n",
    "    print(\"You can't divide by zero\")"
   ]
  },
  {
   "cell_type": "code",
   "execution_count": 15,
   "metadata": {},
   "outputs": [
    {
     "ename": "FileNotFoundError",
     "evalue": "[Errno 2] No such file or directory: 'text.txt'",
     "output_type": "error",
     "traceback": [
      "\u001b[1;31m---------------------------------------------------------------------------\u001b[0m",
      "\u001b[1;31mFileNotFoundError\u001b[0m                         Traceback (most recent call last)",
      "\u001b[1;32m<ipython-input-15-fc0add996b3d>\u001b[0m in \u001b[0;36m<module>\u001b[1;34m\u001b[0m\n\u001b[0;32m      4\u001b[0m     \u001b[0mprint\u001b[0m\u001b[1;33m(\u001b[0m\u001b[0mdata\u001b[0m\u001b[1;33m)\u001b[0m\u001b[1;33m\u001b[0m\u001b[1;33m\u001b[0m\u001b[0m\n\u001b[0;32m      5\u001b[0m     \u001b[0mf\u001b[0m\u001b[1;33m.\u001b[0m\u001b[0mclose\u001b[0m\u001b[1;33m(\u001b[0m\u001b[1;33m)\u001b[0m\u001b[1;33m\u001b[0m\u001b[1;33m\u001b[0m\u001b[0m\n\u001b[1;32m----> 6\u001b[1;33m \u001b[0mfuntry\u001b[0m\u001b[1;33m(\u001b[0m\u001b[1;33m)\u001b[0m\u001b[1;33m\u001b[0m\u001b[1;33m\u001b[0m\u001b[0m\n\u001b[0m",
      "\u001b[1;32m<ipython-input-15-fc0add996b3d>\u001b[0m in \u001b[0;36mfuntry\u001b[1;34m()\u001b[0m\n\u001b[0;32m      1\u001b[0m \u001b[1;32mdef\u001b[0m \u001b[0mfuntry\u001b[0m\u001b[1;33m(\u001b[0m\u001b[1;33m)\u001b[0m\u001b[1;33m:\u001b[0m\u001b[1;33m\u001b[0m\u001b[1;33m\u001b[0m\u001b[0m\n\u001b[1;32m----> 2\u001b[1;33m     \u001b[0mf\u001b[0m\u001b[1;33m=\u001b[0m\u001b[0mopen\u001b[0m\u001b[1;33m(\u001b[0m\u001b[1;34m'text.txt'\u001b[0m\u001b[1;33m,\u001b[0m\u001b[1;34m'r'\u001b[0m\u001b[1;33m)\u001b[0m\u001b[1;33m\u001b[0m\u001b[1;33m\u001b[0m\u001b[0m\n\u001b[0m\u001b[0;32m      3\u001b[0m     \u001b[0mdata\u001b[0m\u001b[1;33m=\u001b[0m\u001b[0mf\u001b[0m\u001b[1;33m.\u001b[0m\u001b[0mread\u001b[0m\u001b[1;33m(\u001b[0m\u001b[1;33m)\u001b[0m\u001b[1;33m\u001b[0m\u001b[1;33m\u001b[0m\u001b[0m\n\u001b[0;32m      4\u001b[0m     \u001b[0mprint\u001b[0m\u001b[1;33m(\u001b[0m\u001b[0mdata\u001b[0m\u001b[1;33m)\u001b[0m\u001b[1;33m\u001b[0m\u001b[1;33m\u001b[0m\u001b[0m\n\u001b[0;32m      5\u001b[0m     \u001b[0mf\u001b[0m\u001b[1;33m.\u001b[0m\u001b[0mclose\u001b[0m\u001b[1;33m(\u001b[0m\u001b[1;33m)\u001b[0m\u001b[1;33m\u001b[0m\u001b[1;33m\u001b[0m\u001b[0m\n",
      "\u001b[1;31mFileNotFoundError\u001b[0m: [Errno 2] No such file or directory: 'text.txt'"
     ]
    }
   ],
   "source": [
    "def funtry():\n",
    "    f=open('text.txt','r')\n",
    "    data=f.read()\n",
    "    print(data)\n",
    "    f.close()\n",
    "funtry()"
   ]
  },
  {
   "cell_type": "code",
   "execution_count": 16,
   "metadata": {},
   "outputs": [
    {
     "name": "stdout",
     "output_type": "stream",
     "text": [
      "File does not exist\n"
     ]
    }
   ],
   "source": [
    "def funtry():\n",
    "    try:\n",
    "        f=open('text.txt','r')\n",
    "        data=f.read()\n",
    "        print(data)\n",
    "        f.close()\n",
    "    except FileNotFoundError:\n",
    "        print('File does not exist')\n",
    "funtry()"
   ]
  },
  {
   "cell_type": "code",
   "execution_count": 22,
   "metadata": {},
   "outputs": [
    {
     "name": "stdout",
     "output_type": "stream",
     "text": [
      "Enter employee id: 1\n",
      "Enter employee name: arvind\n",
      "Enter Salary: 100\n",
      "Do you want to add more(y/n)?: y\n",
      "Enter employee id: 2\n",
      "Enter employee name: amit\n",
      "Enter Salary: 200\n",
      "Do you want to add more(y/n)?: n\n"
     ]
    }
   ],
   "source": [
    "def writedict():\n",
    "    f = open('five.dat','wb')\n",
    "    D = {}\n",
    "    while True:\n",
    "        eno = int(input('Enter employee id: '))\n",
    "        ename = input('Enter employee name: ')\n",
    "        esal = int(input('Enter Salary: '))\n",
    "        D['id'] = eno\n",
    "        D['name'] = ename\n",
    "        D['sal'] = esal\n",
    "        pickle.dump(D,f)\n",
    "        ch = input('Do you want to add more(y/n)?: ')\n",
    "        if ch == 'n':\n",
    "            break\n",
    "    f.close()\n",
    "writedict()"
   ]
  },
  {
   "cell_type": "code",
   "execution_count": 23,
   "metadata": {},
   "outputs": [
    {
     "name": "stdout",
     "output_type": "stream",
     "text": [
      "{'id': 1, 'name': 'arvind', 'sal': 100}\n",
      "{'id': 2, 'name': 'amit', 'sal': 200}\n"
     ]
    }
   ],
   "source": [
    "def readdict():\n",
    "    f = open('five.dat','rb')\n",
    "    try:\n",
    "        while True:\n",
    "            rec = pickle.load(f)\n",
    "            print(rec)\n",
    "    except EOFError:\n",
    "        f.close()\n",
    "readdict()"
   ]
  },
  {
   "cell_type": "code",
   "execution_count": 70,
   "metadata": {},
   "outputs": [
    {
     "data": {
      "text/plain": [
       "[5, 6, 7]"
      ]
     },
     "execution_count": 70,
     "metadata": {},
     "output_type": "execute_result"
    }
   ],
   "source": [
    "l = [5,6,7]\n",
    "l"
   ]
  },
  {
   "cell_type": "code",
   "execution_count": 71,
   "metadata": {},
   "outputs": [],
   "source": [
    "l[1:1]=[21,22]"
   ]
  },
  {
   "cell_type": "code",
   "execution_count": 72,
   "metadata": {},
   "outputs": [
    {
     "data": {
      "text/plain": [
       "[5, 21, 22, 6, 7]"
      ]
     },
     "execution_count": 72,
     "metadata": {},
     "output_type": "execute_result"
    }
   ],
   "source": [
    "l"
   ]
  },
  {
   "cell_type": "code",
   "execution_count": 78,
   "metadata": {},
   "outputs": [
    {
     "name": "stdout",
     "output_type": "stream",
     "text": [
      "Enter amount: 80\n",
      "8\n"
     ]
    }
   ],
   "source": [
    "x = int(input('Enter amount: '))\n",
    "if x%10==0:\n",
    "    c=x//10\n",
    "    print(c)\n",
    "else:\n",
    "    print('invalid')"
   ]
  },
  {
   "cell_type": "code",
   "execution_count": null,
   "metadata": {},
   "outputs": [],
   "source": []
  },
  {
   "cell_type": "code",
   "execution_count": null,
   "metadata": {},
   "outputs": [],
   "source": []
  }
 ],
 "metadata": {
  "kernelspec": {
   "display_name": "Python 3",
   "language": "python",
   "name": "python3"
  },
  "language_info": {
   "codemirror_mode": {
    "name": "ipython",
    "version": 3
   },
   "file_extension": ".py",
   "mimetype": "text/x-python",
   "name": "python",
   "nbconvert_exporter": "python",
   "pygments_lexer": "ipython3",
   "version": "3.9.1"
  }
 },
 "nbformat": 4,
 "nbformat_minor": 4
}
