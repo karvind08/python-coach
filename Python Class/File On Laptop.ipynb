{
 "cells": [
  {
   "cell_type": "code",
   "execution_count": 1,
   "metadata": {},
   "outputs": [],
   "source": [
    "import pickle"
   ]
  },
  {
   "cell_type": "code",
   "execution_count": null,
   "metadata": {},
   "outputs": [],
   "source": [
    "f = open('a.txt','w')\n",
    "f.write('Hello, Arvind')\n",
    "f.close()"
   ]
  },
  {
   "cell_type": "code",
   "execution_count": 3,
   "metadata": {},
   "outputs": [],
   "source": [
    "def writebin():\n",
    "    f = open('binary.dat','wb')\n",
    "    L=['Arvind','Amit','Computer Science']\n",
    "    pickle.dump(L,f)\n",
    "    f.close()\n",
    "writebin()"
   ]
  },
  {
   "cell_type": "code",
   "execution_count": 4,
   "metadata": {},
   "outputs": [],
   "source": [
    "def readbin():\n",
    "    f=open('binary.dat','rb')\n",
    "    data=pickle.load(f)\n",
    "    print(data)\n",
    "    f.close()\n",
    "readbin()"
   ]
  },
  {
   "cell_type": "code",
   "execution_count": 5,
   "metadata": {},
   "outputs": [],
   "source": [
    "def writedict():\n",
    "    f = open('binary.dat','wb')\n",
    "    d={'a':100,'b':23}\n",
    "    pickle.dump(d,f)\n",
    "    f.close()\n",
    "writedict()"
   ]
  },
  {
   "cell_type": "code",
   "execution_count": 6,
   "metadata": {},
   "outputs": [],
   "source": [
    "def readdict():\n",
    "    f=open('binary.dat','rb')\n",
    "    data=pickle.load(f)\n",
    "    print(data)\n",
    "    f.close()\n",
    "readdict()"
   ]
  },
  {
   "cell_type": "code",
   "execution_count": 7,
   "metadata": {},
   "outputs": [],
   "source": [
    "def writeset():\n",
    "    f = open('binary.dat','wb')\n",
    "    s={1,2,3,4,5}\n",
    "    pickle.dump(s,f)\n",
    "    f.close()\n",
    "writeset()"
   ]
  },
  {
   "cell_type": "code",
   "execution_count": 8,
   "metadata": {},
   "outputs": [],
   "source": [
    "def readset():\n",
    "    f=open('binary.dat','rb')\n",
    "    res=pickle.load(f)\n",
    "    print(res)\n",
    "    f.close()\n",
    "readset()"
   ]
  },
  {
   "cell_type": "code",
   "execution_count": 2,
   "metadata": {},
   "outputs": [
    {
     "name": "stdout",
     "output_type": "stream",
     "text": [
      "Enter the roll number: 1\n",
      "Enter the name: arvind\n",
      "Enter the marks: 87\n",
      "Do you want to add more records? (Press y/n): y\n",
      "Enter the roll number: 3\n",
      "Enter the name: sanju\n",
      "Enter the marks: 67\n",
      "Do you want to add more records? (Press y/n): y\n",
      "Enter the roll number: 5\n",
      "Enter the name: rajji\n",
      "Enter the marks: 99\n",
      "Do you want to add more records? (Press y/n): n\n"
     ]
    }
   ],
   "source": [
    "def writedata():\n",
    "    f=open('record.dat','wb')\n",
    "    records=[]\n",
    "    while True:\n",
    "        roll=int(input('Enter the roll number: '))\n",
    "        name=input('Enter the name: ')\n",
    "        marks=int(input('Enter the marks: '))\n",
    "        data = [roll,name,marks]\n",
    "        records.append(data)\n",
    "        ch=input('Do you want to add more records? (Press y/n): ')\n",
    "        if ch=='n':\n",
    "            break\n",
    "    pickle.dump(records,f)\n",
    "    f.close()\n",
    "writedata()"
   ]
  },
  {
   "cell_type": "code",
   "execution_count": 3,
   "metadata": {},
   "outputs": [
    {
     "name": "stdout",
     "output_type": "stream",
     "text": [
      "[[1, 'arvind', 87], [3, 'sanju', 67], [5, 'rajji', 99]]\n"
     ]
    }
   ],
   "source": [
    "def readdata():\n",
    "    f=open('record.dat','rb')\n",
    "    res = pickle.load(f)\n",
    "    print(res)\n",
    "    f.close()\n",
    "readdata()"
   ]
  },
  {
   "cell_type": "code",
   "execution_count": 4,
   "metadata": {},
   "outputs": [
    {
     "name": "stdout",
     "output_type": "stream",
     "text": [
      "[[1, 'arvind', 87], [3, 'sanju', 67], [5, 'rajji', 99]]\n",
      "[[1, 'arvind', 87], [3, 'sanju', 67], [5, 'rajji', 99]]\n",
      "[[1, 'arvind', 87], [3, 'sanju', 67], [5, 'rajji', 99]]\n"
     ]
    }
   ],
   "source": [
    "def readdata():\n",
    "    f=open('record.dat','rb')\n",
    "    res = pickle.load(f)\n",
    "    for i in res:\n",
    "        print(res)\n",
    "    f.close()\n",
    "readdata()"
   ]
  },
  {
   "cell_type": "code",
   "execution_count": null,
   "metadata": {},
   "outputs": [],
   "source": [
    "writedata()"
   ]
  },
  {
   "cell_type": "code",
   "execution_count": null,
   "metadata": {},
   "outputs": [],
   "source": [
    "readdata()"
   ]
  },
  {
   "cell_type": "code",
   "execution_count": null,
   "metadata": {},
   "outputs": [],
   "source": [
    "def readwithtry():\n",
    "    f=open('record.dat','rb')\n",
    "    while True:\n",
    "        try:\n",
    "            s=pickle.load(f)\n",
    "            for i in s:\n",
    "                print(i)\n",
    "        except:\n",
    "            f.close()\n",
    "readwithtry()"
   ]
  },
  {
   "cell_type": "markdown",
   "metadata": {},
   "source": [
    "# Write a python function to read content from text file and calculate & display sum of all even numbers present in a text file. "
   ]
  },
  {
   "cell_type": "code",
   "execution_count": 9,
   "metadata": {},
   "outputs": [
    {
     "name": "stdout",
     "output_type": "stream",
     "text": [
      "The sum is:  20\n"
     ]
    }
   ],
   "source": [
    "def funeven():\n",
    "    f=open('file.txt','r')\n",
    "    data=f.read()\n",
    "    s=0\n",
    "    for i in data:\n",
    "        if i.isdigit():\n",
    "            if int(i)%2==0:\n",
    "                s=s+int(i)\n",
    "    print('The sum is: ',s)\n",
    "funeven()"
   ]
  },
  {
   "cell_type": "markdown",
   "metadata": {},
   "source": [
    "# Write a python function to read content from text file and calculate & display those words which are ending with 'e'"
   ]
  },
  {
   "cell_type": "code",
   "execution_count": 17,
   "metadata": {},
   "outputs": [
    {
     "name": "stdout",
     "output_type": "stream",
     "text": [
      "Lorem Ipsum is simply dummy text of the printing and typesetting industry. \n",
      "2 Lorem Ipsum is simply dummy text of the printing and typesetting industry. \n",
      "4 Lorem Ipsum is simply dummy text of the printing and typesetting industry 6\n",
      "9 8\n",
      "\n"
     ]
    }
   ],
   "source": [
    "f=open('file.txt','r')\n",
    "data=f.read()\n",
    "print(data)"
   ]
  },
  {
   "cell_type": "code",
   "execution_count": 19,
   "metadata": {},
   "outputs": [
    {
     "name": "stdout",
     "output_type": "stream",
     "text": [
      "the\n",
      "the\n",
      "the\n",
      "oye\n",
      "hoye\n",
      "lle\n",
      "fellleee\n",
      "The words ending with e are: 7\n"
     ]
    }
   ],
   "source": [
    "f=open('file.txt','r')\n",
    "data=f.read()\n",
    "words=data.split()\n",
    "count=0\n",
    "for i in words:\n",
    "    if i[-1]=='e':\n",
    "        print(i)\n",
    "        count+=1\n",
    "print('The words ending with e are:',count)"
   ]
  },
  {
   "cell_type": "markdown",
   "metadata": {},
   "source": [
    "# Write a python function to read content from text file and remove multiple spaces with a single space and write data in a file. "
   ]
  },
  {
   "cell_type": "code",
   "execution_count": 4,
   "metadata": {},
   "outputs": [],
   "source": [
    "f = open('file1.txt','r')\n",
    "f1 = open('file2.txt','w')\n",
    "data = f.read()\n",
    "words = data.split()\n",
    "s=' '.join(words)\n",
    "f1.write(s)\n",
    "f.close()\n",
    "f1.close()"
   ]
  },
  {
   "cell_type": "markdown",
   "metadata": {},
   "source": [
    "# Write a python function to read content from text file and display those words which are less than 4 characters."
   ]
  },
  {
   "cell_type": "code",
   "execution_count": 6,
   "metadata": {},
   "outputs": [
    {
     "name": "stdout",
     "output_type": "stream",
     "text": [
      "is\n",
      "of\n",
      "the\n",
      "and\n",
      "2\n",
      "is\n",
      "of\n",
      "the\n",
      "and\n",
      "4\n",
      "is\n",
      "of\n",
      "the\n",
      "and\n",
      "6\n",
      "9\n",
      "8\n",
      "oye\n",
      "lle\n"
     ]
    }
   ],
   "source": [
    "f = open('file.txt','r')\n",
    "data=f.read()\n",
    "words=data.split()\n",
    "for i in words:\n",
    "    if len(i)<4:\n",
    "        print(i)\n",
    "f.close()"
   ]
  },
  {
   "cell_type": "markdown",
   "metadata": {},
   "source": [
    "# Write a Python program to count the words 'to', 'the' and 'of' in file."
   ]
  },
  {
   "cell_type": "code",
   "execution_count": 8,
   "metadata": {},
   "outputs": [
    {
     "name": "stdout",
     "output_type": "stream",
     "text": [
      "The total of to and the is:  6\n"
     ]
    }
   ],
   "source": [
    "f = open('file.txt','r')\n",
    "data = f.read()\n",
    "words=data.split()\n",
    "count=0\n",
    "for i in words:\n",
    "    if i=='to' or i=='the' or i=='of':\n",
    "        count+=1\n",
    "print('The total of to and the is: ',count)"
   ]
  },
  {
   "cell_type": "markdown",
   "metadata": {},
   "source": [
    "# Write a python program to replace all uppercase letters with their respective lowercase letters in the same file. "
   ]
  },
  {
   "cell_type": "code",
   "execution_count": 11,
   "metadata": {},
   "outputs": [],
   "source": [
    "f = open('file1.txt','r+')\n",
    "data=f.read() \n",
    "# after reading the file, file pointer will be at the end of file. so to send it in the begining we will use seek()\n",
    "f.seek(0)\n",
    "for i in data:\n",
    "    if i.islower():\n",
    "        f.write(i.upper())\n",
    "    else:\n",
    "        f.write(i)\n",
    "f.close()"
   ]
  },
  {
   "cell_type": "markdown",
   "metadata": {},
   "source": [
    "# Write a python function to read content from text file. all lowercase letters should be stored in lower.txt file whereas all uppercase letters should be stored in upper.txt file and other letters should be stored in others.txt"
   ]
  },
  {
   "cell_type": "code",
   "execution_count": 12,
   "metadata": {},
   "outputs": [],
   "source": [
    "f = open('file.txt','r')\n",
    "fl = open('lower.txt','w')\n",
    "fu = open('upper.txt','w')\n",
    "fo = open('others.txt','w')\n",
    "data = f.read()\n",
    "for i in data:\n",
    "    if i.islower():\n",
    "        fl.write(i)\n",
    "    elif i.isupper():\n",
    "        fu.write(i)\n",
    "    else:\n",
    "        fo.write(i)\n",
    "f.close()\n",
    "fl.close()\n",
    "fu.close()\n",
    "fo.close()"
   ]
  },
  {
   "cell_type": "markdown",
   "metadata": {},
   "source": [
    "# Write a python program to read random line from a file. "
   ]
  },
  {
   "cell_type": "code",
   "execution_count": 14,
   "metadata": {},
   "outputs": [],
   "source": [
    "import random"
   ]
  },
  {
   "cell_type": "code",
   "execution_count": 22,
   "metadata": {},
   "outputs": [
    {
     "name": "stdout",
     "output_type": "stream",
     "text": [
      "hello guys elephnat oye\n",
      "\n"
     ]
    }
   ],
   "source": [
    "f = open('file.txt','r')\n",
    "lines = f.readlines()\n",
    "length = len(lines)-1\n",
    "r = random.randint(0,length)\n",
    "print(lines[r])\n",
    "f.close()"
   ]
  },
  {
   "cell_type": "markdown",
   "metadata": {},
   "source": [
    "# Write a python program to display all records in a file along with line or record number"
   ]
  },
  {
   "cell_type": "code",
   "execution_count": 23,
   "metadata": {},
   "outputs": [
    {
     "name": "stdout",
     "output_type": "stream",
     "text": [
      "1 : Lorem Ipsum is simply dummy text of the Printing and typesetting industry. \n",
      "\n",
      "2 : 2 Lorem Ipsum is simply dummy text of the printing and typesetting industry. \n",
      "\n",
      "3 : 4 Lorem Ipsum is simplY $$##*(#@) dummy text of thE printing and typesetting industry 6\n",
      "\n",
      "4 : 9 8\n",
      "\n",
      "5 : hello guys elephnat oye\n",
      "\n",
      "6 : hoye lle\n",
      "\n",
      "7 : \n",
      "\n",
      "8 : fellleee\n",
      "\n"
     ]
    }
   ],
   "source": [
    "f = open('file.txt','r')\n",
    "count = 1\n",
    "while True:\n",
    "    line = f.readline()\n",
    "    if line =='':\n",
    "        break\n",
    "    else:\n",
    "        print(count,':',line)\n",
    "        count+=1\n",
    "f.close()"
   ]
  },
  {
   "cell_type": "markdown",
   "metadata": {},
   "source": [
    "# Write a python program to copy all the data from one file to another file. Take Input from the user. "
   ]
  },
  {
   "cell_type": "code",
   "execution_count": 24,
   "metadata": {},
   "outputs": [
    {
     "name": "stdout",
     "output_type": "stream",
     "text": [
      "Enter source file name with extension: file.txt\n",
      "Enter destination file name with extension: dest.txt\n"
     ]
    }
   ],
   "source": [
    "s = input('Enter source file name with extension: ')\n",
    "d = input('Enter destination file name with extension: ')\n",
    "f1 = open(s,'r')\n",
    "f2 = open(d,'w')\n",
    "data = f1.read()\n",
    "f2.write(data)\n",
    "f1.close()\n",
    "f2.close()"
   ]
  },
  {
   "cell_type": "markdown",
   "metadata": {},
   "source": [
    "# 23 December 2020"
   ]
  },
  {
   "cell_type": "markdown",
   "metadata": {},
   "source": [
    "# A file sports.dat contains information in the following format [event,participants] for each sports person. "
   ]
  },
  {
   "cell_type": "markdown",
   "metadata": {},
   "source": [
    "# Write a function that would read content from the file sports.dat and create file named 'athletics.dat' copying only those records from sports.dat where the event name is athletics. "
   ]
  },
  {
   "cell_type": "code",
   "execution_count": 15,
   "metadata": {},
   "outputs": [],
   "source": [
    "import pickle"
   ]
  },
  {
   "cell_type": "code",
   "execution_count": 19,
   "metadata": {},
   "outputs": [
    {
     "name": "stdout",
     "output_type": "stream",
     "text": [
      "Enter Event Name: athletics\n",
      "Enter Participants: 10\n",
      "Do you want to add more records(Press y/n)?y\n",
      "Enter Event Name: cricket\n",
      "Enter Participants: 18\n",
      "Do you want to add more records(Press y/n)?y\n",
      "Enter Event Name: badminton\n",
      "Enter Participants: 12\n",
      "Do you want to add more records(Press y/n)?n\n"
     ]
    }
   ],
   "source": [
    "def write():\n",
    "    f = open('sports.dat','wb')\n",
    "    records = []\n",
    "    while True:\n",
    "        e = input('Enter Event Name: ')\n",
    "        p = input('Enter Participants: ')\n",
    "        data = [e,p]\n",
    "        records.append(data)\n",
    "        ch = input('Do you want to add more records(Press y/n)?')\n",
    "        if  ch == 'n':\n",
    "            break\n",
    "    pickle.dump(records,f)\n",
    "    f.close()\n",
    "write()"
   ]
  },
  {
   "cell_type": "markdown",
   "metadata": {},
   "source": [
    "# read data from binary file"
   ]
  },
  {
   "cell_type": "code",
   "execution_count": 25,
   "metadata": {},
   "outputs": [
    {
     "name": "stdout",
     "output_type": "stream",
     "text": [
      "['athletics', '10']\n",
      "['cricket', '18']\n",
      "['badminton', '12']\n"
     ]
    }
   ],
   "source": [
    "def read():\n",
    "    f = open('sports.dat','rb')\n",
    "    try:\n",
    "        rec = pickle.load(f)\n",
    "        for i in rec:\n",
    "            print(i)\n",
    "    except EOFError:\n",
    "        f.close()\n",
    "read()"
   ]
  },
  {
   "cell_type": "markdown",
   "metadata": {},
   "source": [
    "# copying records"
   ]
  },
  {
   "cell_type": "code",
   "execution_count": 26,
   "metadata": {},
   "outputs": [],
   "source": [
    "def copy():\n",
    "    f = open('sports.dat','rb')\n",
    "    f1 = open('athletics.dat','wb')\n",
    "    records = []\n",
    "    try:\n",
    "        rec = pickle.load(f)\n",
    "        for i in rec:\n",
    "            if i[0]=='athletics':\n",
    "                records.append(i)\n",
    "                pickle.dump(records,f1)\n",
    "    except EOFError:\n",
    "        f.close()\n",
    "        f1.close()\n",
    "\n",
    "copy()"
   ]
  },
  {
   "cell_type": "markdown",
   "metadata": {},
   "source": [
    "# now read athletics.dat"
   ]
  },
  {
   "cell_type": "code",
   "execution_count": 27,
   "metadata": {},
   "outputs": [
    {
     "name": "stdout",
     "output_type": "stream",
     "text": [
      "Reading from atheletics file\n",
      "['athletics', '10']\n"
     ]
    }
   ],
   "source": [
    "def readathletics():\n",
    "    print('Reading from atheletics file')\n",
    "    f = open('athletics.dat','rb')\n",
    "    try:\n",
    "        rec = pickle.load(f)\n",
    "        for  i in rec:\n",
    "            print(i)\n",
    "    except EOFError:\n",
    "        f.close()\n",
    "readathletics()"
   ]
  },
  {
   "cell_type": "markdown",
   "metadata": {},
   "source": [
    "# Write a program to read the content from binary file 'players.dat' having following information player code, Name, Total Runs and country and then perform the following operations. "
   ]
  },
  {
   "cell_type": "markdown",
   "metadata": {},
   "source": [
    "# Input country from the user and count the number of players of that country. "
   ]
  },
  {
   "cell_type": "markdown",
   "metadata": {},
   "source": [
    "# Display all records where player name starts with 'a'. "
   ]
  },
  {
   "cell_type": "markdown",
   "metadata": {},
   "source": [
    "# Display record of players whose total runs are more than 10000. "
   ]
  },
  {
   "cell_type": "code",
   "execution_count": 12,
   "metadata": {},
   "outputs": [],
   "source": [
    "import pickle"
   ]
  },
  {
   "cell_type": "code",
   "execution_count": 13,
   "metadata": {},
   "outputs": [
    {
     "name": "stdout",
     "output_type": "stream",
     "text": [
      "Enter player id: 1\n",
      "Enter Player Name: Arvind\n",
      "Enter the runs: 100000\n",
      "Enter Country Name: India\n",
      "Do you want to add more records(y/n)?y\n",
      "Enter player id: 2\n",
      "Enter Player Name: Kukku\n",
      "Enter the runs: 45888\n",
      "Enter Country Name: Pak\n",
      "Do you want to add more records(y/n)?y\n",
      "Enter player id: 4\n",
      "Enter Player Name: Amit\n",
      "Enter the runs: 6789\n",
      "Enter Country Name: AUS\n",
      "Do you want to add more records(y/n)?y\n",
      "Enter player id: 8\n",
      "Enter Player Name: Sachin\n",
      "Enter the runs: 23456\n",
      "Enter Country Name: \n",
      "Do you want to add more records(y/n)?n\n"
     ]
    }
   ],
   "source": [
    "def write():\n",
    "    players = {}\n",
    "    f = open('players.dat','wb')\n",
    "    while True:\n",
    "        pid = int(input('Enter player id: '))\n",
    "        pname=input('Enter Player Name: ')\n",
    "        run = int(input('Enter the runs: '))\n",
    "        pcountry = input('Enter Country Name: ')\n",
    "        players['Player Code'] = pid\n",
    "        players['Name'] = pname\n",
    "        players['Runs'] = run\n",
    "        players['Country'] = pcountry\n",
    "        pickle.dump(players,f)\n",
    "        ch = input('Do you want to add more records(y/n)?')\n",
    "        if ch == 'n':\n",
    "            break\n",
    "    f.close()\n",
    "write()"
   ]
  },
  {
   "cell_type": "code",
   "execution_count": 15,
   "metadata": {},
   "outputs": [
    {
     "name": "stdout",
     "output_type": "stream",
     "text": [
      "Player Code : 1\n",
      "Name : Arvind\n",
      "Runs : 100000\n",
      "Country : India\n",
      "Player Code : 2\n",
      "Name : Kukku\n",
      "Runs : 45888\n",
      "Country : Pak\n",
      "Player Code : 4\n",
      "Name : Amit\n",
      "Runs : 6789\n",
      "Country : AUS\n",
      "Player Code : 8\n",
      "Name : Sachin\n",
      "Runs : 23456\n",
      "Country : \n"
     ]
    }
   ],
   "source": [
    "def read():\n",
    "    f = open('players.dat','rb')\n",
    "    player = {}\n",
    "    try:\n",
    "        while True:\n",
    "            players = pickle.load(f)\n",
    "            for i,j in players.items():\n",
    "                print(i,':',j)\n",
    "            #print(player)\n",
    "    except EOFError:\n",
    "        f.close()\n",
    "read()"
   ]
  },
  {
   "cell_type": "code",
   "execution_count": 19,
   "metadata": {},
   "outputs": [
    {
     "name": "stdout",
     "output_type": "stream",
     "text": [
      "Entry country name for players: AUS\n",
      "Total number of players from the country AUS are:  1\n"
     ]
    }
   ],
   "source": [
    "def search_country():\n",
    "    f = open('players.dat','rb')\n",
    "    players = {}\n",
    "    count = 0\n",
    "    found = 0\n",
    "    c = input('Entry country name for players: ')\n",
    "    try:\n",
    "        while True:\n",
    "            players = pickle.load(f)\n",
    "            if players['Country'] == c:\n",
    "                count+=1\n",
    "                found = 1\n",
    "    except EOFError:\n",
    "        f.close()\n",
    "        \n",
    "    if found ==0:\n",
    "        print('No Record found')\n",
    "    else:\n",
    "        print('Total number of players from the country',c,'are: ',count)\n",
    "\n",
    "search_country()"
   ]
  },
  {
   "cell_type": "code",
   "execution_count": 21,
   "metadata": {},
   "outputs": [
    {
     "name": "stdout",
     "output_type": "stream",
     "text": [
      "Player Code : 1\n",
      "Name : Arvind\n",
      "Runs : 100000\n",
      "Country : India\n",
      "Player Code : 4\n",
      "Name : Amit\n",
      "Runs : 6789\n",
      "Country : AUS\n"
     ]
    }
   ],
   "source": [
    "def searchA():\n",
    "    f = open('players.dat','rb')\n",
    "    players = {}\n",
    "    count = 0\n",
    "    found = 0\n",
    "    try:\n",
    "        while True:\n",
    "            players = pickle.load(f)\n",
    "            if players['Name'].startswith('A')==True:\n",
    "                #print(players)\n",
    "                for i,j in players.items():\n",
    "                    print(i,':',j)\n",
    "                found = 1\n",
    "    except EOFError:\n",
    "        f.close()\n",
    "    if found == 0:\n",
    "        print('No Records found')\n",
    "searchA()"
   ]
  },
  {
   "cell_type": "code",
   "execution_count": 24,
   "metadata": {},
   "outputs": [
    {
     "name": "stdout",
     "output_type": "stream",
     "text": [
      "Player Code : 1\n",
      "Name : Arvind\n",
      "Runs : 100000\n",
      "Country : India\n",
      "Player Code : 2\n",
      "Name : Kukku\n",
      "Runs : 45888\n",
      "Country : Pak\n",
      "Player Code : 8\n",
      "Name : Sachin\n",
      "Runs : 23456\n",
      "Country : \n"
     ]
    }
   ],
   "source": [
    "def searchruns():\n",
    "    f = open('players.dat','rb')\n",
    "    players = {}\n",
    "    found = 0\n",
    "    try:\n",
    "        while True:\n",
    "            players = pickle.load(f)\n",
    "            if players['Runs']>=10000:\n",
    "                for i,j in players.items():\n",
    "                    print(i,':',j)\n",
    "                #print(players)\n",
    "                found = 1\n",
    "    except EOFError:\n",
    "        f.close()\n",
    "    if found == 0:\n",
    "        print('Record not found')\n",
    "searchruns()"
   ]
  },
  {
   "cell_type": "markdown",
   "metadata": {},
   "source": [
    "# How to update a record in a binary file?"
   ]
  },
  {
   "cell_type": "code",
   "execution_count": 25,
   "metadata": {},
   "outputs": [
    {
     "name": "stdout",
     "output_type": "stream",
     "text": [
      "Enter the roll number: 1\n",
      "Enter the name: arvind\n",
      "Enter Marks: 87\n",
      "Do you  want to add more records(y/n)?y\n",
      "Enter the roll number: 2\n",
      "Enter the name: amit\n",
      "Enter Marks: 90\n",
      "Do you  want to add more records(y/n)?y\n",
      "Enter the roll number: 3\n",
      "Enter the name: kukku\n",
      "Enter Marks: 78\n",
      "Do you  want to add more records(y/n)?y\n",
      "Enter the roll number: 4\n",
      "Enter the name: sachin\n",
      "Enter Marks: 89\n",
      "Do you  want to add more records(y/n)?n\n"
     ]
    }
   ],
   "source": [
    "def writebin():\n",
    "    f = open('data.dat','wb')\n",
    "    records = []\n",
    "    while True:\n",
    "        r = int(input('Enter the roll number: '))\n",
    "        name = input('Enter the name: ')\n",
    "        marks = int(input('Enter Marks: '))\n",
    "        data = [r,name,marks]\n",
    "        records.append(data)\n",
    "        ch = input('Do you  want to add more records(y/n)?')\n",
    "        if ch=='n':\n",
    "            break\n",
    "    pickle.dump(records,f)\n",
    "    f.close()\n",
    "    \n",
    "writebin()"
   ]
  },
  {
   "cell_type": "code",
   "execution_count": 26,
   "metadata": {},
   "outputs": [
    {
     "name": "stdout",
     "output_type": "stream",
     "text": [
      "[1, 'arvind', 87]\n",
      "[2, 'amit', 90]\n",
      "[3, 'kukku', 78]\n",
      "[4, 'sachin', 89]\n"
     ]
    }
   ],
   "source": [
    "def readbin():\n",
    "    f = open('data.dat','rb')\n",
    "    try:\n",
    "        rec = pickle.load(f)\n",
    "        for i in rec:\n",
    "            print(i)\n",
    "    except EOFError:\n",
    "        f.close()\n",
    "readbin()"
   ]
  },
  {
   "cell_type": "code",
   "execution_count": 31,
   "metadata": {},
   "outputs": [
    {
     "name": "stdout",
     "output_type": "stream",
     "text": [
      "Enter the roll number to search: 4\n",
      "[4, 'sachin', 89]\n"
     ]
    }
   ],
   "source": [
    "def searchbin():\n",
    "    f = open('data.dat','rb')\n",
    "    rec = pickle.load(f)\n",
    "    found = 0\n",
    "    r = int(input('Enter the roll number to search: '))\n",
    "    for i in rec:\n",
    "        if i[0]==r:\n",
    "            print(i)\n",
    "            found = 1\n",
    "    if found ==0:\n",
    "        print('Record not found')\n",
    "searchbin()"
   ]
  },
  {
   "cell_type": "code",
   "execution_count": 33,
   "metadata": {},
   "outputs": [
    {
     "name": "stdout",
     "output_type": "stream",
     "text": [
      "Enter the roll number for you want to update: 2\n",
      "The current name is amit\n",
      "Enter new name: Pintu\n"
     ]
    }
   ],
   "source": [
    "def update():\n",
    "    f = open('data.dat','rb+')\n",
    "    rec = pickle.load(f)\n",
    "    found = 0\n",
    "    r = int(input('Enter the roll number for you want to update: '))\n",
    "    for i in rec:\n",
    "        if i[0]==r:\n",
    "            print('The current name is',i[1])\n",
    "            i[1] = input('Enter new name: ')\n",
    "            found = 1\n",
    "            break\n",
    "    if found == 0:\n",
    "        print('Record not found')\n",
    "    else:\n",
    "        f.seek(0)\n",
    "        pickle.dump(rec,f)\n",
    "    f.close()\n",
    "update()"
   ]
  },
  {
   "cell_type": "code",
   "execution_count": 34,
   "metadata": {},
   "outputs": [
    {
     "name": "stdout",
     "output_type": "stream",
     "text": [
      "[1, 'arvind', 87]\n",
      "[2, 'Pintu', 90]\n",
      "[3, 'kukku', 78]\n",
      "[4, 'sachin', 89]\n"
     ]
    }
   ],
   "source": [
    "readbin()"
   ]
  },
  {
   "cell_type": "code",
   "execution_count": 35,
   "metadata": {},
   "outputs": [
    {
     "name": "stdout",
     "output_type": "stream",
     "text": [
      "Enter the roll number for you want to update: 3\n",
      "The current name is kukku\n",
      "Enter new name: SUDHIR\n"
     ]
    }
   ],
   "source": [
    "update()"
   ]
  },
  {
   "cell_type": "code",
   "execution_count": 36,
   "metadata": {},
   "outputs": [
    {
     "name": "stdout",
     "output_type": "stream",
     "text": [
      "[1, 'arvind', 87]\n",
      "[2, 'Pintu', 90]\n",
      "[3, 'SUDHIR', 78]\n",
      "[4, 'sachin', 89]\n"
     ]
    }
   ],
   "source": [
    "readbin()"
   ]
  },
  {
   "cell_type": "markdown",
   "metadata": {},
   "source": [
    "# 1. Write a function in Python to read the content from a text file and print the number of vowels,consonants, upper and lowercase letters from file. "
   ]
  },
  {
   "cell_type": "code",
   "execution_count": 45,
   "metadata": {},
   "outputs": [
    {
     "name": "stdout",
     "output_type": "stream",
     "text": [
      "The uppercase letters are:  9\n",
      "The lowercase letters are:  212\n",
      "The vowels are:  69\n",
      "The consonants are:  152\n"
     ]
    }
   ],
   "source": [
    "def printletters():\n",
    "    f = open('file.txt','r')\n",
    "    data = f.read()\n",
    "    v = 0\n",
    "    c = 0\n",
    "    l = 0\n",
    "    u = 0\n",
    "    #print(data)\n",
    "    for i in data:\n",
    "        if str.isupper(i):\n",
    "            u+=1\n",
    "        elif str.islower(i):\n",
    "            l+=1\n",
    "        i = str.lower(i)\n",
    "        if i in 'aeiou':\n",
    "            v+=1\n",
    "        elif i in 'bcdfghjklmnpqrstvwxyz':\n",
    "            c+=1\n",
    "    print('The uppercase letters are: ',u)\n",
    "    print('The lowercase letters are: ',l)\n",
    "    print('The vowels are: ',v)\n",
    "    print('The consonants are: ',c)\n",
    "    \n",
    "printletters()\n",
    "    "
   ]
  },
  {
   "cell_type": "code",
   "execution_count": 53,
   "metadata": {},
   "outputs": [
    {
     "name": "stdout",
     "output_type": "stream",
     "text": [
      "The uppercase letters are:  9\n",
      "The lowercase letters are:  212\n",
      "The vowels are:  69\n",
      "The consonants are:  152\n"
     ]
    }
   ],
   "source": [
    "def printletters():\n",
    "    f = open('file.txt','r')\n",
    "    data = f.read()\n",
    "    v = 0\n",
    "    c = 0\n",
    "    l = 0\n",
    "    u = 0\n",
    "    for i in data:\n",
    "        if i.isupper():\n",
    "            u+=1\n",
    "        elif i.islower():\n",
    "            l+=1\n",
    "        if i in 'aeiouAEIOU':\n",
    "            v+=1\n",
    "        elif i in 'bcdfghjklmnpqrstvwxyzBCDFHGJKLMNPQRSTVWXYZ':\n",
    "            c+=1\n",
    "    print('The uppercase letters are: ',u)\n",
    "    print('The lowercase letters are: ',l)\n",
    "    print('The vowels are: ',v)\n",
    "    print('The consonants are: ',c)\n",
    "    \n",
    "printletters()\n",
    "    "
   ]
  },
  {
   "cell_type": "code",
   "execution_count": 54,
   "metadata": {},
   "outputs": [
    {
     "name": "stdout",
     "output_type": "stream",
     "text": [
      "The uppercase letters are:  9\n",
      "The lowercase letters are:  212\n",
      "The vowels are:  69\n",
      "The consonants are:  152\n"
     ]
    }
   ],
   "source": [
    "def printletters():\n",
    "    f = open('file.txt','r')\n",
    "    data = f.read()\n",
    "    v = 0\n",
    "    c = 0\n",
    "    l = 0\n",
    "    u = 0\n",
    "    for i in data:\n",
    "        if i.isupper():\n",
    "            u+=1\n",
    "        elif i.islower():\n",
    "            l+=1\n",
    "        i = i.lower()\n",
    "        if i in 'aeiou':\n",
    "            v+=1\n",
    "        elif i in 'bcdfghjklmnpqrstvwxyz':\n",
    "            c+=1\n",
    "    print('The uppercase letters are: ',u)\n",
    "    print('The lowercase letters are: ',l)\n",
    "    print('The vowels are: ',v)\n",
    "    print('The consonants are: ',c)\n",
    "    \n",
    "printletters()\n",
    "    "
   ]
  },
  {
   "cell_type": "code",
   "execution_count": 55,
   "metadata": {},
   "outputs": [],
   "source": [
    "f = open('write.txt','w')\n",
    "f.write('This is just an example\\n')\n",
    "f.close()"
   ]
  },
  {
   "cell_type": "code",
   "execution_count": 57,
   "metadata": {},
   "outputs": [],
   "source": [
    "f = open('write.txt','w')\n",
    "f.write('This is just an example\\n')\n",
    "f.write('This is second line\\n')\n",
    "f.close()"
   ]
  },
  {
   "cell_type": "code",
   "execution_count": 61,
   "metadata": {},
   "outputs": [
    {
     "ename": "TypeError",
     "evalue": "write() argument must be str, not list",
     "output_type": "error",
     "traceback": [
      "\u001b[1;31m---------------------------------------------------------------------------\u001b[0m",
      "\u001b[1;31mTypeError\u001b[0m                                 Traceback (most recent call last)",
      "\u001b[1;32m<ipython-input-61-9250b0faecc1>\u001b[0m in \u001b[0;36m<module>\u001b[1;34m\u001b[0m\n\u001b[0;32m      2\u001b[0m \u001b[0mf\u001b[0m\u001b[1;33m.\u001b[0m\u001b[0mwrite\u001b[0m\u001b[1;33m(\u001b[0m\u001b[1;34m'This is first line\\n'\u001b[0m\u001b[1;33m)\u001b[0m\u001b[1;33m\u001b[0m\u001b[1;33m\u001b[0m\u001b[0m\n\u001b[0;32m      3\u001b[0m \u001b[0mL\u001b[0m \u001b[1;33m=\u001b[0m \u001b[1;33m[\u001b[0m\u001b[1;34m'a'\u001b[0m\u001b[1;33m,\u001b[0m\u001b[1;34m'b'\u001b[0m\u001b[1;33m,\u001b[0m\u001b[1;34m'c'\u001b[0m\u001b[1;33m]\u001b[0m\u001b[1;33m\u001b[0m\u001b[1;33m\u001b[0m\u001b[0m\n\u001b[1;32m----> 4\u001b[1;33m \u001b[0mf\u001b[0m\u001b[1;33m.\u001b[0m\u001b[0mwrite\u001b[0m\u001b[1;33m(\u001b[0m\u001b[0mL\u001b[0m\u001b[1;33m)\u001b[0m\u001b[1;33m\u001b[0m\u001b[1;33m\u001b[0m\u001b[0m\n\u001b[0m\u001b[0;32m      5\u001b[0m \u001b[0mf\u001b[0m\u001b[1;33m.\u001b[0m\u001b[0mclose\u001b[0m\u001b[1;33m(\u001b[0m\u001b[1;33m)\u001b[0m\u001b[1;33m\u001b[0m\u001b[1;33m\u001b[0m\u001b[0m\n",
      "\u001b[1;31mTypeError\u001b[0m: write() argument must be str, not list"
     ]
    }
   ],
   "source": [
    "f = open('write.txt','w')\n",
    "f.write('This is first line\\n')\n",
    "L = ['a','b','c']\n",
    "f.write(L)\n",
    "f.close()"
   ]
  },
  {
   "cell_type": "code",
   "execution_count": 62,
   "metadata": {},
   "outputs": [],
   "source": [
    "f = open('write.txt','w')\n",
    "f.write('This is first line\\n')\n",
    "L = ['a','b','c']\n",
    "f.writelines(L)\n",
    "f.close()"
   ]
  }
 ],
 "metadata": {
  "kernelspec": {
   "display_name": "Python 3",
   "language": "python",
   "name": "python3"
  },
  "language_info": {
   "codemirror_mode": {
    "name": "ipython",
    "version": 3
   },
   "file_extension": ".py",
   "mimetype": "text/x-python",
   "name": "python",
   "nbconvert_exporter": "python",
   "pygments_lexer": "ipython3",
   "version": "3.9.1"
  }
 },
 "nbformat": 4,
 "nbformat_minor": 4
}
