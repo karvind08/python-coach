{
 "cells": [
  {
   "cell_type": "markdown",
   "metadata": {},
   "source": [
    "# write()"
   ]
  },
  {
   "cell_type": "code",
   "execution_count": null,
   "metadata": {},
   "outputs": [],
   "source": [
    "f = open('write.txt','w')\n",
    "f.write('This is just an example\\n')\n",
    "f.close()"
   ]
  },
  {
   "cell_type": "code",
   "execution_count": null,
   "metadata": {},
   "outputs": [],
   "source": [
    "f = open('write.txt','w')\n",
    "f.write('This is just an example\\n')\n",
    "f.write('This is second line\\n')\n",
    "f.close()"
   ]
  },
  {
   "cell_type": "markdown",
   "metadata": {},
   "source": [
    "# writelines()"
   ]
  },
  {
   "cell_type": "code",
   "execution_count": 3,
   "metadata": {},
   "outputs": [
    {
     "ename": "TypeError",
     "evalue": "write() argument must be str, not list",
     "output_type": "error",
     "traceback": [
      "\u001b[1;31m---------------------------------------------------------------------------\u001b[0m",
      "\u001b[1;31mTypeError\u001b[0m                                 Traceback (most recent call last)",
      "\u001b[1;32m<ipython-input-3-9250b0faecc1>\u001b[0m in \u001b[0;36m<module>\u001b[1;34m\u001b[0m\n\u001b[0;32m      2\u001b[0m \u001b[0mf\u001b[0m\u001b[1;33m.\u001b[0m\u001b[0mwrite\u001b[0m\u001b[1;33m(\u001b[0m\u001b[1;34m'This is first line\\n'\u001b[0m\u001b[1;33m)\u001b[0m\u001b[1;33m\u001b[0m\u001b[1;33m\u001b[0m\u001b[0m\n\u001b[0;32m      3\u001b[0m \u001b[0mL\u001b[0m \u001b[1;33m=\u001b[0m \u001b[1;33m[\u001b[0m\u001b[1;34m'a'\u001b[0m\u001b[1;33m,\u001b[0m\u001b[1;34m'b'\u001b[0m\u001b[1;33m,\u001b[0m\u001b[1;34m'c'\u001b[0m\u001b[1;33m]\u001b[0m\u001b[1;33m\u001b[0m\u001b[1;33m\u001b[0m\u001b[0m\n\u001b[1;32m----> 4\u001b[1;33m \u001b[0mf\u001b[0m\u001b[1;33m.\u001b[0m\u001b[0mwrite\u001b[0m\u001b[1;33m(\u001b[0m\u001b[0mL\u001b[0m\u001b[1;33m)\u001b[0m\u001b[1;33m\u001b[0m\u001b[1;33m\u001b[0m\u001b[0m\n\u001b[0m\u001b[0;32m      5\u001b[0m \u001b[0mf\u001b[0m\u001b[1;33m.\u001b[0m\u001b[0mclose\u001b[0m\u001b[1;33m(\u001b[0m\u001b[1;33m)\u001b[0m\u001b[1;33m\u001b[0m\u001b[1;33m\u001b[0m\u001b[0m\n",
      "\u001b[1;31mTypeError\u001b[0m: write() argument must be str, not list"
     ]
    }
   ],
   "source": [
    "f = open('write.txt','w')\n",
    "f.write('This is first line\\n')\n",
    "L = ['a','b','c']\n",
    "f.write(L)\n",
    "f.close()"
   ]
  },
  {
   "cell_type": "code",
   "execution_count": 4,
   "metadata": {},
   "outputs": [],
   "source": [
    "f = open('write.txt','w')\n",
    "f.write('This is first line\\n')\n",
    "L = ['a','b','c']\n",
    "f.writelines(L)\n",
    "f.close()"
   ]
  },
  {
   "cell_type": "code",
   "execution_count": 2,
   "metadata": {},
   "outputs": [
    {
     "name": "stdout",
     "output_type": "stream",
     "text": [
      "Enter first number: 112\n",
      "Enter second number: 22\n"
     ]
    }
   ],
   "source": [
    "f = open('test.txt','w')\n",
    "a = int(input('Enter first number: '))\n",
    "b= int(input('Enter second number: '))\n",
    "s=a+b\n",
    "f.write('\\n a='+str(a))\n",
    "f.write('\\n b='+str(b))\n",
    "f.write('\\n s='+str(s))\n",
    "f.close()"
   ]
  },
  {
   "cell_type": "markdown",
   "metadata": {},
   "source": [
    "# 0. Write a Python program to read an entire text file."
   ]
  },
  {
   "cell_type": "code",
   "execution_count": null,
   "metadata": {},
   "outputs": [],
   "source": [
    "f = open('file.txt','r')\n",
    "data = f.read()\n",
    "print(data)"
   ]
  },
  {
   "cell_type": "code",
   "execution_count": null,
   "metadata": {},
   "outputs": [],
   "source": [
    "file = input('Enter file name with extension: ')\n",
    "f = open(file,'r')\n",
    "data = f.read()\n",
    "print(data)"
   ]
  },
  {
   "cell_type": "code",
   "execution_count": null,
   "metadata": {},
   "outputs": [],
   "source": [
    "def readfile(file):\n",
    "    f = open(file,'r')\n",
    "    data = f.read()\n",
    "    print(data)\n",
    "    \n",
    "file = input('Enter file name with extension: ')\n",
    "readfile(file)"
   ]
  },
  {
   "cell_type": "markdown",
   "metadata": {},
   "source": [
    "# 1. Write a function in Python to read the content from a text file and print the number of vowels,consonants, upper and lowercase letters from file. "
   ]
  },
  {
   "cell_type": "code",
   "execution_count": null,
   "metadata": {},
   "outputs": [],
   "source": [
    "def printletters():\n",
    "    f = open('file.txt','r')\n",
    "    data = f.read()\n",
    "    v = 0\n",
    "    c = 0\n",
    "    l = 0\n",
    "    u = 0\n",
    "    for i in data:\n",
    "        if i.isupper():\n",
    "            u+=1\n",
    "        elif i.islower():\n",
    "            l+=1\n",
    "        i = i.lower()\n",
    "        if i in 'aeiou':\n",
    "            v+=1\n",
    "        elif i in 'bcdfghjklmnpqrstvwxyz':\n",
    "            c+=1\n",
    "    print('The uppercase letters are: ',u)\n",
    "    print('The lowercase letters are: ',l)\n",
    "    print('The vowels are: ',v)\n",
    "    print('The consonants are: ',c)\n",
    "    \n",
    "printletters()"
   ]
  },
  {
   "cell_type": "code",
   "execution_count": null,
   "metadata": {},
   "outputs": [],
   "source": [
    "def printletters():\n",
    "    f = open('file.txt','r')\n",
    "    data = f.read()\n",
    "    v = 0\n",
    "    c = 0\n",
    "    l = 0\n",
    "    u = 0\n",
    "    for i in data:\n",
    "        if i.isupper():\n",
    "            u+=1\n",
    "        elif i.islower():\n",
    "            l+=1\n",
    "        if i in 'aeiouAEIOU':\n",
    "            v+=1\n",
    "        elif i in 'bcdfghjklmnpqrstvwxyzBCDFHGJKLMNPQRSTVWXYZ':\n",
    "            c+=1\n",
    "    print('The uppercase letters are: ',u)\n",
    "    print('The lowercase letters are: ',l)\n",
    "    print('The vowels are: ',v)\n",
    "    print('The consonants are: ',c)\n",
    "    \n",
    "printletters()"
   ]
  },
  {
   "cell_type": "markdown",
   "metadata": {},
   "source": [
    "# 2. Write a python function to read the content from a text file line by line and display the same on the screen."
   ]
  },
  {
   "cell_type": "code",
   "execution_count": 5,
   "metadata": {},
   "outputs": [
    {
     "name": "stdout",
     "output_type": "stream",
     "text": [
      "Lorem Ipsum is simply dummy text of the Printing and typesetting industry. \n",
      "\n",
      "2 Lorem Ipsum is simply dummy text of the printing and typesetting industry. \n",
      "\n",
      "4 Lorem Ipsum is simplY $$##*(#@) dummy text of thE printing and typesetting industry 6\n",
      "\n",
      "9 8\n",
      "\n",
      "hello guys elephnat oye\n",
      "\n",
      "hoye lle\n",
      "\n",
      "\n",
      "\n",
      "fellleee\n",
      "\n"
     ]
    }
   ],
   "source": [
    "def read():\n",
    "    f = open('file.txt','r')\n",
    "    while True:\n",
    "        data = f.readline()\n",
    "        if data == '':\n",
    "            break\n",
    "        else:\n",
    "            print(data)\n",
    "read()"
   ]
  },
  {
   "cell_type": "markdown",
   "metadata": {},
   "source": [
    "# 3. Write a python function to read lines from a text file and display those lines which are starting with an alphabet M."
   ]
  },
  {
   "cell_type": "code",
   "execution_count": 2,
   "metadata": {},
   "outputs": [
    {
     "name": "stdout",
     "output_type": "stream",
     "text": [
      "Mr. Arvind\n",
      "\n",
      "Mr Amit\n",
      "\n",
      "Ms Binny\n",
      "\n",
      "Mrs. Robinson\n",
      "\n",
      "Mr. T\n",
      "\n"
     ]
    }
   ],
   "source": [
    "def readal():\n",
    "    f = open('sample.txt','r')\n",
    "    lines = f.readlines()\n",
    "    #print(lines)\n",
    "    for i in lines:\n",
    "        if i[0]=='M':\n",
    "            print(i)\n",
    "readal()"
   ]
  },
  {
   "cell_type": "markdown",
   "metadata": {},
   "source": [
    "# 4 Open a file called 'sample.txt' in the read mode. check the name of the file, its mode and find whether it is closing using the file attributes."
   ]
  },
  {
   "cell_type": "code",
   "execution_count": 3,
   "metadata": {},
   "outputs": [
    {
     "name": "stdout",
     "output_type": "stream",
     "text": [
      "Name of the file:  sample.txt\n",
      "Mode:  r\n",
      "File closed:  False\n",
      "Mode:  r\n",
      "File closed:  True\n"
     ]
    }
   ],
   "source": [
    "f = open('sample.txt','r')\n",
    "print('Name of the file: ',f.name)\n",
    "print('Mode: ',f.mode)\n",
    "print('File closed: ',f.closed)\n",
    "f.close()\n",
    "print('Mode: ',f.mode)\n",
    "print('File closed: ',f.closed)"
   ]
  },
  {
   "cell_type": "markdown",
   "metadata": {},
   "source": [
    "# 5. Write a python function to read content from text file and calculate & display sum of all even numbers present in a text file. "
   ]
  },
  {
   "cell_type": "code",
   "execution_count": null,
   "metadata": {},
   "outputs": [],
   "source": [
    "def funeven():\n",
    "    f=open('file.txt','r')\n",
    "    data=f.read()\n",
    "    s=0\n",
    "    for i in data:\n",
    "        if i.isdigit():\n",
    "            if int(i)%2==0:\n",
    "                s=s+int(i)\n",
    "    print('The sum is: ',s)\n",
    "funeven()"
   ]
  },
  {
   "cell_type": "markdown",
   "metadata": {},
   "source": [
    "# 6. Write a python function to read content from text file and calculate & display those words which are ending with 'e'."
   ]
  },
  {
   "cell_type": "code",
   "execution_count": null,
   "metadata": {},
   "outputs": [],
   "source": [
    "f=open('file.txt','r')\n",
    "data=f.read()\n",
    "words=data.split()\n",
    "count=0\n",
    "for i in words:\n",
    "    if i[-1]=='e':\n",
    "        print(i)\n",
    "        count+=1\n",
    "print('The words ending with e are:',count)"
   ]
  },
  {
   "cell_type": "markdown",
   "metadata": {},
   "source": [
    "# 7. Write a python function to read content from text file and remove multiple spaces with a single space and write data in a file. "
   ]
  },
  {
   "cell_type": "code",
   "execution_count": null,
   "metadata": {},
   "outputs": [],
   "source": [
    "f = open('file1.txt','r')\n",
    "f1 = open('file2.txt','w')\n",
    "data = f.read()\n",
    "words = data.split()\n",
    "s=' '.join(words)\n",
    "f1.write(s)\n",
    "f.close()\n",
    "f1.close()"
   ]
  },
  {
   "cell_type": "markdown",
   "metadata": {},
   "source": [
    "# 8. Write a python function to read content from text file and display those words which are less than 4 characters."
   ]
  },
  {
   "cell_type": "code",
   "execution_count": null,
   "metadata": {},
   "outputs": [],
   "source": [
    "f = open('file.txt','r')\n",
    "data=f.read()\n",
    "words=data.split()\n",
    "for i in words:\n",
    "    if len(i)<4:\n",
    "        print(i)\n",
    "f.close()"
   ]
  },
  {
   "cell_type": "markdown",
   "metadata": {},
   "source": [
    "# 9. Write a Python program to count the words 'to', 'the' and 'of' in file."
   ]
  },
  {
   "cell_type": "code",
   "execution_count": 4,
   "metadata": {},
   "outputs": [
    {
     "name": "stdout",
     "output_type": "stream",
     "text": [
      "The total of to and the is:  5\n"
     ]
    }
   ],
   "source": [
    "f = open('file.txt','r')\n",
    "data = f.read()\n",
    "words=data.split()\n",
    "count=0\n",
    "for i in words:\n",
    "    if i=='to' or i=='the' or i=='of':\n",
    "        count+=1\n",
    "print('The total of to and the is: ',count)"
   ]
  },
  {
   "cell_type": "markdown",
   "metadata": {},
   "source": [
    "# 10. Write a python program to replace all uppercase letters with their respective lowercase letters in the same file. "
   ]
  },
  {
   "cell_type": "code",
   "execution_count": null,
   "metadata": {},
   "outputs": [],
   "source": [
    "f = open('file1.txt','r+')\n",
    "data=f.read() \n",
    "# after reading the file, file pointer will be at the end of file. so to send it in the begining we will use seek()\n",
    "f.seek(0)\n",
    "for i in data:\n",
    "    if i.islower():\n",
    "        f.write(i.upper())\n",
    "    else:\n",
    "        f.write(i)\n",
    "f.close()"
   ]
  },
  {
   "cell_type": "markdown",
   "metadata": {},
   "source": [
    "# 11. Write a python function to read content from text file. all lowercase letters should be stored in lower.txt file whereas all uppercase letters should be stored in upper.txt file and other letters should be stored in others.txt"
   ]
  },
  {
   "cell_type": "code",
   "execution_count": null,
   "metadata": {},
   "outputs": [],
   "source": [
    "f = open('file.txt','r')\n",
    "fl = open('lower.txt','w')\n",
    "fu = open('upper.txt','w')\n",
    "fo = open('others.txt','w')\n",
    "data = f.read()\n",
    "for i in data:\n",
    "    if i.islower():\n",
    "        fl.write(i)\n",
    "    elif i.isupper():\n",
    "        fu.write(i)\n",
    "    else:\n",
    "        fo.write(i)\n",
    "f.close()\n",
    "fl.close()\n",
    "fu.close()\n",
    "fo.close()"
   ]
  },
  {
   "cell_type": "markdown",
   "metadata": {},
   "source": [
    "# 12. Write a python program to read random line from a file. "
   ]
  },
  {
   "cell_type": "code",
   "execution_count": null,
   "metadata": {},
   "outputs": [],
   "source": [
    "import random\n",
    "f = open('file.txt','r')\n",
    "lines = f.readlines()\n",
    "length = len(lines)-1\n",
    "r = random.randint(0,length)\n",
    "print(lines[r])\n",
    "f.close()"
   ]
  },
  {
   "cell_type": "markdown",
   "metadata": {},
   "source": [
    "# 13. Write a python program to display all records in a file along with line or record number."
   ]
  },
  {
   "cell_type": "code",
   "execution_count": null,
   "metadata": {},
   "outputs": [],
   "source": [
    "f = open('file.txt','r')\n",
    "count = 1\n",
    "while True:\n",
    "    line = f.readline()\n",
    "    if line =='':\n",
    "        break\n",
    "    else:\n",
    "        print(count,':',line)\n",
    "        count+=1\n",
    "f.close()"
   ]
  },
  {
   "cell_type": "markdown",
   "metadata": {},
   "source": [
    "# 14. Write a python program to copy all the data from one file to another file. Take Input from the user. "
   ]
  },
  {
   "cell_type": "code",
   "execution_count": null,
   "metadata": {},
   "outputs": [],
   "source": [
    "s = input('Enter source file name with extension: ')\n",
    "d = input('Enter destination file name with extension: ')\n",
    "f1 = open(s,'r')\n",
    "f2 = open(d,'w')\n",
    "data = f1.read()\n",
    "f2.write(data)\n",
    "f1.close()\n",
    "f2.close()"
   ]
  },
  {
   "cell_type": "markdown",
   "metadata": {},
   "source": [
    "# 15. Write a function in Python to read lines from a text file line by line and display those lines which are either starting with an alphabet 's' or starting with an alphabet 'd'."
   ]
  },
  {
   "cell_type": "code",
   "execution_count": null,
   "metadata": {},
   "outputs": [],
   "source": [
    "def readald():\n",
    "    f = open('sample.txt','r')\n",
    "    lines = f.readlines()\n",
    "    for i in lines:\n",
    "        if i[0]=='R' or i[0]=='P':\n",
    "            print(i)\n",
    "readald()"
   ]
  },
  {
   "cell_type": "markdown",
   "metadata": {},
   "source": [
    "# 16. Write a function in Python to count the number of lines from a text file which are starting with a character 's'."
   ]
  },
  {
   "cell_type": "code",
   "execution_count": null,
   "metadata": {},
   "outputs": [],
   "source": [
    "def readchar():\n",
    "    count = 0\n",
    "    f = open('read.txt','r')\n",
    "    lines = f.readlines()\n",
    "    for i in lines:\n",
    "        if i[0]=='1':\n",
    "            count+=1\n",
    "    return count\n",
    "c= readchar()\n",
    "print('The lines are: ',c)"
   ]
  },
  {
   "cell_type": "markdown",
   "metadata": {},
   "source": [
    "# 17. Write a python function to read lines from a text file line by line and display those lines which are having more than 10 characters."
   ]
  },
  {
   "cell_type": "code",
   "execution_count": null,
   "metadata": {},
   "outputs": [],
   "source": [
    "def countline():\n",
    "    f = open('read.txt','r')\n",
    "    lines = f.readlines()\n",
    "    for i in lines:\n",
    "        if len(i)>=100:\n",
    "            print(i)\n",
    "        \n",
    "countline()"
   ]
  },
  {
   "cell_type": "markdown",
   "metadata": {},
   "source": [
    "# 18. Write a python function to read lines from a text file and count the total number of words in a file."
   ]
  },
  {
   "cell_type": "code",
   "execution_count": null,
   "metadata": {},
   "outputs": [],
   "source": [
    "def countword():\n",
    "    f = open('read.txt','r')\n",
    "    text = f.read()\n",
    "    words = text.split()\n",
    "    count = 0\n",
    "    for i in words:\n",
    "        count+=1\n",
    "    print('The total number of words: ',count)\n",
    "\n",
    "countword()\n",
    "    "
   ]
  },
  {
   "cell_type": "markdown",
   "metadata": {},
   "source": [
    "# 19. Write a python function to read content from a text file and display the occurances of the word 'to'."
   ]
  },
  {
   "cell_type": "code",
   "execution_count": null,
   "metadata": {},
   "outputs": [],
   "source": [
    "def displayto():\n",
    "    f = open('read.txt','r')\n",
    "    text = f.read()\n",
    "    words = text.split()\n",
    "    count = 0\n",
    "    for i in words:\n",
    "        if i=='to':\n",
    "            count+=1\n",
    "    print('The occurance is: ',count)\n",
    "displayto()"
   ]
  },
  {
   "cell_type": "markdown",
   "metadata": {},
   "source": [
    "# 20. Write a python function to read content from a text file and display the occurances of those words which are having 5 or more alphabets."
   ]
  },
  {
   "cell_type": "code",
   "execution_count": null,
   "metadata": {},
   "outputs": [],
   "source": [
    "def read5alpha():\n",
    "    f = open('read.txt','r')\n",
    "    text = f.read()\n",
    "    words = text.split()\n",
    "    count = 0\n",
    "    for i in words:\n",
    "        if len(i)>=10:\n",
    "            count+=1\n",
    "    print('The total number is: ',count)\n",
    "read5alpha()"
   ]
  },
  {
   "cell_type": "markdown",
   "metadata": {},
   "source": [
    "# 21. Write a python program to combine each line from first file with corresponding line in the second file."
   ]
  },
  {
   "cell_type": "code",
   "execution_count": null,
   "metadata": {},
   "outputs": [],
   "source": [
    "f1 = open('read1.txt','r')\n",
    "f2 = open('read2.txt','r')\n",
    "f3 = open('merge.txt','w')\n",
    "lines1 = f1.readlines()\n",
    "lines2 = f2.readlines()\n",
    "for i in range(len(lines1)):\n",
    "    m=lines1[i]+lines2[i]\n",
    "    f3.write(m)\n",
    "f1.close()\n",
    "f2.close()\n",
    "f3.close()"
   ]
  },
  {
   "cell_type": "markdown",
   "metadata": {},
   "source": [
    "# 22. Write a python program to read content from a text file and write those lines in a file which are not starting with 'a'."
   ]
  },
  {
   "cell_type": "code",
   "execution_count": null,
   "metadata": {},
   "outputs": [],
   "source": [
    "f = open('sample.txt','r')\n",
    "while True:\n",
    "    line = f.readline()\n",
    "    if line=='':\n",
    "        break\n",
    "    if line[0]!='M':\n",
    "        print(line)\n",
    "f.close()"
   ]
  },
  {
   "cell_type": "markdown",
   "metadata": {},
   "source": [
    "# 23. Write a python program to read content from a text file and write those lines in a file which are starting with 'a'"
   ]
  },
  {
   "cell_type": "code",
   "execution_count": null,
   "metadata": {},
   "outputs": [],
   "source": [
    "f = open('sample.txt','r')\n",
    "while True:\n",
    "    line = f.readline()\n",
    "    if line=='':\n",
    "        break\n",
    "    if line[0]=='A':\n",
    "        print(line)\n",
    "f.close()"
   ]
  },
  {
   "cell_type": "markdown",
   "metadata": {},
   "source": [
    "# 24. Write a python program to read content from a text file and write those lines in other file that does not contain 'z' letter."
   ]
  },
  {
   "cell_type": "code",
   "execution_count": null,
   "metadata": {},
   "outputs": [],
   "source": [
    "f = open('sample.txt','r')\n",
    "f1 = open('nota.txt','w')\n",
    "while True:\n",
    "    line = f.readline()\n",
    "    if line=='':\n",
    "        break\n",
    "    if 'z' not in line:\n",
    "        f1.write(line)\n",
    "f.close()"
   ]
  },
  {
   "cell_type": "markdown",
   "metadata": {},
   "source": [
    "# 25.Write a program to read data from a text file 'file.txt' and display all available digits in that text file. "
   ]
  },
  {
   "cell_type": "code",
   "execution_count": null,
   "metadata": {},
   "outputs": [],
   "source": [
    "f = open('file.txt','r')\n",
    "data  = f.read()\n",
    "sum = 0\n",
    "for i in data:\n",
    "    if i.isdigit():\n",
    "        print(i,end='\\t')\n",
    "        "
   ]
  },
  {
   "cell_type": "markdown",
   "metadata": {},
   "source": [
    "# 25. Write a program to read data from a text file 'file.txt' and calculate and display the sum of all the even digits presents in that text file. "
   ]
  },
  {
   "cell_type": "code",
   "execution_count": null,
   "metadata": {},
   "outputs": [],
   "source": [
    "f = open('file.txt','r')\n",
    "data  = f.read()\n",
    "sum = 0\n",
    "for i in data:\n",
    "    if i.isdigit():\n",
    "        #print(i)\n",
    "        if int(i)%2==0:\n",
    "            sum = sum+int(i)\n",
    "print('The sum of even digits is',sum)"
   ]
  },
  {
   "cell_type": "markdown",
   "metadata": {},
   "source": []
  }
 ],
 "metadata": {
  "kernelspec": {
   "display_name": "Python 3",
   "language": "python",
   "name": "python3"
  },
  "language_info": {
   "codemirror_mode": {
    "name": "ipython",
    "version": 3
   },
   "file_extension": ".py",
   "mimetype": "text/x-python",
   "name": "python",
   "nbconvert_exporter": "python",
   "pygments_lexer": "ipython3",
   "version": "3.9.1"
  }
 },
 "nbformat": 4,
 "nbformat_minor": 4
}
