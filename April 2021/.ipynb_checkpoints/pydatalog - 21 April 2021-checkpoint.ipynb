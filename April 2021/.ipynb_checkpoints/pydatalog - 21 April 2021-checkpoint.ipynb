{
 "cells": [
  {
   "cell_type": "markdown",
   "metadata": {},
   "source": [
    "# Encode the following facts and rules in pyDatalog:\n",
    "\n",
    "# Bear is big\n",
    "# Elephant is big\n",
    "# Cat is small\n",
    "# Bear is brown\n",
    "# Cat is black\n",
    "# Elephant is gray\n",
    "# An animal is dark if it is black\n",
    "# An animal is dark if it is brown\n",
    "\n",
    "# Write a query to find which animal is dark and big. "
   ]
  },
  {
   "cell_type": "code",
   "execution_count": 2,
   "metadata": {},
   "outputs": [],
   "source": [
    "from pyDatalog import pyDatalog"
   ]
  },
  {
   "cell_type": "code",
   "execution_count": 3,
   "metadata": {},
   "outputs": [
    {
     "name": "stdout",
     "output_type": "stream",
     "text": [
      "X       \n",
      "--------\n",
      "Bear    \n",
      "Elephant\n"
     ]
    }
   ],
   "source": [
    "from pyDatalog import pyDatalog\n",
    "pyDatalog.create_terms('Bear,Elephant,Cat,Gray,Brown,Big,Small,size,color,X,Dark')\n",
    "+size('Bear','Big')\n",
    "+size('Elephant','Big')\n",
    "+size('Cat','Small')\n",
    "+color('Bear','Brown')\n",
    "+color('Cat','Black')\n",
    "+color('Elephant','Gray')\n",
    "Dark(X) <= (color(X,'Gray'))\n",
    "Dark(X) <= (color(X,'Brown'))\n",
    "print(Dark(X) & (size(X,'Big')))"
   ]
  },
  {
   "cell_type": "code",
   "execution_count": 5,
   "metadata": {},
   "outputs": [
    {
     "name": "stdout",
     "output_type": "stream",
     "text": [
      "X       \n",
      "--------\n",
      "Bear    \n",
      "Elephant\n"
     ]
    }
   ],
   "source": [
    "from pyDatalog import pyDatalog\n",
    "pyDatalog.create_terms('Bear,Elephant,Cat,Gray,Brown,Big,Small,size,color,X,Dark')\n",
    "+size('Bear','Big')\n",
    "+size('Elephant','Big')\n",
    "+size('Cat','Small')\n",
    "+color('Bear','Brown')\n",
    "+color('Cat','Black')\n",
    "+color('Elephant','Gray')\n",
    "Dark(X) <= (color(X,'Gray'))\n",
    "Dark(X) <= (color(X,'Brown'))\n",
    "print(Dark(X) & (size(X,'Big')))"
   ]
  },
  {
   "cell_type": "code",
   "execution_count": 6,
   "metadata": {},
   "outputs": [
    {
     "name": "stdout",
     "output_type": "stream",
     "text": [
      "N  \n",
      "---\n",
      "120\n"
     ]
    }
   ],
   "source": [
    "from pyDatalog import pyDatalog\n",
    "pyDatalog.create_terms(\"N,Factorial\")\n",
    "Factorial[N]=N*Factorial[N-1]\n",
    "Factorial[1]=1\n",
    "print(Factorial[5]==N)"
   ]
  },
  {
   "cell_type": "code",
   "execution_count": 12,
   "metadata": {},
   "outputs": [
    {
     "name": "stdout",
     "output_type": "stream",
     "text": [
      "X | Y                 \n",
      "--|-------------------\n",
      "2 | 1.4142135623730951\n"
     ]
    }
   ],
   "source": [
    "import math\n",
    "pyDatalog.create_terms('X,Y,math')\n",
    "#pyDatalog.create_terms('math')\n",
    "print((X==2) & (Y==math.sqrt(X)))"
   ]
  },
  {
   "cell_type": "code",
   "execution_count": 13,
   "metadata": {},
   "outputs": [
    {
     "name": "stdout",
     "output_type": "stream",
     "text": [
      "X | Y                 \n",
      "--|-------------------\n",
      "2 | 1.4142135623730951\n"
     ]
    }
   ],
   "source": [
    "import math\n",
    "pyDatalog.create_terms('X,Y,math')\n",
    "print((X==2) & (Y==math.sqrt(X)))"
   ]
  },
  {
   "cell_type": "code",
   "execution_count": null,
   "metadata": {},
   "outputs": [],
   "source": []
  },
  {
   "cell_type": "code",
   "execution_count": 22,
   "metadata": {},
   "outputs": [
    {
     "name": "stdout",
     "output_type": "stream",
     "text": [
      "X   \n",
      "----\n",
      "Sam \n",
      "John\n"
     ]
    }
   ],
   "source": [
    "pyDatalog.create_terms('X,Y,Z, works_in')\n",
    "+ works_in('Mary','Production')\n",
    "+ works_in('Sam','Marketing')\n",
    "+ works_in('John','Production')\n",
    "+ works_in('John','Marketing')\n",
    "print(works_in(X,  'Marketing'))"
   ]
  },
  {
   "cell_type": "code",
   "execution_count": 24,
   "metadata": {},
   "outputs": [
    {
     "name": "stdout",
     "output_type": "stream",
     "text": [
      "Y   \n",
      "----\n",
      "Mary\n",
      "John\n"
     ]
    }
   ],
   "source": [
    "pyDatalog.create_terms('X,Y,Z, works_in')\n",
    "+ works_in('Mary','Production')\n",
    "+ works_in('Sam','Marketing')\n",
    "+ works_in('John','Production')\n",
    "+ works_in('John','Marketing')\n",
    "print(works_in(Y,  'Production'))"
   ]
  },
  {
   "cell_type": "code",
   "execution_count": 25,
   "metadata": {},
   "outputs": [
    {
     "name": "stdout",
     "output_type": "stream",
     "text": [
      "X       \n",
      "--------\n",
      "Aryadeep\n",
      "Arvind  \n"
     ]
    }
   ],
   "source": [
    "pyDatalog.create_terms('X,Y,Z, college')\n",
    "+college('Arvind','MMMEC')\n",
    "+college('Amit','CCS')\n",
    "+college('Aryadeep','MMMEC')\n",
    "+college('Abhishek','IITD')\n",
    "print(college(X,'MMMEC'))"
   ]
  },
  {
   "cell_type": "code",
   "execution_count": 27,
   "metadata": {},
   "outputs": [
    {
     "name": "stdout",
     "output_type": "stream",
     "text": [
      "Y   \n",
      "----\n",
      "Amit\n"
     ]
    }
   ],
   "source": [
    "pyDatalog.create_terms('X,Y,Z, college')\n",
    "+college('Arvind','MMMEC')\n",
    "+college('Amit','CCS')\n",
    "+college('Aryadeep','MMMEC')\n",
    "+college('Abhishek','IITD')\n",
    "print(college(Y,'CCS'))"
   ]
  },
  {
   "cell_type": "code",
   "execution_count": 28,
   "metadata": {},
   "outputs": [
    {
     "name": "stdout",
     "output_type": "stream",
     "text": [
      "Y       \n",
      "--------\n",
      "Abhishek\n"
     ]
    }
   ],
   "source": [
    "pyDatalog.create_terms('X,Y,Z, college')\n",
    "+college('Arvind','MMMEC')\n",
    "+college('Amit','CCS')\n",
    "+college('Aryadeep','MMMEC')\n",
    "+college('Abhishek','IITD')\n",
    "print(college(Y,'IITD'))"
   ]
  },
  {
   "cell_type": "code",
   "execution_count": 31,
   "metadata": {},
   "outputs": [
    {
     "name": "stdout",
     "output_type": "stream",
     "text": [
      "[]\n"
     ]
    }
   ],
   "source": [
    "pyDatalog.create_terms('X,Y,Z, college')\n",
    "+college('Arvind','MMMEC')\n",
    "+college('Amit','CCS')\n",
    "+college('Aryadeep','MMMEC')\n",
    "+college('Abhishek','IITD')\n",
    "print(college(X,'Arvind'))"
   ]
  },
  {
   "cell_type": "code",
   "execution_count": 32,
   "metadata": {},
   "outputs": [
    {
     "name": "stdout",
     "output_type": "stream",
     "text": [
      "Z\n",
      "-\n",
      "2\n"
     ]
    }
   ],
   "source": [
    "from pyDatalog import pyDatalog\n",
    "pyDatalog.create_terms('X,Y,manager, count_of_direct_reports')\n",
    "+(manager['Mary'] == 'John')\n",
    "+(manager['Sam']  == 'Mary')\n",
    "+(manager['Tom']  == 'Mary')\n",
    "(count_of_direct_reports[X]==len_(Y)) <= (manager[Y]==X)\n",
    "print(count_of_direct_reports['Mary']==Z)\n"
   ]
  },
  {
   "cell_type": "code",
   "execution_count": 33,
   "metadata": {},
   "outputs": [
    {
     "name": "stdout",
     "output_type": "stream",
     "text": [
      "Z\n",
      "-\n",
      "2\n"
     ]
    }
   ],
   "source": [
    "from pyDatalog import pyDatalog\n",
    "pyDatalog.create_terms('X,Y,manager,reports')\n",
    "+(manager['Mary'] == 'John')\n",
    "+(manager['Sam']  == 'Mary')\n",
    "+(manager['Tom']  == 'Mary')\n",
    "(reports[X]==len_(Y)) <= (manager[Y]==X)\n",
    "print(reports['Mary']==Z)\n"
   ]
  },
  {
   "cell_type": "code",
   "execution_count": 35,
   "metadata": {},
   "outputs": [
    {
     "name": "stdout",
     "output_type": "stream",
     "text": [
      "Z\n",
      "-\n",
      "1\n"
     ]
    }
   ],
   "source": [
    "from pyDatalog import pyDatalog\n",
    "pyDatalog.create_terms('X,Y,manager,reports')\n",
    "+(manager['Mary'] == 'John')\n",
    "+(manager['Sam']  == 'Mary')\n",
    "+(manager['Tom']  == 'Mary')\n",
    "(reports[X]==len_(Y)) <= (manager[Y]==X)\n",
    "print(reports['John']==Z)\n"
   ]
  },
  {
   "cell_type": "code",
   "execution_count": 38,
   "metadata": {},
   "outputs": [],
   "source": [
    "pyDatalog.create_terms('A')"
   ]
  },
  {
   "cell_type": "code",
   "execution_count": 39,
   "metadata": {},
   "outputs": [
    {
     "name": "stdout",
     "output_type": "stream",
     "text": [
      "A\n",
      "-\n",
      "4\n",
      "3\n",
      "2\n",
      "1\n"
     ]
    }
   ],
   "source": [
    "print(A.in_((1,2,3,4)))"
   ]
  },
  {
   "cell_type": "code",
   "execution_count": 3,
   "metadata": {},
   "outputs": [],
   "source": [
    "pyDatalog.create_terms('B')"
   ]
  },
  {
   "cell_type": "code",
   "execution_count": 4,
   "metadata": {},
   "outputs": [
    {
     "name": "stdout",
     "output_type": "stream",
     "text": [
      "B\n",
      "-\n",
      "7\n",
      "6\n",
      "5\n",
      "4\n",
      "3\n",
      "2\n",
      "1\n",
      "0\n"
     ]
    }
   ],
   "source": [
    "print(B.in_(range(8)))"
   ]
  },
  {
   "cell_type": "code",
   "execution_count": 5,
   "metadata": {},
   "outputs": [
    {
     "name": "stdout",
     "output_type": "stream",
     "text": [
      "B\n",
      "-\n",
      "2\n",
      "1\n",
      "0\n"
     ]
    }
   ],
   "source": [
    "print(B.in_(range(8)) & (B<3))"
   ]
  },
  {
   "cell_type": "code",
   "execution_count": 7,
   "metadata": {},
   "outputs": [
    {
     "name": "stdout",
     "output_type": "stream",
     "text": [
      "B\n",
      "-\n",
      "7\n",
      "6\n",
      "5\n",
      "4\n"
     ]
    }
   ],
   "source": [
    "res = B.in_(range(8)) & (B>3)\n",
    "print(res)"
   ]
  },
  {
   "cell_type": "code",
   "execution_count": 8,
   "metadata": {},
   "outputs": [
    {
     "name": "stdout",
     "output_type": "stream",
     "text": [
      "X | Y                 \n",
      "--|-------------------\n",
      "2 | 1.4142135623730951\n"
     ]
    }
   ],
   "source": [
    "import math\n",
    "pyDatalog.create_terms('X,Y,math')\n",
    "res = (X==2) & (Y==math.sqrt(X))\n",
    "print(res)"
   ]
  },
  {
   "cell_type": "code",
   "execution_count": 11,
   "metadata": {},
   "outputs": [
    {
     "name": "stdout",
     "output_type": "stream",
     "text": [
      "X | Y  \n",
      "--|----\n",
      "2 | 8.0\n"
     ]
    }
   ],
   "source": [
    "import math\n",
    "pyDatalog.create_terms('X,Y,math')\n",
    "res = (X==2) & (Y==math.pow(X,3))\n",
    "print(res)"
   ]
  },
  {
   "cell_type": "markdown",
   "metadata": {},
   "source": [
    "# Nested Loop"
   ]
  },
  {
   "cell_type": "code",
   "execution_count": 12,
   "metadata": {},
   "outputs": [
    {
     "name": "stdout",
     "output_type": "stream",
     "text": [
      "I | J\n",
      "--|--\n",
      "2 | 2\n",
      "2 | 1\n",
      "2 | 0\n",
      "1 | 2\n",
      "1 | 1\n",
      "1 | 0\n",
      "0 | 2\n",
      "0 | 1\n",
      "0 | 0\n"
     ]
    }
   ],
   "source": [
    "pyDatalog.create_terms('I,J')\n",
    "res = I.in_(range(3)) & J.in_(range(3))\n",
    "print(res)\n",
    "    "
   ]
  },
  {
   "cell_type": "code",
   "execution_count": 2,
   "metadata": {},
   "outputs": [],
   "source": [
    "from pyDatalog import pyDatalog"
   ]
  },
  {
   "cell_type": "code",
   "execution_count": 3,
   "metadata": {},
   "outputs": [
    {
     "name": "stdout",
     "output_type": "stream",
     "text": [
      "I | J | K\n",
      "--|---|--\n",
      "2 | 2 | 4\n",
      "2 | 1 | 3\n",
      "2 | 0 | 2\n",
      "1 | 2 | 3\n",
      "1 | 1 | 2\n",
      "1 | 0 | 1\n",
      "0 | 2 | 2\n",
      "0 | 1 | 1\n",
      "0 | 0 | 0\n"
     ]
    }
   ],
   "source": [
    "pyDatalog.create_terms('I,J,K,L')\n",
    "res = I.in_(range(3)) & J.in_(range(3)) & (K==I+J)\n",
    "print(res)\n"
   ]
  },
  {
   "cell_type": "code",
   "execution_count": 5,
   "metadata": {},
   "outputs": [
    {
     "name": "stdout",
     "output_type": "stream",
     "text": [
      "I | J | K\n",
      "--|---|--\n",
      "2 | 0 | 2\n",
      "1 | 1 | 2\n",
      "1 | 0 | 1\n",
      "0 | 2 | 2\n",
      "0 | 1 | 1\n",
      "0 | 0 | 0\n"
     ]
    }
   ],
   "source": [
    "pyDatalog.create_terms('I,J,K,L')\n",
    "res = I.in_(range(3)) & J.in_(range(3)) & (K==I+J) & (K<3)\n",
    "print(res)"
   ]
  },
  {
   "cell_type": "code",
   "execution_count": 7,
   "metadata": {},
   "outputs": [
    {
     "name": "stdout",
     "output_type": "stream",
     "text": [
      "I | J | K\n",
      "--|---|--\n",
      "2 | 2 | 4\n",
      "2 | 1 | 3\n",
      "1 | 2 | 3\n"
     ]
    }
   ],
   "source": [
    "pyDatalog.create_terms('I,J,K,L')\n",
    "res = I.in_(range(3)) & J.in_(range(3)) & (K==I+J) & (K>2)\n",
    "print(res)"
   ]
  },
  {
   "cell_type": "code",
   "execution_count": null,
   "metadata": {},
   "outputs": [],
   "source": []
  },
  {
   "cell_type": "code",
   "execution_count": null,
   "metadata": {},
   "outputs": [],
   "source": []
  }
 ],
 "metadata": {
  "kernelspec": {
   "display_name": "Python 3",
   "language": "python",
   "name": "python3"
  },
  "language_info": {
   "codemirror_mode": {
    "name": "ipython",
    "version": 3
   },
   "file_extension": ".py",
   "mimetype": "text/x-python",
   "name": "python",
   "nbconvert_exporter": "python",
   "pygments_lexer": "ipython3",
   "version": "3.7.5"
  }
 },
 "nbformat": 4,
 "nbformat_minor": 2
}
