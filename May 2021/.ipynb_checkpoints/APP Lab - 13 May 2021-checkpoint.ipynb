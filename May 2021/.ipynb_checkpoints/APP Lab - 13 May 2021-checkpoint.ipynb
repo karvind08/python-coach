{
 "cells": [
  {
   "cell_type": "code",
   "execution_count": 1,
   "metadata": {},
   "outputs": [],
   "source": [
    "from automata.fa.dfa import DFA"
   ]
  },
  {
   "cell_type": "code",
   "execution_count": 2,
   "metadata": {},
   "outputs": [
    {
     "name": "stdout",
     "output_type": "stream",
     "text": [
      "Accepted\n"
     ]
    }
   ],
   "source": [
    "dfa = DFA(\n",
    "    states= {'q0','q1','q2','d'},\n",
    "    input_symbols={'0','1'},\n",
    "    transitions= {\n",
    "        'q0':{'0':'d','1':'q1'},\n",
    "        'q1':{'0':'q2','1':'q1'},\n",
    "        'q2':{'0':'q2','1':'q1'},\n",
    "        'd':{'0':'d','1':'d'}\n",
    "    },\n",
    "    initial_state= 'q0',\n",
    "    final_states={'q2'}\n",
    ")\n",
    "\n",
    "if dfa.accepts_input('1000'):\n",
    "    print('Accepted')\n",
    "else:\n",
    "    print('Rejected')"
   ]
  },
  {
   "cell_type": "code",
   "execution_count": 3,
   "metadata": {},
   "outputs": [
    {
     "name": "stdout",
     "output_type": "stream",
     "text": [
      "Accepted\n"
     ]
    }
   ],
   "source": [
    "dfa = DFA(\n",
    "    states= {'q0','q1','q2','d'},\n",
    "    input_symbols={'0','1'},\n",
    "    transitions= {\n",
    "        'q0':{'0':'d','1':'q1'},\n",
    "        'q1':{'0':'q2','1':'q1'},\n",
    "        'q2':{'0':'q2','1':'q1'},\n",
    "        'd':{'0':'d','1':'d'}\n",
    "    },\n",
    "    initial_state= 'q0',\n",
    "    final_states={'q2'}\n",
    ")\n",
    "\n",
    "if dfa.accepts_input('1010'):\n",
    "    print('Accepted')\n",
    "else:\n",
    "    print('Rejected')"
   ]
  },
  {
   "cell_type": "code",
   "execution_count": 4,
   "metadata": {},
   "outputs": [
    {
     "name": "stdout",
     "output_type": "stream",
     "text": [
      "Rejected\n"
     ]
    }
   ],
   "source": [
    "dfa = DFA(\n",
    "    states= {'q0','q1','q2','d'},\n",
    "    input_symbols={'0','1'},\n",
    "    transitions= {\n",
    "        'q0':{'0':'d','1':'q1'},\n",
    "        'q1':{'0':'q2','1':'q1'},\n",
    "        'q2':{'0':'q2','1':'q1'},\n",
    "        'd':{'0':'d','1':'d'}\n",
    "    },\n",
    "    initial_state= 'q0',\n",
    "    final_states={'q2'}\n",
    ")\n",
    "\n",
    "if dfa.accepts_input('010'):\n",
    "    print('Accepted')\n",
    "else:\n",
    "    print('Rejected')"
   ]
  }
 ],
 "metadata": {
  "kernelspec": {
   "display_name": "Python 3",
   "language": "python",
   "name": "python3"
  },
  "language_info": {
   "codemirror_mode": {
    "name": "ipython",
    "version": 3
   },
   "file_extension": ".py",
   "mimetype": "text/x-python",
   "name": "python",
   "nbconvert_exporter": "python",
   "pygments_lexer": "ipython3",
   "version": "3.7.5"
  }
 },
 "nbformat": 4,
 "nbformat_minor": 2
}
