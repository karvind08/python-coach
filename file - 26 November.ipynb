{
 "cells": [
  {
   "cell_type": "markdown",
   "metadata": {},
   "source": [
    "# 1.Write a program to read data from a text file 'file.txt' and count all lowercase, uppercase, digits and special symbols from that file."
   ]
  },
  {
   "cell_type": "code",
   "execution_count": 6,
   "metadata": {},
   "outputs": [
    {
     "name": "stdout",
     "output_type": "stream",
     "text": [
      "Print a String in Pattern Format In Python\n",
      "\n",
      "\n",
      "Reverse Number Of A 5 Digits Number In Python\n",
      "\n",
      "\n",
      "The vowels are 23\n",
      "The consonants are 48\n",
      "The uppercase are 14\n",
      "The lowercase are 57\n"
     ]
    }
   ],
   "source": [
    "file = open('file.txt','r')\n",
    "data = file.read()\n",
    "print(data)\n",
    "vowels = 0\n",
    "consonants = 0\n",
    "upper = 0\n",
    "lower = 0\n",
    "\n",
    "for ch in data:\n",
    "    if str.isupper(ch):\n",
    "        upper +=1\n",
    "    elif str.islower(ch):\n",
    "        lower+=1\n",
    "    \n",
    "    ch = str.lower(ch)\n",
    "    if ch in 'aeiou':\n",
    "        vowels+=1\n",
    "    elif ch in 'bcdfghjklmnpqrstvwxyz':\n",
    "        consonants+=1\n",
    "\n",
    "print('The vowels are',vowels)\n",
    "print('The consonants are',consonants)\n",
    "print('The uppercase are',upper)\n",
    "print('The lowercase are',lower)"
   ]
  },
  {
   "cell_type": "markdown",
   "metadata": {},
   "source": [
    "# 2.Write a program to read data from a text file 'file.txt' and display all available digits in that text file. "
   ]
  },
  {
   "cell_type": "code",
   "execution_count": 5,
   "metadata": {},
   "outputs": [
    {
     "name": "stdout",
     "output_type": "stream",
     "text": [
      "3\t1\t3\t2\t1\t2\t5\t0\t1\t0\t3\t5\t9\t4\t1\t2\t4\t0\t5\t4\t3\t8\t5\t2\t1\t1\t0\t0\t9\t4\t"
     ]
    }
   ],
   "source": [
    "f = open('file.txt','r')\n",
    "data  = f.read()\n",
    "sum = 0\n",
    "for i in data:\n",
    "    if i.isdigit():\n",
    "        print(i,end='\\t')\n",
    "        "
   ]
  },
  {
   "cell_type": "markdown",
   "metadata": {},
   "source": [
    "# 3. Write a program to read data from a text file 'file.txt' and calculate and display the sum of all the even digits presents in that text file. "
   ]
  },
  {
   "cell_type": "code",
   "execution_count": 2,
   "metadata": {},
   "outputs": [
    {
     "name": "stdout",
     "output_type": "stream",
     "text": [
      "The sum of even digits is 32\n"
     ]
    }
   ],
   "source": [
    "f = open('file.txt','r')\n",
    "data  = f.read()\n",
    "sum = 0\n",
    "for i in data:\n",
    "    if i.isdigit():\n",
    "        #print(i)\n",
    "        if int(i)%2==0:\n",
    "            sum = sum+int(i)\n",
    "print('The sum of even digits is',sum)"
   ]
  },
  {
   "cell_type": "markdown",
   "metadata": {},
   "source": [
    "# 4. Write a program to read data from a text file 'file.txt' and display those words which are ending with 'e "
   ]
  },
  {
   "cell_type": "code",
   "execution_count": 11,
   "metadata": {},
   "outputs": [
    {
     "name": "stdout",
     "output_type": "stream",
     "text": [
      "DataFrame\ttable\tmade\tHere\tare\tthe\thave\tsome\tlittle\tclose\teye\twhile\tthe\tsupre\t\n",
      "The total words ending with e are: 14\n"
     ]
    }
   ],
   "source": [
    "f = open('file.txt','r')\n",
    "data  = f.read()\n",
    "words = data.split()\n",
    "count = 0\n",
    "for i in words:\n",
    "    if i[-1] == 'e':\n",
    "        print(i,end='\\t')\n",
    "        count +=1\n",
    "print()\n",
    "print('The total words ending with e are:',count)"
   ]
  },
  {
   "cell_type": "markdown",
   "metadata": {},
   "source": [
    "# 5. Write a program to read data from a text file and remove multiple spaces with a single space & write data in that file"
   ]
  },
  {
   "cell_type": "code",
   "execution_count": 6,
   "metadata": {},
   "outputs": [],
   "source": [
    "f = open('file.txt','r')\n",
    "f1 = open('file2.txt','w')\n",
    "data = f.read()\n",
    "words = data.split()\n",
    "s = ' '.join(words)\n",
    "#print(s)\n",
    "f1.write(s)\n",
    "f1.close()"
   ]
  },
  {
   "cell_type": "markdown",
   "metadata": {},
   "source": [
    "# 6. Write a program to read data from a text file and display those words which are less than 5 characters."
   ]
  },
  {
   "cell_type": "code",
   "execution_count": 13,
   "metadata": {},
   "outputs": [
    {
     "name": "stdout",
     "output_type": "stream",
     "text": [
      "A\tis\ta\tand\ta\tis\ta\tmade\tup\tof\ta\tof\t-1\t,\tROAD\t,\t(UP)\tPIN\tCODE\tHere\tare\tthe\tlist\tyou\thave\tto\tdo\tGo\tfor\ta\twalk\tSit\twith\tyour\tyour\tDo\tsome\tor\ta\tSet\ta\tof\t5\tmin\tand\tyour\teye\ton\tthe\tRead\ta\tof\tany\tbook\tTax\tkhem\tji\tMain\tRoad\t"
     ]
    }
   ],
   "source": [
    "f  = open('file.txt','r')\n",
    "data = f.read()\n",
    "words = data.split()\n",
    "for i in words:\n",
    "    if len(i)<5:\n",
    "        print(i,end='\\t')\n",
    "f.close()"
   ]
  },
  {
   "cell_type": "markdown",
   "metadata": {},
   "source": [
    "# 7. Write a program to read data from a text file and count the words 'to' and 'the' from the given file"
   ]
  },
  {
   "cell_type": "code",
   "execution_count": 15,
   "metadata": {},
   "outputs": [
    {
     "name": "stdout",
     "output_type": "stream",
     "text": [
      "The total count of \"to\" and \"the\" are: 3\n"
     ]
    }
   ],
   "source": [
    "f = open('file.txt','r')\n",
    "data = f.read()\n",
    "words = data.split()\n",
    "count = 0\n",
    "for i in words:\n",
    "    if i=='to' or i=='the':\n",
    "        count+=1\n",
    "print('The total count of \"to\" and \"the\" are:',count)\n",
    "f.close()"
   ]
  },
  {
   "cell_type": "markdown",
   "metadata": {},
   "source": [
    "# 8. Write a program to read data from a text file and replace all uppercase letter with their lowercase letters in the same file."
   ]
  },
  {
   "cell_type": "code",
   "execution_count": 16,
   "metadata": {},
   "outputs": [],
   "source": [
    "f = open('file.txt','r+')\n",
    "data = f.read()\n",
    "f.seek(0)\n",
    "for i in data:\n",
    "    if i.isupper():\n",
    "        f.write(i.lower())\n",
    "    else:\n",
    "        f.write(i)\n",
    "f.close()"
   ]
  },
  {
   "cell_type": "markdown",
   "metadata": {},
   "source": [
    "# 9. Write a program to read data from a text file and replace all lowercase letter with their uppercase letters in the same file."
   ]
  },
  {
   "cell_type": "code",
   "execution_count": 17,
   "metadata": {},
   "outputs": [],
   "source": [
    "f = open('file.txt','r+')\n",
    "data = f.read()\n",
    "f.seek(0)\n",
    "for i in data:\n",
    "    if i.islower():\n",
    "        f.write(i.upper())\n",
    "    else:\n",
    "        f.write(i)\n",
    "f.close()"
   ]
  },
  {
   "cell_type": "markdown",
   "metadata": {},
   "source": [
    "# 10. Write a program to read data from a text file and all lowercase letters should be stored in a file'lower', all uppercase letters should be stored in a file'upper' and all others letters should be stored in 'others' file. "
   ]
  },
  {
   "cell_type": "code",
   "execution_count": 20,
   "metadata": {},
   "outputs": [],
   "source": [
    "f = open('file.txt','r')\n",
    "fl = open('lower.txt','w')\n",
    "fu = open('upper.txt','w')\n",
    "fo = open('other.txt','w')\n",
    "data = f.read()\n",
    "for i in data:\n",
    "    if i.islower():\n",
    "        fl.write(i)\n",
    "    elif i.isupper():\n",
    "        fu.write(i)\n",
    "    else:\n",
    "        fo.write(i)\n",
    "fl.close()\n",
    "fu.close()\n",
    "fo.close()\n",
    "f.close()"
   ]
  },
  {
   "cell_type": "markdown",
   "metadata": {},
   "source": [
    "# 11. Write a program to read a random line from the given file."
   ]
  },
  {
   "cell_type": "code",
   "execution_count": 47,
   "metadata": {},
   "outputs": [
    {
     "name": "stdout",
     "output_type": "stream",
     "text": [
      "\n",
      "\n"
     ]
    }
   ],
   "source": [
    "import random\n",
    "f = open('file.txt','r')\n",
    "lines = f.readlines()\n",
    "#print(lines)\n",
    "length = len(lines)-1\n",
    "r = random.randint(0,length)\n",
    "print(lines[r])\n",
    "f.close()"
   ]
  },
  {
   "cell_type": "markdown",
   "metadata": {},
   "source": [
    "# 12. Write a program to read a file and display all records in a file along with line or record number."
   ]
  },
  {
   "cell_type": "code",
   "execution_count": 50,
   "metadata": {},
   "outputs": [
    {
     "name": "stdout",
     "output_type": "stream",
     "text": [
      "1 : sportswink.com\n",
      "2 : sportywink.com\n",
      "3 : meeruthub.com\n",
      "4 : \n",
      "5 : A Series is essentially a column, and a DataFrame is a multi-dimensional table made up of a collection of Series.\n",
      "6 : \n",
      "7 : \n",
      "8 : 3E/13-B, Street No.2, PHASE -1 ,MOHKAMPUR\n",
      "9 : BEHIND VENUS GARDEN ,DELHI ROAD ,\n",
      "10 : MEERUT (UP) PIN CODE -250103\n",
      "11 : \n",
      "12 : pythondomain.com\n",
      "13 : \n",
      "14 : Here are the list you have to do\n",
      "15 : \n",
      "16 : Go for a short walk\n",
      "17 : Drink water\n",
      "18 : Sit with your family\n",
      "19 : Water your garden\n",
      "20 : Do some situps or a little stretching\n",
      "21 : Set a timer of 5 min and close your eye while sitting on the chair\n",
      "22 : Read a paragraph of any inspiring book\n",
      "23 : \n",
      "24 : \n",
      "25 : 9412405438 Akshay Tax supre\n",
      "26 : khem chandra ji \n",
      "27 : \n",
      "28 : \n",
      "29 : A-52, Main Road\n",
      "30 : Johripur Delhi-110094\n",
      "31 : \n",
      "32 : \n"
     ]
    }
   ],
   "source": [
    "f = open('file.txt','r')\n",
    "count = 1\n",
    "while True:\n",
    "    line = f.readline()\n",
    "    if line == '':\n",
    "        break\n",
    "    else:\n",
    "        print(count,':',line,end='')\n",
    "        count+=1\n",
    "f.close()"
   ]
  },
  {
   "cell_type": "markdown",
   "metadata": {},
   "source": [
    "# 13. Write a program to copy all data from one text file to another. take input from the user"
   ]
  },
  {
   "cell_type": "code",
   "execution_count": 51,
   "metadata": {},
   "outputs": [
    {
     "name": "stdout",
     "output_type": "stream",
     "text": [
      "Enter the source file with extension: file.txt\n",
      "Enter the destination file with extension: new_file.txt\n"
     ]
    }
   ],
   "source": [
    "s = input('Enter the source file with extension: ')\n",
    "d = input('Enter the destination file with extension: ')\n",
    "f1 = open(s,'r')\n",
    "f2 = open(d,'w')\n",
    "data=f1.read()\n",
    "f2.write(data)\n",
    "f1.close()\n",
    "f2.close()"
   ]
  },
  {
   "cell_type": "markdown",
   "metadata": {},
   "source": [
    "# 14. Write a program to combine each line from first file with the corresponding line from second file. "
   ]
  },
  {
   "cell_type": "code",
   "execution_count": 53,
   "metadata": {},
   "outputs": [],
   "source": [
    "f1 = open('file.txt','r')\n",
    "f2 = open('new_file.txt','r')\n",
    "f3 = open('merge.txt','w')\n",
    "lines1 = f1.readlines()\n",
    "lines2 = f2.readlines()\n",
    "#print(lines1,lines2)\n",
    "for i in range(len(lines1)):\n",
    "    m = lines1[i]+lines2[i]\n",
    "    f3.write(m)\n",
    "f1.close()\n",
    "f2.close()\n",
    "f3.close()"
   ]
  },
  {
   "cell_type": "markdown",
   "metadata": {},
   "source": [
    "# 15. Write a program to read lines from a text and print those lines which are not starting with 'a'"
   ]
  },
  {
   "cell_type": "code",
   "execution_count": 72,
   "metadata": {},
   "outputs": [
    {
     "name": "stdout",
     "output_type": "stream",
     "text": [
      "sportswink.com\n",
      "sportywink.com\n",
      "meeruthub.com\n",
      "\n",
      "Series is essentially a column, and a DataFrame is a multi-dimensional table made up of a collection of Series.\n",
      "\n",
      "\n",
      "\n",
      "3E/13-B, Street No.2, PHASE -1 ,MOHKAMPUR\n",
      "BEHIND VENUS GARDEN ,DELHI ROAD ,\n",
      "MEERUT (UP) PIN CODE -250103\n",
      "\n",
      "pythondomain.com\n",
      "\n",
      "Here are the list you have to do\n",
      "\n",
      "Go for a short walk\n",
      "Drink water\n",
      "Sit with your family\n",
      "Water your garden\n",
      "Do some situps or a little stretching\n",
      "Set a timer of 5 min and close your eye while sitting on the chair\n",
      "Read a paragraph of any inspiring book\n",
      "\n",
      "\n",
      "9412405438 Akshay Tax supre\n",
      "khem chandra ji \n",
      "\n",
      "\n",
      "A-52, Main Road\n",
      "Johripur Delhi-110094\n",
      "\n",
      "\n"
     ]
    }
   ],
   "source": [
    "f = open('file.txt','r')\n",
    "while True:\n",
    "    line = f.readline()\n",
    "    #print(line)\n",
    "    if line =='':\n",
    "        break\n",
    "    elif line[0]!='a':\n",
    "        print(line,end='')\n",
    "f.close()"
   ]
  },
  {
   "cell_type": "markdown",
   "metadata": {},
   "source": [
    "# 16. Write a program to read lines from a text and write these lines in a file which are not starting with 'a'"
   ]
  },
  {
   "cell_type": "code",
   "execution_count": 73,
   "metadata": {},
   "outputs": [],
   "source": [
    "f = open('file.txt','r')\n",
    "f1 = open('file-n.txt','w')\n",
    "while True:\n",
    "    line = f.readline()\n",
    "    #print(line)\n",
    "    if line =='':\n",
    "        break\n",
    "    elif line[0]!='a':\n",
    "        f1.write(line)\n",
    "f.close()\n",
    "f1.close()"
   ]
  },
  {
   "cell_type": "markdown",
   "metadata": {},
   "source": [
    "# 17. Write a program to read lines from a text and write those lines in a file that does not contain 'a' character"
   ]
  },
  {
   "cell_type": "code",
   "execution_count": 74,
   "metadata": {},
   "outputs": [],
   "source": [
    "f = open('file.txt','r')\n",
    "f1 = open('filenota.txt','w')\n",
    "while True:\n",
    "    line = f.readline()\n",
    "    if line =='':\n",
    "        break\n",
    "    else:\n",
    "        if 'a' not in line:\n",
    "            f1.write(line)\n",
    "f1.close()\n",
    "f.close()"
   ]
  },
  {
   "cell_type": "markdown",
   "metadata": {},
   "source": [
    "# 18. Write a Python program to read an entire text file."
   ]
  },
  {
   "cell_type": "code",
   "execution_count": 75,
   "metadata": {},
   "outputs": [
    {
     "name": "stdout",
     "output_type": "stream",
     "text": [
      "sportswink.com\n",
      "sportywink.com\n",
      "meeruthub.com\n",
      "\n",
      "Series is essentially a column, and a DataFrame is a multi-dimensional table made up of a collection of Series.\n",
      "\n",
      "\n",
      "\n",
      "3E/13-B, Street No.2, PHASE -1 ,MOHKAMPUR\n",
      "BEHIND VENUS GARDEN ,DELHI ROAD ,\n",
      "MEERUT (UP) PIN CODE -250103\n",
      "\n",
      "pythondomain.com\n",
      "\n",
      "Here are the list you have to do\n",
      "\n",
      "Go for a short walk\n",
      "Drink water\n",
      "Sit with your family\n",
      "Water your garden\n",
      "Do some situps or a little stretching\n",
      "Set a timer of 5 min and close your eye while sitting on the chair\n",
      "Read a paragraph of any inspiring book\n",
      "\n",
      "\n",
      "9412405438 Akshay Tax supre\n",
      "khem chandra ji \n",
      "\n",
      "\n",
      "A-52, Main Road\n",
      "Johripur Delhi-110094\n",
      "\n",
      "\n",
      "\n"
     ]
    }
   ],
   "source": [
    "f = open('file.txt','r')\n",
    "data = f.read()\n",
    "print(data)"
   ]
  },
  {
   "cell_type": "code",
   "execution_count": 77,
   "metadata": {},
   "outputs": [
    {
     "name": "stdout",
     "output_type": "stream",
     "text": [
      "Enter file name with extension: sample.txt\n",
      "Print a String in Pattern Format In Python\n",
      "\n",
      "\n",
      "Reverse Number Of A 5 Digits Number In Python\n",
      "\n",
      "\n"
     ]
    }
   ],
   "source": [
    "file = input('Enter file name with extension: ')\n",
    "f = open(file,'r')\n",
    "data = f.read()\n",
    "print(data)"
   ]
  },
  {
   "cell_type": "code",
   "execution_count": 78,
   "metadata": {},
   "outputs": [
    {
     "name": "stdout",
     "output_type": "stream",
     "text": [
      "Enter file name with extension: file.txt\n",
      "sportswink.com\n",
      "sportywink.com\n",
      "meeruthub.com\n",
      "\n",
      "Series is essentially a column, and a DataFrame is a multi-dimensional table made up of a collection of Series.\n",
      "\n",
      "\n",
      "\n",
      "3E/13-B, Street No.2, PHASE -1 ,MOHKAMPUR\n",
      "BEHIND VENUS GARDEN ,DELHI ROAD ,\n",
      "MEERUT (UP) PIN CODE -250103\n",
      "\n",
      "pythondomain.com\n",
      "\n",
      "Here are the list you have to do\n",
      "\n",
      "Go for a short walk\n",
      "Drink water\n",
      "Sit with your family\n",
      "Water your garden\n",
      "Do some situps or a little stretching\n",
      "Set a timer of 5 min and close your eye while sitting on the chair\n",
      "Read a paragraph of any inspiring book\n",
      "\n",
      "\n",
      "9412405438 Akshay Tax supre\n",
      "khem chandra ji \n",
      "\n",
      "\n",
      "A-52, Main Road\n",
      "Johripur Delhi-110094\n",
      "\n",
      "\n",
      "\n"
     ]
    }
   ],
   "source": [
    "def readfile(file):\n",
    "    f = open(file,'r')\n",
    "    data = f.read()\n",
    "    print(data)\n",
    "    \n",
    "file = input('Enter file name with extension: ')\n",
    "readfile(file)"
   ]
  },
  {
   "cell_type": "code",
   "execution_count": null,
   "metadata": {},
   "outputs": [],
   "source": []
  },
  {
   "cell_type": "code",
   "execution_count": null,
   "metadata": {},
   "outputs": [],
   "source": []
  }
 ],
 "metadata": {
  "kernelspec": {
   "display_name": "Python 3",
   "language": "python",
   "name": "python3"
  },
  "language_info": {
   "codemirror_mode": {
    "name": "ipython",
    "version": 3
   },
   "file_extension": ".py",
   "mimetype": "text/x-python",
   "name": "python",
   "nbconvert_exporter": "python",
   "pygments_lexer": "ipython3",
   "version": "3.7.5"
  }
 },
 "nbformat": 4,
 "nbformat_minor": 2
}
