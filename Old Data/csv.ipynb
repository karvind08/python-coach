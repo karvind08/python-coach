{
 "cells": [
  {
   "cell_type": "code",
   "execution_count": 1,
   "metadata": {},
   "outputs": [],
   "source": [
    "import csv"
   ]
  },
  {
   "cell_type": "markdown",
   "metadata": {},
   "source": [
    "# Write data to csv file"
   ]
  },
  {
   "cell_type": "code",
   "execution_count": 2,
   "metadata": {},
   "outputs": [
    {
     "name": "stdout",
     "output_type": "stream",
     "text": [
      "Enter roll number: 1\n",
      "Enter Name: arvind\n",
      "Enter Marks: 99\n",
      "Do you want to add more records(y/n)? y\n",
      "Enter roll number: 2\n",
      "Enter Name: amit\n",
      "Enter Marks: 88\n",
      "Do you want to add more records(y/n)? y\n",
      "Enter roll number: 3\n",
      "Enter Name: kukku\n",
      "Enter Marks: 89\n",
      "Do you want to add more records(y/n)? y\n",
      "Enter roll number: 4\n",
      "Enter Name: sachin\n",
      "Enter Marks: 77\n",
      "Do you want to add more records(y/n)? n\n"
     ]
    }
   ],
   "source": [
    "def writecsv():\n",
    "    f = open('first.csv','w')\n",
    "    csv_writer = csv.writer(f)\n",
    "    L = ['Roll No','Name','Marks']\n",
    "    csv_writer.writerow(L)\n",
    "    rec = []\n",
    "    while True:\n",
    "        r = int(input('Enter roll number: '))\n",
    "        name = input('Enter Name: ')\n",
    "        marks = int(input('Enter Marks: '))\n",
    "        data = [r,name,marks]\n",
    "        rec.append(data)\n",
    "        ch = input('Do you want to add more records(y/n)? ')\n",
    "        if ch =='n':\n",
    "            break\n",
    "    for i in rec:\n",
    "        csv_writer.writerow(i)\n",
    "    f.close()\n",
    "writecsv()"
   ]
  },
  {
   "cell_type": "markdown",
   "metadata": {},
   "source": [
    "# Read data from csv file"
   ]
  },
  {
   "cell_type": "code",
   "execution_count": 3,
   "metadata": {},
   "outputs": [
    {
     "name": "stdout",
     "output_type": "stream",
     "text": [
      "['Roll No', 'Name', 'Marks']\n",
      "[]\n",
      "['1', 'arvind', '99']\n",
      "[]\n",
      "['2', 'amit', '88']\n",
      "[]\n",
      "['3', 'kukku', '89']\n",
      "[]\n",
      "['4', 'sachin', '77']\n",
      "[]\n"
     ]
    }
   ],
   "source": [
    "def readcsv():\n",
    "    f = open('first.csv','r')\n",
    "    csv_reader = csv.reader(f)\n",
    "    for i in csv_reader:\n",
    "        print(i)\n",
    "    f.close()\n",
    "readcsv()"
   ]
  },
  {
   "cell_type": "code",
   "execution_count": 4,
   "metadata": {},
   "outputs": [
    {
     "name": "stdout",
     "output_type": "stream",
     "text": [
      "Enter roll number: 1\n",
      "Enter Name: amit\n",
      "Enter Marks: 99\n",
      "Do you want to add more records(y/n)? y\n",
      "Enter roll number: 2\n",
      "Enter Name: arvind\n",
      "Enter Marks: 98\n",
      "Do you want to add more records(y/n)? y\n",
      "Enter roll number: 3\n",
      "Enter Name: kukku\n",
      "Enter Marks: 78\n",
      "Do you want to add more records(y/n)? y\n",
      "Enter roll number: 4\n",
      "Enter Name: sachin\n",
      "Enter Marks: 88\n",
      "Do you want to add more records(y/n)? n\n"
     ]
    }
   ],
   "source": [
    "def writecsv2():\n",
    "    f = open('second.csv','w',newline='')\n",
    "    csv_writer = csv.writer(f)\n",
    "    L = ['Roll No','Name','Marks']\n",
    "    csv_writer.writerow(L)\n",
    "    rec = []\n",
    "    while True:\n",
    "        r = int(input('Enter roll number: '))\n",
    "        name = input('Enter Name: ')\n",
    "        marks = int(input('Enter Marks: '))\n",
    "        data = [r,name,marks]\n",
    "        rec.append(data)\n",
    "        ch = input('Do you want to add more records(y/n)? ')\n",
    "        if ch =='n':\n",
    "            break\n",
    "    for i in rec:\n",
    "        csv_writer.writerow(i)\n",
    "    f.close()\n",
    "writecsv2()"
   ]
  },
  {
   "cell_type": "code",
   "execution_count": 5,
   "metadata": {},
   "outputs": [
    {
     "name": "stdout",
     "output_type": "stream",
     "text": [
      "['Roll No', 'Name', 'Marks']\n",
      "['1', 'amit', '99']\n",
      "['2', 'arvind', '98']\n",
      "['3', 'kukku', '78']\n",
      "['4', 'sachin', '88']\n"
     ]
    }
   ],
   "source": [
    "def readcsv2():\n",
    "    f = open('second.csv','r')\n",
    "    csv_reader = csv.reader(f)\n",
    "    for i in csv_reader:\n",
    "        print(i)\n",
    "    f.close()\n",
    "readcsv2()"
   ]
  },
  {
   "cell_type": "markdown",
   "metadata": {},
   "source": [
    "# use of next "
   ]
  },
  {
   "cell_type": "markdown",
   "metadata": {},
   "source": [
    "# Write a Python program that reads each row of a given csv file and skip the header of the file. "
   ]
  },
  {
   "cell_type": "code",
   "execution_count": 6,
   "metadata": {},
   "outputs": [
    {
     "name": "stdout",
     "output_type": "stream",
     "text": [
      "['1', 'amit', '99']\n",
      "['2', 'arvind', '98']\n",
      "['3', 'kukku', '78']\n",
      "['4', 'sachin', '88']\n"
     ]
    }
   ],
   "source": [
    "def readcsv2():\n",
    "    f = open('second.csv','r')\n",
    "    csv_reader = csv.reader(f)\n",
    "    next(csv_reader)\n",
    "    for i in csv_reader:\n",
    "        print(i)\n",
    "    f.close()\n",
    "readcsv2()"
   ]
  },
  {
   "cell_type": "markdown",
   "metadata": {},
   "source": [
    "# Write a Python program to read a given CSV file as a list."
   ]
  },
  {
   "cell_type": "code",
   "execution_count": 7,
   "metadata": {},
   "outputs": [
    {
     "name": "stdout",
     "output_type": "stream",
     "text": [
      "[['Roll No', 'Name', 'Marks'], ['1', 'amit', '99'], ['2', 'arvind', '98'], ['3', 'kukku', '78'], ['4', 'sachin', '88']]\n"
     ]
    }
   ],
   "source": [
    "def csvaslist():\n",
    "    f = open('second.csv','r')\n",
    "    csv_reader = csv.reader(f)\n",
    "    l = list(csv_reader)\n",
    "    print(l)\n",
    "    f.close()\n",
    "csvaslist()"
   ]
  },
  {
   "cell_type": "markdown",
   "metadata": {},
   "source": [
    "# Write a Python program to read each row from a given csv file and print a list of strings."
   ]
  },
  {
   "cell_type": "code",
   "execution_count": 10,
   "metadata": {},
   "outputs": [
    {
     "name": "stdout",
     "output_type": "stream",
     "text": [
      "Roll No Name Marks\n",
      "1 amit 99\n",
      "2 arvind 98\n",
      "3 kukku 78\n",
      "4 sachin 88\n"
     ]
    }
   ],
   "source": [
    "def csvstring():\n",
    "    f = open('second.csv','r')\n",
    "    csv_reader = csv.reader(f)\n",
    "    for i in csv_reader:\n",
    "        s = ' '.join(i)\n",
    "        print(s)\n",
    "    f.close()\n",
    "csvstring()"
   ]
  },
  {
   "cell_type": "markdown",
   "metadata": {},
   "source": [
    "# Write a Python program to read a given CSV file having tab delimiter."
   ]
  },
  {
   "cell_type": "code",
   "execution_count": 11,
   "metadata": {},
   "outputs": [
    {
     "name": "stdout",
     "output_type": "stream",
     "text": [
      "['Roll No,Name,Marks']\n",
      "['1,amit,99']\n",
      "['2,arvind,98']\n",
      "['3,kukku,78']\n",
      "['4,sachin,88']\n"
     ]
    }
   ],
   "source": [
    "def csvtab():\n",
    "    f = open('second.csv','r')\n",
    "    csv_reader = csv.reader(f,delimiter='\\t')\n",
    "    for i in csv_reader:\n",
    "        print(i)\n",
    "    f.close()\n",
    "csvtab()"
   ]
  },
  {
   "cell_type": "markdown",
   "metadata": {},
   "source": [
    "# Write a Python program to read a given CSV file as a dictionary"
   ]
  },
  {
   "cell_type": "code",
   "execution_count": 20,
   "metadata": {},
   "outputs": [
    {
     "name": "stdout",
     "output_type": "stream",
     "text": [
      "OrderedDict([('Roll No', '1'), ('Name', 'amit'), ('Marks', '99')])\n",
      "OrderedDict([('Roll No', '2'), ('Name', 'arvind'), ('Marks', '98')])\n",
      "OrderedDict([('Roll No', '3'), ('Name', 'kukku'), ('Marks', '78')])\n",
      "OrderedDict([('Roll No', '4'), ('Name', 'sachin'), ('Marks', '88')])\n"
     ]
    }
   ],
   "source": [
    "def csvdict():\n",
    "    f = open('second.csv','r')\n",
    "    csv_reader = csv.DictReader(f)\n",
    "    for i in csv_reader:\n",
    "        print(i)\n",
    "    f.close()\n",
    "csvdict()"
   ]
  },
  {
   "cell_type": "markdown",
   "metadata": {},
   "source": [
    "# Write a Python program that reads each row of a given csv file and skip the header of the file. Also print the number of rows and the field names."
   ]
  },
  {
   "cell_type": "code",
   "execution_count": 52,
   "metadata": {},
   "outputs": [
    {
     "name": "stdout",
     "output_type": "stream",
     "text": [
      "1 amit 99\n",
      "2 arvind 98\n",
      "3 kukku 78\n",
      "4 sachin 88\n",
      "\n",
      "Total no. of rows 5\n",
      "Field names are: ['Roll No', 'Name', 'Marks']\n",
      "Field names are:\n",
      "Roll No\n",
      "Name\n",
      "Marks\n"
     ]
    }
   ],
   "source": [
    "def csvfield():\n",
    "    fields = []\n",
    "    f = open('second.csv','r')\n",
    "    csv_reader = csv.reader(f)\n",
    "    # Following command skips the first row of the CSV file.\n",
    "    fields = next(csv_reader)\n",
    "    for i in csv_reader:\n",
    "        print(' '.join(i))\n",
    "        \n",
    "    print(\"\\nTotal no. of rows\",csv_reader.line_num)\n",
    "    print('Field names are:',fields)\n",
    "    print('Field names are:')\n",
    "    for i in fields:\n",
    "        print(i)\n",
    "csvfield()"
   ]
  },
  {
   "cell_type": "markdown",
   "metadata": {},
   "source": [
    "# Write a Python program to write a Python dictionary to a csv file. After writing the CSV file read the CSV file and display the content."
   ]
  },
  {
   "cell_type": "code",
   "execution_count": 77,
   "metadata": {},
   "outputs": [
    {
     "name": "stdout",
     "output_type": "stream",
     "text": [
      "Enter first name: arvind\n",
      "Enter last name: kumar\n",
      "enter age: 35\n",
      "add more?y\n",
      "Enter first name: amit\n",
      "Enter last name: kumar\n",
      "enter age: 46\n",
      "add more?n\n"
     ]
    }
   ],
   "source": [
    "def writeinfo():\n",
    "    f = open('info.csv','w',newline='')\n",
    "    csv_writer = csv.DictWriter(f,fieldnames=['Firstname','Lastname','age'])\n",
    "    csv_writer.writeheader()\n",
    "    d = {}\n",
    "    while True:\n",
    "        first = input('Enter first name: ')\n",
    "        last = input('Enter last name: ')\n",
    "        age = int(input('enter age: '))\n",
    "        d['Firstname'] = first\n",
    "        d['Lastname'] = last\n",
    "        d['age'] = age\n",
    "        csv_writer.writerow(d)\n",
    "        ch = input('add more?')\n",
    "        if ch == 'n':\n",
    "            break\n",
    "    f.close()\n",
    "writeinfo()"
   ]
  },
  {
   "cell_type": "code",
   "execution_count": 78,
   "metadata": {},
   "outputs": [
    {
     "name": "stdout",
     "output_type": "stream",
     "text": [
      "OrderedDict([('Firstname', 'arvind'), ('Lastname', 'kumar'), ('age', '35')])\n",
      "OrderedDict([('Firstname', 'amit'), ('Lastname', 'kumar'), ('age', '46')])\n"
     ]
    }
   ],
   "source": [
    "def csvdict():\n",
    "    f = open('info.csv','r')\n",
    "    csv_reader = csv.DictReader(f)\n",
    "    for i in csv_reader:\n",
    "        print(i)\n",
    "    f.close()\n",
    "csvdict()"
   ]
  },
  {
   "cell_type": "code",
   "execution_count": 81,
   "metadata": {},
   "outputs": [
    {
     "name": "stdout",
     "output_type": "stream",
     "text": [
      "['Firstname', 'Lastname', 'age']\n",
      "['arvind', 'kumar', '35']\n",
      "['amit', 'kumar', '46']\n"
     ]
    }
   ],
   "source": [
    "def csvdict():\n",
    "    f = open('info.csv','r')\n",
    "    csv_reader = csv.reader(f)\n",
    "    for i in csv_reader:\n",
    "        print(i)\n",
    "    f.close()\n",
    "csvdict()"
   ]
  }
 ],
 "metadata": {
  "kernelspec": {
   "display_name": "Python 3",
   "language": "python",
   "name": "python3"
  },
  "language_info": {
   "codemirror_mode": {
    "name": "ipython",
    "version": 3
   },
   "file_extension": ".py",
   "mimetype": "text/x-python",
   "name": "python",
   "nbconvert_exporter": "python",
   "pygments_lexer": "ipython3",
   "version": "3.7.5"
  }
 },
 "nbformat": 4,
 "nbformat_minor": 2
}
