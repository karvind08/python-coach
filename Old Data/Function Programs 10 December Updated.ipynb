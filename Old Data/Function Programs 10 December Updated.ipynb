{
 "cells": [
  {
   "cell_type": "markdown",
   "metadata": {},
   "source": [
    "# 1. Write a Python function to find the Max of three numbers."
   ]
  },
  {
   "cell_type": "code",
   "execution_count": 64,
   "metadata": {},
   "outputs": [
    {
     "name": "stdout",
     "output_type": "stream",
     "text": [
      "Enter First number: 10\n",
      "Enter Second number: 10\n",
      "Enter Third number: 10\n",
      "The maximum number is:  10\n"
     ]
    }
   ],
   "source": [
    "def maxi(a, b, c):\n",
    "    if (a >= b) and (a >= c):\n",
    "        largest = a\n",
    "    elif (b >= a) and (b >= c): \n",
    "         largest = b \n",
    "    else:\n",
    "        largest = c \n",
    "    \n",
    "    return largest \n",
    "\n",
    "a = int(input('Enter First number: '))\n",
    "b = int(input('Enter Second number: '))\n",
    "c = int(input('Enter Third number: '))\n",
    "r= maxi(a, b, c)\n",
    "print('The maximum number is: ',r) \n"
   ]
  },
  {
   "cell_type": "markdown",
   "metadata": {},
   "source": [
    "# 2. Write a program to find out the area of circle."
   ]
  },
  {
   "cell_type": "code",
   "execution_count": 18,
   "metadata": {},
   "outputs": [
    {
     "name": "stdout",
     "output_type": "stream",
     "text": [
      "Enter the radius: 2\n",
      "The area is 12.566370614359172\n"
     ]
    }
   ],
   "source": [
    "import math\n",
    "def area(r):\n",
    "    a = math.pi*r**2\n",
    "    return a\n",
    "\n",
    "r = int(input('Enter the radius: '))\n",
    "ar=area(r)\n",
    "print('The area is',ar)"
   ]
  },
  {
   "cell_type": "markdown",
   "metadata": {},
   "source": [
    "# 3. Write a program to find out the sum of two numbers."
   ]
  },
  {
   "cell_type": "code",
   "execution_count": 6,
   "metadata": {},
   "outputs": [
    {
     "name": "stdout",
     "output_type": "stream",
     "text": [
      "Enter the first number: 53\n",
      "Enter the second number: 56\n"
     ]
    },
    {
     "data": {
      "text/plain": [
       "109"
      ]
     },
     "execution_count": 6,
     "metadata": {},
     "output_type": "execute_result"
    }
   ],
   "source": [
    "def sum(a,b):\n",
    "    '''Addition os two numbers:'''\n",
    "    sum = a+b\n",
    "    return(sum)\n",
    "\n",
    "x = int(input('Enter the first number: '))\n",
    "y = int(input('Enter the second number: '))\n",
    "sum(x,y)"
   ]
  },
  {
   "cell_type": "markdown",
   "metadata": {},
   "source": [
    "# 4. Write a program to find out the sum of elements from a list."
   ]
  },
  {
   "cell_type": "code",
   "execution_count": 66,
   "metadata": {},
   "outputs": [
    {
     "name": "stdout",
     "output_type": "stream",
     "text": [
      "Enter the number:3\n",
      "Enter element: 1\n",
      "Enter element: 2\n",
      "Enter element: 3\n",
      "[1, 2, 3]\n"
     ]
    },
    {
     "data": {
      "text/plain": [
       "6"
      ]
     },
     "execution_count": 66,
     "metadata": {},
     "output_type": "execute_result"
    }
   ],
   "source": [
    "def sum(n):\n",
    "    '''Addition of list elements:'''\n",
    "    total = 0\n",
    "    for i in n:\n",
    "        total+=i\n",
    "    return(total)\n",
    "\n",
    "x= []\n",
    "n = int(input('Enter the number:'))\n",
    "for i in range(n):\n",
    "    e=int(input('Enter element: '))\n",
    "    x.append(e)\n",
    "print(x)\n",
    "sum(x)"
   ]
  },
  {
   "cell_type": "markdown",
   "metadata": {},
   "source": [
    "# 5. Write a program to find out the multiplication of elements from a list."
   ]
  },
  {
   "cell_type": "code",
   "execution_count": 19,
   "metadata": {},
   "outputs": [
    {
     "name": "stdout",
     "output_type": "stream",
     "text": [
      "Enter the number:3\n",
      "Enter element: 1\n",
      "Enter element: 2\n",
      "Enter element: 3\n",
      "[1, 2, 3]\n",
      "The multiplication of list elements are:  6\n"
     ]
    }
   ],
   "source": [
    "def multiply(n):\n",
    "    '''Multiplication of list elements:'''\n",
    "    res = 1\n",
    "    for i in n:\n",
    "        res*=i\n",
    "    return(res)\n",
    "\n",
    "x= []\n",
    "n = int(input('Enter the number:'))\n",
    "for i in range(n):\n",
    "    e=int(input('Enter element: '))\n",
    "    x.append(e)\n",
    "print(x)\n",
    "m = sum(x)\n",
    "print('The multiplication of list elements are: ',m)"
   ]
  },
  {
   "cell_type": "markdown",
   "metadata": {},
   "source": [
    "# 6. Write a program to find out the factorial of a given number."
   ]
  },
  {
   "cell_type": "code",
   "execution_count": 73,
   "metadata": {},
   "outputs": [
    {
     "name": "stdout",
     "output_type": "stream",
     "text": [
      "Enter the number  : 12\n",
      "The factorial is 479001600\n"
     ]
    }
   ],
   "source": [
    "def fact(n):\n",
    "    f=1\n",
    "    for i in range(1,n+1):\n",
    "        f=f*i\n",
    "    return f\n",
    "    \n",
    "n=int(input(\"Enter the number  : \"))\n",
    "res = fact(n)\n",
    "print('The factorial is',res)\n"
   ]
  },
  {
   "cell_type": "markdown",
   "metadata": {},
   "source": [
    "# 7. Write a program to find out the factorial of a given number using recursion."
   ]
  },
  {
   "cell_type": "code",
   "execution_count": 84,
   "metadata": {},
   "outputs": [
    {
     "name": "stdout",
     "output_type": "stream",
     "text": [
      "Enter the number : 1\n",
      "The factorial is 1\n"
     ]
    }
   ],
   "source": [
    "def fact(n):\n",
    "    if n == 0:\n",
    "        return 0\n",
    "    elif n==1:\n",
    "        return 1\n",
    "    else:\n",
    "        return n * fact(n-1)\n",
    "    \n",
    "n=int(input(\"Enter the number : \"))\n",
    "res = fact(n)\n",
    "print('The factorial is',res)\n"
   ]
  },
  {
   "cell_type": "markdown",
   "metadata": {},
   "source": [
    "# 8. Write a Program to check whether a number is in a given range."
   ]
  },
  {
   "cell_type": "code",
   "execution_count": 30,
   "metadata": {},
   "outputs": [
    {
     "name": "stdout",
     "output_type": "stream",
     "text": [
      "The number is outside the given range.\n"
     ]
    }
   ],
   "source": [
    "def test_range(n):\n",
    "    if n in range(3,9):\n",
    "        print( n, \"is in the range\")\n",
    "    else :\n",
    "        print(\"The number is outside the given range.\")\n",
    "        \n",
    "test_range(10)"
   ]
  },
  {
   "cell_type": "markdown",
   "metadata": {},
   "source": [
    "# 9. Write a function that accepts a string and calculate the number of upper case letters and lower case letters."
   ]
  },
  {
   "cell_type": "code",
   "execution_count": 32,
   "metadata": {},
   "outputs": [
    {
     "name": "stdout",
     "output_type": "stream",
     "text": [
      "Enter the string: arvind kumar jaja\n",
      "0 17\n"
     ]
    }
   ],
   "source": [
    "def countletter(s):\n",
    "    u = 0\n",
    "    l = 0\n",
    "    for i in s:\n",
    "        if i.isupper():\n",
    "            u+=1\n",
    "        else:\n",
    "            l+=1\n",
    "    print(u,l)\n",
    "\n",
    "s = input('Enter the string: ')\n",
    "countletter(s)"
   ]
  },
  {
   "cell_type": "markdown",
   "metadata": {},
   "source": [
    "# 10. Write a function that takes a list and returns a new list with unique elements of the first list."
   ]
  },
  {
   "cell_type": "code",
   "execution_count": 40,
   "metadata": {},
   "outputs": [
    {
     "name": "stdout",
     "output_type": "stream",
     "text": [
      "Enter the number of elements in the list: 3\n",
      "Enter element: 1\n",
      "Enter element: 2\n",
      "Enter element: 2\n",
      "[1, 2, 2]\n",
      "[1, 2]\n"
     ]
    }
   ],
   "source": [
    "def unique_list(l):\n",
    "    x = []\n",
    "    for i in l:\n",
    "        if i not in x:\n",
    "            x.append(i)\n",
    "    return x\n",
    "\n",
    "x= []\n",
    "n = int(input('Enter the number of elements in the list: '))\n",
    "for i in range(n):\n",
    "    e=int(input('Enter element: '))\n",
    "    x.append(e)\n",
    "print(x)\n",
    "res = unique_list(x)\n",
    "print(res)"
   ]
  },
  {
   "cell_type": "markdown",
   "metadata": {},
   "source": [
    "# 11. Write a Python function that takes a list and returns a new list with even elements in the list."
   ]
  },
  {
   "cell_type": "code",
   "execution_count": 41,
   "metadata": {},
   "outputs": [
    {
     "name": "stdout",
     "output_type": "stream",
     "text": [
      "Enter the number of elements in the list: 4\n",
      "Enter element: 2\n",
      "Enter element: 5\n",
      "Enter element: 6\n",
      "Enter element: 8\n",
      "[2, 5, 6, 8]\n",
      "[2, 6, 8]\n"
     ]
    }
   ],
   "source": [
    "def counteven(l):\n",
    "    x = []\n",
    "    for i in l:\n",
    "        if i%2==0:\n",
    "            x.append(i)\n",
    "    return x\n",
    "\n",
    "x= []\n",
    "n = int(input('Enter the number of elements in the list: '))\n",
    "for i in range(n):\n",
    "    e=int(input('Enter element: '))\n",
    "    x.append(e)\n",
    "print(x)\n",
    "res = counteven(x)\n",
    "print(res)"
   ]
  },
  {
   "cell_type": "markdown",
   "metadata": {},
   "source": [
    "# 12. Write a Python function to check whether a number is perfect or not. "
   ]
  },
  {
   "cell_type": "markdown",
   "metadata": {},
   "source": [
    "# In number theory, a perfect number is a positive integer that is equal to the sum of its proper positive divisors, excluding the number itself (also known as its aliquot sum). Example : The first perfect number is 6, because 1, 2, and 3 are its proper positive divisors, and 1 + 2 + 3 = 6. Equivalently, the number 6 is equal to half the sum of all its positive divisors: ( 1 + 2 + 3 + 6 ) / 2 = 6. The next perfect number is 28 = 1 + 2 + 4 + 7 + 14. This is followed by the perfect numbers 496 and 8128."
   ]
  },
  {
   "cell_type": "code",
   "execution_count": 75,
   "metadata": {},
   "outputs": [
    {
     "name": "stdout",
     "output_type": "stream",
     "text": [
      "Enter the number: 6\n",
      "6 is a perfect number\n"
     ]
    }
   ],
   "source": [
    "def perfect_number(n):\n",
    "    sum = 0\n",
    "    for i in range(1, n):\n",
    "        if n % i == 0:\n",
    "            sum += i\n",
    "    return sum == n\n",
    "\n",
    "n = int(input('Enter the number: '))\n",
    "res = perfect_number(n)\n",
    "if res==True:\n",
    "    print(n,'is a perfect number')\n",
    "else:\n",
    "    print(n,'is not a perfect number')\n"
   ]
  },
  {
   "cell_type": "markdown",
   "metadata": {},
   "source": [
    "# 13. Write a Python function to create and print a list where the values are square of numbers between 1 and 20 (both included)."
   ]
  },
  {
   "cell_type": "code",
   "execution_count": 50,
   "metadata": {},
   "outputs": [
    {
     "name": "stdout",
     "output_type": "stream",
     "text": [
      "[1, 4, 9, 16, 25, 36, 49, 64, 81, 100, 121, 144, 169, 196, 225, 256, 289, 324, 361, 400]\n"
     ]
    }
   ],
   "source": [
    "def printValues():\n",
    "    l = list()\n",
    "    for i in range(1,21):\n",
    "        l.append(i**2)\n",
    "    print(l)\n",
    "\n",
    "printValues()\n"
   ]
  },
  {
   "cell_type": "markdown",
   "metadata": {},
   "source": [
    "# 7. Write a program to find out the sum of first n natural numbers using recursion."
   ]
  },
  {
   "cell_type": "code",
   "execution_count": 81,
   "metadata": {},
   "outputs": [
    {
     "name": "stdout",
     "output_type": "stream",
     "text": [
      "Enter the number : 54\n",
      "The factorial is 1485\n"
     ]
    }
   ],
   "source": [
    "def nsum(n):\n",
    "    if n == 1:\n",
    "        return 1\n",
    "    else:\n",
    "        return n + nsum(n-1)\n",
    "    \n",
    "n=int(input(\"Enter the number : \"))\n",
    "res = nsum(n)\n",
    "print('The factorial is',res)"
   ]
  },
  {
   "cell_type": "markdown",
   "metadata": {},
   "source": [
    "#  14. Write a Python function that takes a number as a parameter and check the number is prime or not."
   ]
  },
  {
   "cell_type": "code",
   "execution_count": 94,
   "metadata": {},
   "outputs": [
    {
     "name": "stdout",
     "output_type": "stream",
     "text": [
      "Prime\n"
     ]
    }
   ],
   "source": [
    "def prime(n):\n",
    "    c= 0\n",
    "    for i in range(1,n+1):\n",
    "        if n%i==0:\n",
    "            c+=1\n",
    "    if c==2:\n",
    "        print('Prime')\n",
    "    else:\n",
    "        print('Not Prime')\n",
    "    \n",
    "prime(11)"
   ]
  },
  {
   "cell_type": "code",
   "execution_count": 13,
   "metadata": {},
   "outputs": [
    {
     "name": "stdout",
     "output_type": "stream",
     "text": [
      "Arvind\n",
      "{'roll': 1, 'sec': 'A', 'email': 'karvind08@gmail.com'}\n"
     ]
    }
   ],
   "source": [
    "def student(name,**data):\n",
    "    print(name)\n",
    "    print(data)\n",
    "    \n",
    "#student('Arvind',10,20,30,40)\n",
    "student('Arvind',roll=1,sec='A',email='karvind08@gmail.com')\n"
   ]
  },
  {
   "cell_type": "code",
   "execution_count": 14,
   "metadata": {},
   "outputs": [
    {
     "name": "stdout",
     "output_type": "stream",
     "text": [
      "Arvind\n",
      "roll 1\n",
      "sec A\n",
      "email karvind08@gmail.com\n"
     ]
    }
   ],
   "source": [
    "def student(name,**data):\n",
    "    print(name)\n",
    "    for i,j in data.items():\n",
    "        print(i,j)\n",
    "    \n",
    "#student('Arvind',10,20,30,40)\n",
    "student('Arvind',roll=1,sec='A',email='karvind08@gmail.com')\n"
   ]
  },
  {
   "cell_type": "code",
   "execution_count": 18,
   "metadata": {},
   "outputs": [
    {
     "name": "stdout",
     "output_type": "stream",
     "text": [
      "[10, 20, 30, 40]\n"
     ]
    }
   ],
   "source": [
    "def student(*data):\n",
    "    for i in data:\n",
    "        print(i)\n",
    "    \n",
    "list1 = [10,20,30,40,]\n",
    "student(list1)"
   ]
  },
  {
   "cell_type": "code",
   "execution_count": 19,
   "metadata": {},
   "outputs": [
    {
     "name": "stdout",
     "output_type": "stream",
     "text": [
      "60\n"
     ]
    }
   ],
   "source": [
    "def add(*n):\n",
    "    add = n[0]+n[1]+n[2]\n",
    "    print(add)\n",
    "\n",
    "add(10,20,30)"
   ]
  },
  {
   "cell_type": "code",
   "execution_count": 22,
   "metadata": {},
   "outputs": [
    {
     "name": "stdout",
     "output_type": "stream",
     "text": [
      "60\n"
     ]
    }
   ],
   "source": [
    "def add(x,*n):\n",
    "    add = x+n[0]+n[1]\n",
    "    print(add)\n",
    "\n",
    "add(10,20,30)"
   ]
  },
  {
   "cell_type": "code",
   "execution_count": 23,
   "metadata": {},
   "outputs": [
    {
     "name": "stdout",
     "output_type": "stream",
     "text": [
      "10\n",
      "20\n",
      "30\n"
     ]
    }
   ],
   "source": [
    "def add(*n):\n",
    "    for i in n:\n",
    "        print(i)\n",
    "\n",
    "add(10,20,30)"
   ]
  },
  {
   "cell_type": "code",
   "execution_count": 25,
   "metadata": {},
   "outputs": [
    {
     "name": "stdout",
     "output_type": "stream",
     "text": [
      "40.0\n"
     ]
    }
   ],
   "source": [
    "def average(a,b,c):\n",
    "    avg = a+b+c/3\n",
    "    print(avg)\n",
    "\n",
    "average(10,20,30)"
   ]
  },
  {
   "cell_type": "code",
   "execution_count": 53,
   "metadata": {},
   "outputs": [
    {
     "name": "stdout",
     "output_type": "stream",
     "text": [
      "60\n"
     ]
    }
   ],
   "source": [
    "def add(*n):\n",
    "    s= 0\n",
    "    for i in n:\n",
    "        s= s+ i\n",
    "    print(s)\n",
    "\n",
    "add(10,20,30)"
   ]
  },
  {
   "cell_type": "code",
   "execution_count": 57,
   "metadata": {},
   "outputs": [
    {
     "name": "stdout",
     "output_type": "stream",
     "text": [
      "150\n"
     ]
    }
   ],
   "source": [
    "def add(a,*n):\n",
    "    s= 0\n",
    "    for i in n:\n",
    "        s= s+i\n",
    "    print(s+a)\n",
    "\n",
    "add(10,20,30,40,50)"
   ]
  },
  {
   "cell_type": "code",
   "execution_count": 58,
   "metadata": {},
   "outputs": [
    {
     "name": "stdout",
     "output_type": "stream",
     "text": [
      "10\n"
     ]
    }
   ],
   "source": [
    "def add(a,*n):\n",
    "    s= 0\n",
    "    for i in n:\n",
    "        s= s+i\n",
    "    print(s+a)\n",
    "\n",
    "add(10)"
   ]
  },
  {
   "cell_type": "code",
   "execution_count": 96,
   "metadata": {},
   "outputs": [
    {
     "name": "stdout",
     "output_type": "stream",
     "text": [
      "Arvind\n",
      "****************\n",
      "Kumar\n",
      "****************\n",
      "Actolaze\n",
      "****************\n"
     ]
    }
   ],
   "source": [
    "print('''Arvind\n",
    "****************\n",
    "Kumar\n",
    "****************\n",
    "Actolaze\n",
    "****************''')"
   ]
  },
  {
   "cell_type": "code",
   "execution_count": 98,
   "metadata": {},
   "outputs": [
    {
     "name": "stdout",
     "output_type": "stream",
     "text": [
      "Arvind\n",
      "********************\n",
      "Arvind\n",
      "********************\n",
      "Arvind\n",
      "********************\n"
     ]
    }
   ],
   "source": [
    "print('Arvind')\n",
    "for i in range(20):\n",
    "    print('*',end='')\n",
    "print()\n",
    "print('Arvind')\n",
    "for i in range(20):\n",
    "    print('*',end='')\n",
    "print()\n",
    "print('Arvind')\n",
    "for i in range(20):\n",
    "    print('*',end='')\n",
    "print()"
   ]
  },
  {
   "cell_type": "code",
   "execution_count": 101,
   "metadata": {},
   "outputs": [
    {
     "name": "stdout",
     "output_type": "stream",
     "text": [
      "********************\n",
      "Arvind\n",
      "********************\n",
      "Kumar\n",
      "********************\n",
      "Actolaze\n",
      "********************\n"
     ]
    }
   ],
   "source": [
    "def line():\n",
    "    for i in range(20):\n",
    "        print('*',end='')\n",
    "    print()\n",
    "\n",
    "line()\n",
    "print('Arvind')\n",
    "line()\n",
    "print('Kumar')\n",
    "line()\n",
    "print('Actolaze')\n",
    "line()"
   ]
  },
  {
   "cell_type": "code",
   "execution_count": 2,
   "metadata": {},
   "outputs": [
    {
     "name": "stdout",
     "output_type": "stream",
     "text": [
      "Enter the number:3\n",
      "The sum of first 3 natural numbers is 6\n"
     ]
    }
   ],
   "source": [
    "def natural(n):\n",
    "    f = 0\n",
    "    for i in range(1,n+1):\n",
    "        f=f+i\n",
    "    return f\n",
    "num = int(input('Enter the number:'))\n",
    "s=natural(num)\n",
    "print('The sum of first',num,'natural numbers is',s)"
   ]
  },
  {
   "cell_type": "code",
   "execution_count": 12,
   "metadata": {},
   "outputs": [
    {
     "name": "stdout",
     "output_type": "stream",
     "text": [
      "Enter the number:51\n",
      "Not Prime\n"
     ]
    }
   ],
   "source": [
    "def prime(n):\n",
    "    count=0\n",
    "    for i in range(1,n+1):\n",
    "        if n%i==0:\n",
    "            count+=1\n",
    "    if count==2:\n",
    "        print('Prime')\n",
    "    else:\n",
    "        print('Not Prime')\n",
    "        \n",
    "num = int(input('Enter the number:'))        \n",
    "prime(num)"
   ]
  },
  {
   "cell_type": "code",
   "execution_count": 14,
   "metadata": {},
   "outputs": [
    {
     "name": "stdout",
     "output_type": "stream",
     "text": [
      "Enter the number:36\n",
      "36 is not in range\n"
     ]
    }
   ],
   "source": [
    "def check_range(n):\n",
    "    if n in range(1,20):\n",
    "        print(n,'is in range')\n",
    "    else:\n",
    "        print(n,'is not in range')\n",
    "        \n",
    "num = int(input('Enter the number:'))\n",
    "check_range(num)"
   ]
  },
  {
   "cell_type": "code",
   "execution_count": 17,
   "metadata": {},
   "outputs": [
    {
     "name": "stdout",
     "output_type": "stream",
     "text": [
      "15\n"
     ]
    }
   ],
   "source": [
    "def sum_of_list(n):\n",
    "    s=0\n",
    "    for i in n:\n",
    "        s=s+i\n",
    "    return s\n",
    "    \n",
    "l=[1,2,3,4,5]\n",
    "r=sum_of_list(l)\n",
    "print(r)"
   ]
  },
  {
   "cell_type": "code",
   "execution_count": 20,
   "metadata": {},
   "outputs": [
    {
     "name": "stdout",
     "output_type": "stream",
     "text": [
      "120\n"
     ]
    }
   ],
   "source": [
    "def mul_of_list(n):\n",
    "    s=1\n",
    "    for i in n:\n",
    "        s=s*i\n",
    "    return s\n",
    "    \n",
    "l=[1,2,3,4,5]\n",
    "r=mul_of_list(l)\n",
    "print(r)"
   ]
  },
  {
   "cell_type": "code",
   "execution_count": 31,
   "metadata": {},
   "outputs": [
    {
     "name": "stdout",
     "output_type": "stream",
     "text": [
      "Enter the number:1\n",
      "Not Perfect\n"
     ]
    }
   ],
   "source": [
    "def perfect(n):\n",
    "    s = 0\n",
    "    for i in range(1,n):\n",
    "        if n%i==0:\n",
    "            s=s+i\n",
    "    if s==n:\n",
    "        print('Perfect')\n",
    "    else:\n",
    "        print('Not Perfect')\n",
    "        \n",
    "num = int(input('Enter the number:'))        \n",
    "perfect(num)"
   ]
  },
  {
   "cell_type": "code",
   "execution_count": 32,
   "metadata": {},
   "outputs": [
    {
     "name": "stdout",
     "output_type": "stream",
     "text": [
      "[1, 4, 9, 16, 25, 36, 49, 64, 81, 100, 121, 144, 169, 196, 225, 256, 289, 324, 361, 400]\n"
     ]
    }
   ],
   "source": [
    "def printvalues():\n",
    "    l = []\n",
    "    for i in range(1,21):\n",
    "        l.append(i**2)\n",
    "    print(l)\n",
    "printvalues()"
   ]
  },
  {
   "cell_type": "code",
   "execution_count": 34,
   "metadata": {},
   "outputs": [
    {
     "name": "stdout",
     "output_type": "stream",
     "text": [
      "Enter the string: arvind\n",
      "The uppercase letters are 0\n",
      "The lowercase letters are 6\n"
     ]
    }
   ],
   "source": [
    "def calculate(s):\n",
    "    u=0\n",
    "    l=0\n",
    "    for i in s:\n",
    "        if i.isupper():\n",
    "            u+=1\n",
    "        else:\n",
    "            l+=1\n",
    "    print('The uppercase letters are',u)\n",
    "    print('The lowercase letters are',l)\n",
    "str= input('Enter the string: ')\n",
    "calculate(str)\n"
   ]
  },
  {
   "cell_type": "code",
   "execution_count": 35,
   "metadata": {},
   "outputs": [
    {
     "name": "stdout",
     "output_type": "stream",
     "text": [
      "[1, 2, 3, 4, 5, 6, 7, 8]\n"
     ]
    }
   ],
   "source": [
    "def unique(l):\n",
    "    x= []\n",
    "    for i in l:\n",
    "        if i not in x:\n",
    "            x.append(i)\n",
    "    print(x)\n",
    "\n",
    "li = [1,2,3,4,5,6,7,8,8,1,2,3,]\n",
    "unique(li)"
   ]
  },
  {
   "cell_type": "code",
   "execution_count": 38,
   "metadata": {},
   "outputs": [
    {
     "name": "stdout",
     "output_type": "stream",
     "text": [
      "[2, 4, 6, 8, 8, 2]\n"
     ]
    }
   ],
   "source": [
    "def even(l):\n",
    "    x= []\n",
    "    for i in l:\n",
    "        if i%2==0:\n",
    "            x.append(i)\n",
    "    print(x)\n",
    "\n",
    "li = [1,2,3,4,5,6,7,8,8,1,2,3,]\n",
    "even(li)"
   ]
  },
  {
   "cell_type": "code",
   "execution_count": 39,
   "metadata": {},
   "outputs": [
    {
     "data": {
      "text/plain": [
       "18"
      ]
     },
     "execution_count": 39,
     "metadata": {},
     "output_type": "execute_result"
    }
   ],
   "source": [
    "def sum_of_digit(n):\n",
    "    s=0\n",
    "    while n>0:\n",
    "        a=n%10\n",
    "        s=s+a\n",
    "        n=n//10\n",
    "    return s\n",
    "sum_of_digit(12546)"
   ]
  },
  {
   "cell_type": "code",
   "execution_count": 41,
   "metadata": {},
   "outputs": [
    {
     "data": {
      "text/plain": [
       "64521"
      ]
     },
     "execution_count": 41,
     "metadata": {},
     "output_type": "execute_result"
    }
   ],
   "source": [
    "def reverse_number(n):\n",
    "    rev=0\n",
    "    while n>0:\n",
    "        a=n%10\n",
    "        rev=rev*10+a\n",
    "        n=n//10\n",
    "    return rev\n",
    "reverse_number(12546)"
   ]
  },
  {
   "cell_type": "code",
   "execution_count": 45,
   "metadata": {},
   "outputs": [
    {
     "name": "stdout",
     "output_type": "stream",
     "text": [
      "Enter the number:8\n",
      "40320\n"
     ]
    }
   ],
   "source": [
    "def fact(n):\n",
    "    if n==0:\n",
    "        return 0\n",
    "    elif n==1:\n",
    "        return 1\n",
    "    else:\n",
    "        return n*fact(n-1)\n",
    "\n",
    "num = int(input('Enter the number:'))\n",
    "r = fact(num)\n",
    "print(r)"
   ]
  },
  {
   "cell_type": "code",
   "execution_count": 49,
   "metadata": {},
   "outputs": [
    {
     "name": "stdout",
     "output_type": "stream",
     "text": [
      "Enter the number:0\n",
      "0\n"
     ]
    }
   ],
   "source": [
    "def natu(n):\n",
    "    if n==0:\n",
    "        return 0\n",
    "    elif n==1:\n",
    "        return 1\n",
    "    else:\n",
    "        return n+natu(n-1)\n",
    "    \n",
    "num = int(input('Enter the number:'))\n",
    "r = natu(num)\n",
    "print(r)"
   ]
  },
  {
   "cell_type": "code",
   "execution_count": 57,
   "metadata": {},
   "outputs": [
    {
     "name": "stdout",
     "output_type": "stream",
     "text": [
      "Enter the number:25431\n",
      "The sum is 15\n"
     ]
    }
   ],
   "source": [
    "def sum_of_digit( n ):\n",
    "    if n == 0: \n",
    "        return 0\n",
    "    else:\n",
    "        return (n%10 + sum_of_digit(n//10)) \n",
    "\n",
    "num = int(input('Enter the number:'))\n",
    "r =sum_of_digit(num) \n",
    "print('The sum is',r)"
   ]
  },
  {
   "cell_type": "code",
   "execution_count": 2,
   "metadata": {},
   "outputs": [
    {
     "name": "stdout",
     "output_type": "stream",
     "text": [
      "Enter number: 65241\n",
      "The reverse number is 14256\n"
     ]
    }
   ],
   "source": [
    "# Reverse a number using recursion\n",
    "def revnum(n, r):\n",
    "    if n==0:\n",
    "        return r\n",
    "    else:\n",
    "        return reverse(n//10, r*10 + n%10)\n",
    "\n",
    "num = int(input(\"Enter number: \"))\n",
    "r = revnum(num,0)\n",
    "print('The reverse number is',r)"
   ]
  },
  {
   "cell_type": "code",
   "execution_count": 2,
   "metadata": {},
   "outputs": [
    {
     "name": "stdout",
     "output_type": "stream",
     "text": [
      "This is fun1\n",
      "This is fun2\n"
     ]
    }
   ],
   "source": [
    "def fun1():\n",
    "    print('This is fun1')\n",
    "    fun2()\n",
    "    \n",
    "def fun2():\n",
    "    print('This is fun2')\n",
    "    "
   ]
  },
  {
   "cell_type": "code",
   "execution_count": 6,
   "metadata": {},
   "outputs": [
    {
     "name": "stdout",
     "output_type": "stream",
     "text": [
      "Enter the number:12345\n"
     ]
    },
    {
     "data": {
      "text/plain": [
       "54321"
      ]
     },
     "execution_count": 6,
     "metadata": {},
     "output_type": "execute_result"
    }
   ],
   "source": [
    "def revnum(n,r):\n",
    "    if n==0:\n",
    "        return r\n",
    "    else:\n",
    "        return revnum(n//10,r*10+n%10)\n",
    "\n",
    "num = int(input('Enter the number:'))    \n",
    "revnum(num,0)"
   ]
  },
  {
   "cell_type": "code",
   "execution_count": 3,
   "metadata": {},
   "outputs": [
    {
     "name": "stdout",
     "output_type": "stream",
     "text": [
      "1\n",
      "[2, 3, 4, 5]\n"
     ]
    }
   ],
   "source": [
    "n,*r=1,2,3,4,5\n",
    "print(n)\n",
    "print(r)"
   ]
  },
  {
   "cell_type": "code",
   "execution_count": 7,
   "metadata": {},
   "outputs": [
    {
     "name": "stdout",
     "output_type": "stream",
     "text": [
      "15\n"
     ]
    }
   ],
   "source": [
    "s= sum(i for i in range(1,6))\n",
    "print(s)"
   ]
  },
  {
   "cell_type": "code",
   "execution_count": 9,
   "metadata": {},
   "outputs": [
    {
     "name": "stdout",
     "output_type": "stream",
     "text": [
      "Enter number: 9\n",
      "36\n"
     ]
    }
   ],
   "source": [
    "n = int(input('Enter number: '))\n",
    "s= sum(i for i in range(1,n))\n",
    "print(s)"
   ]
  },
  {
   "cell_type": "code",
   "execution_count": 6,
   "metadata": {},
   "outputs": [
    {
     "name": "stdout",
     "output_type": "stream",
     "text": [
      "15\n"
     ]
    }
   ],
   "source": [
    "a=[i for i in range(1,6)]\n",
    "s= sum(a)\n",
    "print(s)"
   ]
  }
 ],
 "metadata": {
  "kernelspec": {
   "display_name": "Python 3",
   "language": "python",
   "name": "python3"
  },
  "language_info": {
   "codemirror_mode": {
    "name": "ipython",
    "version": 3
   },
   "file_extension": ".py",
   "mimetype": "text/x-python",
   "name": "python",
   "nbconvert_exporter": "python",
   "pygments_lexer": "ipython3",
   "version": "3.7.5"
  }
 },
 "nbformat": 4,
 "nbformat_minor": 2
}
