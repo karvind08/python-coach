{
 "cells": [
  {
   "cell_type": "code",
   "execution_count": 2,
   "metadata": {},
   "outputs": [
    {
     "name": "stdout",
     "output_type": "stream",
     "text": [
      "['computer']\n"
     ]
    }
   ],
   "source": [
    "import re\n",
    "s = 'Abcd 4 computer 567 python 678'\n",
    "pattern = 'computer'\n",
    "p = re.findall(pattern,s)\n",
    "print(p)"
   ]
  },
  {
   "cell_type": "code",
   "execution_count": 3,
   "metadata": {},
   "outputs": [
    {
     "name": "stdout",
     "output_type": "stream",
     "text": [
      "['Abcd', 'computer', 'python']\n"
     ]
    }
   ],
   "source": [
    "s = 'Abcd 4 computer 567 python 678'\n",
    "pattern = r'[a-zA-Z]+'\n",
    "p = re.findall(pattern,s)\n",
    "print(p)"
   ]
  },
  {
   "cell_type": "code",
   "execution_count": 8,
   "metadata": {},
   "outputs": [
    {
     "name": "stdout",
     "output_type": "stream",
     "text": [
      "['A', 'b', 'c', 'd', 'c', 'o', 'm', 'p', 'u', 't', 'e', 'r', 'p', 'y', 't', 'h', 'o', 'n']\n"
     ]
    }
   ],
   "source": [
    "s = 'Abcd 4 computer 567 python 678'\n",
    "pattern = r'[a-zA-Z]'\n",
    "p = re.findall(pattern,s)\n",
    "print(p)"
   ]
  },
  {
   "cell_type": "code",
   "execution_count": 12,
   "metadata": {},
   "outputs": [
    {
     "name": "stdout",
     "output_type": "stream",
     "text": [
      "['Abcd', '', '', '', 'computer', '', '', '', '', '', 'python', '', '', '', '', '']\n"
     ]
    }
   ],
   "source": [
    "s = 'Abcd 4 computer 567 python 678'\n",
    "pattern = r'[a-zA-Z]*'\n",
    "p = re.findall(pattern,s)\n",
    "print(p)"
   ]
  },
  {
   "cell_type": "code",
   "execution_count": 19,
   "metadata": {},
   "outputs": [
    {
     "name": "stdout",
     "output_type": "stream",
     "text": [
      "['Abcd', 'computer', 'python']\n"
     ]
    }
   ],
   "source": [
    "s = 'Abcd4computer 567 python 678'\n",
    "pattern = r'[a-zA-Z]+'\n",
    "p = re.findall(pattern,s)\n",
    "print(p)"
   ]
  },
  {
   "cell_type": "code",
   "execution_count": 21,
   "metadata": {},
   "outputs": [
    {
     "name": "stdout",
     "output_type": "stream",
     "text": [
      "['4', '567', '678']\n"
     ]
    }
   ],
   "source": [
    "s = 'Abcd 4 computer 567 python 678'\n",
    "pattern = r'[0-9]+'\n",
    "p = re.findall(pattern,s)\n",
    "print(p)"
   ]
  },
  {
   "cell_type": "code",
   "execution_count": 24,
   "metadata": {},
   "outputs": [
    {
     "name": "stdout",
     "output_type": "stream",
     "text": [
      "['4', '5', '6', '7', '6', '7', '8']\n"
     ]
    }
   ],
   "source": [
    "s = 'Abcd 4 computer 567 python 678'\n",
    "pattern = r'[0-9]'\n",
    "p = re.findall(pattern,s)\n",
    "print(p)"
   ]
  },
  {
   "cell_type": "code",
   "execution_count": 25,
   "metadata": {},
   "outputs": [
    {
     "name": "stdout",
     "output_type": "stream",
     "text": [
      "['', '', '', '', '', '4', '', '', '', '', '', '', '', '', '', '', '567', '', '', '', '', '', '', '', '', '678', '']\n"
     ]
    }
   ],
   "source": [
    "s = 'Abcd 4 computer 567 python 678'\n",
    "pattern = r'[0-9]*'\n",
    "p = re.findall(pattern,s)\n",
    "print(p)"
   ]
  },
  {
   "cell_type": "code",
   "execution_count": 26,
   "metadata": {},
   "outputs": [
    {
     "name": "stdout",
     "output_type": "stream",
     "text": [
      "['Abcd', '4', 'computer', '567', 'python', '678']\n"
     ]
    }
   ],
   "source": [
    "s = 'Abcd 4 computer 567 python 678'\n",
    "pattern = r'[a-zA-Z0-9]+'\n",
    "p = re.findall(pattern,s)\n",
    "print(p)"
   ]
  },
  {
   "cell_type": "code",
   "execution_count": 27,
   "metadata": {},
   "outputs": [
    {
     "name": "stdout",
     "output_type": "stream",
     "text": [
      "['A', 'b', 'c', 'd', '4', 'c', 'o', 'm', 'p', 'u', 't', 'e', 'r', '5', '6', '7', 'p', 'y', 't', 'h', 'o', 'n', '6', '7', '8']\n"
     ]
    }
   ],
   "source": [
    "s = 'Abcd 4 computer 567 python 678'\n",
    "pattern = r'[a-zA-Z0-9]'\n",
    "p = re.findall(pattern,s)\n",
    "print(p)"
   ]
  },
  {
   "cell_type": "code",
   "execution_count": 28,
   "metadata": {},
   "outputs": [
    {
     "name": "stdout",
     "output_type": "stream",
     "text": [
      "['Abcd', '', '4', '', 'computer', '', '567', '', 'python', '', '678', '']\n"
     ]
    }
   ],
   "source": [
    "s = 'Abcd 4 computer 567 python 678'\n",
    "pattern = r'[a-zA-Z0-9]*'\n",
    "p = re.findall(pattern,s)\n",
    "print(p)"
   ]
  },
  {
   "cell_type": "code",
   "execution_count": 39,
   "metadata": {},
   "outputs": [
    {
     "name": "stdout",
     "output_type": "stream",
     "text": [
      "['A', 'd 4 ', 'omputer 567 python 678']\n"
     ]
    }
   ],
   "source": [
    "s = 'Abcd 4 computer 567 python 678'\n",
    "pattern = r'[^abc]+'\n",
    "p = re.findall(pattern,s)\n",
    "print(p)"
   ]
  },
  {
   "cell_type": "code",
   "execution_count": 41,
   "metadata": {},
   "outputs": [
    {
     "name": "stdout",
     "output_type": "stream",
     "text": [
      "['A', 'd', ' ', '4', ' ', 'o', 'm', 'p', 'u', 't', 'e', 'r', ' ', '5', '6', '7', ' ', 'p', 'y', 't', 'h', 'o', 'n', ' ', '6', '7', '8']\n"
     ]
    }
   ],
   "source": [
    "s = 'Abcd 4 computer 567 python 678'\n",
    "pattern = r'[^abc]'\n",
    "p = re.findall(pattern,s)\n",
    "print(p)"
   ]
  },
  {
   "cell_type": "code",
   "execution_count": 47,
   "metadata": {},
   "outputs": [
    {
     "name": "stdout",
     "output_type": "stream",
     "text": [
      "['cd 4 ', 'computer 567 python 678']\n"
     ]
    }
   ],
   "source": [
    "s = 'Abcd 4 computer 567 python 678'\n",
    "pattern = r'.[^abc]+'\n",
    "p = re.findall(pattern,s)\n",
    "print(p)"
   ]
  },
  {
   "cell_type": "code",
   "execution_count": 50,
   "metadata": {},
   "outputs": [
    {
     "name": "stdout",
     "output_type": "stream",
     "text": [
      "['Abcd', ' 4', ' computer', ' 567', ' python', ' 678']\n"
     ]
    }
   ],
   "source": [
    "s = 'Abcd 4 computer 567 python 678'\n",
    "pattern = r'.[^ ]+'\n",
    "p = re.findall(pattern,s)\n",
    "print(p)"
   ]
  },
  {
   "cell_type": "code",
   "execution_count": 55,
   "metadata": {},
   "outputs": [
    {
     "name": "stdout",
     "output_type": "stream",
     "text": [
      "cherries\n"
     ]
    }
   ],
   "source": [
    "s = '''\n",
    "apple\n",
    "banana\n",
    "orange\n",
    "peach\n",
    "avocado\n",
    "cherries\n",
    "'''\n",
    "pattern = r'.*s'\n",
    "match = re.findall(pattern,s)\n",
    "\n",
    "for m in match:\n",
    "    print(m)"
   ]
  },
  {
   "cell_type": "code",
   "execution_count": 62,
   "metadata": {},
   "outputs": [
    {
     "name": "stdout",
     "output_type": "stream",
     "text": [
      "cherries\n"
     ]
    }
   ],
   "source": [
    "s = '''\n",
    "apple\n",
    "banana\n",
    "orange\n",
    "peach\n",
    "avocado\n",
    "cherries\n",
    "'''\n",
    "pattern = r'.*s'\n",
    "match = re.findall(pattern,s)\n",
    "\n",
    "for m in match:\n",
    "    print(m)"
   ]
  },
  {
   "cell_type": "code",
   "execution_count": 68,
   "metadata": {},
   "outputs": [
    {
     "name": "stdout",
     "output_type": "stream",
     "text": [
      "apple\n",
      "orange\n",
      "avocado\n"
     ]
    }
   ],
   "source": [
    "s = '''\n",
    "apple\n",
    "banana\n",
    "orange\n",
    "peach\n",
    "avocado\n",
    "cherries\n",
    "'''\n",
    "pattern = r'\\b[aeiou].+\\b'\n",
    "match = re.findall(pattern,s)\n",
    "\n",
    "for m in match:\n",
    "    print(m)"
   ]
  },
  {
   "cell_type": "code",
   "execution_count": 69,
   "metadata": {},
   "outputs": [
    {
     "name": "stdout",
     "output_type": "stream",
     "text": [
      "apple\n",
      "anana\n",
      "orange\n",
      "each\n",
      "avocado\n",
      "erries\n"
     ]
    }
   ],
   "source": [
    "s = '''\n",
    "apple\n",
    "banana\n",
    "orange\n",
    "peach\n",
    "avocado\n",
    "cherries\n",
    "'''\n",
    "pattern = r'[aeiou].+'\n",
    "match = re.findall(pattern,s)\n",
    "\n",
    "for m in match:\n",
    "    print(m)"
   ]
  },
  {
   "cell_type": "code",
   "execution_count": 77,
   "metadata": {},
   "outputs": [
    {
     "name": "stdout",
     "output_type": "stream",
     "text": [
      "apple\n",
      "orange\n",
      "avocado\n"
     ]
    }
   ],
   "source": [
    "s = '''\n",
    "apple\n",
    "banana\n",
    "orange\n",
    "peach\n",
    "avocado\n",
    "cherries\n",
    "'''\n",
    "pattern = r'\\b[aeiou].+\\b'\n",
    "match = re.findall(pattern,s)\n",
    "\n",
    "for m in match:\n",
    "    print(m)"
   ]
  },
  {
   "cell_type": "code",
   "execution_count": 96,
   "metadata": {},
   "outputs": [
    {
     "name": "stdout",
     "output_type": "stream",
     "text": [
      "abcd65gh@gmail.com\n",
      "karvind08@hotmail.com\n"
     ]
    }
   ],
   "source": [
    "email = '''\n",
    "abcd65gh@gmail.com\n",
    "rtuherh.67\n",
    "karvind08@hotmail.com\n",
    "ghyti@aol\n",
    "'''\n",
    "pattern = r'[a-z]+[0-9]*[a-z]*@+[a-z]+\\.com'\n",
    "match = re.findall(pattern,email)\n",
    "for m in match:\n",
    "    print(m)"
   ]
  },
  {
   "cell_type": "code",
   "execution_count": 97,
   "metadata": {},
   "outputs": [
    {
     "name": "stdout",
     "output_type": "stream",
     "text": [
      "abcd65gh@gmail.com\n",
      "karvind08@hotmail.com\n"
     ]
    }
   ],
   "source": [
    "email = '''\n",
    "abcd65gh@gmail.com\n",
    "rtuherh.67\n",
    "karvind08@hotmail.com\n",
    "ghyti@aol\n",
    "'''\n",
    "pattern = r'[a-z]+[0-9]*[a-z]*@+[a-z]+\\.com'\n",
    "match = re.findall(pattern,email)\n",
    "for m in match:\n",
    "    print(m)"
   ]
  },
  {
   "cell_type": "code",
   "execution_count": null,
   "metadata": {},
   "outputs": [],
   "source": []
  },
  {
   "cell_type": "code",
   "execution_count": null,
   "metadata": {},
   "outputs": [],
   "source": []
  },
  {
   "cell_type": "code",
   "execution_count": null,
   "metadata": {},
   "outputs": [],
   "source": []
  },
  {
   "cell_type": "code",
   "execution_count": null,
   "metadata": {},
   "outputs": [],
   "source": []
  },
  {
   "cell_type": "code",
   "execution_count": null,
   "metadata": {},
   "outputs": [],
   "source": []
  },
  {
   "cell_type": "code",
   "execution_count": null,
   "metadata": {},
   "outputs": [],
   "source": []
  },
  {
   "cell_type": "code",
   "execution_count": null,
   "metadata": {},
   "outputs": [],
   "source": []
  }
 ],
 "metadata": {
  "kernelspec": {
   "display_name": "Python 3",
   "language": "python",
   "name": "python3"
  },
  "language_info": {
   "codemirror_mode": {
    "name": "ipython",
    "version": 3
   },
   "file_extension": ".py",
   "mimetype": "text/x-python",
   "name": "python",
   "nbconvert_exporter": "python",
   "pygments_lexer": "ipython3",
   "version": "3.7.5"
  }
 },
 "nbformat": 4,
 "nbformat_minor": 2
}
