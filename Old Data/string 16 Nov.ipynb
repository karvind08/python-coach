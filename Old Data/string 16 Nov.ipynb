{
 "cells": [
  {
   "cell_type": "code",
   "execution_count": null,
   "metadata": {},
   "outputs": [],
   "source": [
    "s = input('Enter the string: ')\n",
    "s.lower()"
   ]
  },
  {
   "cell_type": "code",
   "execution_count": null,
   "metadata": {},
   "outputs": [],
   "source": [
    "a = \"Robert Brett Roser\"\n",
    "a = a.split()\n",
    "print(a)\n",
    "print(a[0][0])\n",
    "b = a[0][0]+\".\"+a[1][0]+\".\"+a[2]\n",
    "print(b)"
   ]
  },
  {
   "cell_type": "code",
   "execution_count": null,
   "metadata": {},
   "outputs": [],
   "source": [
    "a = \"Robert Brett Roser\"\n",
    "a = a.split()\n",
    "print(a[0][0])\n",
    "print(a[1][0])\n",
    "print(a[2])\n",
    "b = a[0][0]+\".\"+a[1][0]+\".\"+a[2]\n",
    "print(b)"
   ]
  },
  {
   "cell_type": "code",
   "execution_count": 85,
   "metadata": {},
   "outputs": [
    {
     "name": "stdout",
     "output_type": "stream",
     "text": [
      "Enter the string: arvind kuamr\n",
      "The length of the string:  12\n"
     ]
    }
   ],
   "source": [
    "s = input('Enter the string: ')\n",
    "l = 0\n",
    "for i in s:\n",
    "    l+= 1\n",
    "print('The length of the string: ',l)"
   ]
  },
  {
   "cell_type": "code",
   "execution_count": 5,
   "metadata": {},
   "outputs": [
    {
     "name": "stdout",
     "output_type": "stream",
     "text": [
      "[(5, 'kumar'), (6, 'arvind'), (11, 'engineering')]\n",
      "engineering\n"
     ]
    }
   ],
   "source": [
    "l = ['arvind','engineering','kumar']\n",
    "words = []\n",
    "for i in l:\n",
    "    words.append((len(i),i))\n",
    "    \n",
    "words.sort()\n",
    "print(words)\n",
    "print(words[-1][1])"
   ]
  },
  {
   "cell_type": "code",
   "execution_count": 9,
   "metadata": {},
   "outputs": [
    {
     "name": "stdout",
     "output_type": "stream",
     "text": [
      "Enter the number of words: 3\n",
      "Enter the word: Arvind\n",
      "Enter the word: Kumar\n",
      "Enter the word: Engineer\n",
      "The list is:  ['Arvind', 'Kumar', 'Engineer']\n",
      "The longest word is:  Engineer\n"
     ]
    }
   ],
   "source": [
    "L = []\n",
    "n = int(input('Enter the number of words: '))\n",
    "for i in range(n):\n",
    "    w = input('Enter the word: ')\n",
    "    L.append(w)\n",
    "print('The list is: ',L)\n",
    "words = []\n",
    "for i in L:\n",
    "    words.append((len(i),i))\n",
    "words.sort()\n",
    "print('The longest word is: ',words[-1][1])"
   ]
  },
  {
   "cell_type": "code",
   "execution_count": 16,
   "metadata": {},
   "outputs": [
    {
     "name": "stdout",
     "output_type": "stream",
     "text": [
      "Enter the string: aravindaa\n",
      "$r$vind$$\n",
      "ar$vind$$\n"
     ]
    }
   ],
   "source": [
    "s  = input('Enter the string: ')\n",
    "char = s[0]\n",
    "s = s.replace(char,'$')\n",
    "# print(s)\n",
    "s = char + s[1:]\n",
    "print(s)"
   ]
  },
  {
   "cell_type": "markdown",
   "metadata": {},
   "source": [
    "# Write a Python program to get a single string from two given strings, separated by a space and swap the first two characters of each string.\n"
   ]
  },
  {
   "cell_type": "code",
   "execution_count": 17,
   "metadata": {},
   "outputs": [
    {
     "name": "stdout",
     "output_type": "stream",
     "text": [
      "xyc abz\n"
     ]
    }
   ],
   "source": [
    "a = 'abc'\n",
    "b = 'xyz'\n",
    "new_a = b[:2]+a[2:]\n",
    "new_b = a[:2]+b[2:]\n",
    "s = new_a+' '+new_b\n",
    "print(s)"
   ]
  },
  {
   "cell_type": "code",
   "execution_count": 18,
   "metadata": {},
   "outputs": [
    {
     "name": "stdout",
     "output_type": "stream",
     "text": [
      "Enter the first String: arvind\n",
      "Enter the second String: kumar\n",
      "kuvind armar\n"
     ]
    }
   ],
   "source": [
    "a = input('Enter the first String: ')\n",
    "b = input('Enter the second String: ')\n",
    "new_a = b[:2]+a[2:]\n",
    "new_b = a[:2]+b[2:]\n",
    "s = new_a+' '+new_b\n",
    "print(s)"
   ]
  },
  {
   "cell_type": "markdown",
   "metadata": {},
   "source": [
    "# Write a program to arrange input string (the combination of the lower and upper case) characters such that lowercase letters should come first. \n"
   ]
  },
  {
   "cell_type": "code",
   "execution_count": 26,
   "metadata": {},
   "outputs": [
    {
     "name": "stdout",
     "output_type": "stream",
     "text": [
      "Enter the string: arvindKHARWALkumar\n",
      "arvindkumarKHARWAL\n"
     ]
    }
   ],
   "source": [
    "s = input('Enter the string: ')\n",
    "lower = []\n",
    "upper = []\n",
    "for i in s:\n",
    "    if i.islower():\n",
    "        lower.append(i)\n",
    "    else:\n",
    "        upper.append(i)\n",
    "s1 = ''.join(lower + upper)\n",
    "print(s1)"
   ]
  },
  {
   "cell_type": "markdown",
   "metadata": {},
   "source": [
    "# Write a program to count all lower case, upper case, digits, and special symbols from a given string\n"
   ]
  },
  {
   "cell_type": "code",
   "execution_count": 29,
   "metadata": {},
   "outputs": [
    {
     "name": "stdout",
     "output_type": "stream",
     "text": [
      "Enter the string: arvKUMAR12534*&^%\n",
      "Lowercase Chars =  3 Uppercase Chars =  5 Digits =  5 Symbol =  4\n"
     ]
    }
   ],
   "source": [
    "s = input('Enter the string: ')\n",
    "lcharcount = 0\n",
    "ucharcount = 0\n",
    "digitcount = 0\n",
    "symbolcount = 0\n",
    "for i in s:\n",
    "    if i.islower():\n",
    "        lcharcount+=1\n",
    "    elif i.isupper():\n",
    "        ucharcount+=1\n",
    "    elif i.isnumeric():\n",
    "        digitcount+=1\n",
    "    else:\n",
    "        symbolcount+=1\n",
    "\n",
    "print(\"Lowercase Chars = \", lcharcount, \"Uppercase Chars = \", ucharcount,\"Digits = \", digitcount, \"Symbol = \", symbolcount)"
   ]
  },
  {
   "cell_type": "markdown",
   "metadata": {},
   "source": [
    "# Remove special symbols/Punctuation from a given string"
   ]
  },
  {
   "cell_type": "code",
   "execution_count": 44,
   "metadata": {},
   "outputs": [
    {
     "name": "stdout",
     "output_type": "stream",
     "text": [
      "/*Jon is @developer & musician\n",
      "Jon is developer  musician\n"
     ]
    }
   ],
   "source": [
    "\n",
    "s = \"/*Jon is @developer & musician\"\n",
    "table = s.maketrans('', '', string.punctuation)\n",
    "print(s)\n",
    "s1 = s.translate(table)\n",
    "print(s1)"
   ]
  },
  {
   "cell_type": "code",
   "execution_count": null,
   "metadata": {},
   "outputs": [],
   "source": []
  },
  {
   "cell_type": "code",
   "execution_count": 45,
   "metadata": {},
   "outputs": [
    {
     "name": "stdout",
     "output_type": "stream",
     "text": [
      "Enter the string: hello kggython\n",
      "The string before translating is :  hello kggython\n",
      "hello Python\n"
     ]
    }
   ],
   "source": [
    "trg = input('Enter the string: ')\n",
    "str1 = \"k\"\n",
    "str2 = \"P\"\n",
    "str3 = \"g\"\n",
    "table = trg.maketrans(str1, str2, str3) \n",
    "print (\"The string before translating is : \",trg)\n",
    "s = trg.translate(table)\n",
    "print(s)"
   ]
  },
  {
   "cell_type": "code",
   "execution_count": 5,
   "metadata": {},
   "outputs": [
    {
     "name": "stdout",
     "output_type": "stream",
     "text": [
      "Enter the string: python\n",
      "The string before translating is :  python\n",
      "pythof\n"
     ]
    }
   ],
   "source": [
    "trg = input('Enter the string: ')\n",
    "str1 = \"onn\"\n",
    "str2 = \"off\"\n",
    "str3 = \"g\"\n",
    "table = trg.maketrans(str1, str2, str3) \n",
    "print (\"The string before translating is : \",trg)\n",
    "s = trg.translate(table)\n",
    "print(s)"
   ]
  },
  {
   "cell_type": "code",
   "execution_count": 46,
   "metadata": {},
   "outputs": [
    {
     "name": "stdout",
     "output_type": "stream",
     "text": [
      "Enter the string: arvind1024 kkgkg45\n",
      "The string before translating is :  arvind1024 kkgkg45\n",
      "arvind kkgkg\n"
     ]
    }
   ],
   "source": [
    "trg = input('Enter the string: ')\n",
    "str3 = \"0123456789\"\n",
    "table = trg.maketrans('','', str3) \n",
    "print (\"The string before translating is : \",trg)\n",
    "s = trg.translate(table)\n",
    "print(s)"
   ]
  },
  {
   "cell_type": "code",
   "execution_count": 47,
   "metadata": {},
   "outputs": [
    {
     "name": "stdout",
     "output_type": "stream",
     "text": [
      "Enter the string: arvind12367586868&5858\n",
      "The string before translating is :  arvind12367586868&5858\n",
      "12367586868&5858\n"
     ]
    }
   ],
   "source": [
    "trg = input('Enter the string: ')\n",
    "str3 = \"abcdefghijklmnopqrstuvwxyzABCDEFGHIJKLMNOPQRSTUVWXYZ\"\n",
    "table = trg.maketrans('','', str3) \n",
    "print (\"The string before translating is : \",trg)\n",
    "s = trg.translate(table)\n",
    "print(s)"
   ]
  },
  {
   "cell_type": "code",
   "execution_count": null,
   "metadata": {},
   "outputs": [],
   "source": []
  },
  {
   "cell_type": "code",
   "execution_count": 48,
   "metadata": {},
   "outputs": [
    {
     "name": "stdout",
     "output_type": "stream",
     "text": [
      "Original string is I am 25 years and 10 months old\n",
      "2510\n"
     ]
    }
   ],
   "source": [
    "str1 = 'I am 25 years and 10 months old'\n",
    "print(\"Original string is\", str1)\n",
    "\n",
    "# Retain Numbers in String\n",
    "# Using list comprehension + join() + isdigit()\n",
    "res = \"\".join([item for item in str1 if item.isdigit()])\n",
    "print(res)"
   ]
  },
  {
   "cell_type": "markdown",
   "metadata": {},
   "source": [
    "# Write a program to remove all the characters other than integers from string"
   ]
  },
  {
   "cell_type": "code",
   "execution_count": 54,
   "metadata": {},
   "outputs": [
    {
     "name": "stdout",
     "output_type": "stream",
     "text": [
      "Enter the string: i am 40 years old and born in 1983\n",
      "Original string is i am 40 years old and born in 1983\n",
      "401983"
     ]
    }
   ],
   "source": [
    "s = input('Enter the string: ')\n",
    "print(\"Original string is\", s)\n",
    "\n",
    "for item in s:\n",
    "    if item.isdigit():\n",
    "        print(item,end='')"
   ]
  },
  {
   "cell_type": "markdown",
   "metadata": {},
   "source": [
    "# He said,\"what's is going on\""
   ]
  },
  {
   "cell_type": "code",
   "execution_count": 2,
   "metadata": {
    "scrolled": true
   },
   "outputs": [
    {
     "name": "stdout",
     "output_type": "stream",
     "text": [
      "He said,\"what's is going on\" \n"
     ]
    }
   ],
   "source": [
    "print('''He said,\"what's is going on\" ''')"
   ]
  },
  {
   "cell_type": "code",
   "execution_count": 8,
   "metadata": {},
   "outputs": [
    {
     "name": "stdout",
     "output_type": "stream",
     "text": [
      "He said,\"what's is going on\" \n"
     ]
    }
   ],
   "source": [
    "print('He said,\"what\\'s is going on\" ')"
   ]
  },
  {
   "cell_type": "code",
   "execution_count": 10,
   "metadata": {},
   "outputs": [
    {
     "name": "stdout",
     "output_type": "stream",
     "text": [
      "He said,\"what's is going on\"\n"
     ]
    }
   ],
   "source": [
    "print(\"He said,\\\"what's is going on\\\"\")"
   ]
  },
  {
   "cell_type": "code",
   "execution_count": 11,
   "metadata": {},
   "outputs": [
    {
     "name": "stdout",
     "output_type": "stream",
     "text": [
      "Enter the string: arvind\n",
      "6\n"
     ]
    }
   ],
   "source": [
    "s = input('Enter the string: ')\n",
    "print(len(s))"
   ]
  },
  {
   "cell_type": "code",
   "execution_count": 13,
   "metadata": {
    "scrolled": true
   },
   "outputs": [
    {
     "name": "stdout",
     "output_type": "stream",
     "text": [
      "1.522545e+02\n"
     ]
    }
   ],
   "source": [
    "print('{0:e}'.format(152.2545))"
   ]
  },
  {
   "cell_type": "code",
   "execution_count": 21,
   "metadata": {},
   "outputs": [
    {
     "name": "stdout",
     "output_type": "stream",
     "text": [
      "Enter the string: arvind kumar kharwal singh actolaze\n",
      "['arvind', 'kumar', 'kharwal', 'singh actolaze']\n"
     ]
    }
   ],
   "source": [
    "s = input('Enter the string: ')\n",
    "l = s.split()\n",
    "print(l)"
   ]
  },
  {
   "cell_type": "code",
   "execution_count": null,
   "metadata": {},
   "outputs": [],
   "source": [
    "s = input('Enter the string: ')\n",
    "l = s.split(' ', 3)\n",
    "print(l)"
   ]
  },
  {
   "cell_type": "code",
   "execution_count": 30,
   "metadata": {},
   "outputs": [
    {
     "name": "stdout",
     "output_type": "stream",
     "text": [
      "this is list\n",
      "this is tuple\n",
      "this set is\n"
     ]
    }
   ],
   "source": [
    "l = ['this','is','list']\n",
    "t = ['this','is','tuple']\n",
    "set1 = {'this','is','set'}\n",
    "s = ' '.join(l)\n",
    "s1 = ' '.join(t)\n",
    "s2 = ' '.join(set1)\n",
    "print(s)\n",
    "print(s1)\n",
    "print(s2)"
   ]
  },
  {
   "cell_type": "code",
   "execution_count": 35,
   "metadata": {},
   "outputs": [
    {
     "name": "stdout",
     "output_type": "stream",
     "text": [
      "Enter the string: arvindk\n"
     ]
    },
    {
     "data": {
      "text/plain": [
       "6"
      ]
     },
     "execution_count": 35,
     "metadata": {},
     "output_type": "execute_result"
    }
   ],
   "source": [
    "s = input('Enter the string: ')\n",
    "s.find('k')"
   ]
  },
  {
   "cell_type": "code",
   "execution_count": null,
   "metadata": {},
   "outputs": [],
   "source": [
    "s = input('Enter the string: ')\n",
    "print(s)\n",
    "sub = input('Enter the sub string:')\n",
    "s.find(sub)"
   ]
  },
  {
   "cell_type": "code",
   "execution_count": 37,
   "metadata": {},
   "outputs": [
    {
     "name": "stdout",
     "output_type": "stream",
     "text": [
      "Enter the string: arvind kumar\n",
      "arvind kumar\n",
      "Enter the sub string:k\n"
     ]
    },
    {
     "data": {
      "text/plain": [
       "7"
      ]
     },
     "execution_count": 37,
     "metadata": {},
     "output_type": "execute_result"
    }
   ],
   "source": [
    "s = input('Enter the string: ')\n",
    "print(s)\n",
    "sub = input('Enter the sub string:')\n",
    "s.find(sub,3,8)"
   ]
  },
  {
   "cell_type": "code",
   "execution_count": 39,
   "metadata": {},
   "outputs": [
    {
     "name": "stdout",
     "output_type": "stream",
     "text": [
      "Enter the string: arvind kumar kharwal\n",
      "arvind kumar kharwal\n",
      "Enter the string to be replace:tinku\n"
     ]
    },
    {
     "data": {
      "text/plain": [
       "'tinku kumar kharwal'"
      ]
     },
     "execution_count": 39,
     "metadata": {},
     "output_type": "execute_result"
    }
   ],
   "source": [
    "s = input('Enter the string: ')\n",
    "print(s)\n",
    "sub = input('Enter the string to be replace:')\n",
    "s.replace('arvind',sub)\n"
   ]
  },
  {
   "cell_type": "code",
   "execution_count": 41,
   "metadata": {},
   "outputs": [
    {
     "name": "stdout",
     "output_type": "stream",
     "text": [
      "Enter the string: arvind124\n",
      "arvind124\n",
      "True\n"
     ]
    }
   ],
   "source": [
    "s = input('Enter the string: ')\n",
    "print(s)\n",
    "res = s.isalnum()\n",
    "print(res)"
   ]
  },
  {
   "cell_type": "code",
   "execution_count": 43,
   "metadata": {},
   "outputs": [
    {
     "name": "stdout",
     "output_type": "stream",
     "text": [
      "Enter the string: arvin34\n",
      "arvin34\n",
      "False\n"
     ]
    }
   ],
   "source": [
    "s = input('Enter the string: ')\n",
    "print(s)\n",
    "res = s.isalpha()\n",
    "print(res)"
   ]
  },
  {
   "cell_type": "code",
   "execution_count": 45,
   "metadata": {},
   "outputs": [
    {
     "name": "stdout",
     "output_type": "stream",
     "text": [
      "Enter the string: 223345\n",
      "223345\n",
      "True\n"
     ]
    }
   ],
   "source": [
    "s = input('Enter the string: ')\n",
    "print(s)\n",
    "res = s.isdigit()\n",
    "print(res)"
   ]
  },
  {
   "cell_type": "code",
   "execution_count": 47,
   "metadata": {},
   "outputs": [
    {
     "name": "stdout",
     "output_type": "stream",
     "text": [
      "Enter the string:     \n",
      "    \n",
      "True\n"
     ]
    }
   ],
   "source": [
    "s = input('Enter the string: ')\n",
    "print(s)\n",
    "res = s.isspace()\n",
    "print(res)"
   ]
  },
  {
   "cell_type": "code",
   "execution_count": 87,
   "metadata": {},
   "outputs": [
    {
     "name": "stdout",
     "output_type": "stream",
     "text": [
      " Arvind\n",
      "Arvind\n"
     ]
    }
   ],
   "source": [
    "s = ' Arvind'\n",
    "print(s)\n",
    "res = s.lstrip(' ')\n",
    "print(res)"
   ]
  },
  {
   "cell_type": "code",
   "execution_count": 88,
   "metadata": {},
   "outputs": [
    {
     "name": "stdout",
     "output_type": "stream",
     "text": [
      "Arvind \n",
      "Arvind\n"
     ]
    }
   ],
   "source": [
    "s = 'Arvind '\n",
    "print(s)\n",
    "res = s.rstrip(' ')\n",
    "print(res)"
   ]
  },
  {
   "cell_type": "code",
   "execution_count": 66,
   "metadata": {},
   "outputs": [
    {
     "name": "stdout",
     "output_type": "stream",
     "text": [
      "welcome \n",
      "come \n"
     ]
    }
   ],
   "source": [
    "s = 'welcome '\n",
    "print(s)\n",
    "res = s.lstrip('w')\n",
    "print(res)"
   ]
  },
  {
   "cell_type": "code",
   "execution_count": 91,
   "metadata": {},
   "outputs": [
    {
     "name": "stdout",
     "output_type": "stream",
     "text": [
      "welcome\n",
      "welc\n"
     ]
    }
   ],
   "source": [
    "s = 'welcome'\n",
    "print(s)\n",
    "res = s.rstrip('ome')\n",
    "print(res)"
   ]
  },
  {
   "cell_type": "code",
   "execution_count": 81,
   "metadata": {},
   "outputs": [
    {
     "name": "stdout",
     "output_type": "stream",
     "text": [
      "Enter the string: arvind kumar\n",
      "arvind kumar\n",
      "Arvind Kumar\n"
     ]
    }
   ],
   "source": [
    "s = input('Enter the string: ')\n",
    "print(s)\n",
    "res = s.title()\n",
    "print(res)"
   ]
  },
  {
   "cell_type": "code",
   "execution_count": 82,
   "metadata": {},
   "outputs": [
    {
     "name": "stdout",
     "output_type": "stream",
     "text": [
      "Enter the string: arvind kuamr kharwal\n",
      "arvind kuamr kharwal\n",
      "Arvind kuamr kharwal\n"
     ]
    }
   ],
   "source": [
    "s = input('Enter the string: ')\n",
    "print(s)\n",
    "res = s.capitalize()\n",
    "print(res)"
   ]
  },
  {
   "cell_type": "code",
   "execution_count": 83,
   "metadata": {},
   "outputs": [
    {
     "name": "stdout",
     "output_type": "stream",
     "text": [
      "Enter the string: arvinD KUMAR\n",
      "arvinD KUMAR\n",
      "ARVINd kumar\n"
     ]
    }
   ],
   "source": [
    "s = input('Enter the string: ')\n",
    "print(s)\n",
    "res = s.swapcase()\n",
    "print(res)"
   ]
  },
  {
   "cell_type": "code",
   "execution_count": null,
   "metadata": {},
   "outputs": [],
   "source": []
  }
 ],
 "metadata": {
  "kernelspec": {
   "display_name": "Python 3",
   "language": "python",
   "name": "python3"
  },
  "language_info": {
   "codemirror_mode": {
    "name": "ipython",
    "version": 3
   },
   "file_extension": ".py",
   "mimetype": "text/x-python",
   "name": "python",
   "nbconvert_exporter": "python",
   "pygments_lexer": "ipython3",
   "version": "3.7.5"
  }
 },
 "nbformat": 4,
 "nbformat_minor": 2
}
