{
 "cells": [
  {
   "cell_type": "code",
   "execution_count": 11,
   "metadata": {},
   "outputs": [
    {
     "name": "stdout",
     "output_type": "stream",
     "text": [
      "Enter the number: 0\n"
     ]
    },
    {
     "data": {
      "text/plain": [
       "'The number 0 is even'"
      ]
     },
     "execution_count": 11,
     "metadata": {},
     "output_type": "execute_result"
    }
   ],
   "source": [
    "def evenorodd(num):\n",
    "    if num%2==0:\n",
    "        return 'The number {} is even'.format(num)\n",
    "    else:\n",
    "        return 'The number {} is odd'.format(num)\n",
    "\n",
    "n = int(input('Enter the number: '))\n",
    "evenorodd(n)"
   ]
  },
  {
   "cell_type": "code",
   "execution_count": 12,
   "metadata": {},
   "outputs": [],
   "source": [
    "L = [1,2,3,4,5,6,7,8,9,10]"
   ]
  },
  {
   "cell_type": "code",
   "execution_count": 24,
   "metadata": {},
   "outputs": [
    {
     "name": "stdout",
     "output_type": "stream",
     "text": [
      "<map object at 0x0000021622EFC488>\n",
      "The number 1 is odd\n",
      "The number 2 is even\n",
      "The number 3 is odd\n",
      "The number 4 is even\n",
      "The number 5 is odd\n",
      "The number 6 is even\n",
      "The number 7 is odd\n",
      "The number 8 is even\n",
      "The number 9 is odd\n",
      "The number 10 is even\n"
     ]
    }
   ],
   "source": [
    "res = map(evenorodd,L)\n",
    "print(res)\n",
    "type(res)\n",
    "for i in res:\n",
    "    print(i)"
   ]
  },
  {
   "cell_type": "code",
   "execution_count": 13,
   "metadata": {},
   "outputs": [
    {
     "data": {
      "text/plain": [
       "['The number 1 is odd',\n",
       " 'The number 2 is even',\n",
       " 'The number 3 is odd',\n",
       " 'The number 4 is even',\n",
       " 'The number 5 is odd',\n",
       " 'The number 6 is even',\n",
       " 'The number 7 is odd',\n",
       " 'The number 8 is even',\n",
       " 'The number 9 is odd',\n",
       " 'The number 10 is even']"
      ]
     },
     "execution_count": 13,
     "metadata": {},
     "output_type": "execute_result"
    }
   ],
   "source": [
    "list(map(evenorodd,L))"
   ]
  },
  {
   "cell_type": "code",
   "execution_count": 20,
   "metadata": {},
   "outputs": [],
   "source": [
    "def eveno(num):\n",
    "    if num%2==0:\n",
    "        return True\n",
    "    else:\n",
    "        return False\n",
    "   "
   ]
  },
  {
   "cell_type": "code",
   "execution_count": 19,
   "metadata": {},
   "outputs": [
    {
     "name": "stdout",
     "output_type": "stream",
     "text": [
      "[2, 4, 6, 8, 10]\n"
     ]
    }
   ],
   "source": [
    "e = list(filter(eveno,L))\n",
    "print(e)"
   ]
  },
  {
   "cell_type": "code",
   "execution_count": 27,
   "metadata": {},
   "outputs": [
    {
     "name": "stdout",
     "output_type": "stream",
     "text": [
      "[1, 2, 3, 4]\n"
     ]
    }
   ],
   "source": [
    "def sum(m,n):\n",
    "    s = m+n\n",
    "    return s\n",
    "\n",
    "x = [1,2]\n",
    "y = [3,4]\n",
    "s1= sum(x,y)\n",
    "print(s1)"
   ]
  },
  {
   "cell_type": "code",
   "execution_count": 28,
   "metadata": {},
   "outputs": [
    {
     "name": "stdout",
     "output_type": "stream",
     "text": [
      "[4, 6]\n"
     ]
    }
   ],
   "source": [
    "res = list(map(lambda m,n: m+n,x,y))\n",
    "print(res)"
   ]
  },
  {
   "cell_type": "code",
   "execution_count": 34,
   "metadata": {},
   "outputs": [],
   "source": [
    "import math\n",
    "def area(r):\n",
    "    a = math.pi*(r**2)\n",
    "    return a"
   ]
  },
  {
   "cell_type": "code",
   "execution_count": 35,
   "metadata": {},
   "outputs": [],
   "source": [
    "rad = [1,2,3.5,5,6.4]"
   ]
  },
  {
   "cell_type": "code",
   "execution_count": 36,
   "metadata": {},
   "outputs": [
    {
     "name": "stdout",
     "output_type": "stream",
     "text": [
      "[3.141592653589793, 12.566370614359172, 38.48451000647496, 78.53981633974483, 128.67963509103794]\n"
     ]
    }
   ],
   "source": [
    "res = list(map(area,rad))\n",
    "print(res)"
   ]
  },
  {
   "cell_type": "code",
   "execution_count": 38,
   "metadata": {},
   "outputs": [
    {
     "data": {
      "text/plain": [
       "True"
      ]
     },
     "execution_count": 38,
     "metadata": {},
     "output_type": "execute_result"
    }
   ],
   "source": [
    "isinstance(5,int)\n",
    "#print(r)"
   ]
  },
  {
   "cell_type": "code",
   "execution_count": 15,
   "metadata": {},
   "outputs": [
    {
     "name": "stdout",
     "output_type": "stream",
     "text": [
      "The area is  12.566370614359172\n"
     ]
    }
   ],
   "source": [
    "import math\n",
    "def area(r):\n",
    "    a = math.pi*(r**2)\n",
    "    return a\n",
    "\n",
    "res = area(2)\n",
    "print('The area is ',res)\n",
    "\n"
   ]
  },
  {
   "cell_type": "code",
   "execution_count": 9,
   "metadata": {},
   "outputs": [
    {
     "name": "stdout",
     "output_type": "stream",
     "text": [
      "['The area is 3.141592653589793', 'The area is 12.566370614359172', 'The area is 28.274333882308138', 'The area is 50.26548245743669']\n"
     ]
    }
   ],
   "source": [
    "import math\n",
    "def area(r):\n",
    "    a = math.pi*(r**2)\n",
    "    return 'The area is {}'.format(a)\n",
    "\n",
    "#res = area(2)\n",
    "#print('The area is ',res)\n",
    "\n",
    "radius = [1,2,3,4]\n",
    "\n",
    "areas = []\n",
    "for r in radius:\n",
    "    b = area(r)\n",
    "    areas.append(b)\n",
    "print(areas)"
   ]
  },
  {
   "cell_type": "code",
   "execution_count": 12,
   "metadata": {},
   "outputs": [
    {
     "name": "stdout",
     "output_type": "stream",
     "text": [
      "The area is 3.141592653589793\n",
      "The area is 12.566370614359172\n",
      "The area is 28.274333882308138\n",
      "The area is 50.26548245743669\n"
     ]
    }
   ],
   "source": [
    "import math\n",
    "def area(r):\n",
    "    a = math.pi*(r**2)\n",
    "    return 'The area is {}'.format(a)\n",
    "\n",
    "#res = area(2)\n",
    "#print('The area is ',res)\n",
    "\n",
    "radius = [1,2,3,4]\n",
    "\n",
    "res = map(area,radius)\n",
    "for i in res:\n",
    "    print(i)"
   ]
  },
  {
   "cell_type": "code",
   "execution_count": 2,
   "metadata": {},
   "outputs": [
    {
     "name": "stdout",
     "output_type": "stream",
     "text": [
      "The area is  3.141592653589793\n",
      "The area is  12.566370614359172\n",
      "The area is  28.274333882308138\n",
      "The area is  50.26548245743669\n"
     ]
    }
   ],
   "source": [
    "import math\n",
    "def area(r):\n",
    "    a = math.pi*(r**2)\n",
    "    return a\n",
    "\n",
    "#res = area(2)\n",
    "#print('The area is ',res)\n",
    "\n",
    "radius = [1,2,3,4]\n",
    "\n",
    "res = map(area,radius)\n",
    "#print(res)\n",
    "for i in res:\n",
    "    print('The area is ',i)"
   ]
  },
  {
   "cell_type": "code",
   "execution_count": 32,
   "metadata": {},
   "outputs": [
    {
     "name": "stdout",
     "output_type": "stream",
     "text": [
      "The area is: 3.141592653589793\n",
      "The area is: 12.566370614359172\n",
      "The area is: 28.274333882308138\n",
      "The area is: 50.26548245743669\n"
     ]
    }
   ],
   "source": [
    "import math\n",
    "radius = [1,2,3,4]\n",
    "res = map(lambda r:math.pi*r**2,radius)\n",
    "for i in res:\n",
    "    print('The area is:',i)"
   ]
  },
  {
   "cell_type": "code",
   "execution_count": null,
   "metadata": {},
   "outputs": [],
   "source": [
    "import math\n",
    "def area(r):\n",
    "    a = math.pi*(r**2)\n",
    "    return 'The area is {}'.format(a)\n",
    "\n",
    "#res = area(2)\n",
    "#print('The area is ',res)\n",
    "\n",
    "radius = [1,2,3,4]\n",
    "\n",
    "res = list(map(area,radius))\n",
    "print(res)"
   ]
  },
  {
   "cell_type": "code",
   "execution_count": 17,
   "metadata": {},
   "outputs": [
    {
     "data": {
      "text/plain": [
       "'The number 5 is odd'"
      ]
     },
     "execution_count": 17,
     "metadata": {},
     "output_type": "execute_result"
    }
   ],
   "source": [
    "def evenorodd(num):\n",
    "    if num%2==0:\n",
    "        return 'The number {} is even'.format(num)\n",
    "    else:\n",
    "        return 'The number {} is odd'.format(num)\n",
    "\n",
    "evenorodd(5)"
   ]
  },
  {
   "cell_type": "code",
   "execution_count": 20,
   "metadata": {},
   "outputs": [
    {
     "name": "stdout",
     "output_type": "stream",
     "text": [
      "['The number 1 is odd', 'The number 2 is even', 'The number 3 is odd', 'The number 4 is even', 'The number 5 is odd', 'The number 6 is even']\n"
     ]
    }
   ],
   "source": [
    "def evenorodd(num):\n",
    "    if num%2==0:\n",
    "        return 'The number {} is even'.format(num)\n",
    "    else:\n",
    "        return 'The number {} is odd'.format(num)\n",
    "\n",
    "number = [1,2,3,4,5,6]\n",
    "L = []\n",
    "for i in number:\n",
    "    r=evenorodd(i)\n",
    "    L.append(r)\n",
    "print(L)"
   ]
  },
  {
   "cell_type": "code",
   "execution_count": 21,
   "metadata": {},
   "outputs": [
    {
     "name": "stdout",
     "output_type": "stream",
     "text": [
      "The number 1 is odd\n",
      "The number 2 is even\n",
      "The number 3 is odd\n",
      "The number 4 is even\n",
      "The number 5 is odd\n",
      "The number 6 is even\n"
     ]
    }
   ],
   "source": [
    "def evenorodd(num):\n",
    "    if num%2==0:\n",
    "        return 'The number {} is even'.format(num)\n",
    "    else:\n",
    "        return 'The number {} is odd'.format(num)\n",
    "\n",
    "number = [1,2,3,4,5,6]\n",
    "res = map(evenorodd,number)\n",
    "for r in res:\n",
    "    print(r)"
   ]
  },
  {
   "cell_type": "code",
   "execution_count": 27,
   "metadata": {},
   "outputs": [
    {
     "name": "stdout",
     "output_type": "stream",
     "text": [
      "False\n",
      "True\n",
      "False\n",
      "True\n",
      "False\n",
      "True\n"
     ]
    }
   ],
   "source": [
    "number = [1,2,3,4,5,6]\n",
    "res = map(lambda n:n%2==0,number)\n",
    "for r in res:\n",
    "    print(r)"
   ]
  },
  {
   "cell_type": "code",
   "execution_count": 4,
   "metadata": {},
   "outputs": [
    {
     "data": {
      "text/plain": [
       "<function __main__.<lambda>(x)>"
      ]
     },
     "execution_count": 4,
     "metadata": {},
     "output_type": "execute_result"
    }
   ],
   "source": [
    "lambda x:x**2\n"
   ]
  },
  {
   "cell_type": "code",
   "execution_count": 100,
   "metadata": {},
   "outputs": [
    {
     "name": "stdout",
     "output_type": "stream",
     "text": [
      "['The number 1 is odd', 'The number 2 is even', 'The number 3 is odd', 'The number 4 is even', 'The number 5 is odd', 'The number 6 is even']\n"
     ]
    }
   ],
   "source": [
    "def evenorodd(num):\n",
    "    if num%2==0:\n",
    "        return 'The number {} is even'.format(num)\n",
    "    else:\n",
    "        return 'The number {} is odd'.format(num)\n",
    "\n",
    "number = [1,2,3,4,5,6]\n",
    "L = []\n",
    "for i in number:\n",
    "    r=evenorodd(i)\n",
    "    L.append(r)\n",
    "print(L)"
   ]
  },
  {
   "cell_type": "code",
   "execution_count": 106,
   "metadata": {},
   "outputs": [
    {
     "name": "stdout",
     "output_type": "stream",
     "text": [
      "2\n",
      "4\n",
      "6\n"
     ]
    }
   ],
   "source": [
    "def evenorodd(num):\n",
    "    if num%2==0:\n",
    "        return True\n",
    "    else:\n",
    "        return False\n",
    "\n",
    "number = [1,2,3,4,5,6]\n",
    "res = filter(evenorodd,number)\n",
    "for r in res:\n",
    "    print(r)"
   ]
  },
  {
   "cell_type": "code",
   "execution_count": 36,
   "metadata": {},
   "outputs": [
    {
     "name": "stdout",
     "output_type": "stream",
     "text": [
      "246"
     ]
    }
   ],
   "source": [
    "number = [1,2,3,4,5,6]\n",
    "res = filter(lambda n:n%2==0,number)\n",
    "for r in res:\n",
    "    print(r,end='')"
   ]
  },
  {
   "cell_type": "code",
   "execution_count": 38,
   "metadata": {},
   "outputs": [
    {
     "name": "stdout",
     "output_type": "stream",
     "text": [
      "[2, 4, 6]\n"
     ]
    }
   ],
   "source": [
    "number = [1,2,3,4,5,6]\n",
    "res = list(filter(lambda n:n%2==0,number))\n",
    "print(res)"
   ]
  },
  {
   "cell_type": "code",
   "execution_count": 39,
   "metadata": {},
   "outputs": [
    {
     "name": "stdout",
     "output_type": "stream",
     "text": [
      "[1, 3, 5]\n"
     ]
    }
   ],
   "source": [
    "number = [1,2,3,4,5,6]\n",
    "res = list(filter(lambda n:n%2!=0,number))\n",
    "print(res)"
   ]
  },
  {
   "cell_type": "code",
   "execution_count": 40,
   "metadata": {},
   "outputs": [
    {
     "name": "stdout",
     "output_type": "stream",
     "text": [
      "{1: 4, 2: 5, 3: 6}\n"
     ]
    }
   ],
   "source": [
    "a = (1,2,3)\n",
    "b= (4,5,6)\n",
    "r = dict(zip(a,b))\n",
    "print(r)"
   ]
  },
  {
   "cell_type": "code",
   "execution_count": 44,
   "metadata": {},
   "outputs": [
    {
     "name": "stdout",
     "output_type": "stream",
     "text": [
      "(0, 'P')\n",
      "(1, 'y')\n",
      "(2, 't')\n",
      "(3, 'h')\n",
      "(4, 'o')\n",
      "(5, 'n')\n"
     ]
    }
   ],
   "source": [
    "s  = 'Python'\n",
    "r = enumerate(s)\n",
    "for i in r:\n",
    "    print(i)"
   ]
  },
  {
   "cell_type": "code",
   "execution_count": 45,
   "metadata": {},
   "outputs": [
    {
     "name": "stdout",
     "output_type": "stream",
     "text": [
      "[(0, 'P'), (1, 'y'), (2, 't'), (3, 'h'), (4, 'o'), (5, 'n')]\n"
     ]
    }
   ],
   "source": [
    "s  = 'Python'\n",
    "r = list(enumerate(s))\n",
    "print(r)"
   ]
  },
  {
   "cell_type": "code",
   "execution_count": 79,
   "metadata": {},
   "outputs": [
    {
     "name": "stdout",
     "output_type": "stream",
     "text": [
      "('a', 10)\n",
      "('b', 20)\n",
      "('c', 30)\n",
      "('d', 40)\n"
     ]
    }
   ],
   "source": [
    "a = ['a','b','c','d']\n",
    "b= [10,20,30,40]\n",
    "for i in zip(a,b):\n",
    "    print(i)"
   ]
  },
  {
   "cell_type": "code",
   "execution_count": 80,
   "metadata": {},
   "outputs": [
    {
     "name": "stdout",
     "output_type": "stream",
     "text": [
      "a 10\n",
      "b 20\n",
      "c 30\n",
      "d 40\n"
     ]
    }
   ],
   "source": [
    "a = ['a','b','c','d']\n",
    "b= [10,20,30,40]\n",
    "for i,j in zip(a,b):\n",
    "    print(i,j)"
   ]
  },
  {
   "cell_type": "code",
   "execution_count": 81,
   "metadata": {},
   "outputs": [
    {
     "name": "stdout",
     "output_type": "stream",
     "text": [
      "{'a': 10, 'b': 20, 'c': 30, 'd': 40}\n"
     ]
    }
   ],
   "source": [
    "a = ['a','b','c','d']\n",
    "b= [10,20,30,40]\n",
    "d = dict(zip(a,b))\n",
    "print(d)"
   ]
  },
  {
   "cell_type": "code",
   "execution_count": 83,
   "metadata": {},
   "outputs": [
    {
     "name": "stdout",
     "output_type": "stream",
     "text": [
      "('a', 10)\n",
      "('b', 20)\n",
      "('c', 30)\n",
      "('d', 40)\n"
     ]
    }
   ],
   "source": [
    "a = ['a','b','c','d']\n",
    "b= [10,20,30,40]\n",
    "d = zip(a,b)\n",
    "for i in d:\n",
    "    print(i)"
   ]
  },
  {
   "cell_type": "code",
   "execution_count": 60,
   "metadata": {},
   "outputs": [
    {
     "name": "stdout",
     "output_type": "stream",
     "text": [
      "The largest number is 485\n",
      "The largest number is -52\n"
     ]
    }
   ],
   "source": [
    "L= [10,20,30,1,2,485,0,-3,-52]\n",
    "\n",
    "large = L[0]\n",
    "small = L[0]\n",
    "for i in L:\n",
    "    if i> large:\n",
    "        large = i\n",
    "    else:\n",
    "        small = i\n",
    "\n",
    "print('The largest number is',large)\n",
    "print('The largest number is',small)\n",
    "\n"
   ]
  },
  {
   "cell_type": "markdown",
   "metadata": {},
   "source": [
    "# Convert a string to all uppercase if it contains at least 2 uppercase characters in the first 4 characters"
   ]
  },
  {
   "cell_type": "code",
   "execution_count": 87,
   "metadata": {},
   "outputs": [
    {
     "name": "stdout",
     "output_type": "stream",
     "text": [
      "Enter the string: ArvIndh\n",
      "The string is  ARVINDH\n"
     ]
    }
   ],
   "source": [
    "s = input('Enter the string: ')\n",
    "n=0\n",
    "for i in s[:4]: \n",
    "        if i.isupper():\n",
    "            n =n+1\n",
    "            \n",
    "if n>= 2:\n",
    "    print('The string is ',s.upper())\n",
    "else:\n",
    "    print('No String ')\n",
    "\n"
   ]
  },
  {
   "cell_type": "markdown",
   "metadata": {},
   "source": [
    "# Count the elements in a list until an element is a tuple"
   ]
  },
  {
   "cell_type": "code",
   "execution_count": 89,
   "metadata": {},
   "outputs": [
    {
     "name": "stdout",
     "output_type": "stream",
     "text": [
      "The elements are 3\n"
     ]
    }
   ],
   "source": [
    "L = [10,20,30,(10,20),40]\n",
    "count = 0\n",
    "for i in L:\n",
    "    if isinstance(i, tuple):\n",
    "        break\n",
    "    count = count+1\n",
    "\n",
    "print('The elements are',count)\n"
   ]
  },
  {
   "cell_type": "markdown",
   "metadata": {},
   "source": [
    "# Find a distinct pair of numbers whose product is odd from a sequence of integer values"
   ]
  },
  {
   "cell_type": "code",
   "execution_count": 93,
   "metadata": {},
   "outputs": [
    {
     "name": "stdout",
     "output_type": "stream",
     "text": [
      "False\n"
     ]
    }
   ],
   "source": [
    "nums = [1, 6, 4, 7, 8]\n",
    "for i in range(len(nums)):\n",
    "    for j in range(len(nums)):\n",
    "        if  i != j:\n",
    "            product = nums[i] * nums[j]\n",
    "    \n",
    "if product & 1:\n",
    "    print('True')\n",
    "else:\n",
    "    print('False')\n",
    "\n",
    "\n"
   ]
  },
  {
   "cell_type": "code",
   "execution_count": 94,
   "metadata": {},
   "outputs": [
    {
     "data": {
      "text/plain": [
       "True"
      ]
     },
     "execution_count": 94,
     "metadata": {},
     "output_type": "execute_result"
    }
   ],
   "source": [
    "isinstance(2+3j,complex)"
   ]
  },
  {
   "cell_type": "markdown",
   "metadata": {},
   "source": [
    "# Count the even, odd numbers in a given array of integers using Lambda function"
   ]
  },
  {
   "cell_type": "code",
   "execution_count": 99,
   "metadata": {},
   "outputs": [
    {
     "name": "stdout",
     "output_type": "stream",
     "text": [
      "[1, 2, 3, 5, 7, 8, 9, 10]\n",
      "5 numbers are odd and that are:  [1, 3, 5, 7, 9]\n",
      "3 numbers are even and that are:  [2, 8, 10]\n"
     ]
    }
   ],
   "source": [
    "L = [1, 2, 3, 5, 7, 8, 9, 10]\n",
    "print(L)\n",
    "odd = list(filter(lambda x: (x%2 != 0) , L))\n",
    "print(len(odd),'numbers are odd and that are: ',odd)\n",
    "even = list(filter(lambda x: (x%2 == 0) , L))\n",
    "print(len(even),'numbers are even and that are: ',even)\n"
   ]
  },
  {
   "cell_type": "code",
   "execution_count": 104,
   "metadata": {},
   "outputs": [
    {
     "name": "stdout",
     "output_type": "stream",
     "text": [
      "['let us c', 'python', 'java']\n"
     ]
    }
   ],
   "source": [
    "books = ['let us c','','python','','','java']\n",
    "r = list(filter(None,books))\n",
    "print(r)"
   ]
  },
  {
   "cell_type": "code",
   "execution_count": 116,
   "metadata": {},
   "outputs": [
    {
     "name": "stdout",
     "output_type": "stream",
     "text": [
      "2\n",
      "4\n",
      "6\n"
     ]
    }
   ],
   "source": [
    "def evenorodd(num):\n",
    "    if num%2==0:\n",
    "        return True\n",
    "    \n",
    "number = [1,2,3,4,5,6]\n",
    "res = filter(evenorodd,number)\n",
    "for r in res:\n",
    "    print(r)"
   ]
  },
  {
   "cell_type": "code",
   "execution_count": 117,
   "metadata": {},
   "outputs": [
    {
     "name": "stdout",
     "output_type": "stream",
     "text": [
      "[2, 4, 6]\n"
     ]
    }
   ],
   "source": [
    "def evenorodd(num):\n",
    "    if num%2==0:\n",
    "        return True\n",
    "    \n",
    "number = [1,2,3,4,5,6]\n",
    "res = list(filter(evenorodd,number))\n",
    "print(res)"
   ]
  },
  {
   "cell_type": "code",
   "execution_count": 118,
   "metadata": {},
   "outputs": [
    {
     "name": "stdout",
     "output_type": "stream",
     "text": [
      "[1, 3, 5]\n"
     ]
    }
   ],
   "source": [
    "def evenorodd(num):\n",
    "    if num%2!=0:\n",
    "        return True\n",
    "    \n",
    "number = [1,2,3,4,5,6]\n",
    "res = list(filter(evenorodd,number))\n",
    "print(res)"
   ]
  }
 ],
 "metadata": {
  "kernelspec": {
   "display_name": "Python 3",
   "language": "python",
   "name": "python3"
  },
  "language_info": {
   "codemirror_mode": {
    "name": "ipython",
    "version": 3
   },
   "file_extension": ".py",
   "mimetype": "text/x-python",
   "name": "python",
   "nbconvert_exporter": "python",
   "pygments_lexer": "ipython3",
   "version": "3.7.5"
  }
 },
 "nbformat": 4,
 "nbformat_minor": 2
}
