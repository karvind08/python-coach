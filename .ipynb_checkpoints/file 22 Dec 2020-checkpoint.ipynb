{
 "cells": [
  {
   "cell_type": "code",
   "execution_count": 3,
   "metadata": {},
   "outputs": [],
   "source": [
    "f = open('a.txt','w')\n",
    "f.write('This is a text file example')\n",
    "f.close()"
   ]
  },
  {
   "cell_type": "code",
   "execution_count": 4,
   "metadata": {},
   "outputs": [],
   "source": [
    "with open('b.text','w') as f:\n",
    "    f.write('This is b file')"
   ]
  },
  {
   "cell_type": "code",
   "execution_count": 8,
   "metadata": {},
   "outputs": [
    {
     "name": "stdout",
     "output_type": "stream",
     "text": [
      "This is a text file example\n"
     ]
    },
    {
     "data": {
      "text/plain": [
       "str"
      ]
     },
     "execution_count": 8,
     "metadata": {},
     "output_type": "execute_result"
    }
   ],
   "source": [
    "f = open('a.txt','r')\n",
    "data=f.read()\n",
    "print(data)\n",
    "type(data)"
   ]
  },
  {
   "cell_type": "code",
   "execution_count": 9,
   "metadata": {},
   "outputs": [
    {
     "name": "stdout",
     "output_type": "stream",
     "text": [
      "This is a text file example\n",
      "This is second line\n",
      "This is third line\n",
      "This is fourth line\n"
     ]
    },
    {
     "data": {
      "text/plain": [
       "str"
      ]
     },
     "execution_count": 9,
     "metadata": {},
     "output_type": "execute_result"
    }
   ],
   "source": [
    "f = open('a.txt','r')\n",
    "data=f.read()\n",
    "print(data)\n",
    "type(data)"
   ]
  },
  {
   "cell_type": "code",
   "execution_count": 14,
   "metadata": {},
   "outputs": [
    {
     "name": "stdout",
     "output_type": "stream",
     "text": [
      "This is a text file example\n",
      "This is second line\n",
      "Th\n"
     ]
    }
   ],
   "source": [
    "f = open('a.txt','r')\n",
    "data=f.read(50)\n",
    "print(data)"
   ]
  },
  {
   "cell_type": "code",
   "execution_count": 19,
   "metadata": {},
   "outputs": [
    {
     "name": "stdout",
     "output_type": "stream",
     "text": [
      "This is a text file example\n",
      "\n"
     ]
    }
   ],
   "source": [
    "f = open('a.txt','r')\n",
    "data=f.readline()\n",
    "print(data)"
   ]
  },
  {
   "cell_type": "code",
   "execution_count": 20,
   "metadata": {},
   "outputs": [
    {
     "name": "stdout",
     "output_type": "stream",
     "text": [
      "This is a text file examp\n"
     ]
    }
   ],
   "source": [
    "f = open('a.txt','r')\n",
    "data=f.readline(25)\n",
    "print(data)"
   ]
  },
  {
   "cell_type": "code",
   "execution_count": 21,
   "metadata": {},
   "outputs": [
    {
     "name": "stdout",
     "output_type": "stream",
     "text": [
      "This is a text file example\n",
      "\n"
     ]
    }
   ],
   "source": [
    "f = open('a.txt','r')\n",
    "data=f.readline(60)\n",
    "print(data)"
   ]
  },
  {
   "cell_type": "code",
   "execution_count": 25,
   "metadata": {},
   "outputs": [
    {
     "name": "stdout",
     "output_type": "stream",
     "text": [
      "This is a text file example\n",
      "\n",
      "This is second line\n",
      "\n",
      "This is third line\n",
      "\n"
     ]
    }
   ],
   "source": [
    "f = open('a.txt','r')\n",
    "data=f.readline()\n",
    "data1=f.readline()\n",
    "data2=f.readline()\n",
    "print(data)\n",
    "print(data1)\n",
    "print(data2)"
   ]
  },
  {
   "cell_type": "code",
   "execution_count": 26,
   "metadata": {},
   "outputs": [
    {
     "name": "stdout",
     "output_type": "stream",
     "text": [
      "['This is a text file example\\n', 'This is second line\\n', 'This is third line\\n', 'This is fourth line']\n"
     ]
    }
   ],
   "source": [
    "f = open('a.txt','r')\n",
    "data=f.readlines()\n",
    "print(data)"
   ]
  },
  {
   "cell_type": "code",
   "execution_count": 1,
   "metadata": {},
   "outputs": [
    {
     "data": {
      "text/plain": [
       "<function TextIOWrapper.close()>"
      ]
     },
     "execution_count": 1,
     "metadata": {},
     "output_type": "execute_result"
    }
   ],
   "source": [
    "f = open('b.txt','w')\n",
    "f.write('Computer Science')\n",
    "f.close"
   ]
  },
  {
   "cell_type": "code",
   "execution_count": 2,
   "metadata": {},
   "outputs": [
    {
     "name": "stdout",
     "output_type": "stream",
     "text": [
      "\n"
     ]
    }
   ],
   "source": [
    "f = open('b.txt','r')\n",
    "data=f.read()\n",
    "print(data)"
   ]
  },
  {
   "cell_type": "markdown",
   "metadata": {},
   "source": [
    "# writelines()"
   ]
  },
  {
   "cell_type": "code",
   "execution_count": 2,
   "metadata": {},
   "outputs": [],
   "source": [
    "f = open('b.txt','w')\n",
    "f.write('First Line')\n",
    "l=['a','b','c','d']\n",
    "f.writelines(l)\n",
    "f.close()"
   ]
  },
  {
   "cell_type": "markdown",
   "metadata": {},
   "source": [
    "# Addition of two number in file"
   ]
  },
  {
   "cell_type": "code",
   "execution_count": 2,
   "metadata": {},
   "outputs": [
    {
     "name": "stdout",
     "output_type": "stream",
     "text": [
      "Enter the first number:8\n",
      "Enter the second number:6\n"
     ]
    }
   ],
   "source": [
    "f=open('sum.txt','w')\n",
    "a=int(input('Enter the first number:'))\n",
    "b=int(input('Enter the second number:'))\n",
    "s = a+b\n",
    "f.write('\\n A='+str(a))\n",
    "f.write('\\n B='+str(b))\n",
    "f.write('\\n S='+str(s))\n",
    "f.close()"
   ]
  },
  {
   "cell_type": "markdown",
   "metadata": {},
   "source": [
    "# Write a function in Python to read the content from a text file line by line and display the same on the screen."
   ]
  },
  {
   "cell_type": "code",
   "execution_count": 3,
   "metadata": {},
   "outputs": [
    {
     "name": "stdout",
     "output_type": "stream",
     "text": [
      "1. Write a Python function to find the Max of three numbers.\n",
      "\n",
      "2. Write a program to find out the factorial of a given number.\n",
      "\n",
      "3. Write a program to find out the sum of first N natural numbers.\n",
      "\n",
      "4. Write a Python function that takes a number as a parameter and check the number is prime or not.\n",
      "\n",
      "5. Write a Program to check whether a number is in a given range.\n",
      "\n",
      "6. Write a program to find out the sum of elements from a list.\n",
      "\n",
      "7. Write a program to find out the multiplication of elements from a list.\n",
      "\n",
      "8. Write a Python function to check whether a number is perfect or not.\n",
      "\n",
      "9. Write a Python function to create and print a list where the values are square of numbers between 1 and 20 (both included).\n",
      "\n",
      "10. Write a program to calculate sum of digits of a 5 digits number using function. \n",
      "\n",
      "11. Write a program to find out reverse number of a 5 digits number using function. \n",
      "\n",
      "12. Write a function that accepts a string and calculate the number of upper case letters and lower case letters.\n",
      "\n",
      "13. Write a function that takes a list and returns a new list with unique elements of the first list.\n",
      "\n",
      "14. Write a Python function that takes a list and returns a new list with even elements in the list.\n",
      "\n",
      "15. Write a program to find out the factorial of a given number using recursion.\n",
      "\n",
      "16. Write a program to find out the sum of first n natural numbers using recursion.\n",
      "\n",
      "17. Write a program to calculate sum of digits of a 5 digits number using recursion. \n",
      "\n"
     ]
    }
   ],
   "source": [
    "def read():\n",
    "    f = open('read.txt','r')\n",
    "    while True:\n",
    "        line = f.readline()\n",
    "        if line == '':\n",
    "            break\n",
    "        else:\n",
    "            print(line)\n",
    "        \n",
    "read()"
   ]
  },
  {
   "cell_type": "markdown",
   "metadata": {},
   "source": [
    "# Write a function in Python to read lines from a text file line by line and display those lines which are starting with an alphabet s."
   ]
  },
  {
   "cell_type": "code",
   "execution_count": 6,
   "metadata": {},
   "outputs": [
    {
     "name": "stdout",
     "output_type": "stream",
     "text": [
      "This is my first program of file handling\n",
      "\n",
      "This is Python course \n"
     ]
    }
   ],
   "source": [
    "def readal():\n",
    "    f = open('second1.txt','r')\n",
    "    lines = f.readlines()\n",
    "    #print(lines)\n",
    "    for i in lines:\n",
    "        if i[0]=='T':\n",
    "            print(i)\n",
    "\n",
    "readal()"
   ]
  },
  {
   "cell_type": "markdown",
   "metadata": {},
   "source": [
    "# Write a function in Python to read lines from a text file line by line and display those lines which are either starting with an alphabet s or starting with an alphabet d"
   ]
  },
  {
   "cell_type": "code",
   "execution_count": 19,
   "metadata": {},
   "outputs": [
    {
     "name": "stdout",
     "output_type": "stream",
     "text": [
      "Print a String in Pattern Format In Python\n",
      "\n",
      "Reverse Number Of A 5 Digits Number In Python\n",
      "\n"
     ]
    }
   ],
   "source": [
    "def readald():\n",
    "    f = open('sample.txt','r')\n",
    "    lines = f.readlines()\n",
    "    for i in lines:\n",
    "        if i[0]=='R' or i[0]=='P':\n",
    "            print(i)\n",
    "readald()"
   ]
  },
  {
   "cell_type": "markdown",
   "metadata": {},
   "source": [
    "# Write a function in Python to count the number of lines from a text file which are starting with a character 's'."
   ]
  },
  {
   "cell_type": "code",
   "execution_count": 20,
   "metadata": {},
   "outputs": [
    {
     "name": "stdout",
     "output_type": "stream",
     "text": [
      "The lines are:  9\n"
     ]
    }
   ],
   "source": [
    "def readchar():\n",
    "    count = 0\n",
    "    f = open('read.txt','r')\n",
    "    lines = f.readlines()\n",
    "    for i in lines:\n",
    "        if i[0]=='1':\n",
    "            count+=1\n",
    "    return count\n",
    "c= readchar()\n",
    "print('The lines are: ',c)"
   ]
  },
  {
   "cell_type": "markdown",
   "metadata": {},
   "source": [
    "# Write a python function to read lines from a text file line by line and display those lines which are having more than 10 characters."
   ]
  },
  {
   "cell_type": "code",
   "execution_count": 27,
   "metadata": {},
   "outputs": [
    {
     "name": "stdout",
     "output_type": "stream",
     "text": [
      "4. Write a Python function that takes a number as a parameter and check the number is prime or not.\n",
      "\n",
      "9. Write a Python function to create and print a list where the values are square of numbers between 1 and 20 (both included).\n",
      "\n",
      "12. Write a function that accepts a string and calculate the number of upper case letters and lower case letters.\n",
      "\n",
      "13. Write a function that takes a list and returns a new list with unique elements of the first list.\n",
      "\n",
      "14. Write a Python function that takes a list and returns a new list with even elements in the list.\n",
      "\n"
     ]
    }
   ],
   "source": [
    "def countline():\n",
    "    f = open('read.txt','r')\n",
    "    lines = f.readlines()\n",
    "    for i in lines:\n",
    "        if len(i)>=100:\n",
    "            print(i)\n",
    "        \n",
    "countline()"
   ]
  },
  {
   "cell_type": "markdown",
   "metadata": {},
   "source": [
    "# Write a python function to read lines from a text file and count the total number of words in a file."
   ]
  },
  {
   "cell_type": "code",
   "execution_count": 28,
   "metadata": {},
   "outputs": [
    {
     "name": "stdout",
     "output_type": "stream",
     "text": [
      "The total number of words:  278\n"
     ]
    }
   ],
   "source": [
    "def countword():\n",
    "    f = open('read.txt','r')\n",
    "    text = f.read()\n",
    "    words = text.split()\n",
    "    count = 0\n",
    "    for i in words:\n",
    "        count+=1\n",
    "    print('The total number of words: ',count)\n",
    "\n",
    "countword()\n",
    "    "
   ]
  },
  {
   "cell_type": "markdown",
   "metadata": {},
   "source": [
    "# Write a python function to read content from a text file and display the occurances of the word 'to'."
   ]
  },
  {
   "cell_type": "code",
   "execution_count": 29,
   "metadata": {},
   "outputs": [
    {
     "name": "stdout",
     "output_type": "stream",
     "text": [
      "The occurance is:  13\n"
     ]
    }
   ],
   "source": [
    "def displayto():\n",
    "    f = open('read.txt','r')\n",
    "    text = f.read()\n",
    "    words = text.split()\n",
    "    count = 0\n",
    "    for i in words:\n",
    "        if i=='to':\n",
    "            count+=1\n",
    "    print('The occurance is: ',count)\n",
    "displayto()"
   ]
  },
  {
   "cell_type": "markdown",
   "metadata": {},
   "source": [
    "# Write a python function to read content from a text file and display the occurances of those words which are having 5 or more alphabets."
   ]
  },
  {
   "cell_type": "code",
   "execution_count": 33,
   "metadata": {},
   "outputs": [
    {
     "name": "stdout",
     "output_type": "stream",
     "text": [
      "The total number is:  5\n"
     ]
    }
   ],
   "source": [
    "def read5alpha():\n",
    "    f = open('read.txt','r')\n",
    "    text = f.read()\n",
    "    words = text.split()\n",
    "    count = 0\n",
    "    for i in words:\n",
    "        if len(i)>=10:\n",
    "            count+=1\n",
    "    print('The total number is: ',count)\n",
    "read5alpha()"
   ]
  },
  {
   "cell_type": "markdown",
   "metadata": {},
   "source": [
    "# Write a python function to read content from a text file and count and display the occurance of the words 'is','to'"
   ]
  },
  {
   "cell_type": "code",
   "execution_count": 34,
   "metadata": {},
   "outputs": [
    {
     "name": "stdout",
     "output_type": "stream",
     "text": [
      "The count is : 16\n"
     ]
    }
   ],
   "source": [
    "def readto():\n",
    "    f = open('read.txt','r')\n",
    "    count = 0\n",
    "    text = f.read()\n",
    "    words = text.split()\n",
    "    for i in words:\n",
    "        if i=='is' or i=='to':\n",
    "            count+=1\n",
    "    print('The count is :',count)\n",
    "readto() \n"
   ]
  },
  {
   "cell_type": "code",
   "execution_count": null,
   "metadata": {},
   "outputs": [],
   "source": []
  }
 ],
 "metadata": {
  "kernelspec": {
   "display_name": "Python 3",
   "language": "python",
   "name": "python3"
  },
  "language_info": {
   "codemirror_mode": {
    "name": "ipython",
    "version": 3
   },
   "file_extension": ".py",
   "mimetype": "text/x-python",
   "name": "python",
   "nbconvert_exporter": "python",
   "pygments_lexer": "ipython3",
   "version": "3.7.5"
  }
 },
 "nbformat": 4,
 "nbformat_minor": 2
}
