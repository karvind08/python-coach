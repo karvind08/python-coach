{
 "cells": [
  {
   "cell_type": "markdown",
   "metadata": {},
   "source": [
    "# Write a program to check if a given key exists in a dictionary or not. if key exists print the value of it."
   ]
  },
  {
   "cell_type": "code",
   "execution_count": null,
   "metadata": {},
   "outputs": [],
   "source": [
    "d = {}\n",
    "n = int(input('Enter the number of elements in dictionary: '))\n",
    "for i in range(n):\n",
    "    k=input('Enter the key: ')\n",
    "    v=int(input('Enter the value: '))\n",
    "    d[k]=v\n",
    "print('The dictionary is: ',d)\n",
    "num = input('Enter the key to be search: ')\n",
    "if num in d:\n",
    "    print(num, 'is found and value of is',d[num])\n",
    "else:\n",
    "    print(num,'key is not present')"
   ]
  },
  {
   "cell_type": "markdown",
   "metadata": {},
   "source": [
    "# Write a program to Concatenate two dictioanries into one. "
   ]
  },
  {
   "cell_type": "code",
   "execution_count": null,
   "metadata": {},
   "outputs": [],
   "source": [
    "d1 = {}\n",
    "d2 = {}\n",
    "n1 = int(input('Enter the number of elements in dictionary d1: '))\n",
    "for i in range(n1):\n",
    "    k1=input('Enter the key for d1: ')\n",
    "    v1=int(input('Enter the value for d1: '))\n",
    "    d1[k1]=v1\n",
    "print('The dictionary is: ',d1)\n",
    "n2 = int(input('Enter the number of elements in dictionary d2: '))\n",
    "for i in range(n2):\n",
    "    k2=input('Enter the key for d2: ')\n",
    "    v2=int(input('Enter the value for d2: '))\n",
    "    d2[k2]=v2\n",
    "print('The dictionary is: ',d2)\n",
    "d1.update(d2)\n",
    "print('The updated dictionary is:',d1)"
   ]
  },
  {
   "cell_type": "markdown",
   "metadata": {},
   "source": [
    "# Write a program to calculate sum of all values in a dictionary."
   ]
  },
  {
   "cell_type": "code",
   "execution_count": null,
   "metadata": {},
   "outputs": [],
   "source": [
    "d = {}\n",
    "sum=0\n",
    "n = int(input('Enter the number of elements in dictionary: '))\n",
    "for i in range(n):\n",
    "    k=input('Enter the key: ')\n",
    "    v=int(input('Enter the value: '))\n",
    "    d[k]=v\n",
    "print('The dictionary is: ',d)\n",
    "for i in d.values():\n",
    "    sum+=i\n",
    "print('The sum of values is',sum)"
   ]
  },
  {
   "cell_type": "markdown",
   "metadata": {},
   "source": [
    "# Write a program to calculate multiplication of all values in a dictionary."
   ]
  },
  {
   "cell_type": "code",
   "execution_count": null,
   "metadata": {},
   "outputs": [],
   "source": [
    "d = {}\n",
    "sum=1\n",
    "n = int(input('Enter the number of elements in dictionary: '))\n",
    "for i in range(n):\n",
    "    k=input('Enter the key: ')\n",
    "    v=int(input('Enter the value: '))\n",
    "    d[k]=v\n",
    "print('The dictionary is: ',d)\n",
    "for i in d.values():\n",
    "    sum*=i\n",
    "print('The multiplication of values is',sum)"
   ]
  },
  {
   "cell_type": "markdown",
   "metadata": {},
   "source": [
    "# Write a program to Convert two lists into dictionary. "
   ]
  },
  {
   "cell_type": "code",
   "execution_count": null,
   "metadata": {},
   "outputs": [],
   "source": [
    "L1 = ['a','b','c']\n",
    "L2 = ['A','B','C']\n",
    "D1 = dict(zip(L1,L2))\n",
    "print(D1)"
   ]
  },
  {
   "cell_type": "code",
   "execution_count": null,
   "metadata": {},
   "outputs": [],
   "source": [
    "L1 = []\n",
    "L2 = []\n",
    "n1 = int(input('Enter the number of elements in list L1: '))\n",
    "for i in range(n1):\n",
    "    e1 = input('Enter the elements: ')\n",
    "    L1.append(e1)\n",
    "print('The list L1 is: ',L1)\n",
    "n2 = int(input('Enter the number of elements in list L2: '))\n",
    "for i in range(n2):\n",
    "    e2 = input('Enter the elements: ')\n",
    "    L2.append(e2)\n",
    "print('The list L2 is: ',L2)\n",
    "D1 = dict(zip(L1,L2))\n",
    "print('The dictioanry is ',D1)"
   ]
  },
  {
   "cell_type": "code",
   "execution_count": 1,
   "metadata": {},
   "outputs": [
    {
     "name": "stdout",
     "output_type": "stream",
     "text": [
      "Enter the number of elements in list L1: 2\n",
      "Enter the elements: 1\n",
      "Enter the elements: 2\n",
      "The list L1 is:  ['1', '2']\n",
      "Enter the number of elements in list L2: 2\n",
      "Enter the elements: 5\n",
      "Enter the elements: 4\n",
      "The list L2 is:  ['5', '4']\n",
      "('1', '5')\n",
      "('2', '4')\n"
     ]
    }
   ],
   "source": [
    "L1 = []\n",
    "L2 = []\n",
    "n1 = int(input('Enter the number of elements in list L1: '))\n",
    "for i in range(n1):\n",
    "    e1 = input('Enter the elements: ')\n",
    "    L1.append(e1)\n",
    "print('The list L1 is: ',L1)\n",
    "n2 = int(input('Enter the number of elements in list L2: '))\n",
    "for i in range(n2):\n",
    "    e2 = input('Enter the elements: ')\n",
    "    L2.append(e2)\n",
    "print('The list L2 is: ',L2)\n",
    "for i in zip(L1,L2):\n",
    "    print(i)"
   ]
  },
  {
   "cell_type": "markdown",
   "metadata": {},
   "source": [
    "# Write a program to Create a dictionary which contains numbers between 1 to n as a key and square of them as a value."
   ]
  },
  {
   "cell_type": "code",
   "execution_count": null,
   "metadata": {},
   "outputs": [],
   "source": [
    "n = int(input('Enter the number: '))\n",
    "d = {i:i**3 for i in range(1,n+1)}\n",
    "print(d)"
   ]
  },
  {
   "cell_type": "markdown",
   "metadata": {},
   "source": [
    "# Write a program to create a dictionary that contains state names and their capitals. "
   ]
  },
  {
   "cell_type": "code",
   "execution_count": null,
   "metadata": {},
   "outputs": [],
   "source": [
    "states  = dict()\n",
    "n = int(input('Enter the number of elements in dictionary: '))\n",
    "for i in range(n):\n",
    "    state = input('Enter the state: ')\n",
    "    capital = input('Enter the capital')\n",
    "    states[state]=capital\n",
    "print('The list of states is ',states)\n",
    "s= input('Enter the name of state to display capital: ')\n",
    "print('The capital of',s,'is',states[s])"
   ]
  },
  {
   "cell_type": "markdown",
   "metadata": {},
   "source": [
    "# Write a program to create a dictionary of students to store names and their marks obtianed in  5 subjects. "
   ]
  },
  {
   "cell_type": "code",
   "execution_count": null,
   "metadata": {},
   "outputs": [],
   "source": [
    "students = {}\n",
    "n = int(input('Enter the number of students in dictionary: '))\n",
    "for i in range(n):\n",
    "    name = input('Enter the student name: ')\n",
    "    marks = []\n",
    "    for j in range(5):\n",
    "        m = int(input('Enter the marks: '))\n",
    "        marks.append(m)\n",
    "    students[name] = marks\n",
    "print('The students database',students)"
   ]
  },
  {
   "cell_type": "markdown",
   "metadata": {},
   "source": [
    "# Write a program to create a dictionary of students to store names and their marks obtianed in  5 subjects also check if a given student exists in a dictionary or not. if student exists print the marks otherwise print student not found."
   ]
  },
  {
   "cell_type": "code",
   "execution_count": null,
   "metadata": {},
   "outputs": [],
   "source": [
    "students = {}\n",
    "n = int(input('Enter the number of students in dictionary: '))\n",
    "for i in range(n):\n",
    "    name = input('Enter the student name: ')\n",
    "    marks = []\n",
    "    for j in range(5):\n",
    "        m = int(input('Enter the marks: '))\n",
    "        marks.append(m)\n",
    "    students[name] = marks\n",
    "print('The students database',students)\n",
    "sname = input('Enter the name to be search:')\n",
    "if sname in students.keys():\n",
    "    print(sname,':',students[sname])\n",
    "else:\n",
    "    print('No Students Found')"
   ]
  },
  {
   "cell_type": "markdown",
   "metadata": {},
   "source": [
    "# Write a program to sort the dictionary by values."
   ]
  },
  {
   "cell_type": "code",
   "execution_count": null,
   "metadata": {},
   "outputs": [],
   "source": [
    "d = {}\n",
    "sum=1\n",
    "n = int(input('Enter the number of elements in dictionary: '))\n",
    "for i in range(n):\n",
    "    k=input('Enter the key: ')\n",
    "    v=int(input('Enter the value: '))\n",
    "    d[k]=v\n",
    "print('The dictionary is: ',d)\n",
    "for i in sorted(d.values()):\n",
    "    print(i)"
   ]
  },
  {
   "cell_type": "markdown",
   "metadata": {},
   "source": [
    "# Write a program to sort the dictionary by keys."
   ]
  },
  {
   "cell_type": "code",
   "execution_count": null,
   "metadata": {},
   "outputs": [],
   "source": [
    "d = {}\n",
    "sum=1\n",
    "n = int(input('Enter the number of elements in dictionary: '))\n",
    "for i in range(n):\n",
    "    k=input('Enter the key: ')\n",
    "    v=int(input('Enter the value: '))\n",
    "    d[k]=v\n",
    "print('The dictionary is: ',d)\n",
    "for i in sorted(d.keys()):\n",
    "    print(i)"
   ]
  },
  {
   "cell_type": "code",
   "execution_count": null,
   "metadata": {},
   "outputs": [],
   "source": []
  }
 ],
 "metadata": {
  "kernelspec": {
   "display_name": "Python 3",
   "language": "python",
   "name": "python3"
  },
  "language_info": {
   "codemirror_mode": {
    "name": "ipython",
    "version": 3
   },
   "file_extension": ".py",
   "mimetype": "text/x-python",
   "name": "python",
   "nbconvert_exporter": "python",
   "pygments_lexer": "ipython3",
   "version": "3.7.5"
  }
 },
 "nbformat": 4,
 "nbformat_minor": 2
}
