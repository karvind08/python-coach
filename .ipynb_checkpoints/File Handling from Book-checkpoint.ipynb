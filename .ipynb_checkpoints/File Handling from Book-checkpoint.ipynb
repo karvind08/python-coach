{
 "cells": [
  {
   "cell_type": "markdown",
   "metadata": {},
   "source": [
    "# Open a file called 'sample.txt' in the rerad mode. check the name of the file, its mode and find whether it is closing using the file attributes"
   ]
  },
  {
   "cell_type": "code",
   "execution_count": 5,
   "metadata": {},
   "outputs": [
    {
     "name": "stdout",
     "output_type": "stream",
     "text": [
      "Name os the file:  first.txt\n",
      "Mode:  r\n",
      "File closed:  False\n",
      "Mode:  r\n",
      "File closed:  True\n"
     ]
    }
   ],
   "source": [
    "f = open('first.txt','r')\n",
    "print('Name os the file: ',f.name)\n",
    "print('Mode: ',f.mode)\n",
    "print('File closed: ',f.closed)\n",
    "f.close()\n",
    "print('Mode: ',f.mode)\n",
    "print('File closed: ',f.closed)"
   ]
  },
  {
   "cell_type": "code",
   "execution_count": null,
   "metadata": {},
   "outputs": [],
   "source": [
    "Display the number of the command line arguments and the individual arguments."
   ]
  },
  {
   "cell_type": "code",
   "execution_count": 7,
   "metadata": {},
   "outputs": [
    {
     "name": "stdout",
     "output_type": "stream",
     "text": [
      "The number of arguments 3\n",
      "Arguments: \n",
      "c:\\users\\arvind\\appdata\\local\\programs\\python\\python37\\lib\\site-packages\\ipykernel_launcher.py\n",
      "-f\n",
      "C:\\Users\\Arvind\\AppData\\Roaming\\jupyter\\runtime\\kernel-103ff656-023d-454d-a38b-157e573675d0.json\n"
     ]
    }
   ],
   "source": [
    "import sys\n",
    "print('The number of arguments',len(sys.argv))\n",
    "print('Arguments: ')\n",
    "for i in sys.argv:\n",
    "    print(i)"
   ]
  },
  {
   "cell_type": "markdown",
   "metadata": {},
   "source": [
    "# How to rename the file "
   ]
  },
  {
   "cell_type": "code",
   "execution_count": 14,
   "metadata": {
    "scrolled": true
   },
   "outputs": [
    {
     "name": "stdout",
     "output_type": "stream",
     "text": [
      "This is my first program of file handling\n",
      "This is Python course \n"
     ]
    }
   ],
   "source": [
    "import os\n",
    "os.rename('first.txt','second1.txt')\n",
    "f = open('second1.txt','r')\n",
    "r = f.read()\n",
    "print(r)"
   ]
  },
  {
   "cell_type": "markdown",
   "metadata": {},
   "source": [
    "# Write a program to ask the user to enter lines of text. The user should be able to enter any number of lines. "
   ]
  },
  {
   "cell_type": "code",
   "execution_count": null,
   "metadata": {},
   "outputs": [],
   "source": []
  },
  {
   "cell_type": "code",
   "execution_count": null,
   "metadata": {},
   "outputs": [],
   "source": []
  }
 ],
 "metadata": {
  "kernelspec": {
   "display_name": "Python 3",
   "language": "python",
   "name": "python3"
  },
  "language_info": {
   "codemirror_mode": {
    "name": "ipython",
    "version": 3
   },
   "file_extension": ".py",
   "mimetype": "text/x-python",
   "name": "python",
   "nbconvert_exporter": "python",
   "pygments_lexer": "ipython3",
   "version": "3.7.5"
  }
 },
 "nbformat": 4,
 "nbformat_minor": 2
}
