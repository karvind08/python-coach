{
 "cells": [
  {
   "cell_type": "code",
   "execution_count": null,
   "metadata": {},
   "outputs": [],
   "source": [
    "l = [1,10,23,4,7,10]\n",
    "l.count(10)"
   ]
  },
  {
   "cell_type": "code",
   "execution_count": null,
   "metadata": {},
   "outputs": [],
   "source": [
    "l1 = [50,21,4,1,45]\n",
    "l1.sort(reverse=True)\n",
    "l1"
   ]
  },
  {
   "cell_type": "code",
   "execution_count": null,
   "metadata": {},
   "outputs": [],
   "source": [
    "l2 = [4,5,6,8,9,2]\n",
    "l2.reverse()\n",
    "l2\n",
    "l2.index(6)"
   ]
  },
  {
   "cell_type": "code",
   "execution_count": null,
   "metadata": {},
   "outputs": [],
   "source": [
    "a = []\n",
    "print(a)"
   ]
  },
  {
   "cell_type": "code",
   "execution_count": null,
   "metadata": {},
   "outputs": [],
   "source": [
    "l1 = list((21,4,5,50.3,'arv'))\n",
    "print(l1)"
   ]
  },
  {
   "cell_type": "code",
   "execution_count": null,
   "metadata": {},
   "outputs": [],
   "source": [
    "l1[-2]"
   ]
  },
  {
   "cell_type": "code",
   "execution_count": null,
   "metadata": {},
   "outputs": [],
   "source": [
    "l1"
   ]
  },
  {
   "cell_type": "code",
   "execution_count": null,
   "metadata": {},
   "outputs": [],
   "source": [
    "l1[1]=50\n",
    "l1"
   ]
  },
  {
   "cell_type": "code",
   "execution_count": null,
   "metadata": {},
   "outputs": [],
   "source": [
    "l1.append(98)\n",
    "l1"
   ]
  },
  {
   "cell_type": "code",
   "execution_count": null,
   "metadata": {},
   "outputs": [],
   "source": [
    "l1\n",
    "l2= ['a','h',5.2]\n",
    "l1.append(l2)\n",
    "l1"
   ]
  },
  {
   "cell_type": "code",
   "execution_count": null,
   "metadata": {},
   "outputs": [],
   "source": [
    "l1.extend(l2)\n",
    "l1"
   ]
  },
  {
   "cell_type": "code",
   "execution_count": null,
   "metadata": {},
   "outputs": [],
   "source": [
    "l2 = [1,2,3]\n",
    "l3 = [5,6,7]\n",
    "l2 = l2+l3\n",
    "#l2.extend(l3)\n",
    "print(l2)"
   ]
  },
  {
   "cell_type": "code",
   "execution_count": null,
   "metadata": {},
   "outputs": [],
   "source": [
    "l2*4"
   ]
  },
  {
   "cell_type": "code",
   "execution_count": 1,
   "metadata": {},
   "outputs": [
    {
     "name": "stdout",
     "output_type": "stream",
     "text": [
      "Enter the name:arvi\n",
      "Enter the name:mini\n",
      "Enter the name:reshu\n",
      "Enter the name:maanu\n",
      "Enter the name:nonu\n",
      "The entered names are: ['arvi', 'mini', 'reshu', 'maanu', 'nonu']\n",
      "The sorted names are ['arvi', 'maanu', 'mini', 'nonu', 'reshu']\n"
     ]
    }
   ],
   "source": [
    "names = []\n",
    "for i in range(5):\n",
    "    n = input('Enter the name:')\n",
    "    names.append(n)\n",
    "    \n",
    "print('The entered names are:',names)\n",
    "names.sort()\n",
    "print('The sorted names are',names)"
   ]
  },
  {
   "cell_type": "code",
   "execution_count": 4,
   "metadata": {},
   "outputs": [
    {
     "name": "stdout",
     "output_type": "stream",
     "text": [
      "Enter the names:arvind\n",
      "Enter the Marks:56\n",
      "Enter the names:amit\n",
      "Enter the Marks:65\n",
      "Enter the names:kukku\n",
      "Enter the Marks:87\n",
      "The highest marks are 87\n",
      "The lowest marks are 56\n",
      "student having lowesst marks is arvind\n",
      "student having highest marks is kukku\n"
     ]
    }
   ],
   "source": [
    "names=[]\n",
    "marks=[]\n",
    "for i in range(3):\n",
    "    n=input('Enter the names:')\n",
    "    m=int(input('Enter the Marks:'))\n",
    "    names.append(n)\n",
    "    marks.append(m)\n",
    "    \n",
    "h=max(marks)\n",
    "l=min(marks)\n",
    "print('The highest marks are',h)\n",
    "print('The lowest marks are',l)\n",
    "for i in range(3):\n",
    "    if h==marks[i]:\n",
    "        print('student having highest marks is',names[i])\n",
    "    if l==marks[i]:\n",
    "        print('student having lowesst marks is',names[i])\n",
    "    "
   ]
  },
  {
   "cell_type": "code",
   "execution_count": 6,
   "metadata": {},
   "outputs": [
    {
     "name": "stdout",
     "output_type": "stream",
     "text": [
      "Enter the number to be inserted in the list:566\n",
      "Enter the position:3\n",
      "The list is [10, 20, 54, 566, 30, 60, 75]\n"
     ]
    }
   ],
   "source": [
    "l = [10,20,54,30,60,75]\n",
    "n=int(input('Enter the number to be inserted in the list:'))\n",
    "pos=int(input('Enter the position:'))\n",
    "l.insert(pos,n)\n",
    "print('The list is',l)"
   ]
  },
  {
   "cell_type": "code",
   "execution_count": 10,
   "metadata": {},
   "outputs": [
    {
     "name": "stdout",
     "output_type": "stream",
     "text": [
      "Enter the number:2\n",
      "2 is present in the list and it is available 3 times\n"
     ]
    }
   ],
   "source": [
    "L = [1,2,23,45,50,2,2,100]\n",
    "n = int(input('Enter the number:'))\n",
    "if n in L:\n",
    "    print(n,'is present in the list and it is available',L.count(n),'times')\n",
    "    "
   ]
  },
  {
   "cell_type": "code",
   "execution_count": 5,
   "metadata": {},
   "outputs": [
    {
     "name": "stdout",
     "output_type": "stream",
     "text": [
      "Enter the numbers3\n",
      "Enter the numbers10\n",
      "Enter the numbers20\n",
      "Enter the numbers30\n",
      "Enter the numbers40\n",
      "[3, 10, 20, 30, 40]\n",
      "The highest number is 40\n",
      "The lowest number is 3\n"
     ]
    }
   ],
   "source": [
    "numbers = []\n",
    "for i in range(5):\n",
    "    num = int(input('Enter the numbers'))\n",
    "    numbers.append(num)\n",
    "print(numbers)\n",
    "h=max(numbers)\n",
    "l=min(numbers)\n",
    "print('The highest number is',h)\n",
    "print('The lowest number is',l)"
   ]
  },
  {
   "cell_type": "code",
   "execution_count": 7,
   "metadata": {},
   "outputs": [
    {
     "name": "stdout",
     "output_type": "stream",
     "text": [
      "How many numbers will be there?:5\n",
      "Enter the numbers10\n",
      "Enter the numbers20\n",
      "Enter the numbers30\n",
      "Enter the numbers40\n",
      "Enter the numbers50\n",
      "[10, 20, 30, 40, 50]\n",
      "The highest number is 50\n",
      "The lowest number is 10\n"
     ]
    }
   ],
   "source": [
    "n = int(input('How many numbers will be there?:'))\n",
    "numbers = []\n",
    "for i in range(n):\n",
    "    num = int(input('Enter the numbers'))\n",
    "    numbers.append(num)\n",
    "print(numbers)\n",
    "h=max(numbers)\n",
    "l=min(numbers)\n",
    "print('The highest number is',h)\n",
    "print('The lowest number is',l)"
   ]
  },
  {
   "cell_type": "code",
   "execution_count": 12,
   "metadata": {},
   "outputs": [
    {
     "name": "stdout",
     "output_type": "stream",
     "text": [
      "How many numbers will be there?3\n",
      "Enter the number:54\n",
      "Enter the number:63\n",
      "Enter the number:5\n",
      "The numbers are [54, 63, 5]\n",
      "The Second maximum number is 54\n"
     ]
    }
   ],
   "source": [
    "n = int(input('How many numbers will be there?'))\n",
    "numbers = []\n",
    "for i in range(n):\n",
    "    num = int(input('Enter the number:'))\n",
    "    numbers.append(num)\n",
    "print('The numbers are',numbers)\n",
    "max1 = max(numbers)\n",
    "numbers.remove(max1)\n",
    "max2=max(numbers)\n",
    "print('The Second maximum number is',max2)"
   ]
  },
  {
   "cell_type": "code",
   "execution_count": null,
   "metadata": {},
   "outputs": [],
   "source": []
  },
  {
   "cell_type": "code",
   "execution_count": null,
   "metadata": {},
   "outputs": [],
   "source": []
  }
 ],
 "metadata": {
  "kernelspec": {
   "display_name": "Python 3",
   "language": "python",
   "name": "python3"
  },
  "language_info": {
   "codemirror_mode": {
    "name": "ipython",
    "version": 3
   },
   "file_extension": ".py",
   "mimetype": "text/x-python",
   "name": "python",
   "nbconvert_exporter": "python",
   "pygments_lexer": "ipython3",
   "version": "3.7.5"
  }
 },
 "nbformat": 4,
 "nbformat_minor": 2
}
