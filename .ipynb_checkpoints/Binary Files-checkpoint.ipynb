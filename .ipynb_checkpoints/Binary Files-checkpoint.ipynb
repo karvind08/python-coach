{
 "cells": [
  {
   "cell_type": "markdown",
   "metadata": {},
   "source": [
    "# 1. Write a program to write data in binary file. "
   ]
  },
  {
   "cell_type": "code",
   "execution_count": null,
   "metadata": {},
   "outputs": [],
   "source": [
    "import pickle\n",
    "f = open('file.dat','wb')\n",
    "list1 = ['CSE','IT','ME']\n",
    "pickle.dump(list1,f)\n",
    "f.close()"
   ]
  },
  {
   "cell_type": "markdown",
   "metadata": {},
   "source": [
    "# 2. Write a program to read data from existing binary file. "
   ]
  },
  {
   "cell_type": "code",
   "execution_count": 6,
   "metadata": {},
   "outputs": [],
   "source": [
    "f = open('file.dat','rb')\n",
    "list2 = pickle.load(f)\n",
    "print(list2)\n",
    "f.close()"
   ]
  },
  {
   "cell_type": "markdown",
   "metadata": {},
   "source": [
    "# 3. Write a program to write & read data from the binary file. "
   ]
  },
  {
   "cell_type": "code",
   "execution_count": 15,
   "metadata": {},
   "outputs": [
    {
     "name": "stdout",
     "output_type": "stream",
     "text": [
      "['CSE', 'IT', 'ME']\n"
     ]
    }
   ],
   "source": [
    "import pickle\n",
    "f = open('file.dat','wb')\n",
    "list1 = ['CSE','IT','ME']\n",
    "pickle.dump(list1,f)\n",
    "f = open('file.dat','rb')\n",
    "list2 = pickle.load(f)\n",
    "print(list2)\n",
    "f.close()"
   ]
  },
  {
   "cell_type": "code",
   "execution_count": 16,
   "metadata": {},
   "outputs": [
    {
     "name": "stdout",
     "output_type": "stream",
     "text": [
      "{'a': 10, 'b': 20}\n"
     ]
    }
   ],
   "source": [
    "import pickle\n",
    "f = open('file.dat','wb')\n",
    "d = {'a':10,'b':20}\n",
    "pickle.dump(d,f)\n",
    "f = open('file.dat','rb')\n",
    "list2 = pickle.load(f)\n",
    "print(list2)\n",
    "f.close()"
   ]
  },
  {
   "cell_type": "code",
   "execution_count": 17,
   "metadata": {},
   "outputs": [
    {
     "name": "stdout",
     "output_type": "stream",
     "text": [
      "[1, 2, 3, 3]\n",
      "{'a': 10, 'b': 20}\n"
     ]
    }
   ],
   "source": [
    "f = open('file.dat','wb')\n",
    "d = {'a':10,'b':20}\n",
    "list1 = [1,2,3,3]\n",
    "pickle.dump(list1,f)\n",
    "pickle.dump(d,f)\n",
    "f = open('file.dat','rb')\n",
    "list2 = pickle.load(f)\n",
    "d1 = pickle.load(f)\n",
    "print(list2)\n",
    "print(d1)\n",
    "f.close()"
   ]
  },
  {
   "cell_type": "markdown",
   "metadata": {},
   "source": [
    "# 4. Write a program to insert record in a binary file."
   ]
  },
  {
   "cell_type": "code",
   "execution_count": 18,
   "metadata": {},
   "outputs": [
    {
     "name": "stdout",
     "output_type": "stream",
     "text": [
      "Enter the roll number: 1\n",
      "Enter the name: Arvind\n",
      "Enter the marks: 90\n",
      "Do you want to add more records(y/n)?y\n",
      "Enter the roll number: 2\n",
      "Enter the name: Amit\n",
      "Enter the marks: 85\n",
      "Do you want to add more records(y/n)?n\n"
     ]
    }
   ],
   "source": [
    "f = open('binary.dat','wb')\n",
    "records = []\n",
    "while True:\n",
    "    r = int(input('Enter the roll number: '))\n",
    "    name = input('Enter the name: ')\n",
    "    marks = input('Enter the marks: ')\n",
    "    data = [r,name,marks]\n",
    "    records.append(data)\n",
    "    ch = input('Do you want to add more records(y/n)?')\n",
    "    if ch == 'n':\n",
    "        break\n",
    "pickle.dump(records,f)\n",
    "f.close()"
   ]
  },
  {
   "cell_type": "markdown",
   "metadata": {},
   "source": [
    "# 5. Write a program to read records from binary file."
   ]
  },
  {
   "cell_type": "code",
   "execution_count": 21,
   "metadata": {},
   "outputs": [
    {
     "name": "stdout",
     "output_type": "stream",
     "text": [
      "[[1, 'Arvind', '90'], [2, 'Amit', '85']]\n"
     ]
    }
   ],
   "source": [
    "f = open('binary.dat','rb')\n",
    "s = pickle.load(f)\n",
    "print(s)"
   ]
  },
  {
   "cell_type": "code",
   "execution_count": 22,
   "metadata": {},
   "outputs": [
    {
     "name": "stdout",
     "output_type": "stream",
     "text": [
      "[1, 'Arvind', '90']\n",
      "[2, 'Amit', '85']\n"
     ]
    }
   ],
   "source": [
    "f = open('binary.dat','rb')\n",
    "s = pickle.load(f)\n",
    "for i in s:\n",
    "    print(i)"
   ]
  },
  {
   "cell_type": "code",
   "execution_count": 25,
   "metadata": {},
   "outputs": [
    {
     "name": "stdout",
     "output_type": "stream",
     "text": [
      "1 Arvind 90\n",
      "2 Amit 85\n"
     ]
    }
   ],
   "source": [
    "f = open('binary.dat','rb')\n",
    "s = pickle.load(f)\n",
    "for i in s:\n",
    "    r = i[0]\n",
    "    name = i[1]\n",
    "    marks = i[2]\n",
    "    print(r,name,marks)"
   ]
  },
  {
   "cell_type": "code",
   "execution_count": 26,
   "metadata": {},
   "outputs": [
    {
     "name": "stdout",
     "output_type": "stream",
     "text": [
      "[1, 'Arvind', '90']\n",
      "[2, 'Amit', '85']\n"
     ]
    }
   ],
   "source": [
    "f = open('binary.dat','rb')\n",
    "while True:\n",
    "    try:\n",
    "        s = pickle.load(f)\n",
    "        for i in s:\n",
    "            print(i)\n",
    "    except EOFError:\n",
    "        break\n",
    "f.close()"
   ]
  },
  {
   "cell_type": "markdown",
   "metadata": {},
   "source": [
    "# 6. Write a program to search record from binary file."
   ]
  },
  {
   "cell_type": "code",
   "execution_count": 29,
   "metadata": {},
   "outputs": [
    {
     "name": "stdout",
     "output_type": "stream",
     "text": [
      "Enter roll number to search: 3\n",
      "Record not found\n"
     ]
    }
   ],
   "source": [
    "f = open('binary.dat','rb')\n",
    "s = pickle.load(f)\n",
    "r = int(input('Enter roll number to search: '))\n",
    "found = 0\n",
    "for i in s:\n",
    "    if i[0]==r:\n",
    "        print(i)\n",
    "        found=1\n",
    "        \n",
    "if found==0:\n",
    "    print('Record not found')"
   ]
  },
  {
   "cell_type": "markdown",
   "metadata": {},
   "source": [
    "# Consider the binary file as 'emp.dat' storing the details of employees such as empid, name, salary, gender and designation. "
   ]
  },
  {
   "cell_type": "code",
   "execution_count": 17,
   "metadata": {},
   "outputs": [
    {
     "name": "stdout",
     "output_type": "stream",
     "text": [
      "Enter the Emp Id: 1\n",
      "Enter the Name: arvind\n",
      "Enter the Salary: 50000\n",
      "Enter the Gender(M/F): M\n",
      "Enter the Designation: AP\n",
      "Do you want to add more records(y/n)?: n\n"
     ]
    }
   ],
   "source": [
    "import pickle\n",
    "f = open('emp.dat','wb')\n",
    "list1 = []\n",
    "while True:\n",
    "    empid = int(input('Enter the Emp Id: '))\n",
    "    name = input('Enter the Name: ')\n",
    "    salary = int(input('Enter the Salary: '))\n",
    "    gender = input('Enter the Gender(M/F): ')\n",
    "    desig = input('Enter the Designation: ')\n",
    "    ls = [empid,name,salary,gender,desig]\n",
    "    list1.append(ls)\n",
    "    ch = input('Do you want to add more records(y/n)?: ')\n",
    "    if ch=='n':\n",
    "        break\n",
    "pickle.dump(list1,f)\n",
    "f.close()"
   ]
  },
  {
   "cell_type": "markdown",
   "metadata": {},
   "source": [
    "# Write a program to read all details from the file emp.dat"
   ]
  },
  {
   "cell_type": "code",
   "execution_count": 18,
   "metadata": {},
   "outputs": [
    {
     "name": "stdout",
     "output_type": "stream",
     "text": [
      "[1, 'arvind', 50000, 'M', 'AP']\n"
     ]
    }
   ],
   "source": [
    "f = open('emp.dat','rb')\n",
    "try:\n",
    "    rec = pickle.load(f)\n",
    "    for i in rec:\n",
    "        print(i)\n",
    "except EOFerror:\n",
    "    f.close()"
   ]
  },
  {
   "cell_type": "markdown",
   "metadata": {},
   "source": [
    "# 7. Write a program to search and display the details of a perticular employee whose empid is passed as a parameter to the function"
   ]
  },
  {
   "cell_type": "code",
   "execution_count": 19,
   "metadata": {},
   "outputs": [
    {
     "name": "stdout",
     "output_type": "stream",
     "text": [
      "Enter the empid to search: 1\n",
      "[1, 'arvind', 50000, 'M', 'AP']\n"
     ]
    }
   ],
   "source": [
    "f = open('emp.dat','rb')\n",
    "n = int(input('Enter the empid to search: '))\n",
    "found = 0\n",
    "try:\n",
    "    rec = pickle.load(f)\n",
    "    for i in rec:\n",
    "        if i[0]==n:\n",
    "            print(i)\n",
    "            found=1\n",
    "except EOFerror:\n",
    "    f.close()\n",
    "if found ==0:\n",
    "    print('Record not found')"
   ]
  },
  {
   "cell_type": "markdown",
   "metadata": {},
   "source": [
    "# 8. Write a program to search and display the names of all employees whose salary is in the range of 50000 to 80000"
   ]
  },
  {
   "cell_type": "code",
   "execution_count": 20,
   "metadata": {},
   "outputs": [
    {
     "name": "stdout",
     "output_type": "stream",
     "text": [
      "arvind\n"
     ]
    }
   ],
   "source": [
    "f  = open('emp.dat','rb')\n",
    "found = 0\n",
    "try:\n",
    "    rec = pickle.load(f)\n",
    "    for i in rec:\n",
    "        if i[2]>=50000 and i[2]<80000:\n",
    "            print(i[1])\n",
    "            found=1\n",
    "except EOFError:\n",
    "    f.close()\n",
    "if found ==0:\n",
    "    print('Record not found')"
   ]
  },
  {
   "cell_type": "markdown",
   "metadata": {},
   "source": [
    "# 9. Write a program to transfer all records from emp.dat file to emp1.dat file of those employees whose gender is 'M'"
   ]
  },
  {
   "cell_type": "code",
   "execution_count": 21,
   "metadata": {},
   "outputs": [],
   "source": [
    "f = open('emp.dat','rb')\n",
    "f1 = open('emp1.dat','wb')\n",
    "list1 = []\n",
    "try:\n",
    "    rec = pickle.load(f)\n",
    "    for i in rec:\n",
    "        if i[3] == 'M':\n",
    "            list1.append(i)\n",
    "    pickle.dump(list1,f1)\n",
    "except EOFError:\n",
    "    f.close()\n",
    "    f1.close()"
   ]
  },
  {
   "cell_type": "code",
   "execution_count": 22,
   "metadata": {},
   "outputs": [
    {
     "name": "stdout",
     "output_type": "stream",
     "text": [
      "[2, 'Amit', 50000, 'M', 'AP']\n"
     ]
    }
   ],
   "source": [
    "f = open('emp1.dat','rb')\n",
    "try:\n",
    "    rec = pickle.load(f)\n",
    "    for i in rec:\n",
    "        print(i)\n",
    "except EOFerror:\n",
    "    f.close()"
   ]
  },
  {
   "cell_type": "markdown",
   "metadata": {},
   "source": [
    "# Copy records from one binary file to another based on conditions."
   ]
  },
  {
   "cell_type": "markdown",
   "metadata": {},
   "source": [
    "# A file sports.dat contains information in the following format: [event,participants] for each sportsperson. "
   ]
  },
  {
   "cell_type": "markdown",
   "metadata": {},
   "source": [
    "# Write a function that would read contents from 'sports.dat' file and creates a file names 'athletics.dat' copying only those records from 'sports.dat' where the event name is 'athletics'."
   ]
  },
  {
   "cell_type": "code",
   "execution_count": 12,
   "metadata": {},
   "outputs": [
    {
     "name": "stdout",
     "output_type": "stream",
     "text": [
      "Enter Event Name: cricket\n",
      "Enter Participant Name: arvind\n",
      "Do you want to add more records(y/n)?: y\n",
      "Enter Event Name: footbal\n",
      "Enter Participant Name: kukku\n",
      "Do you want to add more records(y/n)?: y\n",
      "Enter Event Name: badminton\n",
      "Enter Participant Name: amit\n",
      "Do you want to add more records(y/n)?: n\n",
      "Read from sports\n",
      "['cricket', 'arvind']\n",
      "['footbal', 'kukku']\n",
      "['badminton', 'amit']\n",
      "Read from athletics\n",
      "['cricket', 'arvind']\n"
     ]
    }
   ],
   "source": [
    "import pickle\n",
    "def write():\n",
    "    \n",
    "    f = open('sports.dat','wb')\n",
    "    list1 = []\n",
    "    while True:\n",
    "        e = input('Enter Event Name: ')\n",
    "        p = input('Enter Participant Name: ')\n",
    "        data = [e,p]\n",
    "        list1.append(data)\n",
    "        ch = input('Do you want to add more records(y/n)?: ')\n",
    "        if ch =='n' or ch=='N':\n",
    "            break\n",
    "    pickle.dump(list1,f)\n",
    "    f.close()\n",
    "    \n",
    "def read():\n",
    "    print('Read from sports')\n",
    "    f  = open('sports.dat','rb')\n",
    "    try:\n",
    "        rec = pickle.load(f)\n",
    "        for i in rec:\n",
    "            print(i)\n",
    "    except EOFError:\n",
    "        f.close()\n",
    "\n",
    "def copy():\n",
    "    f = open('sports.dat','rb')\n",
    "    f1 = open('athletics.dat','wb')\n",
    "    list1 = []\n",
    "    try:\n",
    "        rec = pickle.load(f)\n",
    "        for i in rec:\n",
    "            if i[0]=='cricket':\n",
    "                list1.append(i)\n",
    "        pickle.dump(list1,f1)\n",
    "    except EOFError:\n",
    "        f.close()\n",
    "        f1.close()\n",
    "        \n",
    "def readath():\n",
    "    print('Read from athletics')\n",
    "    f = open('athletics.dat','rb')\n",
    "    try:\n",
    "        rec = pickle.load(f)\n",
    "        for i in rec:\n",
    "            print(i)\n",
    "    except EOFError:\n",
    "        f.close()\n",
    "\n",
    "write()\n",
    "read()\n",
    "copy()\n",
    "readath()"
   ]
  },
  {
   "cell_type": "code",
   "execution_count": null,
   "metadata": {},
   "outputs": [],
   "source": []
  }
 ],
 "metadata": {
  "kernelspec": {
   "display_name": "Python 3",
   "language": "python",
   "name": "python3"
  },
  "language_info": {
   "codemirror_mode": {
    "name": "ipython",
    "version": 3
   },
   "file_extension": ".py",
   "mimetype": "text/x-python",
   "name": "python",
   "nbconvert_exporter": "python",
   "pygments_lexer": "ipython3",
   "version": "3.7.5"
  }
 },
 "nbformat": 4,
 "nbformat_minor": 2
}
