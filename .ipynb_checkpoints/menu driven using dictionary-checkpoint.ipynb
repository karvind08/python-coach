{
 "cells": [
  {
   "cell_type": "code",
   "execution_count": 1,
   "metadata": {},
   "outputs": [
    {
     "name": "stdout",
     "output_type": "stream",
     "text": [
      "\n",
      "Shopping Basket Items\n",
      "=======================\n",
      "1: Add items\n",
      "2: Remove Items\n",
      "3: View cart\n",
      "0: Exit\n",
      "\n",
      "Enter your choice: 1\n",
      "Add Item to Cart: \n",
      "Enter the item: apple\n",
      "Enter Quantity of items: 2\n",
      "Enter your choice: 3\n",
      "All Items of Cart are: \n",
      "apple : 2\n",
      "Enter your choice: 1\n",
      "Add Item to Cart: \n",
      "Enter the item: mango\n",
      "Enter Quantity of items: 1\n",
      "Enter your choice: 3\n",
      "All Items of Cart are: \n",
      "apple : 2\n",
      "mango : 1\n",
      "Enter your choice: 0\n",
      "cart is closed\n"
     ]
    }
   ],
   "source": [
    "cart  = {}\n",
    "print(\"\"\"\n",
    "Shopping Basket Items\n",
    "=======================\n",
    "1: Add items\n",
    "2: Remove Items\n",
    "3: View cart\n",
    "0: Exit\n",
    "\"\"\")\n",
    "\n",
    "ch = int(input('Enter your choice: '))\n",
    "\n",
    "while ch!=0:\n",
    "    if ch == 1:\n",
    "        print('Add Item to Cart: ')\n",
    "        item = input('Enter the item: ')\n",
    "        qty = int(input('Enter Quantity of items: '))\n",
    "        cart[item] = qty        \n",
    "    elif ch == 2:\n",
    "        print('Delete Item from Cart: ')\n",
    "        item = input('Enter item to delete: ')\n",
    "        del(cart[item])        \n",
    "    elif ch == 3:\n",
    "        print('All Items of Cart are: ')\n",
    "        for item in cart:\n",
    "            print(item,':',cart[item])        \n",
    "    elif ch != 0:\n",
    "        print('Please enter correct choice')\n",
    "    ch = int(input('Enter your choice: '))\n",
    "else:\n",
    "    print('cart is closed')"
   ]
  }
 ],
 "metadata": {
  "kernelspec": {
   "display_name": "Python 3",
   "language": "python",
   "name": "python3"
  },
  "language_info": {
   "codemirror_mode": {
    "name": "ipython",
    "version": 3
   },
   "file_extension": ".py",
   "mimetype": "text/x-python",
   "name": "python",
   "nbconvert_exporter": "python",
   "pygments_lexer": "ipython3",
   "version": "3.7.5"
  }
 },
 "nbformat": 4,
 "nbformat_minor": 2
}
