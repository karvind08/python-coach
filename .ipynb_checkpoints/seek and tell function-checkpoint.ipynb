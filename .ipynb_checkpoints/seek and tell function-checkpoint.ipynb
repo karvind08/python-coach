{
 "cells": [
  {
   "cell_type": "code",
   "execution_count": 4,
   "metadata": {},
   "outputs": [
    {
     "name": "stdout",
     "output_type": "stream",
     "text": [
      "0\n"
     ]
    }
   ],
   "source": [
    "def seek_fun():\n",
    "    f = open('file.txt','r')\n",
    "    print(f.tell())\n",
    "    f.close()\n",
    "    \n",
    "seek_fun()"
   ]
  },
  {
   "cell_type": "code",
   "execution_count": 5,
   "metadata": {},
   "outputs": [
    {
     "name": "stdout",
     "output_type": "stream",
     "text": [
      "0\n",
      "655\n"
     ]
    }
   ],
   "source": [
    "def seek_fun():\n",
    "    f = open('file.txt','r')\n",
    "    print(f.tell())\n",
    "    data=f.read()\n",
    "    print(f.tell())\n",
    "    f.close()\n",
    "    \n",
    "seek_fun()"
   ]
  },
  {
   "cell_type": "code",
   "execution_count": 13,
   "metadata": {},
   "outputs": [
    {
     "name": "stdout",
     "output_type": "stream",
     "text": [
      "The position: 0\n",
      "The position: 3\n",
      "rtswi\n",
      "The position: 8\n",
      "The position: 6\n"
     ]
    }
   ],
   "source": [
    "def seek_fun():\n",
    "    f = open('file.txt','r')\n",
    "    print('The position:',f.tell())\n",
    "    f.seek(3)\n",
    "    print('The position:',f.tell())\n",
    "    print(f.read(5))\n",
    "    print('The position:',f.tell())\n",
    "    f.seek(6)\n",
    "    print('The position:',f.tell())\n",
    "    f.close()\n",
    "    \n",
    "seek_fun()"
   ]
  },
  {
   "cell_type": "code",
   "execution_count": 20,
   "metadata": {},
   "outputs": [
    {
     "name": "stdout",
     "output_type": "stream",
     "text": [
      "The position: 0\n",
      "rtswi\n",
      "The position: 8\n",
      "The position: 10\n"
     ]
    }
   ],
   "source": [
    "f = open('file.txt','r')\n",
    "print('The position:',f.tell())\n",
    "f.seek(3)\n",
    "print(f.read(5))\n",
    "print('The position:',f.tell())\n",
    "f.seek(10)\n",
    "print('The position:',f.tell())\n",
    "f.close()  \n"
   ]
  },
  {
   "cell_type": "code",
   "execution_count": 26,
   "metadata": {},
   "outputs": [
    {
     "name": "stdout",
     "output_type": "stream",
     "text": [
      "tsw\n",
      "swink.com\n",
      "sportywink.com\n",
      "meeruthub.com\n",
      "\n",
      "Series is essentially a column, and a DataFrame is a multi-dimensional table made up of a collection of Series.\n",
      "\n",
      "\n",
      "\n",
      "3E/13-B, Street No.2, PHASE -1 ,MOHKAMPUR\n",
      "BEHIND VENUS GARDEN ,DELHI ROAD ,\n",
      "MEERUT (UP) PIN CODE -250103\n",
      "\n",
      "pythondomain.com\n",
      "\n",
      "Here are the list you have to do\n",
      "\n",
      "Go for a short walk\n",
      "Drink water\n",
      "Sit with your family\n",
      "Water your garden\n",
      "Do some situps or a little stretching\n",
      "Set a timer of 5 min and close your eye while sitting on the chair\n",
      "Read a paragraph of any inspiring book\n",
      "\n",
      "\n",
      "9412405438 Akshay Tax supre\n",
      "khem chandra ji \n",
      "\n",
      "\n",
      "A-52, Main Road\n",
      "Johripur Delhi-110094\n",
      "\n",
      "\n",
      "\n",
      "The position: 655\n"
     ]
    }
   ],
   "source": [
    "f = open('file.txt','r')\n",
    "f.seek(4)\n",
    "print(f.read(3))\n",
    "f.seek(5)\n",
    "print(f.read())\n",
    "print('The position:',f.tell())\n",
    "#f.seek(10)\n",
    "#print('The position:',f.tell())\n",
    "f.close()  \n"
   ]
  },
  {
   "cell_type": "code",
   "execution_count": 2,
   "metadata": {},
   "outputs": [
    {
     "name": "stdout",
     "output_type": "stream",
     "text": [
      "The position: 0\n",
      "rts\n",
      "The position: 6\n"
     ]
    }
   ],
   "source": [
    "f = open('file.txt','r')\n",
    "print('The position:',f.tell())\n",
    "f.seek(3)\n",
    "print(f.read(3))\n",
    "print('The position:',f.tell())\n",
    "\n",
    "f.close()  \n"
   ]
  },
  {
   "cell_type": "code",
   "execution_count": null,
   "metadata": {},
   "outputs": [],
   "source": []
  },
  {
   "cell_type": "code",
   "execution_count": null,
   "metadata": {},
   "outputs": [],
   "source": []
  }
 ],
 "metadata": {
  "kernelspec": {
   "display_name": "Python 3",
   "language": "python",
   "name": "python3"
  },
  "language_info": {
   "codemirror_mode": {
    "name": "ipython",
    "version": 3
   },
   "file_extension": ".py",
   "mimetype": "text/x-python",
   "name": "python",
   "nbconvert_exporter": "python",
   "pygments_lexer": "ipython3",
   "version": "3.7.5"
  }
 },
 "nbformat": 4,
 "nbformat_minor": 2
}
