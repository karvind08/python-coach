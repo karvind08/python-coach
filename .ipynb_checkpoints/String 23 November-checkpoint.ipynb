{
 "cells": [
  {
   "cell_type": "markdown",
   "metadata": {},
   "source": [
    "# 1. Write a program that takes input from the user and displays that input back in upper and lower cases."
   ]
  },
  {
   "cell_type": "code",
   "execution_count": 10,
   "metadata": {
    "scrolled": true
   },
   "outputs": [
    {
     "name": "stdout",
     "output_type": "stream",
     "text": [
      "Enter the string: arvind\n",
      "input in upper case: ARVIND\n",
      "input in upper case: arvind\n"
     ]
    }
   ],
   "source": [
    "s = input('Enter the string: ')\n",
    "print('input in upper case:',s.upper())\n",
    "print('input in upper case:',s.lower())"
   ]
  },
  {
   "cell_type": "markdown",
   "metadata": {},
   "source": [
    "# 2. Write a program to check if the sub string is present in the string or not."
   ]
  },
  {
   "cell_type": "code",
   "execution_count": 12,
   "metadata": {},
   "outputs": [
    {
     "name": "stdout",
     "output_type": "stream",
     "text": [
      "Enter the string: arvind kumar\n",
      "The string is:  arvind kumar\n",
      "Enter the sub string: kha\n",
      "kha does not exists in  arvind kumar\n"
     ]
    }
   ],
   "source": [
    "s = input('Enter the string: ')\n",
    "print('The string is: ',s)\n",
    "sub = input('Enter the sub string: ')\n",
    "if sub in s:\n",
    "    print(sub,'exists in ',s)\n",
    "else:\n",
    "    print(sub,'does not exists in ',s)"
   ]
  },
  {
   "cell_type": "markdown",
   "metadata": {},
   "source": [
    "# 3. Write a program to find the length of the string without using len function."
   ]
  },
  {
   "cell_type": "code",
   "execution_count": null,
   "metadata": {},
   "outputs": [],
   "source": [
    "s = input('Enter the string: ')\n",
    "l = 0\n",
    "for i in s:\n",
    "    l+=1\n",
    "print('The length of the string: ',l)"
   ]
  },
  {
   "cell_type": "markdown",
   "metadata": {},
   "source": [
    "# 4. Write a program to count vowels & consonants in a given string."
   ]
  },
  {
   "cell_type": "code",
   "execution_count": null,
   "metadata": {},
   "outputs": [],
   "source": [
    "s = input('Enter the string: ')\n",
    "v = 0\n",
    "c = 0\n",
    "for i in s:\n",
    "    if i in 'aeiou':\n",
    "        v=v+1\n",
    "    else:\n",
    "        c+=1\n",
    "print('The numbers of vowels are',v)\n",
    "print('The numbers of consonants are',c)"
   ]
  },
  {
   "cell_type": "markdown",
   "metadata": {},
   "source": [
    "# 5. Write a program to make first and last character of each word in uppercase in the string."
   ]
  },
  {
   "cell_type": "code",
   "execution_count": 8,
   "metadata": {},
   "outputs": [
    {
     "name": "stdout",
     "output_type": "stream",
     "text": [
      "Enter the string: arvind\n",
      "Arvind\n",
      "ArvinD\n"
     ]
    }
   ],
   "source": [
    "s = input('Enter the string: ')\n",
    "s = s.title()\n",
    "words = s.split()\n",
    "r = ''\n",
    "for i in words:\n",
    "    r = r+i[:-1]+i[-1].upper()+' '\n",
    "print(r)"
   ]
  },
  {
   "cell_type": "markdown",
   "metadata": {},
   "source": [
    "# 6. Write a program to count occurance of an alphabet in a string. "
   ]
  },
  {
   "cell_type": "code",
   "execution_count": 13,
   "metadata": {},
   "outputs": [
    {
     "name": "stdout",
     "output_type": "stream",
     "text": [
      "Enter the string: arvind kumar\n",
      "Enter the alphabet: a\n",
      "a is presen 2 times\n"
     ]
    }
   ],
   "source": [
    "s = input('Enter the string: ')\n",
    "ch = input('Enter the alphabet: ')\n",
    "n = s.count(ch)\n",
    "print(ch,'is presen',n,'times')"
   ]
  },
  {
   "cell_type": "code",
   "execution_count": 16,
   "metadata": {},
   "outputs": [
    {
     "name": "stdout",
     "output_type": "stream",
     "text": [
      "Enter the string: arvind\n",
      "Enter the alphabet: a\n",
      "a is presen 1 times\n"
     ]
    }
   ],
   "source": [
    "s = input('Enter the string: ')\n",
    "ch = input('Enter the alphabet: ')\n",
    "c = 0\n",
    "for i in s:\n",
    "    if i==ch:\n",
    "        c+=1\n",
    "print(ch,'is presen',c,'times')"
   ]
  },
  {
   "cell_type": "markdown",
   "metadata": {},
   "source": [
    "# 7. Write a program to find out common letters in two given string."
   ]
  },
  {
   "cell_type": "code",
   "execution_count": 18,
   "metadata": {},
   "outputs": [
    {
     "name": "stdout",
     "output_type": "stream",
     "text": [
      "Enter the first string: arvind\n",
      "Enter the second string: kumar\n",
      "['a', 'r']\n"
     ]
    }
   ],
   "source": [
    "str1 = input('Enter the first string: ')\n",
    "str2 = input('Enter the second string: ')\n",
    "s1 = set(str1)\n",
    "s2 = set(str2)\n",
    "l = list(s1 & s2)\n",
    "print(l)"
   ]
  },
  {
   "cell_type": "markdown",
   "metadata": {},
   "source": [
    "# 8. Write a program to count frequency of words appearing in the string."
   ]
  },
  {
   "cell_type": "code",
   "execution_count": 8,
   "metadata": {},
   "outputs": [
    {
     "name": "stdout",
     "output_type": "stream",
     "text": [
      "Enter the string: arvind kumar arvind hi hello hi\n",
      "{'arvind': 2, 'kumar': 1, 'hi': 2, 'hello': 1}\n"
     ]
    }
   ],
   "source": [
    "s = input('Enter the string: ')\n",
    "words = s.split()\n",
    "d = {}\n",
    "for i in words:\n",
    "    if i not in d.keys():\n",
    "        d[i] = 0\n",
    "    d[i]+=1\n",
    "print(d)"
   ]
  },
  {
   "cell_type": "markdown",
   "metadata": {},
   "source": [
    "# 9. Write a program to Reverse a given string. "
   ]
  },
  {
   "cell_type": "code",
   "execution_count": 23,
   "metadata": {},
   "outputs": [
    {
     "name": "stdout",
     "output_type": "stream",
     "text": [
      "Enter the string: arvind kumar\n",
      "ramuk dnivra\n"
     ]
    }
   ],
   "source": [
    "s = input('Enter the string: ')\n",
    "rev = s[::-1]\n",
    "print(rev)"
   ]
  },
  {
   "cell_type": "code",
   "execution_count": 27,
   "metadata": {},
   "outputs": [
    {
     "name": "stdout",
     "output_type": "stream",
     "text": [
      "Enter the string: arvind kumar\n",
      "arvind kumar\n",
      "ramuk dnivra\n"
     ]
    }
   ],
   "source": [
    "s = input('Enter the string: ')\n",
    "print(s)\n",
    "s = s[::-1]\n",
    "print(s)"
   ]
  },
  {
   "cell_type": "markdown",
   "metadata": {},
   "source": [
    "# 10. Write a program that takes your full name as input and displays the abbreviations of the first and middle names except the last name which is displayed as it is. For example, if your name is Arvind Kumar Kharwal, then the output should be A.K.Kharwal."
   ]
  },
  {
   "cell_type": "code",
   "execution_count": 24,
   "metadata": {},
   "outputs": [
    {
     "name": "stdout",
     "output_type": "stream",
     "text": [
      "Enter the string: arvind kumar kharwal\n",
      "a.k.kharwal\n"
     ]
    }
   ],
   "source": [
    "s = input('Enter the string: ')\n",
    "s = s.split()\n",
    "name = s[0][0]+'.'+s[1][0]+'.'+s[2]\n",
    "print(name)"
   ]
  },
  {
   "cell_type": "markdown",
   "metadata": {},
   "source": [
    "# 11. Write a program to count all lower case, upper case, digits, and special symbols from a given string."
   ]
  },
  {
   "cell_type": "code",
   "execution_count": null,
   "metadata": {},
   "outputs": [],
   "source": [
    "s = input('Enter the string: ')\n",
    "lcharcount = 0\n",
    "ucharcount = 0\n",
    "digitcount = 0\n",
    "symbolcount = 0\n",
    "for i in s:\n",
    "    if i.islower():\n",
    "        lcharcount+=1\n",
    "    elif i.isupper():\n",
    "        ucharcount+=1\n",
    "    elif i.isnumeric():\n",
    "        digitcount+=1\n",
    "    else:\n",
    "        symbolcount+=1\n",
    "\n",
    "print(\"Lowercase Chars = \", lcharcount, \"Uppercase Chars = \", ucharcount,\"Digits = \", digitcount, \"Symbol = \", symbolcount)"
   ]
  },
  {
   "cell_type": "markdown",
   "metadata": {},
   "source": [
    "# 12. Write a program to arrange input string (the combination of the lower and upper case) characters such that lowercase letters should come first."
   ]
  },
  {
   "cell_type": "code",
   "execution_count": 6,
   "metadata": {},
   "outputs": [
    {
     "name": "stdout",
     "output_type": "stream",
     "text": [
      "Enter the string: ARVIND kumar\n",
      "kumarARVIND \n"
     ]
    }
   ],
   "source": [
    "s = input('Enter the string: ')\n",
    "lower = []\n",
    "upper = []\n",
    "for i in s:\n",
    "    if i.islower():\n",
    "        lower.append(i)\n",
    "    else:\n",
    "        upper.append(i)\n",
    "s1 = ''.join(lower + upper)\n",
    "print(s1)"
   ]
  },
  {
   "cell_type": "markdown",
   "metadata": {},
   "source": [
    "# 13. Remove the empty string from list of strings. "
   ]
  },
  {
   "cell_type": "code",
   "execution_count": 1,
   "metadata": {},
   "outputs": [
    {
     "name": "stdout",
     "output_type": "stream",
     "text": [
      "['ar', 'br', 'cr', 'dr', 'rk']\n"
     ]
    }
   ],
   "source": [
    "l = ['ar','br','','cr','','dr','','rk','']\n",
    "ls = list(filter(None,l))\n",
    "print(ls)"
   ]
  },
  {
   "cell_type": "code",
   "execution_count": 4,
   "metadata": {},
   "outputs": [
    {
     "name": "stdout",
     "output_type": "stream",
     "text": [
      "Enter the string: arvind   kumar   sjsjsh    skks\n",
      "['arvind', 'kumar', 'sjsjsh', 'skks']\n",
      "['arvind', 'kumar', 'sjsjsh', 'skks']\n"
     ]
    }
   ],
   "source": [
    "s = input('Enter the string: ')\n",
    "l = s.split()\n",
    "print(l)\n",
    "ls = list(filter(None,l))\n",
    "print(ls)"
   ]
  },
  {
   "cell_type": "markdown",
   "metadata": {},
   "source": [
    "# 14.  Write a program that takes a list of words and returns the length of the longest one."
   ]
  },
  {
   "cell_type": "code",
   "execution_count": 3,
   "metadata": {},
   "outputs": [
    {
     "name": "stdout",
     "output_type": "stream",
     "text": [
      "[(5, 'kumar'), (6, 'arvind'), (11, 'engineering')]\n",
      "engineering\n"
     ]
    }
   ],
   "source": [
    "l = ['arvind','engineering','kumar']\n",
    "words = []\n",
    "for i in l:\n",
    "    words.append((len(i),i))\n",
    "    \n",
    "words.sort()\n",
    "print(words)\n",
    "print(words[-1][1])"
   ]
  },
  {
   "cell_type": "code",
   "execution_count": null,
   "metadata": {},
   "outputs": [],
   "source": [
    "L = []\n",
    "n = int(input('Enter the number of words: '))\n",
    "for i in range(n):\n",
    "    w = input('Enter the word: ')\n",
    "    L.append(w)\n",
    "print('The list is: ',L)\n",
    "words = []\n",
    "for i in L:\n",
    "    words.append((len(i),i))\n",
    "words.sort()\n",
    "print('The longest word is: ',words[-1][1])"
   ]
  },
  {
   "cell_type": "markdown",
   "metadata": {},
   "source": [
    "# 15. Write a Python program to get a string from a given string where all occurrences of its first char have been changed to doller sign except the first char itself."
   ]
  },
  {
   "cell_type": "code",
   "execution_count": 5,
   "metadata": {},
   "outputs": [
    {
     "name": "stdout",
     "output_type": "stream",
     "text": [
      "Enter the string: arvinda kumar aa aaj\n",
      "arvind$ kum$r $$ $$j\n"
     ]
    }
   ],
   "source": [
    "s  = input('Enter the string: ')\n",
    "char = s[0]\n",
    "s = s.replace(char,'$')\n",
    "# print(s)\n",
    "s = char + s[1:]\n",
    "print(s)"
   ]
  },
  {
   "cell_type": "markdown",
   "metadata": {},
   "source": [
    "# 16 Write a Python program to get a single string from two given strings, separated by a space and swap the first two characters of each string.\n"
   ]
  },
  {
   "cell_type": "code",
   "execution_count": 6,
   "metadata": {},
   "outputs": [
    {
     "name": "stdout",
     "output_type": "stream",
     "text": [
      "xyc abz\n"
     ]
    }
   ],
   "source": [
    "a = 'abc'\n",
    "b = 'xyz'\n",
    "new_a = b[:2]+a[2:]\n",
    "new_b = a[:2]+b[2:]\n",
    "s = new_a+' '+new_b\n",
    "print(s)"
   ]
  },
  {
   "cell_type": "code",
   "execution_count": 7,
   "metadata": {},
   "outputs": [
    {
     "name": "stdout",
     "output_type": "stream",
     "text": [
      "Enter the first String: arvind\n",
      "Enter the second String: kumar\n",
      "kuvind armar\n"
     ]
    }
   ],
   "source": [
    "a = input('Enter the first String: ')\n",
    "b = input('Enter the second String: ')\n",
    "new_a = b[:2]+a[2:]\n",
    "new_b = a[:2]+b[2:]\n",
    "s = new_a+' '+new_b\n",
    "print(s)"
   ]
  },
  {
   "cell_type": "markdown",
   "metadata": {},
   "source": [
    "# 17. Write a program to arrange input string (the combination of the lower and upper case) characters such that lowercase letters should come first. \n"
   ]
  },
  {
   "cell_type": "code",
   "execution_count": null,
   "metadata": {},
   "outputs": [],
   "source": [
    "s = input('Enter the string: ')\n",
    "lower = []\n",
    "upper = []\n",
    "for i in s:\n",
    "    if i.islower():\n",
    "        lower.append(i)\n",
    "    else:\n",
    "        upper.append(i)\n",
    "s1 = ''.join(lower + upper)\n",
    "print(s1)"
   ]
  },
  {
   "cell_type": "markdown",
   "metadata": {},
   "source": [
    "# 18. Write a program to Remove special symbols/Punctuation from a given string"
   ]
  },
  {
   "cell_type": "code",
   "execution_count": 11,
   "metadata": {},
   "outputs": [
    {
     "name": "stdout",
     "output_type": "stream",
     "text": [
      "/*Jon is @developer & musician{()}\n",
      "Jon is developer  musician\n"
     ]
    }
   ],
   "source": [
    "import string\n",
    "s = \"/*Jon is @developer & musician{()}\"\n",
    "table = s.maketrans('', '', string.punctuation)\n",
    "print(s)\n",
    "s1 = s.translate(table)\n",
    "print(s1)"
   ]
  },
  {
   "cell_type": "markdown",
   "metadata": {},
   "source": [
    "# 19. Write a program to Remove or replace characters from a given characters in a given string."
   ]
  },
  {
   "cell_type": "code",
   "execution_count": 14,
   "metadata": {},
   "outputs": [
    {
     "name": "stdout",
     "output_type": "stream",
     "text": [
      "Enter the string: kyggthon\n",
      "The string before translating is :  kyggthon\n",
      "Python\n"
     ]
    }
   ],
   "source": [
    "s = input('Enter the string: ')\n",
    "str1 = \"k\"\n",
    "str2 = \"P\"\n",
    "str3 = \"g\"\n",
    "table = s.maketrans(str1, str2, str3) \n",
    "print (\"The string before translating is : \",s)\n",
    "s1 = s.translate(table)\n",
    "print(s1)"
   ]
  },
  {
   "cell_type": "markdown",
   "metadata": {},
   "source": [
    "# 20. Write a program to Remove digits from a given string. "
   ]
  },
  {
   "cell_type": "code",
   "execution_count": null,
   "metadata": {},
   "outputs": [],
   "source": [
    "trg = input('Enter the string: ')\n",
    "str3 = \"0123456789\"\n",
    "table = trg.maketrans('','', str3) \n",
    "print (\"The string before translating is : \",trg)\n",
    "s = trg.translate(table)\n",
    "print(s)"
   ]
  },
  {
   "cell_type": "markdown",
   "metadata": {},
   "source": [
    "# 21. Write a program to remove all the characters other than integers from string"
   ]
  },
  {
   "cell_type": "code",
   "execution_count": 3,
   "metadata": {},
   "outputs": [
    {
     "name": "stdout",
     "output_type": "stream",
     "text": [
      "Enter the string: ayaya667\n",
      "The string before translating is :  ayaya667\n",
      "667\n"
     ]
    }
   ],
   "source": [
    "trg = input('Enter the string: ')\n",
    "str3 = \"abcdefghijklmnopqrstuvwxyzABCDEFGHIJKLMNOPQRSTUVWXYZ\"\n",
    "table = trg.maketrans('','', str3) \n",
    "print (\"The string before translating is : \",trg)\n",
    "s = trg.translate(table)\n",
    "print(s)"
   ]
  },
  {
   "cell_type": "markdown",
   "metadata": {},
   "source": [
    "# 22. Write a program to remove all the characters other than integers from string using list comprehension."
   ]
  },
  {
   "cell_type": "code",
   "execution_count": 8,
   "metadata": {},
   "outputs": [
    {
     "name": "stdout",
     "output_type": "stream",
     "text": [
      "Enter the string: arvind55\n",
      "arvind55\n",
      "55\n"
     ]
    }
   ],
   "source": [
    "s = input('Enter the string: ')\n",
    "print(s)\n",
    "res = \"\".join([i for i in s if i.isdigit()])\n",
    "print(res)"
   ]
  },
  {
   "cell_type": "markdown",
   "metadata": {},
   "source": [
    "# 23. Write a program to remove all the characters other than integers from string using isdigit() method."
   ]
  },
  {
   "cell_type": "code",
   "execution_count": 6,
   "metadata": {},
   "outputs": [
    {
     "name": "stdout",
     "output_type": "stream",
     "text": [
      "Enter the string: arvind 8777\n",
      "arvind 8777\n",
      "8777"
     ]
    }
   ],
   "source": [
    "s = input('Enter the string: ')\n",
    "print(s)\n",
    "for i in s:\n",
    "    if i.isdigit():\n",
    "        print(i,end='')"
   ]
  }
 ],
 "metadata": {
  "kernelspec": {
   "display_name": "Python 3",
   "language": "python",
   "name": "python3"
  },
  "language_info": {
   "codemirror_mode": {
    "name": "ipython",
    "version": 3
   },
   "file_extension": ".py",
   "mimetype": "text/x-python",
   "name": "python",
   "nbconvert_exporter": "python",
   "pygments_lexer": "ipython3",
   "version": "3.7.5"
  }
 },
 "nbformat": 4,
 "nbformat_minor": 2
}
