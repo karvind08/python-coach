{
 "cells": [
  {
   "cell_type": "code",
   "execution_count": 10,
   "metadata": {},
   "outputs": [],
   "source": [
    "from tkinter import *\n",
    "window = Tk()\n",
    "window.title('Images Buttons')\n",
    "window.geometry('400x400')\n",
    "\n",
    "login_img = PhotoImage(file=r'C:\\Users\\Arvind\\Desktop\\login.png')\n",
    "login_label = Label(window,image=login_img)\n",
    "login_label.pack()\n",
    "\n",
    "def clicker():\n",
    "    my_label.config(text='You have clicked the button')\n",
    "\n",
    "login_btn = Button(window,text='Click Me',command=clicker,image=login_img,borderwidth=0)\n",
    "login_btn.pack(pady=20)\n",
    "\n",
    "my_label = Label(window,text='')\n",
    "my_label.pack(pady=20)\n",
    "\n",
    "\n",
    "window.mainloop()"
   ]
  },
  {
   "cell_type": "code",
   "execution_count": 11,
   "metadata": {},
   "outputs": [],
   "source": [
    "from tkinter import *\n",
    "window = Tk()\n",
    "window.title('Images Buttons')\n",
    "window.geometry('400x400')\n",
    "\n",
    "login_img = PhotoImage(file=r'C:\\Users\\Arvind\\Desktop\\login.png')\n",
    "\n",
    "def clicker():\n",
    "    my_label.config(text='You have clicked the button')\n",
    "\n",
    "login_btn = Button(window,text='Click Me',command=clicker,image=login_img,borderwidth=0)\n",
    "login_btn.pack(pady=20)\n",
    "\n",
    "my_label = Label(window,text='')\n",
    "my_label.pack(pady=20)\n",
    "\n",
    "\n",
    "window.mainloop()"
   ]
  },
  {
   "cell_type": "code",
   "execution_count": 12,
   "metadata": {},
   "outputs": [],
   "source": [
    "from tkinter import *\n",
    "window = Tk()\n",
    "window.title('Images Buttons')\n",
    "window.geometry('400x400')\n",
    "\n",
    "login_img = PhotoImage(file=r'C:\\Users\\Arvind\\Desktop\\login.png')\n",
    "\n",
    "def clicker():\n",
    "    my_label = Label(window,text='This is image button')\n",
    "    my_label.pack()\n",
    "\n",
    "login_btn = Button(window,text='Click Me',command=clicker,image=login_img,borderwidth=0)\n",
    "login_btn.pack(pady=20)\n",
    "window.mainloop()"
   ]
  },
  {
   "cell_type": "markdown",
   "metadata": {},
   "source": [
    "# Drop Down"
   ]
  },
  {
   "cell_type": "code",
   "execution_count": 15,
   "metadata": {},
   "outputs": [],
   "source": [
    "from tkinter import *\n",
    "from tkinter import ttk\n",
    "window = Tk()\n",
    "window.title('Open Dialog box')\n",
    "window.geometry('500x400')\n",
    "#window.iconbitmap(r'C:\\Users\\ARVIND\\Desktop\\Desk\\Bevy\\av.ico')\n",
    "# creating a list of sizes\n",
    "size = ['small','medium','large']\n",
    "small_colors = ['red','green','Blue','Black']\n",
    "medium_colors = ['red','green']\n",
    "large_colors = ['Blue','Black']\n",
    "# create a drop down box\n",
    "my_combo = ttk.Combobox(window,value=size)\n",
    "my_combo.pack(pady=20)\n",
    "window.mainloop()\n"
   ]
  },
  {
   "cell_type": "code",
   "execution_count": 17,
   "metadata": {},
   "outputs": [],
   "source": [
    "from tkinter import *\n",
    "from tkinter import ttk\n",
    "window = Tk()\n",
    "window.title('Open Dialog box')\n",
    "window.geometry('500x400')\n",
    "size = ['small','medium','large']\n",
    "my_combo = ttk.Combobox(window,value=size)\n",
    "my_combo.pack(pady=20)\n",
    "window.mainloop()\n"
   ]
  },
  {
   "cell_type": "code",
   "execution_count": null,
   "metadata": {},
   "outputs": [],
   "source": []
  }
 ],
 "metadata": {
  "kernelspec": {
   "display_name": "Python 3",
   "language": "python",
   "name": "python3"
  },
  "language_info": {
   "codemirror_mode": {
    "name": "ipython",
    "version": 3
   },
   "file_extension": ".py",
   "mimetype": "text/x-python",
   "name": "python",
   "nbconvert_exporter": "python",
   "pygments_lexer": "ipython3",
   "version": "3.7.5"
  }
 },
 "nbformat": 4,
 "nbformat_minor": 2
}
