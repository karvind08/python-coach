{
 "cells": [
  {
   "cell_type": "code",
   "execution_count": 1,
   "metadata": {},
   "outputs": [],
   "source": [
    "def cube(n):\n",
    "    print('The Cube is:',n**3)\n",
    "    \n",
    "def squre(n):\n",
    "    print('The square is:',n**2)"
   ]
  },
  {
   "cell_type": "code",
   "execution_count": 2,
   "metadata": {},
   "outputs": [
    {
     "name": "stdout",
     "output_type": "stream",
     "text": [
      "The Cube is: 27\n"
     ]
    }
   ],
   "source": [
    "cube(3)"
   ]
  },
  {
   "cell_type": "code",
   "execution_count": 3,
   "metadata": {},
   "outputs": [
    {
     "name": "stdout",
     "output_type": "stream",
     "text": [
      "The square is: 4\n"
     ]
    }
   ],
   "source": [
    "squre(2)"
   ]
  },
  {
   "cell_type": "code",
   "execution_count": 2,
   "metadata": {},
   "outputs": [],
   "source": [
    "import multiprocessing"
   ]
  },
  {
   "cell_type": "code",
   "execution_count": 6,
   "metadata": {},
   "outputs": [
    {
     "data": {
      "text/plain": [
       "8"
      ]
     },
     "execution_count": 6,
     "metadata": {},
     "output_type": "execute_result"
    }
   ],
   "source": [
    "multiprocessing.cpu_count()"
   ]
  },
  {
   "cell_type": "code",
   "execution_count": 3,
   "metadata": {},
   "outputs": [],
   "source": [
    "p1 = multiprocessing.Process(target=cube,args=(4,)) # I have created both processes\n",
    "p2 = multiprocessing.Process(target=squre,args=(3,))"
   ]
  },
  {
   "cell_type": "code",
   "execution_count": 8,
   "metadata": {},
   "outputs": [
    {
     "data": {
      "text/plain": [
       "<Process name='Process-1' parent=19768 initial>"
      ]
     },
     "execution_count": 8,
     "metadata": {},
     "output_type": "execute_result"
    }
   ],
   "source": [
    "p1"
   ]
  },
  {
   "cell_type": "code",
   "execution_count": 4,
   "metadata": {},
   "outputs": [
    {
     "data": {
      "text/plain": [
       "False"
      ]
     },
     "execution_count": 4,
     "metadata": {},
     "output_type": "execute_result"
    }
   ],
   "source": [
    "p1.is_alive()"
   ]
  },
  {
   "cell_type": "code",
   "execution_count": 4,
   "metadata": {},
   "outputs": [],
   "source": [
    "p1.start()\n",
    "p2.start()\n",
    "\n",
    "p1.join()\n",
    "p2.join()"
   ]
  },
  {
   "cell_type": "code",
   "execution_count": 5,
   "metadata": {},
   "outputs": [],
   "source": [
    "import threading"
   ]
  },
  {
   "cell_type": "code",
   "execution_count": 1,
   "metadata": {},
   "outputs": [],
   "source": [
    "from threading import *"
   ]
  },
  {
   "cell_type": "code",
   "execution_count": 2,
   "metadata": {},
   "outputs": [
    {
     "name": "stdout",
     "output_type": "stream",
     "text": [
      "Child Executing..Bye\n",
      "Child Executing..\n",
      "Child Executing..\n",
      "Child Executing..\n",
      "Child Executing..\n",
      "Child Executing..\n",
      "\n"
     ]
    }
   ],
   "source": [
    "from threading import *\n",
    "def new():\n",
    "    for i in range(6):\n",
    "        print('Child Executing..')\n",
    "        \n",
    "t1 = Thread(target=new)\n",
    "t1.start()\n",
    "print('Bye')"
   ]
  },
  {
   "cell_type": "code",
   "execution_count": 3,
   "metadata": {},
   "outputs": [
    {
     "name": "stdout",
     "output_type": "stream",
     "text": [
      "Child Executing..\n",
      "Child Executing..\n",
      "Child Executing..\n",
      "Child Executing..\n",
      "Child Executing..\n",
      "Child Executing..\n",
      "Bye\n"
     ]
    }
   ],
   "source": [
    "def new():\n",
    "    for i in range(6):\n",
    "        print('Child Executing..')\n",
    "        \n",
    "t1 = Thread(target=new)\n",
    "t1.start()\n",
    "t1.join()\n",
    "print('Bye')"
   ]
  },
  {
   "cell_type": "code",
   "execution_count": 4,
   "metadata": {},
   "outputs": [
    {
     "name": "stdout",
     "output_type": "stream",
     "text": [
      "Child Executing.. Thread-8\n",
      "Child Executing.. Thread-8\n",
      "Child Executing.. Thread-8\n",
      "Child Executing.. Thread-8\n",
      "Child Executing.. Thread-8\n",
      "Child Executing.. Thread-8\n",
      "Bye MainThread\n"
     ]
    }
   ],
   "source": [
    "def new():\n",
    "    for i in range(6):\n",
    "        print('Child Executing..',current_thread().getName())\n",
    "        \n",
    "t1 = Thread(target=new)\n",
    "t1.start()\n",
    "t1.join()\n",
    "print('Bye',current_thread().getName())"
   ]
  },
  {
   "cell_type": "code",
   "execution_count": 5,
   "metadata": {},
   "outputs": [
    {
     "name": "stdout",
     "output_type": "stream",
     "text": [
      "MainThread\n",
      "Child Executing.. Thread-9\n",
      "Child Executing.. Thread-9\n",
      "Child Executing.. Thread-9\n",
      "Child Executing.. Thread-9\n",
      "Child Executing.. Thread-9\n",
      "Child Executing.. Thread-9\n",
      "Bye MainThread\n"
     ]
    }
   ],
   "source": [
    "def new():\n",
    "    for i in range(6):\n",
    "        print('Child Executing..',current_thread().getName())\n",
    "        \n",
    "t1 = Thread(target=new)\n",
    "print(current_thread().getName())\n",
    "t1.start()\n",
    "t1.join()\n",
    "print('Bye',current_thread().getName())"
   ]
  },
  {
   "cell_type": "markdown",
   "metadata": {},
   "source": [
    "# By Extending Thread Class"
   ]
  },
  {
   "cell_type": "code",
   "execution_count": 6,
   "metadata": {},
   "outputs": [],
   "source": [
    "from threading import *"
   ]
  },
  {
   "cell_type": "markdown",
   "metadata": {},
   "source": [
    "# By extending Thread class, you can override only run() and __init__() functions. we are inherting Thread class. "
   ]
  },
  {
   "cell_type": "code",
   "execution_count": 7,
   "metadata": {},
   "outputs": [
    {
     "name": "stdout",
     "output_type": "stream",
     "text": [
      "Child:  Thread-10\n",
      "Child:  Thread-10\n",
      "Child:  Thread-10\n",
      "Child:  Thread-10\n",
      "Child:  Thread-10\n",
      "Control returned to:  MainThread\n"
     ]
    }
   ],
   "source": [
    "class A(Thread):\n",
    "    def run(self):\n",
    "        for i in range(5):\n",
    "            print('Child: ',current_thread().getName())\n",
    "obj = A()\n",
    "obj.start()\n",
    "obj.join()\n",
    "print('Control returned to: ',current_thread().getName())\n"
   ]
  },
  {
   "cell_type": "markdown",
   "metadata": {},
   "source": [
    "# Without extending Thread class"
   ]
  },
  {
   "cell_type": "code",
   "execution_count": 9,
   "metadata": {},
   "outputs": [
    {
     "name": "stdout",
     "output_type": "stream",
     "text": [
      "1\n",
      "2\n",
      "d\n",
      "4.5\n",
      "arvind\n",
      "Done by MainThread\n"
     ]
    }
   ],
   "source": [
    "class Example:\n",
    "    def fun(self):\n",
    "        l1 = [1,2,'d',4.5,'arvind']\n",
    "        for i in l1:\n",
    "            print(i)\n",
    "            \n",
    "E = Example()\n",
    "t1 = Thread(target=E.fun)\n",
    "\n",
    "t1.start()\n",
    "t1.join()\n",
    "print('Done by',current_thread().getName())"
   ]
  },
  {
   "cell_type": "markdown",
   "metadata": {},
   "source": [
    "# Time Comparison"
   ]
  },
  {
   "cell_type": "code",
   "execution_count": 10,
   "metadata": {},
   "outputs": [],
   "source": [
    "import time\n",
    "from threading import *"
   ]
  },
  {
   "cell_type": "code",
   "execution_count": 13,
   "metadata": {},
   "outputs": [
    {
     "name": "stdout",
     "output_type": "stream",
     "text": [
      "0\n",
      "1\n",
      "0\n",
      "1\n",
      "0\n",
      "2\n",
      "0\n",
      "1\n",
      "2\n",
      "0\n",
      "Total time 10.076663255691528\n"
     ]
    }
   ],
   "source": [
    "import time\n",
    "from threading import *\n",
    "def fun1(n):\n",
    "    for i in n:\n",
    "        time.sleep(1)\n",
    "        print(i%2)\n",
    "        \n",
    "def fun2(n):\n",
    "    for i in n:\n",
    "        time.sleep(1)\n",
    "        print(i%3)\n",
    "        \n",
    "n = [2,3,4,5,6]\n",
    "s = time.time()\n",
    "fun1(n)\n",
    "fun2(n)\n",
    "e = time.time()\n",
    "print('Total time',e-s)"
   ]
  },
  {
   "cell_type": "markdown",
   "metadata": {},
   "source": [
    "# By Thread"
   ]
  },
  {
   "cell_type": "code",
   "execution_count": 12,
   "metadata": {},
   "outputs": [
    {
     "name": "stdout",
     "output_type": "stream",
     "text": [
      "02\n",
      "\n",
      "01\n",
      "\n",
      "10\n",
      "\n",
      "12\n",
      "\n",
      "00\n",
      "\n",
      "5.0724616050720215\n"
     ]
    }
   ],
   "source": [
    "def fun1(n):\n",
    "    for i in n:\n",
    "        time.sleep(1)\n",
    "        print(i%2)\n",
    "        \n",
    "def fun2(n):\n",
    "    for i in n:\n",
    "        time.sleep(1)\n",
    "        print(i%3)\n",
    "        \n",
    "n = [2,3,4,5,6]\n",
    "s = time.time()\n",
    "\n",
    "t1 = Thread(target=fun1,args=(n,))\n",
    "t2 = Thread(target=fun2,args=(n,))\n",
    "\n",
    "t1.start()\n",
    "t2.start()\n",
    "t1.join()\n",
    "t2.join()\n",
    "\n",
    "e = time.time()\n",
    "print(e-s)"
   ]
  },
  {
   "cell_type": "code",
   "execution_count": null,
   "metadata": {},
   "outputs": [],
   "source": []
  },
  {
   "cell_type": "code",
   "execution_count": null,
   "metadata": {},
   "outputs": [],
   "source": []
  },
  {
   "cell_type": "code",
   "execution_count": null,
   "metadata": {},
   "outputs": [],
   "source": []
  }
 ],
 "metadata": {
  "kernelspec": {
   "display_name": "Python 3",
   "language": "python",
   "name": "python3"
  },
  "language_info": {
   "codemirror_mode": {
    "name": "ipython",
    "version": 3
   },
   "file_extension": ".py",
   "mimetype": "text/x-python",
   "name": "python",
   "nbconvert_exporter": "python",
   "pygments_lexer": "ipython3",
   "version": "3.9.1"
  }
 },
 "nbformat": 4,
 "nbformat_minor": 4
}
