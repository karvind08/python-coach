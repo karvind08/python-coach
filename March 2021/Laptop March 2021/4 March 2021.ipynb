{
 "cells": [
  {
   "cell_type": "markdown",
   "metadata": {},
   "source": [
    "# Frames"
   ]
  },
  {
   "cell_type": "code",
   "execution_count": 6,
   "metadata": {},
   "outputs": [],
   "source": [
    "from tkinter import *\n",
    "window = Tk()\n",
    "window.geometry('400x350')\n",
    "\n",
    "myframe = Frame(window)\n",
    "myframe.pack()\n",
    "\n",
    "\n",
    "window.mainloop()"
   ]
  },
  {
   "cell_type": "markdown",
   "metadata": {},
   "source": [
    "# Put a label in a Frame "
   ]
  },
  {
   "cell_type": "code",
   "execution_count": null,
   "metadata": {},
   "outputs": [],
   "source": [
    "from tkinter import *\n",
    "window = Tk()\n",
    "window.geometry('400x350')\n",
    "\n",
    "myframe = Frame(window)\n",
    "myframe.pack()\n",
    "\n",
    "l = Label(myframe,text='Frame')\n",
    "l.pack()\n",
    "\n",
    "window.mainloop()\n"
   ]
  },
  {
   "cell_type": "code",
   "execution_count": 87,
   "metadata": {},
   "outputs": [],
   "source": [
    "from tkinter import *\n",
    "window = Tk()\n",
    "window.geometry('400x350')\n",
    "\n",
    "myframe = Frame(window,bg='blue',borderwidth=3,relief=RAISED)\n",
    "myframe.pack(fill='x',expand=True)\n",
    "\n",
    "l = Label(myframe,text='Frame').pack()\n",
    "\n",
    "window.mainloop()\n",
    "\n"
   ]
  },
  {
   "cell_type": "markdown",
   "metadata": {},
   "source": [
    "# Frames in top & bottom of the window"
   ]
  },
  {
   "cell_type": "code",
   "execution_count": 15,
   "metadata": {},
   "outputs": [],
   "source": [
    "from tkinter import *\n",
    "window = Tk()\n",
    "window.geometry('400x350')\n",
    "\n",
    "myframe1 = Frame(window)\n",
    "myframe1.pack()\n",
    "\n",
    "l1 = Label(myframe1,text='Top Frame')\n",
    "l1.pack()\n",
    "\n",
    "myframe2 = Frame(window)\n",
    "myframe2.pack(side=BOTTOM)\n",
    "\n",
    "l2 = Label(myframe2,text='Bottom Frame')\n",
    "l2.pack()\n",
    "\n",
    "window.mainloop()\n"
   ]
  },
  {
   "cell_type": "code",
   "execution_count": 16,
   "metadata": {},
   "outputs": [],
   "source": [
    "from tkinter import *\n",
    "window = Tk()\n",
    "window.geometry('400x350')\n",
    "\n",
    "myframe1 = Frame(window)\n",
    "myframe1.pack()\n",
    "\n",
    "l1 = Label(myframe1,text='Top Frame')\n",
    "l1.pack()\n",
    "\n",
    "myframe2 = Frame(window)\n",
    "myframe2.pack(side=BOTTOM)\n",
    "\n",
    "l2 = Label(myframe2,text='Bottom Frame')\n",
    "l2.pack()\n",
    "\n",
    "window.mainloop()\n"
   ]
  },
  {
   "cell_type": "markdown",
   "metadata": {},
   "source": [
    "# Frames in each side of the window"
   ]
  },
  {
   "cell_type": "code",
   "execution_count": 14,
   "metadata": {},
   "outputs": [],
   "source": [
    "from tkinter import *\n",
    "window = Tk()\n",
    "window.geometry('400x350')\n",
    "\n",
    "myframe1 = Frame(window)\n",
    "myframe1.pack()\n",
    "\n",
    "l1 = Label(myframe1,text='Top Frame')\n",
    "l1.pack()\n",
    "\n",
    "myframe2 = Frame(window)\n",
    "myframe2.pack(side=BOTTOM)\n",
    "\n",
    "l2 = Label(myframe2,text='Bottom Frame')\n",
    "l2.pack()\n",
    "\n",
    "myframe3 = Frame(window)\n",
    "myframe3.pack(side=LEFT)\n",
    "\n",
    "l3 = Label(myframe3,text='Left Frame')\n",
    "l3.pack()\n",
    "\n",
    "\n",
    "myframe4 = Frame(window)\n",
    "myframe4.pack(side=RIGHT)\n",
    "\n",
    "l4 = Label(myframe4,text='Right Frame')\n",
    "l4.pack()\n",
    "\n",
    "window.mainloop()\n"
   ]
  },
  {
   "cell_type": "markdown",
   "metadata": {},
   "source": [
    "# Buttons in Top & Bottom Frames"
   ]
  },
  {
   "cell_type": "code",
   "execution_count": 80,
   "metadata": {},
   "outputs": [],
   "source": [
    "from tkinter import *\n",
    "window = Tk()\n",
    "window.geometry('400x350')\n",
    "\n",
    "myframe1 = Frame(window)\n",
    "myframe1.pack()\n",
    "btn1 = Button(myframe1,text='Button 1').pack()\n",
    "\n",
    "myframe2 = Frame(window)\n",
    "myframe2.pack(side=BOTTOM)\n",
    "btn2 = Button(myframe2,text='Button 2').pack()\n",
    "\n",
    "window.mainloop()\n"
   ]
  },
  {
   "cell_type": "code",
   "execution_count": null,
   "metadata": {},
   "outputs": [],
   "source": []
  },
  {
   "cell_type": "code",
   "execution_count": 84,
   "metadata": {},
   "outputs": [],
   "source": [
    "window = Tk()\n",
    "window.title('Tkinter Frames')\n",
    "\n",
    "top_frame = Frame(window).pack()\n",
    "btn1 = Button(top_frame,text='Button 1').pack()\n",
    "btn2 = Button(top_frame,text='Button 2').pack()\n",
    "\n",
    "bottom_frame = Frame(window).pack()\n",
    "btn3 = Button(bottom_frame,text='Button 3').pack(side=LEFT)\n",
    "btn4 = Button(bottom_frame,text='Button 4').pack(side=LEFT)\n",
    "\n",
    "window.geometry('400x300')\n",
    "window.mainloop()\n"
   ]
  },
  {
   "cell_type": "code",
   "execution_count": 65,
   "metadata": {},
   "outputs": [],
   "source": [
    "window = Tk()\n",
    "window.title('Tkinter Frames')\n",
    "\n",
    "top_frame = Frame(window).pack()\n",
    "btn1 = Button(top_frame,text='Button 1').pack()\n",
    "btn2 = Button(top_frame,text='Button 2').pack()\n",
    "\n",
    "bottom_frame = Frame(window).pack()\n",
    "btn3 = Button(bottom_frame,text='Button 3').pack(side=BOTTOM)\n",
    "btn4 = Button(bottom_frame,text='Button 4').pack(side=BOTTOM)\n",
    "\n",
    "window.geometry('400x300')\n",
    "window.mainloop()\n"
   ]
  },
  {
   "cell_type": "code",
   "execution_count": null,
   "metadata": {},
   "outputs": [],
   "source": []
  },
  {
   "cell_type": "code",
   "execution_count": 85,
   "metadata": {},
   "outputs": [],
   "source": [
    "from tkinter import *\n",
    "window = Tk()\n",
    "window.title('Tkinter Fill Parameter')\n",
    "\n",
    "Label(window,text='Automatic width',fg='white',bg='purple').pack()\n",
    "Label(window,text='full Width',fg='white',bg='green').pack(fill=X)\n",
    "Label(window,text='full side Width ',fg='white',bg='purple').pack(side='left',fill='y')\n",
    "\n",
    "window.geometry('400x300')\n",
    "window.mainloop()\n"
   ]
  },
  {
   "cell_type": "code",
   "execution_count": 59,
   "metadata": {},
   "outputs": [],
   "source": [
    "from tkinter import *\n",
    "window = Tk()\n",
    "window.title('Tkinter Fill Parameter')\n",
    "\n",
    "\n",
    "Label(window,text='full Width',fg='white',bg='green').pack(fill='both',expand=True)\n",
    "\n",
    "window.geometry('400x300')\n",
    "window.mainloop()\n"
   ]
  },
  {
   "cell_type": "markdown",
   "metadata": {},
   "source": [
    "# 3 Buttons in One frame with fill both "
   ]
  },
  {
   "cell_type": "code",
   "execution_count": 89,
   "metadata": {},
   "outputs": [],
   "source": [
    "from tkinter import * \n",
    "#from tkinter.ttk import *\n",
    "\n",
    "window = Tk()\n",
    "window.geometry('400x350')\n",
    "\n",
    "frame1 = Frame(window)\n",
    "frame1.pack(fill = BOTH, expand = True)\n",
    "\n",
    "\n",
    "b1 = Button(frame1, text = \"Click me !\")\n",
    "b1.pack(fill = BOTH, expand = True)\n",
    "\n",
    "\n",
    "b2 = Button(frame1, text = \"Click me too\")\n",
    "b2.pack(fill = BOTH, expand = True)\n",
    "\n",
    "b3 = Button(frame1, text = \"Click Here\")\n",
    "b3.pack(fill = BOTH, expand = True)\n",
    "\n",
    "\n",
    "window.mainloop()\n"
   ]
  },
  {
   "cell_type": "markdown",
   "metadata": {},
   "source": [
    "# List Box"
   ]
  },
  {
   "cell_type": "code",
   "execution_count": 90,
   "metadata": {},
   "outputs": [],
   "source": [
    "from tkinter import *\n",
    "from tkinter import ttk\n",
    "window = Tk()\n",
    "window.title('List box')\n",
    "window.geometry('500x400')\n",
    "window.iconbitmap(r'C:\\Users\\ARVIND\\Desktop\\Desk\\Bevy\\av.ico')\n",
    "my_listbox = Listbox(window)\n",
    "my_listbox.pack(pady=20)\n",
    "my_listbox.insert(END,'This is an item')\n",
    "my_listbox.insert(END,'Second item')\n",
    "my_list = ['one','two','Three']\n",
    "for i in my_list:\n",
    "    my_listbox.insert(END,i)\n",
    "    \n",
    "window.mainloop()"
   ]
  },
  {
   "cell_type": "code",
   "execution_count": 91,
   "metadata": {},
   "outputs": [],
   "source": [
    "from tkinter import *\n",
    "from tkinter import ttk\n",
    "window = Tk()\n",
    "window.title('List box')\n",
    "window.geometry('500x400')\n",
    "window.iconbitmap(r'C:\\Users\\ARVIND\\Desktop\\Desk\\Bevy\\av.ico')\n",
    "my_listbox = Listbox(window)\n",
    "my_listbox.pack(pady=20)\n",
    "my_listbox.insert(END,'This is an item')\n",
    "my_listbox.insert(END,'Second item')\n",
    "my_list = ['one','two','Three']\n",
    "for i in my_list:\n",
    "    my_listbox.insert(END,i)\n",
    "    \n",
    "    \n",
    "def delete_item():\n",
    "    my_listbox.delete(ANCHOR)\n",
    "    \n",
    "btn = Button(window,text='DELETE',command=delete_item)\n",
    "btn.pack(pady=20)\n",
    "window.mainloop()"
   ]
  },
  {
   "cell_type": "code",
   "execution_count": 94,
   "metadata": {},
   "outputs": [],
   "source": [
    "from tkinter import *\n",
    "from tkinter import ttk\n",
    "window = Tk()\n",
    "window.title('List box')\n",
    "window.geometry('500x400')\n",
    "window.iconbitmap(r'C:\\Users\\ARVIND\\Desktop\\Desk\\Bevy\\av.ico')\n",
    "listbox1 = Listbox(window)\n",
    "listbox1.pack(pady=20)\n",
    "listbox1.insert(END,'This is an item')\n",
    "listbox1.insert(END,'Second item')\n",
    "my_list = ['one','two','Three']\n",
    "for i in my_list:\n",
    "    listbox1.insert(END,i)\n",
    "    \n",
    "    \n",
    "def delete_item():\n",
    "    listbox1.delete(ANCHOR)\n",
    "    \n",
    "    \n",
    "def select():\n",
    "    my_label.config(text=listbox1.get(ANCHOR))\n",
    "\n",
    "    \n",
    "btn = Button(window,text='DELETE',command=delete_item)\n",
    "btn.pack(pady=20)\n",
    "\n",
    "my_button2= Button(window,text='Select',command=select)\n",
    "my_button2.pack(pady=10)\n",
    "\n",
    "#global my_label\n",
    "my_label = Label(window,text=' ')\n",
    "my_label.pack(pady=5)\n",
    "\n",
    "window.mainloop()"
   ]
  },
  {
   "cell_type": "markdown",
   "metadata": {},
   "source": [
    "# Table"
   ]
  },
  {
   "cell_type": "code",
   "execution_count": 11,
   "metadata": {},
   "outputs": [],
   "source": [
    "from tkinter import *\n",
    "window = Tk()\n",
    "window.title('Table')\n",
    "window.geometry('500x400')\n",
    "window.iconbitmap(r'C:\\Users\\ARVIND\\Desktop\\Desk\\Bevy\\av.ico')\n",
    "\n",
    "for i in range(12):\n",
    "    for j in range(12):\n",
    "        Label(window,text=j,font='30').grid(row=i,column=j)\n",
    "\n",
    "window.mainloop()"
   ]
  },
  {
   "cell_type": "markdown",
   "metadata": {},
   "source": [
    "# Tabs or Notebook"
   ]
  },
  {
   "cell_type": "code",
   "execution_count": 3,
   "metadata": {},
   "outputs": [],
   "source": [
    "from tkinter import *\n",
    "from tkinter import ttk\n",
    "window = Tk()\n",
    "window.title('Table')\n",
    "window.geometry('500x400')\n",
    "window.iconbitmap(r'C:\\Users\\ARVIND\\Desktop\\Desk\\Bevy\\av.ico')\n",
    "\n",
    "my_notebook = ttk.Notebook(window)\n",
    "my_notebook.pack()\n",
    "\n",
    "frame1 = Frame(my_notebook,width=500,height=500,bg='red')\n",
    "frame1.pack(fill=BOTH,expand=True)\n",
    "\n",
    "frame2 = Frame(my_notebook,width=500,height=500,bg='yellow')\n",
    "frame2.pack(fill=BOTH,expand=True)\n",
    "\n",
    "my_notebook.add(frame1,text='First Tab')\n",
    "my_notebook.add(frame2,text='Second Tab')\n",
    "\n",
    "window.mainloop()"
   ]
  },
  {
   "cell_type": "markdown",
   "metadata": {},
   "source": [
    "# Color Picker in Tkinter"
   ]
  },
  {
   "cell_type": "code",
   "execution_count": 4,
   "metadata": {},
   "outputs": [],
   "source": [
    "from tkinter import *\n",
    "from tkinter import colorchooser\n",
    "window = Tk()\n",
    "window.title('Color Picker')\n",
    "window.geometry('400x300')\n",
    "def pick_color():\n",
    "    colorchooser.askcolor()\n",
    "\n",
    "btn = Button(window,text='Pick a color',command=pick_color,bg='red')\n",
    "btn.pack(pady=20)\n",
    "window.mainloop()\n"
   ]
  },
  {
   "cell_type": "code",
   "execution_count": null,
   "metadata": {},
   "outputs": [],
   "source": []
  },
  {
   "cell_type": "code",
   "execution_count": 5,
   "metadata": {},
   "outputs": [],
   "source": [
    "from tkinter import *\n",
    "from tkinter import colorchooser\n",
    "window = Tk()\n",
    "window.title('Color Picker')\n",
    "window.geometry('400x300')\n",
    "def pick_color():\n",
    "    my_color=colorchooser.askcolor()\n",
    "    Label(window,text=my_color).pack(pady=20)\n",
    "\n",
    "btn = Button(window,text='Pick a color',command=pick_color,bg='red')\n",
    "btn.pack(pady=20)\n",
    "window.mainloop()\n"
   ]
  },
  {
   "cell_type": "code",
   "execution_count": null,
   "metadata": {},
   "outputs": [],
   "source": []
  },
  {
   "cell_type": "code",
   "execution_count": 6,
   "metadata": {},
   "outputs": [],
   "source": [
    "from tkinter import *\n",
    "from tkinter import colorchooser\n",
    "window = Tk()\n",
    "window.title('Color Picker')\n",
    "window.geometry('400x300')\n",
    "def pick_color():\n",
    "    my_color=colorchooser.askcolor()[1]\n",
    "    Label(window,text=my_color).pack(pady=20)\n",
    "\n",
    "btn = Button(window,text='Pick a color',command=pick_color,bg='red')\n",
    "btn.pack(pady=20)\n",
    "window.mainloop()\n"
   ]
  },
  {
   "cell_type": "code",
   "execution_count": null,
   "metadata": {},
   "outputs": [],
   "source": []
  },
  {
   "cell_type": "code",
   "execution_count": 7,
   "metadata": {},
   "outputs": [],
   "source": [
    "from tkinter import *\n",
    "from tkinter import colorchooser\n",
    "window = Tk()\n",
    "window.title('Color Picker')\n",
    "window.geometry('400x300')\n",
    "def pick_color():\n",
    "    my_color=colorchooser.askcolor()[1]\n",
    "    Label(window,text=my_color).pack(pady=20)\n",
    "    Label(window,text='You have picked this color',bg=my_color).pack()\n",
    "\n",
    "btn = Button(window,text='Pick a color',command=pick_color,bg='red')\n",
    "btn.pack(pady=20)\n",
    "window.mainloop()\n"
   ]
  },
  {
   "cell_type": "code",
   "execution_count": null,
   "metadata": {},
   "outputs": [],
   "source": []
  },
  {
   "cell_type": "code",
   "execution_count": 8,
   "metadata": {},
   "outputs": [],
   "source": [
    "from tkinter import *\n",
    "from tkinter import colorchooser\n",
    "window = Tk()\n",
    "window.title('Color Picker')\n",
    "window.geometry('400x300')\n",
    "def pick_color():\n",
    "    my_color=colorchooser.askcolor()[1]\n",
    "    Label(window,text=my_color).pack(pady=20)\n",
    "    Label(window,text='You have picked this color',fg=my_color).pack()\n",
    "\n",
    "btn = Button(window,text='Pick a color',command=pick_color,bg='red')\n",
    "btn.pack(pady=20)\n",
    "window.mainloop()\n"
   ]
  },
  {
   "cell_type": "markdown",
   "metadata": {},
   "source": [
    "# Login Box"
   ]
  },
  {
   "cell_type": "code",
   "execution_count": 1,
   "metadata": {},
   "outputs": [],
   "source": [
    "from tkinter import *"
   ]
  },
  {
   "cell_type": "code",
   "execution_count": 3,
   "metadata": {},
   "outputs": [],
   "source": [
    "window = Tk()\n",
    "window.title('Login')\n",
    "Label(window,text='Username:').grid(row=0)\n",
    "Entry(window).grid(row=0,column=1)\n",
    "Label(window,text='Password').grid(row=1)\n",
    "Entry(window).grid(row=1,column=1)\n",
    "Checkbutton(window,text='Keep me logged In').grid(columnspan=2)\n",
    "Button(window,text='Login').grid(row=3,column=1)\n",
    "window.geometry('400x300')\n",
    "window.mainloop()"
   ]
  },
  {
   "cell_type": "markdown",
   "metadata": {},
   "source": [
    "# Open Dialog Box"
   ]
  },
  {
   "cell_type": "code",
   "execution_count": 4,
   "metadata": {},
   "outputs": [],
   "source": [
    "from tkinter import *\n",
    "from PIL import ImageTk, Image\n",
    "from tkinter import filedialog\n",
    "window = Tk()\n",
    "window.title('Open Dialog box')\n",
    "window.geometry('500x400')\n",
    "window.iconbitmap(r'C:\\Users\\ARVIND\\Desktop\\Desk\\Bevy\\av.ico')\n",
    "window.filename = filedialog.askopenfilename(initialdir = r'C:\\Users\\ARVIND\\Desktop\\Desk\\Bevy',title='Select a file',filetypes=(('png files','*.png'),('all files','*.*')))\n",
    "window.mainloop()\n"
   ]
  },
  {
   "cell_type": "code",
   "execution_count": null,
   "metadata": {},
   "outputs": [],
   "source": [
    "Opening a File\n",
    "Opening a File & Display its address\n",
    "Opening a File & Display it on window\n",
    "Open a file using a button\n",
    "open a file and display it on window and close that window\n"
   ]
  }
 ],
 "metadata": {
  "kernelspec": {
   "display_name": "Python 3",
   "language": "python",
   "name": "python3"
  },
  "language_info": {
   "codemirror_mode": {
    "name": "ipython",
    "version": 3
   },
   "file_extension": ".py",
   "mimetype": "text/x-python",
   "name": "python",
   "nbconvert_exporter": "python",
   "pygments_lexer": "ipython3",
   "version": "3.9.1"
  }
 },
 "nbformat": 4,
 "nbformat_minor": 4
}
