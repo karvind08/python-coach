{
 "cells": [
  {
   "cell_type": "markdown",
   "metadata": {},
   "source": [
    "# Drop Down Menu"
   ]
  },
  {
   "cell_type": "code",
   "execution_count": 3,
   "metadata": {},
   "outputs": [],
   "source": [
    "from tkinter import *\n",
    "from tkinter import ttk\n",
    "window = Tk()\n",
    "window.title('Drop Down Menu')\n",
    "window.geometry('500x400')\n",
    "window.iconbitmap(r'C:\\Users\\ARVIND\\Desktop\\Desk\\Bevy\\av.ico')\n",
    "\n",
    "clicked = StringVar()\n",
    "drop = OptionMenu(window,clicked,'Monday','Tuesday','Wednesday','Thursday')\n",
    "drop.pack()\n",
    "\n",
    "    \n",
    "window.mainloop()"
   ]
  },
  {
   "cell_type": "markdown",
   "metadata": {},
   "source": [
    "# Set Initial Value"
   ]
  },
  {
   "cell_type": "code",
   "execution_count": 2,
   "metadata": {},
   "outputs": [],
   "source": [
    "from tkinter import *\n",
    "from tkinter import ttk\n",
    "window = Tk()\n",
    "window.title('Drop Down Menu')\n",
    "window.geometry('500x400')\n",
    "window.iconbitmap(r'C:\\Users\\ARVIND\\Desktop\\Desk\\Bevy\\av.ico')\n",
    "clicked = StringVar()\n",
    "clicked.set('Monday')\n",
    "drop = OptionMenu(window,clicked,'Monday','Tuesday','Wednesday','Thursday')\n",
    "drop.pack()\n",
    "window.mainloop()"
   ]
  },
  {
   "cell_type": "markdown",
   "metadata": {},
   "source": [
    "# Using list element "
   ]
  },
  {
   "cell_type": "code",
   "execution_count": 11,
   "metadata": {},
   "outputs": [],
   "source": [
    "from tkinter import *\n",
    "from tkinter import ttk\n",
    "window = Tk()\n",
    "window.title('Drop Down Menu')\n",
    "window.geometry('500x400')\n",
    "window.iconbitmap(r'C:\\Users\\ARVIND\\Desktop\\Desk\\Bevy\\av.ico')\n",
    "\n",
    "list1 = ['Monday','Tuesday','Wednesday','Thursday','Friday']\n",
    "\n",
    "clicked = StringVar()\n",
    "clicked.set(list1[0])\n",
    "drop = OptionMenu(window,clicked,*list1)\n",
    "drop.pack()\n",
    "\n",
    "\n",
    "window.mainloop()"
   ]
  },
  {
   "cell_type": "markdown",
   "metadata": {},
   "source": [
    "# Show selection using Button "
   ]
  },
  {
   "cell_type": "code",
   "execution_count": 10,
   "metadata": {},
   "outputs": [],
   "source": [
    "from tkinter import *\n",
    "from tkinter import ttk\n",
    "window = Tk()\n",
    "window.title('Drop Down Menu')\n",
    "window.geometry('500x400')\n",
    "window.iconbitmap(r'C:\\Users\\ARVIND\\Desktop\\Desk\\Bevy\\av.ico')\n",
    "\n",
    "def show():\n",
    "    label = Label(window,text=clicked.get()).pack()\n",
    "\n",
    "clicked = StringVar()\n",
    "clicked.set('Monday')\n",
    "drop = OptionMenu(window,clicked,'Monday','Tuesday','Wednesday','Thursday')\n",
    "drop.pack()\n",
    "\n",
    "btn = Button(window,text='Show Selection',command=show)\n",
    "btn.pack()\n",
    "\n",
    "window.mainloop()"
   ]
  },
  {
   "cell_type": "markdown",
   "metadata": {},
   "source": [
    "# Use List as values"
   ]
  },
  {
   "cell_type": "code",
   "execution_count": 13,
   "metadata": {},
   "outputs": [],
   "source": [
    "from tkinter import *\n",
    "from tkinter import ttk\n",
    "window = Tk()\n",
    "window.title('Drop Down Menu')\n",
    "window.geometry('500x400')\n",
    "window.iconbitmap(r'C:\\Users\\ARVIND\\Desktop\\Desk\\Bevy\\av.ico')\n",
    "\n",
    "def show():\n",
    "    label = Label(window,text=clicked.get()).pack()\n",
    "    \n",
    "\n",
    "list1 = ['Monday','Tuesday','Wednesday','Thursday','Friday']\n",
    "clicked = StringVar()\n",
    "clicked.set(list1[0])\n",
    "drop = OptionMenu(window,clicked,*list1)\n",
    "drop.pack()\n",
    "\n",
    "btn = Button(window,text='Show Selection',command=show)\n",
    "btn.pack(pady=50)\n",
    "\n",
    "window.mainloop()"
   ]
  },
  {
   "cell_type": "code",
   "execution_count": null,
   "metadata": {},
   "outputs": [],
   "source": []
  }
 ],
 "metadata": {
  "kernelspec": {
   "display_name": "Python 3",
   "language": "python",
   "name": "python3"
  },
  "language_info": {
   "codemirror_mode": {
    "name": "ipython",
    "version": 3
   },
   "file_extension": ".py",
   "mimetype": "text/x-python",
   "name": "python",
   "nbconvert_exporter": "python",
   "pygments_lexer": "ipython3",
   "version": "3.9.1"
  }
 },
 "nbformat": 4,
 "nbformat_minor": 4
}
