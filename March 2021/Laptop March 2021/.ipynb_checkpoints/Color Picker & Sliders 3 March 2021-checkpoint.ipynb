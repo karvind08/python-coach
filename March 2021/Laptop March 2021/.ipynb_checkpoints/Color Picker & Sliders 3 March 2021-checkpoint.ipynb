{
 "cells": [
  {
   "cell_type": "code",
   "execution_count": 2,
   "metadata": {},
   "outputs": [],
   "source": [
    "from tkinter import *\n",
    "from tkinter import colorchooser\n",
    "window = Tk()\n",
    "window.title('Color Picker')\n",
    "window.geometry('400x300')\n",
    "my_color = colorchooser.askcolor()\n",
    "window.mainloop()"
   ]
  },
  {
   "cell_type": "markdown",
   "metadata": {},
   "source": [
    "# Using Button"
   ]
  },
  {
   "cell_type": "code",
   "execution_count": 8,
   "metadata": {},
   "outputs": [],
   "source": [
    "from tkinter import *\n",
    "from tkinter import colorchooser\n",
    "window = Tk()\n",
    "window.title('Color Picker')\n",
    "window.geometry('400x300')\n",
    "\n",
    "def pick_color():\n",
    "    my_color = colorchooser.askcolor()\n",
    "\n",
    "btn = Button(window,text='Pick a color',command=pick_color,bg='red')\n",
    "btn.pack(pady=20)\n",
    "\n",
    "window.mainloop()"
   ]
  },
  {
   "cell_type": "markdown",
   "metadata": {},
   "source": [
    "# Return the color code"
   ]
  },
  {
   "cell_type": "code",
   "execution_count": 10,
   "metadata": {},
   "outputs": [],
   "source": [
    "from tkinter import *\n",
    "from tkinter import colorchooser\n",
    "window = Tk()\n",
    "window.title('Color Picker')\n",
    "window.geometry('400x300')\n",
    "\n",
    "def pick_color():\n",
    "    my_color = colorchooser.askcolor()\n",
    "    my_label = Label(window,text=my_color).pack()\n",
    "\n",
    "btn = Button(window,text='Pick a color',command=pick_color,bg='red')\n",
    "btn.pack(pady=20)\n",
    "\n",
    "window.mainloop()"
   ]
  },
  {
   "cell_type": "markdown",
   "metadata": {},
   "source": [
    "# Returning hex code of the color"
   ]
  },
  {
   "cell_type": "code",
   "execution_count": 12,
   "metadata": {},
   "outputs": [],
   "source": [
    "from tkinter import *\n",
    "from tkinter import colorchooser\n",
    "window = Tk()\n",
    "window.title('Color Picker')\n",
    "window.geometry('400x300')\n",
    "\n",
    "def pick_color():\n",
    "    my_color = colorchooser.askcolor()[1]\n",
    "    my_label = Label(window,text=my_color).pack()\n",
    "\n",
    "btn = Button(window,text='Pick a color',command=pick_color,bg='red')\n",
    "btn.pack(pady=20)\n",
    "\n",
    "window.mainloop()"
   ]
  },
  {
   "cell_type": "markdown",
   "metadata": {},
   "source": [
    "# pick color dynamically"
   ]
  },
  {
   "cell_type": "code",
   "execution_count": 15,
   "metadata": {},
   "outputs": [],
   "source": [
    "from tkinter import *\n",
    "from tkinter import colorchooser\n",
    "window = Tk()\n",
    "window.title('Color Picker')\n",
    "window.geometry('400x300')\n",
    "\n",
    "def color():\n",
    "    my_color = colorchooser.askcolor()[1]\n",
    "    my_label = Label(window,text=my_color).pack()\n",
    "    my_label2 = Label(window,text='You Picked a color',font='Helvetica 30 bold',bg=my_color).pack()\n",
    "    \n",
    "my_button = Button(window,text='Click Me',command=color)\n",
    "my_button.pack(pady=20)\n",
    "\n",
    "\n",
    "window.mainloop()"
   ]
  },
  {
   "cell_type": "markdown",
   "metadata": {},
   "source": [
    "# Sliders"
   ]
  },
  {
   "cell_type": "markdown",
   "metadata": {},
   "source": [
    "# Vertical Slider"
   ]
  },
  {
   "cell_type": "code",
   "execution_count": 17,
   "metadata": {},
   "outputs": [],
   "source": [
    "from tkinter import *\n",
    "window = Tk()\n",
    "window.title('Sliders')\n",
    "window.geometry('400x300')\n",
    "\n",
    "vertical = Scale(window,from_=0, to=100)\n",
    "vertical.pack()\n",
    "\n",
    "window.mainloop()"
   ]
  },
  {
   "cell_type": "markdown",
   "metadata": {},
   "source": [
    "# Horizontal Slider"
   ]
  },
  {
   "cell_type": "code",
   "execution_count": 20,
   "metadata": {},
   "outputs": [],
   "source": [
    "from tkinter import *\n",
    "window = Tk()\n",
    "window.title('Sliders')\n",
    "window.geometry('400x300')\n",
    "\n",
    "horizontal = Scale(window,from_=0, to=100,orient=HORIZONTAL)\n",
    "horizontal.pack(pady=40)\n",
    "\n",
    "window.mainloop()"
   ]
  },
  {
   "cell_type": "markdown",
   "metadata": {},
   "source": [
    "# Slider provide the numbers, so how can we get that numbers. "
   ]
  },
  {
   "cell_type": "code",
   "execution_count": 26,
   "metadata": {},
   "outputs": [],
   "source": [
    "from tkinter import *\n",
    "window = Tk()\n",
    "window.title('Sliders')\n",
    "window.geometry('400x300')\n",
    "\n",
    "vertical = Scale(window,from_=0, to=100)\n",
    "vertical.pack()\n",
    "horizontal = Scale(window,from_=0, to=100,orient=HORIZONTAL)\n",
    "horizontal.pack()\n",
    "\n",
    "label1 = Label(window,text=vertical.get())\n",
    "label1.pack()\n",
    "label1 = Label(window,text=horizontal.get())\n",
    "label1.pack()\n",
    "\n",
    "window.mainloop()"
   ]
  },
  {
   "cell_type": "markdown",
   "metadata": {},
   "source": [
    "# It Provides the number but its not changing with slider"
   ]
  },
  {
   "cell_type": "code",
   "execution_count": 28,
   "metadata": {},
   "outputs": [],
   "source": [
    "from tkinter import *\n",
    "window = Tk()\n",
    "window.title('Sliders')\n",
    "window.geometry('400x300')\n",
    "\n",
    "def slide():\n",
    "    label1 = Label(window,text=horizontal.get())\n",
    "    label1.pack()\n",
    "\n",
    "horizontal = Scale(window,from_=0, to=100,orient=HORIZONTAL)\n",
    "horizontal.pack()\n",
    "btn = Button(window,text='Click Me',command=slide)\n",
    "btn.pack(pady=20)\n",
    "\n",
    "window.mainloop()"
   ]
  },
  {
   "cell_type": "markdown",
   "metadata": {},
   "source": [
    "# Resize the slider"
   ]
  },
  {
   "cell_type": "code",
   "execution_count": 31,
   "metadata": {},
   "outputs": [],
   "source": [
    "from tkinter import *\n",
    "window = Tk()\n",
    "window.title('Sliders')\n",
    "window.geometry('400x300')\n",
    "\n",
    "def slide():\n",
    "    label1 = Label(window,text=horizontal.get())\n",
    "    label1.pack()\n",
    "    window.geometry(str(horizontal.get())+'x300')\n",
    "\n",
    "horizontal = Scale(window,from_=0, to=500,orient=HORIZONTAL)\n",
    "horizontal.pack()\n",
    "btn = Button(window,text='Click Me',command=slide)\n",
    "btn.pack(pady=20)\n",
    "\n",
    "window.mainloop()"
   ]
  },
  {
   "cell_type": "markdown",
   "metadata": {},
   "source": [
    "# Resize the window using both sliders"
   ]
  },
  {
   "cell_type": "code",
   "execution_count": 33,
   "metadata": {},
   "outputs": [
    {
     "name": "stderr",
     "output_type": "stream",
     "text": [
      "Exception in Tkinter callback\n",
      "Traceback (most recent call last):\n",
      "  File \"c:\\users\\arvind\\appdata\\local\\programs\\python\\python39\\lib\\tkinter\\__init__.py\", line 1884, in __call__\n",
      "    return self.func(*args)\n",
      "TypeError: slide() missing 1 required positional argument: 'event'\n"
     ]
    }
   ],
   "source": [
    "from tkinter import *\n",
    "window = Tk()\n",
    "window.title('Sliders')\n",
    "window.geometry('400x300')\n",
    "\n",
    "def slide(event):\n",
    "    label1 = Label(window,text=horizontal.get())\n",
    "    label1.pack()\n",
    "    window.geometry(str(horizontal.get())+'x'+str(vertical.get()))\n",
    "    \n",
    "vertical = Scale(window,from_=0, to=700)\n",
    "vertical.pack()\n",
    "\n",
    "horizontal = Scale(window,from_=0, to=500,orient=HORIZONTAL,command=slide)\n",
    "horizontal.pack()\n",
    "\n",
    "btn = Button(window,text='Click Me',command=slide)\n",
    "btn.pack(pady=20)\n",
    "\n",
    "window.mainloop()"
   ]
  },
  {
   "cell_type": "code",
   "execution_count": 35,
   "metadata": {},
   "outputs": [],
   "source": [
    "from tkinter import *\n",
    "window = Tk()\n",
    "window.title('Sliders')\n",
    "window.geometry('400x300')\n",
    "\n",
    "def slide():\n",
    "    label1 = Label(window,text=horizontal.get())\n",
    "    label1.pack()\n",
    "    window.geometry(str(horizontal.get())+'x'+str(vertical.get()))\n",
    "    \n",
    "vertical = Scale(window,from_=0, to=700)\n",
    "vertical.pack()\n",
    "\n",
    "horizontal = Scale(window,from_=0, to=500,orient=HORIZONTAL)\n",
    "horizontal.pack()\n",
    "\n",
    "btn = Button(window,text='Click Me',command=slide)\n",
    "btn.pack(pady=20)\n",
    "\n",
    "window.mainloop()"
   ]
  },
  {
   "cell_type": "code",
   "execution_count": null,
   "metadata": {},
   "outputs": [],
   "source": [
    "from tkinter import *\n",
    "window = Tk()\n",
    "window.title('Sliders')\n",
    "window.geometry('400x300')\n",
    "\n",
    "def slide():\n",
    "    label1 = Label(window,text=horizontal.get())\n",
    "    label1.pack()\n",
    "    window.geometry(str(horizontal.get())+'x'+str(vertical.get()))\n",
    "    \n",
    "vertical = Scale(window,from_=0, to=700)\n",
    "vertical.pack()\n",
    "\n",
    "horizontal = Scale(window,from_=0, to=500,orient=HORIZONTAL)\n",
    "horizontal.pack()\n",
    "\n",
    "btn = Button(window,text='Click Me',command=slide)\n",
    "btn.pack(pady=20)\n",
    "\n",
    "window.mainloop()"
   ]
  },
  {
   "cell_type": "markdown",
   "metadata": {},
   "source": [
    "# How To Open External Programs With Tkinter "
   ]
  },
  {
   "cell_type": "code",
   "execution_count": 37,
   "metadata": {},
   "outputs": [],
   "source": [
    "from tkinter import *\n",
    "from tkinter import filedialog\n",
    "window = Tk()\n",
    "window.title('Open External Programs')\n",
    "window.geometry('400x300')\n",
    "\n",
    "def open_program():\n",
    "    my_program = filedialog.askopenfilename()\n",
    "\n",
    "btn = Button(window,text='Open Program',command=open_program)\n",
    "btn.pack(pady=20)\n",
    "\n",
    "window.mainloop()"
   ]
  },
  {
   "cell_type": "markdown",
   "metadata": {},
   "source": [
    "# Return File name"
   ]
  },
  {
   "cell_type": "code",
   "execution_count": 40,
   "metadata": {},
   "outputs": [],
   "source": [
    "from tkinter import *\n",
    "from tkinter import filedialog\n",
    "window = Tk()\n",
    "window.title('Open External Programs')\n",
    "window.geometry('400x300')\n",
    "\n",
    "def open_program():\n",
    "    my_program = filedialog.askopenfilename()\n",
    "    my_label.config(text=my_program)\n",
    "\n",
    "btn = Button(window,text='Open Program',command=open_program)\n",
    "btn.pack(pady=20)\n",
    "\n",
    "my_label = Label(window,text='')\n",
    "my_label.pack(pady=10)\n",
    "\n",
    "window.mainloop()"
   ]
  },
  {
   "cell_type": "code",
   "execution_count": null,
   "metadata": {},
   "outputs": [],
   "source": []
  },
  {
   "cell_type": "code",
   "execution_count": 44,
   "metadata": {},
   "outputs": [],
   "source": [
    "from tkinter import *\n",
    "from tkinter import filedialog\n",
    "import os\n",
    "window = Tk()\n",
    "window.title('Open External Programs')\n",
    "window.geometry('400x300')\n",
    "\n",
    "def open_program():\n",
    "    my_program = filedialog.askopenfilename()\n",
    "    my_label.config(text=my_program)\n",
    "    os.system(my_program)\n",
    "\n",
    "btn = Button(window,text='Open Program',command=open_program)\n",
    "btn.pack(pady=20)\n",
    "\n",
    "my_label = Label(window,text='')\n",
    "my_label.pack(pady=10)\n",
    "\n",
    "window.mainloop()"
   ]
  },
  {
   "cell_type": "markdown",
   "metadata": {},
   "source": [
    "# open chrome"
   ]
  },
  {
   "cell_type": "code",
   "execution_count": 46,
   "metadata": {},
   "outputs": [],
   "source": [
    "from tkinter import *\n",
    "from tkinter import filedialog\n",
    "import os\n",
    "window = Tk()\n",
    "window.title('Open External Programs')\n",
    "window.geometry('400x300')\n",
    "\n",
    "def open_program():\n",
    "    my_program = filedialog.askopenfilename()\n",
    "    my_label.config(text=my_program)\n",
    "    os.system('\"%s\"' % my_program)\n",
    "\n",
    "btn = Button(window,text='Open Program',command=open_program)\n",
    "btn.pack(pady=20)\n",
    "\n",
    "my_label = Label(window,text='')\n",
    "my_label.pack(pady=10)\n",
    "\n",
    "window.mainloop()"
   ]
  },
  {
   "cell_type": "markdown",
   "metadata": {},
   "source": [
    "# open notepad"
   ]
  },
  {
   "cell_type": "code",
   "execution_count": 48,
   "metadata": {},
   "outputs": [],
   "source": [
    "from tkinter import *\n",
    "from tkinter import filedialog\n",
    "import os\n",
    "window = Tk()\n",
    "window.title('Open External Programs')\n",
    "window.geometry('400x300')\n",
    "\n",
    "def open_program():\n",
    "    my_program = filedialog.askopenfilename()\n",
    "    my_label.config(text=my_program)\n",
    "    os.system('\"%s\"' % my_program)\n",
    "    \n",
    "def open_notepad():\n",
    "    os.system(r'C:\\Windows\\System32\\notepad.exe')\n",
    "\n",
    "btn = Button(window,text='Open Program',command=open_program)\n",
    "btn.pack(pady=20)\n",
    "\n",
    "btn2 = Button(window,text='Open Notepad',command=open_notepad)\n",
    "btn2.pack(pady=20)\n",
    "\n",
    "my_label = Label(window,text='')\n",
    "my_label.pack(pady=10)\n",
    "\n",
    "window.mainloop()"
   ]
  },
  {
   "cell_type": "code",
   "execution_count": null,
   "metadata": {},
   "outputs": [],
   "source": []
  },
  {
   "cell_type": "code",
   "execution_count": null,
   "metadata": {},
   "outputs": [],
   "source": []
  }
 ],
 "metadata": {
  "kernelspec": {
   "display_name": "Python 3",
   "language": "python",
   "name": "python3"
  },
  "language_info": {
   "codemirror_mode": {
    "name": "ipython",
    "version": 3
   },
   "file_extension": ".py",
   "mimetype": "text/x-python",
   "name": "python",
   "nbconvert_exporter": "python",
   "pygments_lexer": "ipython3",
   "version": "3.9.1"
  }
 },
 "nbformat": 4,
 "nbformat_minor": 4
}
