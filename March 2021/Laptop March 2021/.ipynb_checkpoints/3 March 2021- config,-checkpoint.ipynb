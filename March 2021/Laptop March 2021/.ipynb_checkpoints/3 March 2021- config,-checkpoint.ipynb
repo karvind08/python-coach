{
 "cells": [
  {
   "cell_type": "code",
   "execution_count": 3,
   "metadata": {},
   "outputs": [],
   "source": [
    "from tkinter import *\n",
    "window = Tk()\n",
    "window.title('Config')\n",
    "window.geometry('400x400')\n",
    "def clicker():\n",
    "    my_label.config(text='This is new text')\n",
    "\n",
    "my_label = Label(window,text='This is old text')\n",
    "my_label.pack(pady=10)\n",
    "\n",
    "my_button = Button(window,text='Click Me',command=clicker)\n",
    "my_button.pack(pady=10)\n",
    "window.mainloop()"
   ]
  },
  {
   "cell_type": "code",
   "execution_count": 6,
   "metadata": {},
   "outputs": [],
   "source": [
    "from tkinter import *\n",
    "window = Tk()\n",
    "window.title('Config')\n",
    "window.geometry('400x400')\n",
    "def clicker():\n",
    "    my_label.config(text='This is new text')\n",
    "    window.config(bg='red')\n",
    "\n",
    "my_label = Label(window,text='This is old text')\n",
    "my_label.pack(pady=10)\n",
    "\n",
    "my_button = Button(window,text='Click Me',command=clicker)\n",
    "my_button.pack(pady=10)\n",
    "window.mainloop()"
   ]
  },
  {
   "cell_type": "code",
   "execution_count": 7,
   "metadata": {},
   "outputs": [],
   "source": [
    "from tkinter import *\n",
    "window = Tk()\n",
    "window.title('Config')\n",
    "window.geometry('400x400')\n",
    "def clicker():\n",
    "    my_label.config(text='This is new text')\n",
    "    window.config(bg='red')\n",
    "    my_button.config(text='I am new Button')\n",
    "\n",
    "my_label = Label(window,text='This is old text')\n",
    "my_label.pack(pady=10)\n",
    "\n",
    "my_button = Button(window,text='Click Me',command=clicker)\n",
    "my_button.pack(pady=10)\n",
    "window.mainloop()"
   ]
  },
  {
   "cell_type": "code",
   "execution_count": 8,
   "metadata": {},
   "outputs": [],
   "source": [
    "from tkinter import *\n",
    "window = Tk()\n",
    "window.title('Config')\n",
    "window.geometry('400x400')\n",
    "def clicker():\n",
    "    my_label.config(text='This is new text')\n",
    "    window.config(bg='red')\n",
    "    my_button.config(text='I am new Button',state=DISABLED)\n",
    "\n",
    "my_label = Label(window,text='This is old text')\n",
    "my_label.pack(pady=10)\n",
    "\n",
    "my_button = Button(window,text='Click Me',command=clicker)\n",
    "my_button.pack(pady=10)\n",
    "window.mainloop()"
   ]
  },
  {
   "cell_type": "code",
   "execution_count": 13,
   "metadata": {},
   "outputs": [],
   "source": [
    "from tkinter import *\n",
    "\n",
    "root = Tk()\n",
    "t = Text(wrap=WORD)\n",
    "t.pack()\n",
    "root.mainloop()"
   ]
  },
  {
   "cell_type": "markdown",
   "metadata": {},
   "source": [
    "# Scrolled Text"
   ]
  },
  {
   "cell_type": "code",
   "execution_count": 15,
   "metadata": {},
   "outputs": [],
   "source": [
    "from tkinter import *\n",
    "from tkinter import scrolledtext\n",
    "window = Tk()\n",
    "window.title('Scrolled Text')\n",
    "st = scrolledtext.ScrolledText(window)\n",
    "st.pack()\n",
    "window.geometry('400x300')\n",
    "window.mainloop()"
   ]
  },
  {
   "cell_type": "code",
   "execution_count": 18,
   "metadata": {},
   "outputs": [],
   "source": [
    "from tkinter import *\n",
    "from tkinter import scrolledtext\n",
    "window = Tk()\n",
    "window.title('Scrolled Text')\n",
    "st = scrolledtext.ScrolledText(window)\n",
    "st.pack()\n",
    "st.insert('insert','Hi, hello \\n\\n\\n\\n\\n')\n",
    "st.insert('insert','Hi, hello \\n\\n\\n\\n\\n')\n",
    "st.insert('insert','Hi, hello \\n\\n\\n\\n\\n')\n",
    "st.insert('insert','Hi, hello \\n\\n\\n\\n\\n')\n",
    "window.geometry('400x300')\n",
    "window.mainloop()"
   ]
  },
  {
   "cell_type": "code",
   "execution_count": 10,
   "metadata": {},
   "outputs": [],
   "source": [
    "from tkinter import *\n",
    "from tkinter import scrolledtext\n",
    "window = Tk()\n",
    "window.title('Scrolled Text')\n",
    "st = scrolledtext.ScrolledText(window,wrap=WORD)\n",
    "st.pack()\n",
    "st.insert('insert','Hi, hello \\n\\n\\n\\n\\n')\n",
    "st.insert('insert','Hi, hello \\n\\n\\n\\n\\n')\n",
    "st.insert('insert','Hi, hello \\n\\n\\n\\n\\n')\n",
    "st.insert('insert','Hi, hello \\n\\n\\n\\n\\n')\n",
    "window.geometry('400x300')\n",
    "window.mainloop()"
   ]
  },
  {
   "cell_type": "code",
   "execution_count": 19,
   "metadata": {},
   "outputs": [],
   "source": [
    "from tkinter import *\n",
    "from tkinter import scrolledtext\n",
    "window = Tk()\n",
    "window.title('Scrolled Text')\n",
    "st = scrolledtext.ScrolledText(window,wrap=WORD)\n",
    "st.pack()\n",
    "st.insert('insert','Hi, hello \\n\\n\\n\\n\\n')\n",
    "st.insert('insert','Hi, hello \\n\\n\\n\\n\\n')\n",
    "st.insert('insert','Hi, hello \\n\\n\\n\\n\\n')\n",
    "st.insert('insert','Hi, hello \\n\\n\\n\\n\\n')\n",
    "st.config(state=DISABLED)\n",
    "window.geometry('400x300')\n",
    "window.mainloop()"
   ]
  },
  {
   "cell_type": "markdown",
   "metadata": {},
   "source": [
    "# Message box "
   ]
  },
  {
   "cell_type": "code",
   "execution_count": 25,
   "metadata": {},
   "outputs": [],
   "source": [
    "from tkinter import messagebox\n",
    "window = Tk()\n",
    "window.title('Tkinter Tutorial')\n",
    "window.geometry('400x300')\n",
    "messagebox.showinfo('Message Title','Message Content')\n",
    "window.mainloop()"
   ]
  },
  {
   "cell_type": "markdown",
   "metadata": {},
   "source": [
    "# Spin Box Widget"
   ]
  },
  {
   "cell_type": "code",
   "execution_count": 28,
   "metadata": {},
   "outputs": [],
   "source": [
    "window = Tk()\n",
    "window.title('Spin Box Widget')\n",
    "spin = Spinbox(window).pack()\n",
    "window.geometry('400x300')\n",
    "window.mainloop()"
   ]
  },
  {
   "cell_type": "code",
   "execution_count": 32,
   "metadata": {},
   "outputs": [],
   "source": [
    "window = Tk()\n",
    "window.title('Tkinter Tutorial')\n",
    "spin = Spinbox(window,from_=0,to=100).pack()\n",
    "window.geometry('400x300')\n",
    "window.mainloop()\n"
   ]
  },
  {
   "cell_type": "code",
   "execution_count": 30,
   "metadata": {},
   "outputs": [],
   "source": [
    "window = Tk()\n",
    "window.title('Tkinter Tutorial')\n",
    "spin = Spinbox(window,from_=0,to=100,width=50).pack()\n",
    "window.geometry('400x300')\n",
    "window.mainloop()\n"
   ]
  },
  {
   "cell_type": "markdown",
   "metadata": {},
   "source": [
    "# Images"
   ]
  },
  {
   "cell_type": "code",
   "execution_count": 1,
   "metadata": {},
   "outputs": [],
   "source": [
    "from tkinter import *\n",
    "window = Tk()\n",
    "window.title('Images')\n",
    "photo = PhotoImage(file=r\"C:\\Users\\ARVIND\\Desktop\\Desk\\Bevy\\p.png\")\n",
    "label =Label(window,image=photo)\n",
    "label.pack()\n",
    "window.geometry('400x300')\n",
    "window.mainloop()\n"
   ]
  },
  {
   "cell_type": "markdown",
   "metadata": {},
   "source": [
    "# jpg Images"
   ]
  },
  {
   "cell_type": "code",
   "execution_count": 3,
   "metadata": {},
   "outputs": [],
   "source": [
    "from tkinter import *\n",
    "from PIL import Image, ImageTk\n",
    "window = Tk()\n",
    "window.title('Images')\n",
    "window.geometry('700x700')\n",
    "image = Image.open(r\"C:\\Users\\ARVIND\\Desktop\\Desk\\Bevy\\me.jpg\")\n",
    "photo = ImageTk.PhotoImage(image)\n",
    "label =Label(window,image=photo)\n",
    "label.pack()\n",
    "\n",
    "window.mainloop()"
   ]
  },
  {
   "cell_type": "code",
   "execution_count": 1,
   "metadata": {},
   "outputs": [],
   "source": [
    "from tkinter import *\n",
    "from PIL import Image, ImageTk\n",
    "window = Tk()\n",
    "window.title('Images')\n",
    "window.geometry('700x700')\n",
    "image = Image.open(r\"C:\\Users\\ARVIND\\Desktop\\Desk\\Bevy\\me.jpg\")\n",
    "photo = ImageTk.PhotoImage(image)\n",
    "label =Label(window,image=photo)\n",
    "label.pack()\n",
    "window.mainloop()"
   ]
  },
  {
   "cell_type": "code",
   "execution_count": null,
   "metadata": {},
   "outputs": [],
   "source": []
  },
  {
   "cell_type": "code",
   "execution_count": 4,
   "metadata": {},
   "outputs": [],
   "source": [
    "from tkinter import *\n",
    "window = Tk()\n",
    "window.title('Images Buttons')\n",
    "login_btn = PhotoImage(file=r\"C:\\Users\\ARVIND\\Desktop\\Desk\\Bevy\\login.png\")\n",
    "img_label =Label(window,image=login_btn)\n",
    "img_label.pack()\n",
    "\n",
    "window.geometry('700x500')\n",
    "window.mainloop()\n"
   ]
  },
  {
   "cell_type": "markdown",
   "metadata": {},
   "source": [
    "# How to resize the Image"
   ]
  },
  {
   "cell_type": "code",
   "execution_count": 6,
   "metadata": {},
   "outputs": [],
   "source": [
    "from tkinter import *\n",
    "from PIL import Image, ImageTk\n",
    "window = Tk()\n",
    "window.title('Resize Images')\n",
    "image = Image.open(r'C:\\Users\\ARVIND\\Desktop\\Desk\\Bevy\\me.jpg')\n",
    "resized = image.resize((300,300),Image.ANTIALIAS)\n",
    "photo = ImageTk.PhotoImage(resized)\n",
    "my_label =Label(window,image=photo)\n",
    "my_label.pack(pady=20)\n",
    "window.geometry('400x300')\n",
    "window.mainloop()"
   ]
  },
  {
   "cell_type": "code",
   "execution_count": null,
   "metadata": {},
   "outputs": [],
   "source": []
  }
 ],
 "metadata": {
  "kernelspec": {
   "display_name": "Python 3",
   "language": "python",
   "name": "python3"
  },
  "language_info": {
   "codemirror_mode": {
    "name": "ipython",
    "version": 3
   },
   "file_extension": ".py",
   "mimetype": "text/x-python",
   "name": "python",
   "nbconvert_exporter": "python",
   "pygments_lexer": "ipython3",
   "version": "3.9.1"
  }
 },
 "nbformat": 4,
 "nbformat_minor": 4
}
