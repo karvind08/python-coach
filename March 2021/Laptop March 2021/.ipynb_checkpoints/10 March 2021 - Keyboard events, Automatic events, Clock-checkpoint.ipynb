{
 "cells": [
  {
   "cell_type": "code",
   "execution_count": 3,
   "metadata": {},
   "outputs": [],
   "source": [
    "from tkinter import *"
   ]
  },
  {
   "cell_type": "code",
   "execution_count": 6,
   "metadata": {},
   "outputs": [],
   "source": [
    "window = Tk()\n",
    "window.title('Keyboard Events')\n",
    "window.geometry('400x400')\n",
    "def clicker(event):\n",
    "    myLabel = Label(window,text='You have entered a key')\n",
    "    myLabel.pack()\n",
    "\n",
    "btn1 = Button(window,text='Click Me')\n",
    "btn1.bind('<Key>',clicker)\n",
    "btn1.pack(pady=20)\n",
    "window.mainloop()"
   ]
  },
  {
   "cell_type": "code",
   "execution_count": 7,
   "metadata": {},
   "outputs": [],
   "source": [
    "window = Tk()\n",
    "window.title('Keyboard Events')\n",
    "window.geometry('400x400')\n",
    "def clicker(event):\n",
    "    myLabel = Label(window,text='You have entered a key: '+event.char)\n",
    "    myLabel.pack()\n",
    "\n",
    "btn1 = Button(window,text='Click Me')\n",
    "btn1.bind('<Key>',clicker)\n",
    "btn1.pack(pady=20)\n",
    "window.mainloop()"
   ]
  },
  {
   "cell_type": "code",
   "execution_count": 8,
   "metadata": {},
   "outputs": [],
   "source": [
    "window = Tk()\n",
    "window.title('Keyboard Events')\n",
    "window.geometry('400x400')\n",
    "def clicker(event):\n",
    "    myLabel = Label(window,text='You have entered a key: '+event.keysym)\n",
    "    myLabel.pack()\n",
    "\n",
    "btn1 = Button(window,text='Click Me')\n",
    "btn1.bind('<Key>',clicker)\n",
    "btn1.pack(pady=20)\n",
    "window.mainloop()"
   ]
  },
  {
   "cell_type": "code",
   "execution_count": 14,
   "metadata": {},
   "outputs": [],
   "source": [
    "window = Tk()\n",
    "window.title('Keyboard Events')\n",
    "window.geometry('400x400')\n",
    "def update():\n",
    "    label.config(text='This is automatic event')\n",
    "\n",
    "label = Label(window,text='Hello SRM')\n",
    "label.pack(pady=20)\n",
    "label.after(2000,update)\n",
    "window.mainloop()"
   ]
  },
  {
   "cell_type": "code",
   "execution_count": 13,
   "metadata": {},
   "outputs": [],
   "source": [
    "from tkinter import *\n",
    "import time\n",
    "\n",
    "window = Tk()\n",
    "window.title('Digital Clock')\n",
    "\n",
    "def clock():\n",
    "    hour = time.strftime('%H')\n",
    "    minute = time.strftime('%M')\n",
    "    second = time.strftime('%S')\n",
    "    \n",
    "    my_label.config(text=hour+':'+ minute + ':' + second)\n",
    "    my_label.after(1000,clock)\n",
    "    \n",
    "\n",
    "my_label = Label(window,text='',font='Arial 20 bold',bg='green',fg='white') \n",
    "my_label.pack(pady=20)\n",
    "\n",
    "clock()\n",
    "\n",
    "window.geometry('700x500')\n",
    "window.mainloop()"
   ]
  },
  {
   "cell_type": "code",
   "execution_count": 21,
   "metadata": {},
   "outputs": [],
   "source": [
    "from tkinter import *\n",
    "import time\n",
    "\n",
    "window = Tk()\n",
    "window.title('Digital Clock')\n",
    "window.geometry('400x400')\n",
    "\n",
    "def clock():\n",
    "    hour = time.strftime('%H')\n",
    "    minute = time.strftime('%M')\n",
    "    second = time.strftime('%S')\n",
    "    my_label.config(text=hour+':'+minute+':'+second)\n",
    "    my_label.after(1000,clock)\n",
    "\n",
    "my_label = Label(window,text='',font='Arial 25 bold',fg='white',bg='blue')\n",
    "my_label.pack(pady=30)\n",
    "clock()\n",
    "\n",
    "window.geometry('700x500')\n",
    "window.mainloop()"
   ]
  },
  {
   "cell_type": "code",
   "execution_count": 15,
   "metadata": {},
   "outputs": [],
   "source": [
    "from tkinter import *\n",
    "import time\n",
    "\n",
    "window = Tk()\n",
    "window.title('Digital Clock')\n",
    "\n",
    "def clock():\n",
    "    hour = time.strftime('%H')\n",
    "    minute = time.strftime('%M')\n",
    "    second = time.strftime('%S')\n",
    "    am_pm = time.strftime('%p')\n",
    "    day = time.strftime('%A')\n",
    "\n",
    "    my_label.config(text=hour+':'+ minute + ':' + second+' '+am_pm)\n",
    "    my_label.after(1000,clock)\n",
    "    my_label2.config(text=day)\n",
    "\n",
    "my_label = Label(window,text=' ',font='Arial 20 bold',bg='green',fg='white') \n",
    "my_label.pack(pady=20)\n",
    "\n",
    "my_label2 = Label(window,text=' ',font='Arial 20 bold') \n",
    "my_label2.pack(pady=20)\n",
    "\n",
    "clock()\n",
    "window.geometry('700x500')\n",
    "window.mainloop()"
   ]
  },
  {
   "cell_type": "code",
   "execution_count": 22,
   "metadata": {},
   "outputs": [],
   "source": [
    "import numpy as np"
   ]
  },
  {
   "cell_type": "code",
   "execution_count": 23,
   "metadata": {},
   "outputs": [
    {
     "name": "stdout",
     "output_type": "stream",
     "text": [
      "[[1 2 3]\n",
      " [4 5 6]\n",
      " [7 8 9]]\n"
     ]
    }
   ],
   "source": [
    "a = np.array([(1,2,3),(4,5,6),(7,8,9)])\n",
    "print(a)"
   ]
  },
  {
   "cell_type": "code",
   "execution_count": 24,
   "metadata": {},
   "outputs": [
    {
     "name": "stdout",
     "output_type": "stream",
     "text": [
      "[[1 2 3]\n",
      " [4 5 6]\n",
      " [7 8 9]]\n"
     ]
    }
   ],
   "source": [
    "b = np.array([(1,2,3),(4,5,6),(7,8,9)])\n",
    "print(b)"
   ]
  },
  {
   "cell_type": "code",
   "execution_count": 25,
   "metadata": {},
   "outputs": [
    {
     "name": "stdout",
     "output_type": "stream",
     "text": [
      "[[ 2  4  6]\n",
      " [ 8 10 12]\n",
      " [14 16 18]]\n"
     ]
    }
   ],
   "source": [
    "c = a+b\n",
    "print(c)"
   ]
  },
  {
   "cell_type": "markdown",
   "metadata": {},
   "source": [
    "# MySQL"
   ]
  },
  {
   "cell_type": "code",
   "execution_count": 27,
   "metadata": {},
   "outputs": [],
   "source": [
    "import mysql.connector"
   ]
  },
  {
   "cell_type": "code",
   "execution_count": 28,
   "metadata": {},
   "outputs": [
    {
     "name": "stdout",
     "output_type": "stream",
     "text": [
      "Connected sucessfully\n"
     ]
    }
   ],
   "source": [
    "mydb = mysql.connector.connect(host='localhost',user='root',passwd='')\n",
    "if mydb:\n",
    "    print('Connected sucessfully')"
   ]
  },
  {
   "cell_type": "code",
   "execution_count": 31,
   "metadata": {},
   "outputs": [
    {
     "name": "stdout",
     "output_type": "stream",
     "text": [
      "('alumni3',)\n",
      "('alumni_drupal',)\n",
      "('alumni_joomla',)\n",
      "('appclass',)\n",
      "('information_schema',)\n",
      "('mysql',)\n",
      "('performance_schema',)\n",
      "('test',)\n"
     ]
    }
   ],
   "source": [
    "import mysql.connector\n",
    "mydb = mysql.connector.connect(host='localhost',user='root',passwd='')\n",
    "mycursor = mydb.cursor()\n",
    "mycursor.execute('show databases')\n",
    "\n",
    "for i in mycursor:\n",
    "\tprint(i)\n"
   ]
  },
  {
   "cell_type": "code",
   "execution_count": null,
   "metadata": {},
   "outputs": [],
   "source": []
  },
  {
   "cell_type": "code",
   "execution_count": null,
   "metadata": {},
   "outputs": [],
   "source": []
  }
 ],
 "metadata": {
  "kernelspec": {
   "display_name": "Python 3",
   "language": "python",
   "name": "python3"
  },
  "language_info": {
   "codemirror_mode": {
    "name": "ipython",
    "version": 3
   },
   "file_extension": ".py",
   "mimetype": "text/x-python",
   "name": "python",
   "nbconvert_exporter": "python",
   "pygments_lexer": "ipython3",
   "version": "3.9.1"
  }
 },
 "nbformat": 4,
 "nbformat_minor": 4
}
