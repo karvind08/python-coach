{
 "cells": [
  {
   "cell_type": "code",
   "execution_count": 1,
   "metadata": {},
   "outputs": [],
   "source": [
    "from tkinter import *"
   ]
  },
  {
   "cell_type": "markdown",
   "metadata": {},
   "source": [
    "# Button"
   ]
  },
  {
   "cell_type": "code",
   "execution_count": 3,
   "metadata": {},
   "outputs": [],
   "source": [
    "window = Tk()\n",
    "window.title('Button')\n",
    "window.geometry('400x300')\n",
    "my_label = Label(text='Username')\n",
    "my_label.pack()\n",
    "my_button = Button(text='Click Me')\n",
    "my_button.pack()\n",
    "window.mainloop()"
   ]
  },
  {
   "cell_type": "code",
   "execution_count": 6,
   "metadata": {},
   "outputs": [],
   "source": [
    "window = Tk()\n",
    "window.title('Button')\n",
    "window.geometry('400x300')\n",
    "my_label = Label(text='Username')\n",
    "my_label.grid(row=0,column=0)\n",
    "my_button = Button(text='Click Me')\n",
    "my_button.grid(row=0,column=2)\n",
    "window.mainloop()"
   ]
  },
  {
   "cell_type": "code",
   "execution_count": 9,
   "metadata": {},
   "outputs": [],
   "source": [
    "window = Tk()\n",
    "window.title('GUI App')\n",
    "window.geometry('400x300')\n",
    "l1 =Label(window,text='Hello Arvind',font=('Arial Bold',25))\n",
    "l1.grid(row=0,column=0)\n",
    "bt =Button(window,text='Click Here')\n",
    "bt.grid(row=0,column=2)\n",
    "window.mainloop()"
   ]
  },
  {
   "cell_type": "markdown",
   "metadata": {},
   "source": [
    "# Entry"
   ]
  },
  {
   "cell_type": "code",
   "execution_count": 5,
   "metadata": {},
   "outputs": [],
   "source": [
    "window = Tk()\n",
    "window.title('Entry')\n",
    "window.geometry('400x300')\n",
    "my_entry = Entry().pack()\n",
    "window.mainloop()"
   ]
  },
  {
   "cell_type": "code",
   "execution_count": 14,
   "metadata": {},
   "outputs": [],
   "source": [
    "window = Tk()\n",
    "window.title('Entry')\n",
    "window.geometry('400x300')\n",
    "my_entry = Entry(window,width=50).pack()\n",
    "window.mainloop()"
   ]
  },
  {
   "cell_type": "code",
   "execution_count": 15,
   "metadata": {},
   "outputs": [],
   "source": [
    "window = Tk()\n",
    "window.title('Entry')\n",
    "window.geometry('400x300')\n",
    "my_label = Label(window,text='Name').pack()\n",
    "my_entry = Entry(window,width=50).pack()\n",
    "window.mainloop()"
   ]
  },
  {
   "cell_type": "code",
   "execution_count": 16,
   "metadata": {},
   "outputs": [],
   "source": [
    "window = Tk()\n",
    "window.title('Entry')\n",
    "window.geometry('400x300')\n",
    "my_label = Label(window,text='Name').grid(row=0,column=0)\n",
    "my_entry = Entry(window,width=50).grid(row=0,column=1)\n",
    "window.mainloop()"
   ]
  },
  {
   "cell_type": "markdown",
   "metadata": {},
   "source": [
    "# Check Button"
   ]
  },
  {
   "cell_type": "code",
   "execution_count": 21,
   "metadata": {},
   "outputs": [],
   "source": [
    "window = Tk()\n",
    "window.title('Check Button')\n",
    "window.geometry('400x300')\n",
    "chk_state = BooleanVar()\n",
    "chk_state.set(True)\n",
    "chk = Checkbutton(window,text='Select',var=chk_state)\n",
    "chk.grid(column=0,row=0)\n",
    "window.mainloop()"
   ]
  },
  {
   "cell_type": "code",
   "execution_count": 24,
   "metadata": {},
   "outputs": [],
   "source": [
    "window = Tk()\n",
    "window.title('Check Button')\n",
    "window.geometry('400x300')\n",
    "chk_state = BooleanVar()\n",
    "chk_state.set(True)\n",
    "chk = Checkbutton(window,text='Select',var=chk_state)\n",
    "chk.pack()\n",
    "window.mainloop()"
   ]
  },
  {
   "cell_type": "markdown",
   "metadata": {},
   "source": [
    "# Combo box "
   ]
  },
  {
   "cell_type": "code",
   "execution_count": 26,
   "metadata": {},
   "outputs": [],
   "source": [
    "from tkinter.ttk import *"
   ]
  },
  {
   "cell_type": "markdown",
   "metadata": {},
   "source": [
    "# By list values"
   ]
  },
  {
   "cell_type": "code",
   "execution_count": 35,
   "metadata": {},
   "outputs": [],
   "source": [
    "window = Tk()\n",
    "window.title('Combo Box')\n",
    "window.geometry('400x300')\n",
    "combo = Combobox(window,values=[1,2,3,4,5])\n",
    "combo.pack()\n",
    "window.mainloop()"
   ]
  },
  {
   "cell_type": "code",
   "execution_count": 30,
   "metadata": {},
   "outputs": [],
   "source": [
    "window = Tk()\n",
    "window.title('Combo Box')\n",
    "window.geometry('400x300')\n",
    "combo = Combobox(window,values=[1,2,3,4,5])\n",
    "combo.current(0)\n",
    "combo.grid(column=20,row=3)\n",
    "window.mainloop()"
   ]
  },
  {
   "cell_type": "markdown",
   "metadata": {},
   "source": [
    "# By tuple values"
   ]
  },
  {
   "cell_type": "code",
   "execution_count": 33,
   "metadata": {},
   "outputs": [],
   "source": [
    "window = Tk()\n",
    "window.title('Combo Box')\n",
    "window.geometry('400x300')\n",
    "combo = Combobox(window,values=('a','b','c','d'))\n",
    "combo.current(0)\n",
    "combo.grid(column=20,row=3)\n",
    "window.mainloop()"
   ]
  },
  {
   "cell_type": "code",
   "execution_count": 28,
   "metadata": {},
   "outputs": [],
   "source": [
    "window = Tk()\n",
    "window.title('Combo Box')\n",
    "window.geometry('400x300')\n",
    "combo = Combobox(window)\n",
    "combo['values'] = (1,2,3,4,5,'Text')\n",
    "combo.current(0)\n",
    "combo.grid(column=20,row=3)\n",
    "window.mainloop()"
   ]
  },
  {
   "cell_type": "markdown",
   "metadata": {},
   "source": [
    "# Radio Button"
   ]
  },
  {
   "cell_type": "code",
   "execution_count": 38,
   "metadata": {},
   "outputs": [],
   "source": [
    "window = Tk()\n",
    "window.title('Radio Button')\n",
    "window.geometry('400x300')\n",
    "rad1 = Radiobutton(window,text='Python',value=1).pack()\n",
    "window.mainloop()"
   ]
  },
  {
   "cell_type": "code",
   "execution_count": 43,
   "metadata": {},
   "outputs": [],
   "source": [
    "window = Tk()\n",
    "window.title('Tkinter Tutorial Radio Button')\n",
    "rad1 = Radiobutton(window,text='Python',value=1)\n",
    "rad2 = Radiobutton(window,text='Java',value=2)\n",
    "rad3 = Radiobutton(window,text='C',value=3)\n",
    "rad1.grid(row=0,column=0)\n",
    "rad2.grid(row=0,column=1)\n",
    "rad3.grid(row=0,column=2)\n",
    "window.geometry('400x300')\n",
    "window.mainloop()\n"
   ]
  },
  {
   "cell_type": "markdown",
   "metadata": {},
   "source": [
    "# Command"
   ]
  },
  {
   "cell_type": "code",
   "execution_count": 52,
   "metadata": {},
   "outputs": [
    {
     "name": "stdout",
     "output_type": "stream",
     "text": [
      "I am button\n"
     ]
    }
   ],
   "source": [
    "window = Tk()\n",
    "window.title('Command')\n",
    "window.geometry('400x300')\n",
    "def clicker():\n",
    "    print('I am button')\n",
    "    \n",
    "my_button = Button(window,text='Click Me',command=clicker).pack()\n",
    "\n",
    "window.mainloop()"
   ]
  },
  {
   "cell_type": "markdown",
   "metadata": {},
   "source": [
    "# Config"
   ]
  },
  {
   "cell_type": "code",
   "execution_count": 57,
   "metadata": {},
   "outputs": [],
   "source": [
    "from tkinter import *\n",
    "window = Tk()\n",
    "window.title('Config')\n",
    "window.geometry('400x400')\n",
    "\n",
    "def clicker():\n",
    "    my_label.config(text='This is new text')\n",
    "\n",
    "    \n",
    "\n",
    "my_label = Label(window,text='This is old text')\n",
    "my_label.pack(pady=10)\n",
    "\n",
    "\n",
    "my_button = Button(window,text='Click Me',command=clicker)\n",
    "my_button.pack(pady=10)\n",
    "\n",
    "window.mainloop()"
   ]
  },
  {
   "cell_type": "code",
   "execution_count": null,
   "metadata": {},
   "outputs": [],
   "source": []
  },
  {
   "cell_type": "code",
   "execution_count": null,
   "metadata": {},
   "outputs": [],
   "source": []
  },
  {
   "cell_type": "code",
   "execution_count": null,
   "metadata": {},
   "outputs": [],
   "source": [
    "from tkinter import *\n",
    "window = Tk()\n",
    "window.title('Config')\n",
    "window.geometry('400x400')\n",
    "\n",
    "def something():\n",
    "\tmy_label.config(text='This is new text')\n",
    "\twindow.config(bg='blue')\n",
    "\t#my_button.config(text='You are hero')\n",
    "\tmy_button.config(text='You are hero',state=DISABLED)\n",
    "\n",
    "global my_label\n",
    "my_label = Label(window,text='This is old text')\n",
    "my_label.pack(pady=10)\n",
    "\n",
    "global my_button\n",
    "my_button = Button(window,text='Click Me',command=something)\n",
    "my_button.pack(pady=10)\n",
    "\n",
    "window.mainloop()"
   ]
  }
 ],
 "metadata": {
  "kernelspec": {
   "display_name": "Python 3",
   "language": "python",
   "name": "python3"
  },
  "language_info": {
   "codemirror_mode": {
    "name": "ipython",
    "version": 3
   },
   "file_extension": ".py",
   "mimetype": "text/x-python",
   "name": "python",
   "nbconvert_exporter": "python",
   "pygments_lexer": "ipython3",
   "version": "3.9.1"
  }
 },
 "nbformat": 4,
 "nbformat_minor": 4
}
