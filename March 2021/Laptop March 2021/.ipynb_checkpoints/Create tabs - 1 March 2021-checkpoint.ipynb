{
 "cells": [
  {
   "cell_type": "markdown",
   "metadata": {},
   "source": [
    "# How to create Tabs"
   ]
  },
  {
   "cell_type": "code",
   "execution_count": 9,
   "metadata": {},
   "outputs": [],
   "source": [
    "from tkinter import *\n",
    "from tkinter import ttk\n",
    "\n",
    "window = Tk()\n",
    "window.title('Open Dialog box')\n",
    "window.geometry('500x400')\n",
    "window.iconbitmap(r'C:\\Users\\ARVIND\\Desktop\\Desk\\Bevy\\av.ico')\n",
    "\n",
    "my_notebook = ttk.Notebook(window)\n",
    "my_notebook.pack(pady=15)\n",
    "\n",
    "my_frame1 = Frame(my_notebook,width=500,height=500,bg='blue')\n",
    "my_frame2 = Frame(my_notebook,width=500,height=500,bg='red')\n",
    "\n",
    "my_frame1.pack(fill='both',expand=1)\n",
    "my_frame2.pack(fill='both',expand=1)\n",
    "\n",
    "my_notebook.add(my_frame1,text='Blue Tab')\n",
    "my_notebook.add(my_frame2,text='Red Tab')\n",
    "\n",
    "window.mainloop()"
   ]
  },
  {
   "cell_type": "markdown",
   "metadata": {},
   "source": [
    "# Remove Padding"
   ]
  },
  {
   "cell_type": "code",
   "execution_count": 5,
   "metadata": {},
   "outputs": [],
   "source": [
    "from tkinter import *\n",
    "from tkinter import ttk\n",
    "\n",
    "window = Tk()\n",
    "window.title('Open Dialog box')\n",
    "window.geometry('500x400')\n",
    "window.iconbitmap(r'C:\\Users\\ARVIND\\Desktop\\Desk\\Bevy\\av.ico')\n",
    "\n",
    "my_notebook = ttk.Notebook(window)\n",
    "my_notebook.pack()\n",
    "\n",
    "my_frame1 = Frame(my_notebook,width=500,height=500,bg='blue')\n",
    "my_frame2 = Frame(my_notebook,width=500,height=500,bg='red')\n",
    "\n",
    "my_frame1.pack(fill='both',expand=1)\n",
    "my_frame2.pack(fill='both',expand=1)\n",
    "\n",
    "my_notebook.add(my_frame1,text='Blue Tab')\n",
    "my_notebook.add(my_frame2,text='Red Tab')\n",
    "\n",
    "window.mainloop()"
   ]
  },
  {
   "cell_type": "markdown",
   "metadata": {},
   "source": [
    "# Hide Tab 2"
   ]
  },
  {
   "cell_type": "code",
   "execution_count": 10,
   "metadata": {},
   "outputs": [],
   "source": [
    "from tkinter import *\n",
    "from tkinter import ttk\n",
    "\n",
    "window = Tk()\n",
    "window.title('Open Dialog box')\n",
    "window.geometry('500x400')\n",
    "window.iconbitmap(r'C:\\Users\\ARVIND\\Desktop\\Desk\\Bevy\\av.ico')\n",
    "\n",
    "my_notebook = ttk.Notebook(window)\n",
    "my_notebook.pack(pady=15)\n",
    "\n",
    "def hide():\n",
    "\tmy_notebook.hide(1)\n",
    "\n",
    "my_frame1 = Frame(my_notebook,width=500,height=500,bg='blue')\n",
    "my_frame2 = Frame(my_notebook,width=500,height=500,bg='red')\n",
    "\n",
    "my_frame1.pack(fill='both',expand=1)\n",
    "my_frame2.pack(fill='both',expand=1)\n",
    "\n",
    "my_notebook.add(my_frame1,text='Blue Tab')\n",
    "my_notebook.add(my_frame2,text='Red Tab')\n",
    "\n",
    "my_button = Button(my_frame1,text='Hide Tab 2',command=hide).pack(pady=10)\n",
    "\n",
    "window.mainloop()"
   ]
  },
  {
   "cell_type": "markdown",
   "metadata": {},
   "source": [
    "# Show Tabs"
   ]
  },
  {
   "cell_type": "code",
   "execution_count": 11,
   "metadata": {},
   "outputs": [],
   "source": [
    "from tkinter import *\n",
    "from tkinter import ttk\n",
    "\n",
    "window = Tk()\n",
    "window.title('Open Dialog box')\n",
    "window.geometry('500x400')\n",
    "window.iconbitmap(r'C:\\Users\\ARVIND\\Desktop\\Desk\\Bevy\\av.ico')\n",
    "\n",
    "my_notebook = ttk.Notebook(window)\n",
    "my_notebook.pack(pady=15)\n",
    "\n",
    "def hide():\n",
    "\tmy_notebook.hide(1)\n",
    "\n",
    "def show():\n",
    "\tmy_notebook.add(my_frame2,text='Red Tab')\n",
    "\n",
    "my_frame1 = Frame(my_notebook,width=500,height=500,bg='blue')\n",
    "my_frame2 = Frame(my_notebook,width=500,height=500,bg='red')\n",
    "\n",
    "my_frame1.pack(fill='both',expand=1)\n",
    "my_frame2.pack(fill='both',expand=1)\n",
    "\n",
    "my_notebook.add(my_frame1,text='Blue Tab')\n",
    "my_notebook.add(my_frame2,text='Red Tab')\n",
    "\n",
    "my_button = Button(my_frame1,text='Hide Tab 2',command=hide).pack(pady=10)\n",
    "my_button2 = Button(my_frame1,text='Show Tab 2',command=show).pack(pady=10)\n",
    "\n",
    "window.mainloop()"
   ]
  },
  {
   "cell_type": "markdown",
   "metadata": {},
   "source": [
    "# Navigate tab"
   ]
  },
  {
   "cell_type": "code",
   "execution_count": 12,
   "metadata": {},
   "outputs": [],
   "source": [
    "from tkinter import *\n",
    "from tkinter import ttk\n",
    "\n",
    "window = Tk()\n",
    "window.title('Open Dialog box')\n",
    "window.geometry('500x400')\n",
    "window.iconbitmap(r'C:\\Users\\ARVIND\\Desktop\\Desk\\Bevy\\av.ico')\n",
    "\n",
    "my_notebook = ttk.Notebook(window)\n",
    "my_notebook.pack(pady=15)\n",
    "\n",
    "def hide():\n",
    "\tmy_notebook.hide(1)\n",
    "\n",
    "def show():\n",
    "\tmy_notebook.add(my_frame2,text='Red Tab')\n",
    "\n",
    "def select():\n",
    "\tmy_notebook.select(1)\n",
    "\n",
    "my_frame1 = Frame(my_notebook,width=500,height=500,bg='blue')\n",
    "my_frame2 = Frame(my_notebook,width=500,height=500,bg='red')\n",
    "\n",
    "my_frame1.pack(fill='both',expand=1)\n",
    "my_frame2.pack(fill='both',expand=1)\n",
    "\n",
    "my_notebook.add(my_frame1,text='Blue Tab')\n",
    "my_notebook.add(my_frame2,text='Red Tab')\n",
    "\n",
    "my_button = Button(my_frame1,text='Hide Tab 2',command=hide).pack(pady=10)\n",
    "my_button2 = Button(my_frame1,text='Show Tab 2',command=show).pack(pady=10)\n",
    "my_button3 = Button(my_frame1,text='Navigate',command=select).pack(pady=10)\n",
    "window.mainloop()"
   ]
  },
  {
   "cell_type": "code",
   "execution_count": null,
   "metadata": {},
   "outputs": [],
   "source": []
  }
 ],
 "metadata": {
  "kernelspec": {
   "display_name": "Python 3",
   "language": "python",
   "name": "python3"
  },
  "language_info": {
   "codemirror_mode": {
    "name": "ipython",
    "version": 3
   },
   "file_extension": ".py",
   "mimetype": "text/x-python",
   "name": "python",
   "nbconvert_exporter": "python",
   "pygments_lexer": "ipython3",
   "version": "3.9.1"
  }
 },
 "nbformat": 4,
 "nbformat_minor": 4
}
