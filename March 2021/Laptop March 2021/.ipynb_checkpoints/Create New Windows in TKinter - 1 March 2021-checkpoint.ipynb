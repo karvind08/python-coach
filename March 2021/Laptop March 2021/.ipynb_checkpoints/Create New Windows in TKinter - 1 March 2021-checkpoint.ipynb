{
 "cells": [
  {
   "cell_type": "markdown",
   "metadata": {},
   "source": [
    "# Create New Windows "
   ]
  },
  {
   "cell_type": "code",
   "execution_count": 8,
   "metadata": {},
   "outputs": [],
   "source": [
    "from tkinter import *"
   ]
  },
  {
   "cell_type": "code",
   "execution_count": 10,
   "metadata": {},
   "outputs": [],
   "source": [
    "window = Tk()\n",
    "window.title('Create New Windows in tKinter')\n",
    "window.geometry('500x400')\n",
    "\n",
    "top = Toplevel()\n",
    "\n",
    "window.mainloop()"
   ]
  },
  {
   "cell_type": "markdown",
   "metadata": {},
   "source": [
    "# Put a label in new window"
   ]
  },
  {
   "cell_type": "code",
   "execution_count": 12,
   "metadata": {},
   "outputs": [],
   "source": [
    "window = Tk()\n",
    "window.title('Create New Windows in tKinter')\n",
    "window.geometry('500x400')\n",
    "\n",
    "top = Toplevel()\n",
    "label = Label(top,text='Hello World').pack()\n",
    "\n",
    "window.mainloop()"
   ]
  },
  {
   "cell_type": "markdown",
   "metadata": {},
   "source": [
    "# change the size of new window"
   ]
  },
  {
   "cell_type": "code",
   "execution_count": 14,
   "metadata": {},
   "outputs": [],
   "source": [
    "window = Tk()\n",
    "window.title('Create New Windows in tKinter')\n",
    "window.geometry('500x400')\n",
    "\n",
    "top = Toplevel()\n",
    "label = Label(top,text='Hello World').pack()\n",
    "top.geometry('200x150')\n",
    "\n",
    "window.mainloop()"
   ]
  },
  {
   "cell_type": "markdown",
   "metadata": {},
   "source": [
    "# Rename the new window"
   ]
  },
  {
   "cell_type": "code",
   "execution_count": 16,
   "metadata": {},
   "outputs": [],
   "source": [
    "window = Tk()\n",
    "window.title('Old Windows')\n",
    "window.geometry('500x400')\n",
    "\n",
    "top = Toplevel()\n",
    "label = Label(top,text='Hello World').pack()\n",
    "top.geometry('200x150')\n",
    "top.title('New Window')\n",
    "\n",
    "window.mainloop()"
   ]
  },
  {
   "cell_type": "code",
   "execution_count": 1,
   "metadata": {},
   "outputs": [],
   "source": [
    "from tkinter import *\n",
    "from PIL import Image, ImageTk"
   ]
  },
  {
   "cell_type": "code",
   "execution_count": 11,
   "metadata": {},
   "outputs": [],
   "source": [
    "window = Tk()\n",
    "window.title('Favicon of old window')\n",
    "window.geometry('500x400')\n",
    "window.iconbitmap(r'C:\\Users\\ARVIND\\Desktop\\Desk\\Bevy\\av.ico')\n",
    "\n",
    "top = Toplevel()\n",
    "image = Image.open(r'C:\\Users\\ARVIND\\Desktop\\Desk\\Bevy\\av.ico')\n",
    "my_img = ImageTk.PhotoImage(image)\n",
    "my_label = Label(top, image=my_img).pack()\n",
    "top.geometry('250x200')\n",
    "top.title('Favicon of new window')\n",
    "top.iconbitmap(r'C:\\Users\\ARVIND\\Desktop\\Desk\\Bevy\\av.ico')\n",
    "\n",
    "window.mainloop()"
   ]
  },
  {
   "cell_type": "code",
   "execution_count": 14,
   "metadata": {},
   "outputs": [],
   "source": [
    "window = Tk()\n",
    "window.title('Favicon of old window')\n",
    "window.geometry('500x400')\n",
    "window.iconbitmap(r'C:\\Users\\ARVIND\\Desktop\\Desk\\Bevy\\av.ico')\n",
    "\n",
    "def open():\n",
    "    top = Toplevel()\n",
    "    image = Image.open(r'C:\\Users\\ARVIND\\Desktop\\Desk\\Bevy\\av.ico')\n",
    "    my_img = ImageTk.PhotoImage(image)\n",
    "    my_label = Label(top, image=my_img).pack()\n",
    "    top.geometry('250x200')\n",
    "    top.title('Favicon of new window')\n",
    "    top.iconbitmap(r'C:\\Users\\ARVIND\\Desktop\\Desk\\Bevy\\av.ico')\n",
    "    \n",
    "btn = Button(window,text='Click Me',command=open).pack()\n",
    "window.mainloop()"
   ]
  },
  {
   "cell_type": "markdown",
   "metadata": {},
   "source": [
    "# But it is not showing image"
   ]
  },
  {
   "cell_type": "code",
   "execution_count": 15,
   "metadata": {},
   "outputs": [],
   "source": [
    "window = Tk()\n",
    "window.title('Favicon of old window')\n",
    "window.geometry('500x400')\n",
    "window.iconbitmap(r'C:\\Users\\ARVIND\\Desktop\\Desk\\Bevy\\av.ico')\n",
    "\n",
    "def open():\n",
    "    global my_img\n",
    "    top = Toplevel()\n",
    "    image = Image.open(r'C:\\Users\\ARVIND\\Desktop\\Desk\\Bevy\\av.ico')\n",
    "    my_img = ImageTk.PhotoImage(image)\n",
    "    my_label = Label(top, image=my_img).pack()\n",
    "    top.geometry('250x200')\n",
    "    top.title('Favicon of new window')\n",
    "    top.iconbitmap(r'C:\\Users\\ARVIND\\Desktop\\Desk\\Bevy\\av.ico')\n",
    "    \n",
    "btn = Button(window,text='Click Me',command=open).pack()\n",
    "window.mainloop()"
   ]
  },
  {
   "cell_type": "markdown",
   "metadata": {},
   "source": [
    "# Click button to close the file"
   ]
  },
  {
   "cell_type": "code",
   "execution_count": 17,
   "metadata": {},
   "outputs": [],
   "source": [
    "window = Tk()\n",
    "window.title('Favicon of old window')\n",
    "window.geometry('500x400')\n",
    "window.iconbitmap(r'C:\\Users\\ARVIND\\Desktop\\Desk\\Bevy\\av.ico')\n",
    "\n",
    "def open():\n",
    "    global my_img\n",
    "    top = Toplevel()\n",
    "    image = Image.open(r'C:\\Users\\ARVIND\\Desktop\\Desk\\Bevy\\av.ico')\n",
    "    my_img = ImageTk.PhotoImage(image)\n",
    "    my_label = Label(top, image=my_img).pack()\n",
    "    top.geometry('250x200')\n",
    "    top.title('Favicon of new window')\n",
    "    top.iconbitmap(r'C:\\Users\\ARVIND\\Desktop\\Desk\\Bevy\\av.ico')\n",
    "    btn2 = Button(top,text='Click me to close',command=top.destroy).pack()\n",
    "    \n",
    "btn = Button(window,text='Click Me',command=open).pack()\n",
    "window.mainloop()"
   ]
  },
  {
   "cell_type": "markdown",
   "metadata": {},
   "source": [
    "# classes with tkinter"
   ]
  },
  {
   "cell_type": "code",
   "execution_count": 19,
   "metadata": {},
   "outputs": [
    {
     "name": "stdout",
     "output_type": "stream",
     "text": [
      "You have clicked a button\n"
     ]
    }
   ],
   "source": [
    "window = Tk()\n",
    "window.title('Favicon of old window')\n",
    "window.geometry('500x400')\n",
    "window.iconbitmap(r'C:\\Users\\ARVIND\\Desktop\\Desk\\Bevy\\av.ico')\n",
    "\n",
    "class Elder:\n",
    "    def __init__(self,master):\n",
    "        myFrame = Frame(master)\n",
    "        myFrame.pack()\n",
    "        \n",
    "        self.myButton = Button(master,text='Click Me',command=self.clicker)\n",
    "        self.myButton.pack(pady=20)\n",
    "        \n",
    "    def clicker(self):\n",
    "        print('You have clicked a button')\n",
    "\n",
    "e = Elder(window)\n",
    "\n",
    "window.mainloop()"
   ]
  },
  {
   "cell_type": "markdown",
   "metadata": {},
   "source": [
    "# Open Files Dialog Box - Tkinter "
   ]
  },
  {
   "cell_type": "code",
   "execution_count": 23,
   "metadata": {},
   "outputs": [],
   "source": [
    "from tkinter import *\n",
    "from PIL import ImageTk, Image\n",
    "from tkinter import filedialog\n",
    "\n",
    "window = Tk()\n",
    "window.title('Open Dialog box')\n",
    "window.geometry('500x400')\n",
    "window.iconbitmap(r'C:\\Users\\ARVIND\\Desktop\\Desk\\Bevy\\av.ico')\n",
    "\n",
    "window.filename = filedialog.askopenfilename(initialdir = r'C:\\Users\\ARVIND\\Desktop\\Desk\\Bevy',title='Select a file',filetypes=(('PNG files','*.png'),('All files','*.*')))\n",
    "\n",
    "window.mainloop()"
   ]
  },
  {
   "cell_type": "markdown",
   "metadata": {},
   "source": [
    "# Return file address"
   ]
  },
  {
   "cell_type": "code",
   "execution_count": 26,
   "metadata": {},
   "outputs": [],
   "source": [
    "from tkinter import *\n",
    "from PIL import ImageTk, Image\n",
    "from tkinter import filedialog\n",
    "\n",
    "window = Tk()\n",
    "window.title('Open Dialog box')\n",
    "window.geometry('500x400')\n",
    "window.iconbitmap(r'C:\\Users\\ARVIND\\Desktop\\Desk\\Bevy\\av.ico')\n",
    "\n",
    "window.filename = filedialog.askopenfilename(initialdir = r'C:\\Users\\ARVIND\\Desktop\\Desk\\Bevy',title='Select a file',filetypes=(('png files','*.png'),('all files','*.*')))\n",
    "my_label = Label(window,text=window.filename,).pack()\n",
    "\n",
    "window.mainloop()"
   ]
  },
  {
   "cell_type": "markdown",
   "metadata": {},
   "source": [
    "# Return only image"
   ]
  },
  {
   "cell_type": "code",
   "execution_count": 27,
   "metadata": {},
   "outputs": [],
   "source": [
    "from tkinter import *\n",
    "from PIL import ImageTk, Image\n",
    "from tkinter import filedialog\n",
    "\n",
    "window = Tk()\n",
    "window.title('Open Dialog box')\n",
    "window.geometry('500x400')\n",
    "window.iconbitmap(r'C:\\Users\\ARVIND\\Desktop\\Desk\\Bevy\\av.ico')\n",
    "\n",
    "window.filename = filedialog.askopenfilename(initialdir = r'C:\\Users\\ARVIND\\Desktop\\Desk\\Bevy',title='Select a file',filetypes=(('png files','*.png'),('all files','*.*')))\n",
    "my_label = Label(window,text=window.filename,).pack()\n",
    "img = Image.open(window.filename)\n",
    "my_image = ImageTk.PhotoImage(img)\n",
    "my_image_label = Label(image=my_image).pack()\n",
    "\n",
    "window.mainloop()"
   ]
  },
  {
   "cell_type": "code",
   "execution_count": null,
   "metadata": {},
   "outputs": [],
   "source": []
  },
  {
   "cell_type": "code",
   "execution_count": 33,
   "metadata": {},
   "outputs": [],
   "source": [
    "from tkinter import *\n",
    "from PIL import ImageTk, Image\n",
    "from tkinter import filedialog\n",
    "\n",
    "window = Tk()\n",
    "window.title('Open Dialog box')\n",
    "window.geometry('500x400')\n",
    "window.iconbitmap(r'C:\\Users\\ARVIND\\Desktop\\Desk\\Bevy\\av.ico')\n",
    "\n",
    "window.filename = filedialog.askopenfilename(initialdir = r'C:\\Users\\ARVIND\\Desktop\\Desk\\Bevy',title='Select a file',filetypes=(('png files','*.png'),('all files','*.*')))\n",
    "#my_label = Label(window,text=window.filename,).pack()\n",
    "img = Image.open(window.filename)\n",
    "my_image = ImageTk.PhotoImage(img)\n",
    "my_image_label = Label(image=my_image).pack()\n",
    "\n",
    "window.mainloop()"
   ]
  },
  {
   "cell_type": "markdown",
   "metadata": {},
   "source": [
    "# Open file using a button"
   ]
  },
  {
   "cell_type": "code",
   "execution_count": 34,
   "metadata": {},
   "outputs": [],
   "source": [
    "from tkinter import *\n",
    "from PIL import ImageTk, Image\n",
    "from tkinter import filedialog\n",
    "\n",
    "window = Tk()\n",
    "window.title('Open Dialog box')\n",
    "window.geometry('500x400')\n",
    "window.iconbitmap(r'C:\\Users\\ARVIND\\Desktop\\Desk\\Bevy\\av.ico')\n",
    "\n",
    "def open():\n",
    "\tglobal my_image\n",
    "\twindow.filename = filedialog.askopenfilename(initialdir = r'C:\\Users\\ARVIND\\Desktop\\Desk\\Bevy',title='Select a file',filetypes=(('png files','*.png'),('all files','*.*')))\n",
    "\timg = Image.open(window.filename)\n",
    "\tmy_image = ImageTk.PhotoImage(img)\n",
    "\tmy_image_label = Label(image=my_image).pack()\n",
    "\n",
    "myButton = Button(window,text='Open File',command=open).pack()\n",
    "\n",
    "window.mainloop()"
   ]
  },
  {
   "cell_type": "markdown",
   "metadata": {},
   "source": [
    "# Opening & closing the file"
   ]
  },
  {
   "cell_type": "code",
   "execution_count": 32,
   "metadata": {},
   "outputs": [],
   "source": [
    "from tkinter import *\n",
    "from PIL import ImageTk, Image\n",
    "from tkinter import filedialog\n",
    "\n",
    "window = Tk()\n",
    "window.title('Open Dialog box')\n",
    "window.geometry('500x400')\n",
    "window.iconbitmap(r'C:\\Users\\ARVIND\\Desktop\\Desk\\Bevy\\av.ico')\n",
    "\n",
    "def open():\n",
    "\tglobal my_image\n",
    "\twindow.filename = filedialog.askopenfilename(initialdir = r'C:\\Users\\ARVIND\\Desktop\\Desk\\Bevy',title='Select a file',filetypes=(('png files','*.png'),('all files','*.*')))\n",
    "\timg = Image.open(window.filename)\n",
    "\tmy_image = ImageTk.PhotoImage(img)\n",
    "\tmy_image_label = Label(image=my_image).pack()\n",
    "\tmyBtn = Button(window,text='Close The File',command=window.destroy).pack()\n",
    "\n",
    "myButton = Button(window,text='Open File',command=open).pack()\n",
    "window.mainloop()"
   ]
  },
  {
   "cell_type": "code",
   "execution_count": null,
   "metadata": {},
   "outputs": [],
   "source": []
  }
 ],
 "metadata": {
  "kernelspec": {
   "display_name": "Python 3",
   "language": "python",
   "name": "python3"
  },
  "language_info": {
   "codemirror_mode": {
    "name": "ipython",
    "version": 3
   },
   "file_extension": ".py",
   "mimetype": "text/x-python",
   "name": "python",
   "nbconvert_exporter": "python",
   "pygments_lexer": "ipython3",
   "version": "3.9.1"
  }
 },
 "nbformat": 4,
 "nbformat_minor": 4
}
