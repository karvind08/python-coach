{
 "cells": [
  {
   "cell_type": "markdown",
   "metadata": {},
   "source": [
    "# Menu"
   ]
  },
  {
   "cell_type": "code",
   "execution_count": null,
   "metadata": {},
   "outputs": [],
   "source": [
    "from tkinter import *\n",
    "window = Tk()\n",
    "window.title('Menu Bar')\n",
    "window.geometry('400x300')\n",
    "window.iconbitmap(r'C:\\Users\\ARVIND\\Desktop\\Desk\\Bevy\\av.ico')\n",
    "\n",
    "my_menu = Menu(window)\n",
    "window.config(menu=my_menu)\n",
    "\n",
    "file_menu = Menu(my_menu)\n",
    "my_menu.add_cascade(label='File',menu=file_menu)\n",
    "\n",
    "\n",
    "window.mainloop()"
   ]
  },
  {
   "cell_type": "markdown",
   "metadata": {},
   "source": [
    "# exercise"
   ]
  },
  {
   "cell_type": "code",
   "execution_count": null,
   "metadata": {},
   "outputs": [],
   "source": [
    "from tkinter import *\n",
    "window = Tk()\n",
    "window.title('Menu Bar')\n",
    "window.geometry('400x300')\n",
    "window.iconbitmap(r'C:\\Users\\ARVIND\\Desktop\\Desk\\Bevy\\av.ico')\n",
    "\n",
    "my_menu = Menu(window)\n",
    "window.config(menu=my_menu)\n",
    "\n",
    "file_menu = Menu(my_menu)\n",
    "my_menu.add_cascade(label='Files',menu=file_menu)\n",
    "\n",
    "edit_menu = Menu(my_menu)\n",
    "my_menu.add_cascade(label='Edit',menu=edit_menu)\n",
    "\n",
    "window.mainloop()"
   ]
  },
  {
   "cell_type": "code",
   "execution_count": null,
   "metadata": {},
   "outputs": [],
   "source": [
    "from tkinter import *\n",
    "window = Tk()\n",
    "window.title('Menu Bar')\n",
    "window.geometry('400x300')\n",
    "window.iconbitmap(r'C:\\Users\\ARVIND\\Desktop\\Desk\\Bevy\\av.ico')\n",
    "\n",
    "my_menu = Menu(window)\n",
    "window.config(menu=my_menu)\n",
    "\n",
    "file_menu = Menu(my_menu)\n",
    "my_menu.add_cascade(label='Files',menu=file_menu)\n",
    "\n",
    "file_menu.add_command(label='New')\n",
    "file_menu.add_command(label='Open')\n",
    "file_menu.add_command(label='Exit',command=window.destroy)\n",
    "\n",
    "edit_menu = Menu(my_menu)\n",
    "my_menu.add_cascade(label='Edit',menu=edit_menu)\n",
    "\n",
    "window.mainloop()"
   ]
  },
  {
   "cell_type": "code",
   "execution_count": null,
   "metadata": {},
   "outputs": [],
   "source": []
  },
  {
   "cell_type": "code",
   "execution_count": null,
   "metadata": {},
   "outputs": [],
   "source": [
    "from tkinter import *\n",
    "window = Tk()\n",
    "window.title('Menu Bar')\n",
    "window.geometry('400x300')\n",
    "window.iconbitmap(r'C:\\Users\\ARVIND\\Desktop\\Desk\\Bevy\\av.ico')\n",
    "\n",
    "my_menu = Menu(window)\n",
    "window.config(menu=my_menu)\n",
    "\n",
    "file_menu = Menu(my_menu)\n",
    "my_menu.add_cascade(label='File',menu=file_menu)\n",
    "\n",
    "edit_menu = Menu(my_menu)\n",
    "my_menu.add_cascade(label='Edit',menu=edit_menu)\n",
    "\n",
    "\n",
    "window.mainloop()"
   ]
  },
  {
   "cell_type": "code",
   "execution_count": null,
   "metadata": {},
   "outputs": [],
   "source": [
    "from tkinter import *\n",
    "window = Tk()\n",
    "window.title('Menu Bar')\n",
    "window.geometry('400x300')\n",
    "window.iconbitmap(r'C:\\Users\\ARVIND\\Desktop\\Desk\\Bevy\\av.ico')\n",
    "\n",
    "my_menu = Menu(window)\n",
    "window.config(menu=my_menu)\n",
    "\n",
    "file_menu = Menu(my_menu)\n",
    "my_menu.add_cascade(label='File',menu=file_menu)\n",
    "\n",
    "file_menu.add_command(label='New')\n",
    "file_menu.add_command(label='Open')\n",
    "file_menu.add_separator()\n",
    "file_menu.add_command(label='Exit',command=window.destroy)\n",
    "\n",
    "window.mainloop()"
   ]
  },
  {
   "cell_type": "code",
   "execution_count": null,
   "metadata": {},
   "outputs": [],
   "source": [
    "from tkinter import *\n",
    "window = Tk()\n",
    "window.title('Menu Bar')\n",
    "window.geometry('400x300')\n",
    "window.iconbitmap(r'C:\\Users\\ARVIND\\Desktop\\Desk\\Bevy\\av.ico')\n",
    "\n",
    "my_menu = Menu(window)\n",
    "window.config(menu=my_menu)\n",
    "\n",
    "file_menu = Menu(my_menu)\n",
    "my_menu.add_cascade(label='File',menu=file_menu)\n",
    "\n",
    "file_menu.add_command(label='New',command=our_command)\n",
    "file_menu.add_command(label='Open',command=our_command)\n",
    "file_menu.add_command(label='Save',command=our_command)\n",
    "file_menu.add_separator()\n",
    "file_menu.add_command(label='Exit',command=window.quit)\n",
    "\n",
    "\n",
    "window.mainloop()"
   ]
  },
  {
   "cell_type": "markdown",
   "metadata": {},
   "source": [
    "# Canvas"
   ]
  },
  {
   "cell_type": "markdown",
   "metadata": {},
   "source": [
    "# Line"
   ]
  },
  {
   "cell_type": "code",
   "execution_count": null,
   "metadata": {},
   "outputs": [],
   "source": [
    "from tkinter import *\n",
    "window = Tk()\n",
    "window.title('Canvas')\n",
    "window.geometry('400x300')\n",
    "window.iconbitmap(r'C:\\Users\\ARVIND\\Desktop\\Desk\\Bevy\\av.ico')\n",
    "\n",
    "can_widget = Canvas(window,width=300,height=250)\n",
    "can_widget.pack()\n",
    "\n",
    "can_widget.create_line(10,20,100,200)\n",
    "\n",
    "\n",
    "window.mainloop()"
   ]
  },
  {
   "cell_type": "code",
   "execution_count": null,
   "metadata": {},
   "outputs": [],
   "source": [
    "from tkinter import *\n",
    "window = Tk()\n",
    "window.title('Canvas')\n",
    "window.geometry('400x300')\n",
    "window.iconbitmap(r'C:\\Users\\ARVIND\\Desktop\\Desk\\Bevy\\av.ico')\n",
    "\n",
    "can_widget = Canvas(window,width=300,height=250)\n",
    "can_widget.pack()\n",
    "\n",
    "can_widget.create_rectangle(10,20,100,200,fill='red')\n",
    "\n",
    "\n",
    "window.mainloop()"
   ]
  },
  {
   "cell_type": "code",
   "execution_count": null,
   "metadata": {},
   "outputs": [],
   "source": [
    "from tkinter import *\n",
    "window = Tk()\n",
    "window.title('Canvas')\n",
    "window.geometry('400x300')\n",
    "window.iconbitmap(r'C:\\Users\\ARVIND\\Desktop\\Desk\\Bevy\\av.ico')\n",
    "\n",
    "can_widget = Canvas(window,width=300,height=250)\n",
    "can_widget.pack()\n",
    "\n",
    "can_widget.create_oval(10,20,400,350,fill='red')\n",
    "\n",
    "\n",
    "window.mainloop()"
   ]
  },
  {
   "cell_type": "code",
   "execution_count": null,
   "metadata": {},
   "outputs": [],
   "source": [
    "from tkinter import *\n",
    "window = Tk()\n",
    "window.title('Canvas')\n",
    "window.geometry('400x300')\n",
    "window.iconbitmap(r'C:\\Users\\ARVIND\\Desktop\\Desk\\Bevy\\av.ico')\n",
    "\n",
    "can_widget = Canvas(window,width=300,height=250)\n",
    "can_widget.pack()\n",
    "\n",
    "can_widget.create_polygon(150,20,200,150,250,100,300,455,fill='red')\n",
    "\n",
    "\n",
    "window.mainloop()"
   ]
  },
  {
   "cell_type": "code",
   "execution_count": null,
   "metadata": {},
   "outputs": [],
   "source": [
    "from tkinter import *\n",
    "window = Tk()\n",
    "window.title('Canvas')\n",
    "window.geometry('400x300')\n",
    "window.iconbitmap(r'C:\\Users\\ARVIND\\Desktop\\Desk\\Bevy\\av.ico')\n",
    "\n",
    "can_widget = Canvas(window,width=300,height=250)\n",
    "can_widget.pack()\n",
    "\n",
    "can_widget.create_text(150,200,text='Arvind')\n",
    "\n",
    "\n",
    "window.mainloop()"
   ]
  },
  {
   "cell_type": "code",
   "execution_count": null,
   "metadata": {},
   "outputs": [],
   "source": [
    "Event Handling"
   ]
  },
  {
   "cell_type": "code",
   "execution_count": null,
   "metadata": {},
   "outputs": [],
   "source": [
    "from tkinter import *\n",
    "window = Tk()\n",
    "window.title('Mouse Events')\n",
    "window.geometry('400x300')\n",
    "window.iconbitmap(r'C:\\Users\\ARVIND\\Desktop\\Desk\\Bevy\\av.ico')\n",
    "\n",
    "def clicker():\n",
    "    label = Label(window,text='I am in clicker')\n",
    "    label.pack()\n",
    "\n",
    "btn = Button(window,text='Click Me',command=clicker)\n",
    "btn.pack(pady=100)\n",
    "\n",
    "\n",
    "window.mainloop()"
   ]
  },
  {
   "cell_type": "code",
   "execution_count": null,
   "metadata": {},
   "outputs": [],
   "source": [
    "from tkinter import *\n",
    "window = Tk()\n",
    "window.title('Mouse Events')\n",
    "window.geometry('400x300')\n",
    "window.iconbitmap(r'C:\\Users\\ARVIND\\Desktop\\Desk\\Bevy\\av.ico')\n",
    "\n",
    "def clicker(event):\n",
    "    label = Label(window,text='I am in clicker')\n",
    "    label.pack()\n",
    "\n",
    "btn = Button(window,text='Click Me')\n",
    "btn.bind('<Button-1>',clicker)\n",
    "btn.pack(pady=100)\n",
    "\n",
    "\n",
    "window.mainloop()"
   ]
  },
  {
   "cell_type": "code",
   "execution_count": 16,
   "metadata": {},
   "outputs": [],
   "source": [
    "from tkinter import *\n",
    "window = Tk()\n",
    "window.title('Mouse Events')\n",
    "window.geometry('400x300')\n",
    "window.iconbitmap(r'C:\\Users\\ARVIND\\Desktop\\Desk\\Bevy\\av.ico')\n",
    "\n",
    "def clicker(event):\n",
    "    window.destroy()\n",
    "\n",
    "btn = Button(window,text='Click Me')\n",
    "btn.bind('<Button-1>',clicker)\n",
    "btn.pack(pady=100)\n",
    "\n",
    "\n",
    "window.mainloop()"
   ]
  },
  {
   "cell_type": "code",
   "execution_count": null,
   "metadata": {},
   "outputs": [],
   "source": [
    "from tkinter import *\n",
    "window = Tk()\n",
    "window.title('Mouse Events')\n",
    "window.geometry('400x300')\n",
    "window.iconbitmap(r'C:\\Users\\ARVIND\\Desktop\\Desk\\Bevy\\av.ico')\n",
    "\n",
    "def clicker(event):\n",
    "    label = Label(window,text='I am in clicker')\n",
    "    label.pack()\n",
    "\n",
    "btn = Button(window,text='Click Me')\n",
    "btn.bind('<Button-3>',clicker)\n",
    "btn.pack(pady=100)\n",
    "\n",
    "\n",
    "window.mainloop()"
   ]
  },
  {
   "cell_type": "markdown",
   "metadata": {},
   "source": [
    "# Make two buttons with left click and right click"
   ]
  },
  {
   "cell_type": "code",
   "execution_count": null,
   "metadata": {},
   "outputs": [],
   "source": [
    "from tkinter import *\n",
    "window = Tk()\n",
    "window.title('Mouse Events')\n",
    "window.geometry('400x300')\n",
    "window.iconbitmap(r'C:\\Users\\ARVIND\\Desktop\\Desk\\Bevy\\av.ico')\n",
    "\n",
    "def clicker(event):\n",
    "    label = Label(window,text='I am in clicker')\n",
    "    label.pack()\n",
    "\n",
    "btn = Button(window,text='Click Me')\n",
    "btn.bind('<Enter>',clicker)\n",
    "btn.pack(pady=100)\n",
    "\n",
    "\n",
    "window.mainloop()"
   ]
  },
  {
   "cell_type": "code",
   "execution_count": null,
   "metadata": {},
   "outputs": [],
   "source": [
    "from tkinter import *\n",
    "window = Tk()\n",
    "window.title('Mouse Events')\n",
    "window.geometry('400x300')\n",
    "window.iconbitmap(r'C:\\Users\\ARVIND\\Desktop\\Desk\\Bevy\\av.ico')\n",
    "\n",
    "def clicker(event):\n",
    "    label = Label(window,text='I am in clicker')\n",
    "    label.pack()\n",
    "\n",
    "btn = Button(window,text='Click Me')\n",
    "btn.bind('<Leave>',clicker)\n",
    "btn.pack(pady=50)\n",
    "\n",
    "\n",
    "window.mainloop()"
   ]
  },
  {
   "cell_type": "code",
   "execution_count": null,
   "metadata": {},
   "outputs": [],
   "source": [
    "from tkinter import *\n",
    "window = Tk()\n",
    "window.title('Mouse Events')\n",
    "window.geometry('400x300')\n",
    "window.iconbitmap(r'C:\\Users\\ARVIND\\Desktop\\Desk\\Bevy\\av.ico')\n",
    "\n",
    "def clicker(event):\n",
    "    label = Label(window,text='I am in clicker')\n",
    "    label.pack()\n",
    "\n",
    "btn = Button(window,text='Click Me')\n",
    "btn.bind('<FocusIn>',clicker)\n",
    "btn.pack(pady=50)\n",
    "\n",
    "\n",
    "window.mainloop()"
   ]
  },
  {
   "cell_type": "markdown",
   "metadata": {},
   "source": [
    "# Printing Coordinates of click"
   ]
  },
  {
   "cell_type": "code",
   "execution_count": 5,
   "metadata": {},
   "outputs": [],
   "source": [
    "from tkinter import *\n",
    "window = Tk()\n",
    "window.title('Mouse Events')\n",
    "window.geometry('400x300')\n",
    "window.iconbitmap(r'C:\\Users\\ARVIND\\Desktop\\Desk\\Bevy\\av.ico')\n",
    "\n",
    "def clicker(e):\n",
    "    label = Label(window,text='I have clicked: '+str(e.x)+' '+str(e.y))\n",
    "    label.pack()\n",
    "\n",
    "btn = Button(window,text='Click Me')\n",
    "btn.bind('<Button-1>',clicker)\n",
    "btn.pack(pady=50)\n",
    "\n",
    "\n",
    "window.mainloop()"
   ]
  },
  {
   "cell_type": "markdown",
   "metadata": {},
   "source": [
    "# Key Events"
   ]
  },
  {
   "cell_type": "code",
   "execution_count": null,
   "metadata": {},
   "outputs": [],
   "source": [
    "from tkinter import *\n",
    "window = Tk()\n",
    "window.title('Mouse Events')\n",
    "window.geometry('400x300')\n",
    "window.iconbitmap(r'C:\\Users\\ARVIND\\Desktop\\Desk\\Bevy\\av.ico')\n",
    "\n",
    "def clicker(event):\n",
    "    label = Label(window,text='I have pressed a key')\n",
    "    label.pack()\n",
    "\n",
    "btn = Button(window,text='Click Me')\n",
    "btn.bind('<Key>',clicker)\n",
    "btn.pack(pady=50)\n",
    "\n",
    "\n",
    "window.mainloop()"
   ]
  },
  {
   "cell_type": "code",
   "execution_count": 17,
   "metadata": {},
   "outputs": [],
   "source": [
    "window = Tk()\n",
    "window.title('Keyboard Events')\n",
    "window.geometry('400x400')\n",
    "\n",
    "def clicker(e):\n",
    "    myLabel = Label(window,text='You clicked button: '+e.char)\n",
    "    myLabel.pack()\n",
    "\n",
    "btn1 = Button(window,text='Click Me')\n",
    "btn1.bind('<Key>',clicker)\n",
    "btn1.pack(pady=20)\n",
    "window.mainloop()\n"
   ]
  },
  {
   "cell_type": "code",
   "execution_count": 10,
   "metadata": {},
   "outputs": [],
   "source": [
    "window = Tk()\n",
    "window.title('Keyboard Events')\n",
    "window.geometry('400x400')\n",
    "\n",
    "def clicker(e):\n",
    "    myLabel = Label(window,text='You clicked button: '+e.keysym)\n",
    "    myLabel.pack()\n",
    "\n",
    "btn1 = Button(window,text='Click Me')\n",
    "btn1.bind('<Key>',clicker)\n",
    "btn1.pack(pady=20)\n",
    "window.mainloop()\n"
   ]
  },
  {
   "cell_type": "code",
   "execution_count": 7,
   "metadata": {},
   "outputs": [],
   "source": []
  },
  {
   "cell_type": "code",
   "execution_count": null,
   "metadata": {},
   "outputs": [],
   "source": []
  },
  {
   "cell_type": "code",
   "execution_count": null,
   "metadata": {},
   "outputs": [],
   "source": []
  },
  {
   "cell_type": "code",
   "execution_count": null,
   "metadata": {},
   "outputs": [],
   "source": []
  },
  {
   "cell_type": "code",
   "execution_count": null,
   "metadata": {},
   "outputs": [],
   "source": []
  },
  {
   "cell_type": "code",
   "execution_count": null,
   "metadata": {},
   "outputs": [],
   "source": []
  },
  {
   "cell_type": "code",
   "execution_count": null,
   "metadata": {},
   "outputs": [],
   "source": []
  }
 ],
 "metadata": {
  "kernelspec": {
   "display_name": "Python 3",
   "language": "python",
   "name": "python3"
  },
  "language_info": {
   "codemirror_mode": {
    "name": "ipython",
    "version": 3
   },
   "file_extension": ".py",
   "mimetype": "text/x-python",
   "name": "python",
   "nbconvert_exporter": "python",
   "pygments_lexer": "ipython3",
   "version": "3.9.1"
  }
 },
 "nbformat": 4,
 "nbformat_minor": 4
}
