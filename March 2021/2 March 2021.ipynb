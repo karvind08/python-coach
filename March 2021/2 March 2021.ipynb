{
 "cells": [
  {
   "cell_type": "code",
   "execution_count": null,
   "metadata": {},
   "outputs": [],
   "source": [
    "from tkinter import *\n",
    "window = Tk()\n",
    "window.title('Config')\n",
    "window.geometry('400x400')\n",
    "\n",
    "def something():\n",
    "\tmy_label.config(text='This is new text')\n",
    "\twindow.config(bg='blue')\n",
    "\t#my_button.config(text='You are hero')\n",
    "\tmy_button.config(text='You are hero',state=DISABLED)\n",
    "\n",
    "global my_label\n",
    "my_label = Label(window,text='This is old text')\n",
    "my_label.pack(pady=10)\n",
    "\n",
    "global my_button\n",
    "my_button = Button(window,text='Click Me',command=something)\n",
    "my_button.pack(pady=10)\n",
    "\n",
    "window.mainloop()"
   ]
  },
  {
   "cell_type": "code",
   "execution_count": 3,
   "metadata": {},
   "outputs": [],
   "source": [
    "from tkinter import *\n",
    "window = Tk()\n",
    "window.title('Config')\n",
    "window.geometry('400x400')\n",
    "\n",
    "def something():\n",
    "    my_button.config(text='You are hero')\n",
    "\n",
    "global my_label\n",
    "my_label = Label(window,text='This is old text')\n",
    "my_label.pack(pady=10)\n",
    "\n",
    "global my_button\n",
    "my_button = Button(window,text='Click Me',command=something)\n",
    "my_button.pack(pady=10)\n",
    "\n",
    "window.mainloop()"
   ]
  },
  {
   "cell_type": "code",
   "execution_count": null,
   "metadata": {},
   "outputs": [],
   "source": [
    "from tkinter import *\n",
    "window = Tk()\n",
    "window.title('Config')\n",
    "window.geometry('400x400')\n",
    "\n",
    "def something():\n",
    "    window.config(bg='blue')\n",
    "\n",
    "global my_label\n",
    "my_label = Label(window,text='This is old text')\n",
    "my_label.pack(pady=10)\n",
    "\n",
    "global my_button\n",
    "my_button = Button(window,text='Click Me',command=something)\n",
    "my_button.pack(pady=10)\n",
    "\n",
    "window.mainloop()"
   ]
  },
  {
   "cell_type": "code",
   "execution_count": 6,
   "metadata": {},
   "outputs": [],
   "source": [
    "from tkinter import *\n",
    "window = Tk()\n",
    "window.title('Config')\n",
    "window.geometry('400x400')\n",
    "\n",
    "def something():\n",
    "    my_button.config(text='Do not click me')\n",
    "\n",
    "\n",
    "global my_button\n",
    "my_button = Button(window,text='Click Me',command=something)\n",
    "my_button.pack(pady=10)\n",
    "\n",
    "window.mainloop()"
   ]
  },
  {
   "cell_type": "code",
   "execution_count": 7,
   "metadata": {},
   "outputs": [],
   "source": [
    "from tkinter import *\n",
    "window = Tk()\n",
    "window.title('Config')\n",
    "window.geometry('400x400')\n",
    "\n",
    "def something():\n",
    "    my_button.config(text='Do not Click',state=DISABLED)\n",
    "\n",
    "global my_button\n",
    "my_button = Button(window,text='Click Me',command=something)\n",
    "my_button.pack(pady=10)\n",
    "window.mainloop()"
   ]
  },
  {
   "cell_type": "code",
   "execution_count": null,
   "metadata": {},
   "outputs": [],
   "source": []
  },
  {
   "cell_type": "code",
   "execution_count": null,
   "metadata": {},
   "outputs": [],
   "source": []
  },
  {
   "cell_type": "code",
   "execution_count": null,
   "metadata": {},
   "outputs": [],
   "source": []
  }
 ],
 "metadata": {
  "kernelspec": {
   "display_name": "Python 3",
   "language": "python",
   "name": "python3"
  },
  "language_info": {
   "codemirror_mode": {
    "name": "ipython",
    "version": 3
   },
   "file_extension": ".py",
   "mimetype": "text/x-python",
   "name": "python",
   "nbconvert_exporter": "python",
   "pygments_lexer": "ipython3",
   "version": "3.7.5"
  }
 },
 "nbformat": 4,
 "nbformat_minor": 2
}
