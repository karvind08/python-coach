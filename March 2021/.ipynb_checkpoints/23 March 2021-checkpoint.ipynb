{
 "cells": [
  {
   "cell_type": "code",
   "execution_count": 1,
   "metadata": {},
   "outputs": [
    {
     "name": "stdout",
     "output_type": "stream",
     "text": [
      "Collecting pyDatalog\n",
      "  Downloading pyDatalog-0.17.1.zip (304 kB)\n",
      "Building wheels for collected packages: pyDatalog\n",
      "  Building wheel for pyDatalog (setup.py): started\n",
      "  Building wheel for pyDatalog (setup.py): finished with status 'done'\n",
      "  Created wheel for pyDatalog: filename=pyDatalog-0.17.1-py2.py3-none-any.whl size=74202 sha256=124f3f612cfeed50ffb8218bd9e90a380d2fd8c86a5fa1dae6cc8c7883a494fc\n",
      "  Stored in directory: c:\\users\\arvind\\appdata\\local\\pip\\cache\\wheels\\04\\e7\\e1\\8fa2c8dfe74d0b9e20818c8ec00c20657baa0738976c93e46e\n",
      "Successfully built pyDatalog\n",
      "Installing collected packages: pyDatalog\n",
      "Successfully installed pyDatalog-0.17.1\n",
      "Note: you may need to restart the kernel to use updated packages.\n"
     ]
    }
   ],
   "source": [
    "pip install pyDatalog"
   ]
  },
  {
   "cell_type": "code",
   "execution_count": 1,
   "metadata": {},
   "outputs": [
    {
     "name": "stdout",
     "output_type": "stream",
     "text": [
      "Collecting kanren\n",
      "  Downloading kanren-0.2.3.tar.gz (23 kB)\n",
      "Collecting toolz\n",
      "  Downloading toolz-0.11.1-py3-none-any.whl (55 kB)\n",
      "Collecting multipledispatch\n",
      "  Downloading multipledispatch-0.6.0-py3-none-any.whl (11 kB)\n",
      "Collecting unification\n",
      "  Downloading unification-0.2.2-py2.py3-none-any.whl (10 kB)\n",
      "Requirement already satisfied: six in c:\\users\\arvind\\appdata\\local\\programs\\python\\python37\\lib\\site-packages (from multipledispatch->kanren) (1.12.0)\n",
      "Building wheels for collected packages: kanren\n",
      "  Building wheel for kanren (setup.py): started\n",
      "  Building wheel for kanren (setup.py): finished with status 'done'\n",
      "  Created wheel for kanren: filename=kanren-0.2.3-py3-none-any.whl size=15862 sha256=d4c0bf3108fc97a7dd2dc44265901a1f687f6c67fb4ee324fc607165fb722444\n",
      "  Stored in directory: c:\\users\\arvind\\appdata\\local\\pip\\cache\\wheels\\26\\cb\\32\\093b860ec60752641d76d706af25a175597cf56e152282cbbe\n",
      "Successfully built kanren\n",
      "Installing collected packages: toolz, multipledispatch, unification, kanren\n",
      "Successfully installed kanren-0.2.3 multipledispatch-0.6.0 toolz-0.11.1 unification-0.2.2\n",
      "Note: you may need to restart the kernel to use updated packages.\n"
     ]
    }
   ],
   "source": [
    "pip install kanren"
   ]
  },
  {
   "cell_type": "code",
   "execution_count": 2,
   "metadata": {},
   "outputs": [
    {
     "name": "stdout",
     "output_type": "stream",
     "text": [
      "Collecting sympy\n",
      "  Downloading sympy-1.7.1-py3-none-any.whl (5.9 MB)\n",
      "Collecting mpmath>=0.19\n",
      "  Downloading mpmath-1.2.1-py3-none-any.whl (532 kB)\n",
      "Installing collected packages: mpmath, sympy\n",
      "Successfully installed mpmath-1.2.1 sympy-1.7.1\n",
      "Note: you may need to restart the kernel to use updated packages.\n"
     ]
    }
   ],
   "source": [
    "pip install sympy"
   ]
  },
  {
   "cell_type": "code",
   "execution_count": null,
   "metadata": {},
   "outputs": [],
   "source": []
  }
 ],
 "metadata": {
  "kernelspec": {
   "display_name": "Python 3",
   "language": "python",
   "name": "python3"
  },
  "language_info": {
   "codemirror_mode": {
    "name": "ipython",
    "version": 3
   },
   "file_extension": ".py",
   "mimetype": "text/x-python",
   "name": "python",
   "nbconvert_exporter": "python",
   "pygments_lexer": "ipython3",
   "version": "3.7.5"
  }
 },
 "nbformat": 4,
 "nbformat_minor": 2
}
