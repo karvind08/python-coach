{
 "cells": [
  {
   "cell_type": "code",
   "execution_count": 1,
   "metadata": {},
   "outputs": [
    {
     "name": "stdout",
     "output_type": "stream",
     "text": [
      "Enter the string: arvind kumar\n",
      "The numbers of vowels are 4\n",
      "The numbers of consonants are 8\n"
     ]
    }
   ],
   "source": [
    "s = input('Enter the string: ')\n",
    "v = 0\n",
    "c = 0\n",
    "for i in s:\n",
    "    if i in 'aeiou':\n",
    "        v=v+1\n",
    "    else:\n",
    "        c+=1\n",
    "print('The numbers of vowels are',v)\n",
    "print('The numbers of consonants are',c)"
   ]
  },
  {
   "cell_type": "code",
   "execution_count": 15,
   "metadata": {},
   "outputs": [
    {
     "name": "stdout",
     "output_type": "stream",
     "text": [
      "Enter the string:hi are\n",
      "Enter the alphabet:k\n",
      "['hi', 'are']\n",
      "Alphabet not found \n",
      "Alphabet not found \n"
     ]
    }
   ],
   "source": [
    "s = input('Enter the string:')\n",
    "ch = input('Enter the alphabet:')\n",
    "words = s.split(' ')\n",
    "print(words)\n",
    "for i in words:\n",
    "    if i[0]==ch:\n",
    "        print(i)\n",
    "    else:\n",
    "        print('Alphabet not found ')\n"
   ]
  },
  {
   "cell_type": "code",
   "execution_count": 21,
   "metadata": {},
   "outputs": [
    {
     "name": "stdout",
     "output_type": "stream",
     "text": [
      "Enter the string:how are you sexy\n",
      "Enter the alphabetyou\n",
      "how are you sexy\n",
      "1\n"
     ]
    }
   ],
   "source": [
    "s = input('Enter the string:')\n",
    "ch = input('Enter the alphabet')\n",
    "print(s)\n",
    "n = s.count(ch)\n",
    "print(n)"
   ]
  },
  {
   "cell_type": "code",
   "execution_count": 1,
   "metadata": {},
   "outputs": [
    {
     "name": "stdout",
     "output_type": "stream",
     "text": [
      "Enter the string: hi hello how are\n",
      "HI HellO HoW ArE \n"
     ]
    }
   ],
   "source": [
    "s = input('Enter the string: ')\n",
    "s = s.title()\n",
    "w = s.split() \n",
    "r=''\n",
    "for i in w:\n",
    "    r=r+i[:-1]+i[-1].upper()+' '\n",
    "print(r)"
   ]
  },
  {
   "cell_type": "code",
   "execution_count": 7,
   "metadata": {},
   "outputs": [
    {
     "data": {
      "text/plain": [
       "'r'"
      ]
     },
     "execution_count": 7,
     "metadata": {},
     "output_type": "execute_result"
    }
   ],
   "source": [
    "a = 'arvind kumar'\n",
    "a[:-1]\n",
    "a[-1]"
   ]
  },
  {
   "cell_type": "code",
   "execution_count": 8,
   "metadata": {},
   "outputs": [
    {
     "data": {
      "text/plain": [
       "'Arvind kumar'"
      ]
     },
     "execution_count": 8,
     "metadata": {},
     "output_type": "execute_result"
    }
   ],
   "source": [
    "a.capitalize()"
   ]
  },
  {
   "cell_type": "code",
   "execution_count": 9,
   "metadata": {},
   "outputs": [
    {
     "data": {
      "text/plain": [
       "'Arvind Kumar'"
      ]
     },
     "execution_count": 9,
     "metadata": {},
     "output_type": "execute_result"
    }
   ],
   "source": [
    "a.title()"
   ]
  },
  {
   "cell_type": "code",
   "execution_count": 13,
   "metadata": {},
   "outputs": [
    {
     "data": {
      "text/plain": [
       "6"
      ]
     },
     "execution_count": 13,
     "metadata": {},
     "output_type": "execute_result"
    }
   ],
   "source": [
    "a = 'arvind kumar'\n",
    "a.find(' ')"
   ]
  },
  {
   "cell_type": "code",
   "execution_count": 15,
   "metadata": {},
   "outputs": [
    {
     "data": {
      "text/plain": [
       "False"
      ]
     },
     "execution_count": 15,
     "metadata": {},
     "output_type": "execute_result"
    }
   ],
   "source": [
    "s1 = 'python 12'\n",
    "s1.isalnum()"
   ]
  },
  {
   "cell_type": "code",
   "execution_count": 18,
   "metadata": {},
   "outputs": [
    {
     "data": {
      "text/plain": [
       "True"
      ]
     },
     "execution_count": 18,
     "metadata": {},
     "output_type": "execute_result"
    }
   ],
   "source": [
    "s1 = 'python'\n",
    "s1.islower()"
   ]
  },
  {
   "cell_type": "code",
   "execution_count": 22,
   "metadata": {},
   "outputs": [
    {
     "data": {
      "text/plain": [
       "False"
      ]
     },
     "execution_count": 22,
     "metadata": {},
     "output_type": "execute_result"
    }
   ],
   "source": [
    "s1 = 'PYTHON'\n",
    "s1.islower()"
   ]
  },
  {
   "cell_type": "code",
   "execution_count": 20,
   "metadata": {},
   "outputs": [
    {
     "data": {
      "text/plain": [
       "True"
      ]
     },
     "execution_count": 20,
     "metadata": {},
     "output_type": "execute_result"
    }
   ],
   "source": [
    "s1 = 'PYTHON'\n",
    "s1.isupper()"
   ]
  },
  {
   "cell_type": "code",
   "execution_count": 21,
   "metadata": {},
   "outputs": [
    {
     "data": {
      "text/plain": [
       "False"
      ]
     },
     "execution_count": 21,
     "metadata": {},
     "output_type": "execute_result"
    }
   ],
   "source": [
    "s1 = 'python'\n",
    "s1.isupper()"
   ]
  },
  {
   "cell_type": "code",
   "execution_count": 23,
   "metadata": {},
   "outputs": [
    {
     "data": {
      "text/plain": [
       "'python '"
      ]
     },
     "execution_count": 23,
     "metadata": {},
     "output_type": "execute_result"
    }
   ],
   "source": [
    "s1 = ' python '\n",
    "s1.lstrip()"
   ]
  },
  {
   "cell_type": "code",
   "execution_count": 24,
   "metadata": {},
   "outputs": [
    {
     "data": {
      "text/plain": [
       "' python'"
      ]
     },
     "execution_count": 24,
     "metadata": {},
     "output_type": "execute_result"
    }
   ],
   "source": [
    "s1 = ' python '\n",
    "s1.rstrip()"
   ]
  },
  {
   "cell_type": "code",
   "execution_count": 2,
   "metadata": {},
   "outputs": [
    {
     "name": "stdout",
     "output_type": "stream",
     "text": [
      "Enter the string: arvindkkks\n",
      "{'arvindkkks': 1}\n"
     ]
    }
   ],
   "source": [
    "s = input('Enter the string: ')\n",
    "words=s.split()\n",
    "d = {}\n",
    "for i in words:\n",
    "    if i not in d.keys():\n",
    "        d[i]=0\n",
    "    d[i] = d[i] + 1\n",
    "print(d)"
   ]
  },
  {
   "cell_type": "code",
   "execution_count": 142,
   "metadata": {},
   "outputs": [
    {
     "name": "stdout",
     "output_type": "stream",
     "text": [
      "arvind,amit and kukku\n"
     ]
    }
   ],
   "source": [
    "x='arvind'\n",
    "y='amit'\n",
    "z='kukku'\n",
    "print('{},{} and {}'.format(x,y,z))"
   ]
  },
  {
   "cell_type": "code",
   "execution_count": 2,
   "metadata": {},
   "outputs": [
    {
     "name": "stdout",
     "output_type": "stream",
     "text": [
      "amit,arvind and kukku\n"
     ]
    }
   ],
   "source": [
    "x='arvind'\n",
    "y='amit'\n",
    "z='kukku'\n",
    "print('{1},{0} and {2}'.format(x,y,z))"
   ]
  },
  {
   "cell_type": "code",
   "execution_count": 3,
   "metadata": {},
   "outputs": [
    {
     "name": "stdout",
     "output_type": "stream",
     "text": [
      "arvind,amit and kukku\n"
     ]
    }
   ],
   "source": [
    "print('{x},{y} and {z}'.format(x='arvind', y='amit',z='kukku'))"
   ]
  },
  {
   "cell_type": "code",
   "execution_count": 40,
   "metadata": {},
   "outputs": [
    {
     "name": "stdout",
     "output_type": "stream",
     "text": [
      "arvind,amit and kukku\n"
     ]
    }
   ],
   "source": [
    "print(f\"{x},{y} and {z}\")"
   ]
  },
  {
   "cell_type": "code",
   "execution_count": 41,
   "metadata": {},
   "outputs": [
    {
     "name": "stdout",
     "output_type": "stream",
     "text": [
      "|arvind    |\n"
     ]
    }
   ],
   "source": [
    "print('|{:<10}|'.format('arvind'))"
   ]
  },
  {
   "cell_type": "code",
   "execution_count": 42,
   "metadata": {},
   "outputs": [
    {
     "name": "stdout",
     "output_type": "stream",
     "text": [
      "|    arvind|\n"
     ]
    }
   ],
   "source": [
    "print('|{:>10}|'.format('arvind'))"
   ]
  },
  {
   "cell_type": "code",
   "execution_count": 15,
   "metadata": {},
   "outputs": [
    {
     "name": "stdout",
     "output_type": "stream",
     "text": [
      "|arvind    |   amit   |     kukku\n"
     ]
    }
   ],
   "source": [
    "print('|{:<10}|{:^10}|{:>10}'.format('arvind', 'amit','kukku'))"
   ]
  },
  {
   "cell_type": "code",
   "execution_count": 31,
   "metadata": {},
   "outputs": [
    {
     "name": "stdout",
     "output_type": "stream",
     "text": [
      "|Left Aligned Text   |\n"
     ]
    }
   ],
   "source": [
    "print(f\"|{'Left Aligned Text' : <20}|\") "
   ]
  },
  {
   "cell_type": "code",
   "execution_count": 32,
   "metadata": {},
   "outputs": [
    {
     "name": "stdout",
     "output_type": "stream",
     "text": [
      "|  Right Aligned Text|\n"
     ]
    }
   ],
   "source": [
    "print(f\"|{'Right Aligned Text' : >20}|\") "
   ]
  },
  {
   "cell_type": "code",
   "execution_count": 30,
   "metadata": {},
   "outputs": [
    {
     "name": "stdout",
     "output_type": "stream",
     "text": [
      "|      Centered      |\n"
     ]
    }
   ],
   "source": [
    "print(f\"|{'Centered' : ^20}|\") "
   ]
  },
  {
   "cell_type": "code",
   "execution_count": 34,
   "metadata": {},
   "outputs": [
    {
     "name": "stdout",
     "output_type": "stream",
     "text": [
      "Left Text            Centered Text           Right Text\n"
     ]
    }
   ],
   "source": [
    "left_alignment = \"Left Text\"\n",
    "center_alignment = \"Centered Text\"\n",
    "right_alignment = \"Right Text\"\n",
    "\n",
    "# printing out aligned text \n",
    "print(f\"{left_alignment : <20}{center_alignment : ^15}{right_alignment : >20}\") \n"
   ]
  },
  {
   "cell_type": "code",
   "execution_count": 36,
   "metadata": {},
   "outputs": [],
   "source": [
    "# assigning list values to the variables \n",
    "names = ['Raj', 'Shivam', 'Shreeya', 'Kartik'] \n",
    "marks = [7, 9, 8, 5] \n",
    "div = ['A', 'A', 'C', 'B'] \n",
    "id = [21, 52, 27, 38] "
   ]
  },
  {
   "cell_type": "code",
   "execution_count": 37,
   "metadata": {},
   "outputs": [
    {
     "name": "stdout",
     "output_type": "stream",
     "text": [
      "Name        Marks    Division    ID\n",
      "Raj           7         A        21\n",
      "Shivam        9         A        52\n",
      "Shreeya       8         C        27\n",
      "Kartik        5         B        38\n"
     ]
    }
   ],
   "source": [
    "# printing Aligned Header \n",
    "print(f\"{'Name' : <10}{'Marks' : ^10}{'Division' : ^10}{'ID' : >5}\") \n",
    "\n",
    "# printing values of variables in Aligned manner \n",
    "for i in range(0, 4): \n",
    "\tprint(f\"{names[i] : <10}{marks[i] : ^10}{div[i] : ^10}{id[i] : >5}\")"
   ]
  },
  {
   "cell_type": "code",
   "execution_count": 49,
   "metadata": {},
   "outputs": [
    {
     "name": "stdout",
     "output_type": "stream",
     "text": [
      "Names       Marks     Grades  Roll Number\n",
      "Arvind        75        A         1\n",
      "Amit          85        B         2\n",
      "Kukku         95        C         3\n"
     ]
    }
   ],
   "source": [
    "names = ['Arvind','Amit','Kukku']\n",
    "marks = [75,85,95]\n",
    "grades = ['A','B','C']\n",
    "roll = [1,2,3]\n",
    "print(f\"{'Names':<10}{'Marks':^10}{'Grades':^10}{'Roll Number':>5}\")\n",
    "for i in range(3):\n",
    "    print(f\"{names[i]:<10}{marks[i]:^10}{grades[i]:^10}{roll[i]:>5}\")"
   ]
  },
  {
   "cell_type": "code",
   "execution_count": 88,
   "metadata": {},
   "outputs": [
    {
     "name": "stdout",
     "output_type": "stream",
     "text": [
      "Names        Marks      Grades   Roll Number\n",
      "Arvind         75         A        one\n",
      "Amit           85         B        Two\n",
      "Kukku          95         C      Three\n"
     ]
    }
   ],
   "source": [
    "names = ['Arvind','Amit','Kukku']\n",
    "marks = ['75','85','95']\n",
    "grades = ['A','B','C']\n",
    "roll = ['one','Two','Three']\n",
    "print('Names'.ljust(10),'Marks'.center(10), 'Grades'.center(10),'Roll Number'.rjust(5))\n",
    "for i in range(3):\n",
    "    print(names[i].ljust(10),marks[i].center(10),grades[i].center(10),roll[i].rjust(5))"
   ]
  },
  {
   "cell_type": "code",
   "execution_count": null,
   "metadata": {},
   "outputs": [],
   "source": [
    "str.ljust(width, fillchar)\n",
    "str.rjust(width, fillchar)\n",
    "str.center(width,fillchar)"
   ]
  },
  {
   "cell_type": "code",
   "execution_count": 33,
   "metadata": {},
   "outputs": [
    {
     "name": "stdout",
     "output_type": "stream",
     "text": [
      "Enter the stringarvind kumar\n",
      "The string is : arvind kumar\n",
      "The center aligned string is : \n",
      "              arvind kumar               \n",
      "\n",
      "Center aligned string with fillchr: \n",
      "##############arvind kumar##############\n"
     ]
    }
   ],
   "source": [
    "s = input('Enter the string')\n",
    "print (\"The string is :\",s) \n",
    "print (\"The center aligned string is : \") \n",
    "print (s.center(40), \"\\n\") \n",
    "print (\"Center aligned string with fillchr: \") \n",
    "print (s.center(40, '#')) \n"
   ]
  },
  {
   "cell_type": "code",
   "execution_count": 38,
   "metadata": {},
   "outputs": [
    {
     "name": "stdout",
     "output_type": "stream",
     "text": [
      "Enter the stringarvind kumar\n",
      "The string is : arvind kumar\n",
      "The left aligned string is : \n",
      "arvind kumar                             \n",
      "\n",
      "Left aligned string with fillchr: \n",
      "arvind kumar############################\n"
     ]
    }
   ],
   "source": [
    "s = input('Enter the string')\n",
    "print (\"The string is :\",s) \n",
    "print (\"The left aligned string is : \") \n",
    "print (s.ljust(40), \"\\n\") \n",
    "print (\"Left aligned string with fillchr: \") \n",
    "print (s.ljust(40, '#')) \n"
   ]
  },
  {
   "cell_type": "code",
   "execution_count": 39,
   "metadata": {},
   "outputs": [
    {
     "name": "stdout",
     "output_type": "stream",
     "text": [
      "Enter the stringarvind kumar\n",
      "The string is : arvind kumar\n",
      "The right aligned string is : \n",
      "                            arvind kumar \n",
      "\n",
      "Right aligned string with fillchr: \n",
      "############################arvind kumar\n"
     ]
    }
   ],
   "source": [
    "s = input('Enter the string')\n",
    "print (\"The string is :\",s) \n",
    "print (\"The right aligned string is : \") \n",
    "print (s.rjust(40), \"\\n\") \n",
    "print (\"Right aligned string with fillchr: \") \n",
    "print (s.rjust(40, '#')) "
   ]
  },
  {
   "cell_type": "code",
   "execution_count": 126,
   "metadata": {},
   "outputs": [
    {
     "name": "stdout",
     "output_type": "stream",
     "text": [
      "The binary value of 2 is 10\n"
     ]
    }
   ],
   "source": [
    "x = 2\n",
    "print('The binary value of {0} is {0:0b}'.format(x))"
   ]
  },
  {
   "cell_type": "code",
   "execution_count": 112,
   "metadata": {},
   "outputs": [
    {
     "name": "stdout",
     "output_type": "stream",
     "text": [
      "The binary value of 12 is 14\n"
     ]
    }
   ],
   "source": [
    "x = 12\n",
    "print('The binary value of {0} is {0:0o}'.format(x))"
   ]
  },
  {
   "cell_type": "code",
   "execution_count": 122,
   "metadata": {},
   "outputs": [
    {
     "name": "stdout",
     "output_type": "stream",
     "text": [
      "The binary value of 12 is c\n"
     ]
    }
   ],
   "source": [
    "x = 12\n",
    "print('The binary value of {0} is {0:0x}'.format(x))"
   ]
  },
  {
   "cell_type": "code",
   "execution_count": 117,
   "metadata": {},
   "outputs": [
    {
     "name": "stdout",
     "output_type": "stream",
     "text": [
      "0b101\n"
     ]
    }
   ],
   "source": [
    "print(bin(5))"
   ]
  },
  {
   "cell_type": "code",
   "execution_count": 119,
   "metadata": {},
   "outputs": [
    {
     "name": "stdout",
     "output_type": "stream",
     "text": [
      "0o14\n"
     ]
    }
   ],
   "source": [
    "print(oct(12))"
   ]
  },
  {
   "cell_type": "code",
   "execution_count": 121,
   "metadata": {},
   "outputs": [
    {
     "name": "stdout",
     "output_type": "stream",
     "text": [
      "0x12\n"
     ]
    }
   ],
   "source": [
    "print(hex(18))"
   ]
  },
  {
   "cell_type": "code",
   "execution_count": 129,
   "metadata": {},
   "outputs": [
    {
     "name": "stdout",
     "output_type": "stream",
     "text": [
      "5.200000e+01\n"
     ]
    }
   ],
   "source": [
    "x = 52\n",
    "print('{0:e}'.format(x))"
   ]
  },
  {
   "cell_type": "code",
   "execution_count": 141,
   "metadata": {},
   "outputs": [
    {
     "name": "stdout",
     "output_type": "stream",
     "text": [
      "5.000\n"
     ]
    }
   ],
   "source": [
    "x = 5\n",
    "print('{0:.3f}'.format(x))"
   ]
  },
  {
   "cell_type": "code",
   "execution_count": 3,
   "metadata": {},
   "outputs": [
    {
     "name": "stdout",
     "output_type": "stream",
     "text": [
      "Enter the Full Name: Arvind Kumar Kharwal\n",
      "A.K.Kharwal\n"
     ]
    }
   ],
   "source": [
    "s = input('Enter the Full Name: ')\n",
    "words = s.split()\n",
    "#print(words)\n",
    "name = words[0][0]+'.'+words[1][0]+'.'+words[2]\n",
    "print(name)"
   ]
  },
  {
   "cell_type": "code",
   "execution_count": 4,
   "metadata": {},
   "outputs": [
    {
     "name": "stdout",
     "output_type": "stream",
     "text": [
      "Enter the string: arvind\n",
      "The string is ARVIND\n",
      "The string is arvind\n"
     ]
    }
   ],
   "source": [
    "s  = input('Enter the string: ')\n",
    "print('The string is',s.upper())\n",
    "print('The string is',s.lower())"
   ]
  },
  {
   "cell_type": "code",
   "execution_count": 5,
   "metadata": {},
   "outputs": [
    {
     "name": "stdout",
     "output_type": "stream",
     "text": [
      "Enter the string: hi how are you\n",
      "Enter the sub stringhow\n",
      "how exists in hi how are you\n"
     ]
    }
   ],
   "source": [
    "s  = input('Enter the string: ')\n",
    "words = s.split()\n",
    "sub = input('Enter the sub string')\n",
    "if sub in words:\n",
    "    print(sub,'exists in',s)\n",
    "else:\n",
    "    print(sub,'does not exists in',s)"
   ]
  },
  {
   "cell_type": "code",
   "execution_count": 7,
   "metadata": {},
   "outputs": [
    {
     "name": "stdout",
     "output_type": "stream",
     "text": [
      "Enter the string: actolaze technology\n",
      "The length is 19\n"
     ]
    }
   ],
   "source": [
    "s  = input('Enter the string: ')\n",
    "count = 0\n",
    "for i in s:\n",
    "    count +=1\n",
    "print('The length is',count)"
   ]
  },
  {
   "cell_type": "code",
   "execution_count": 10,
   "metadata": {},
   "outputs": [
    {
     "name": "stdout",
     "output_type": "stream",
     "text": [
      "['a', 'b', 'c', 'd', 'e']\n"
     ]
    }
   ],
   "source": [
    "l = ['a','b','','c','d','e','']\n",
    "l1 = list(filter(None, l))\n",
    "print(l1)"
   ]
  },
  {
   "cell_type": "code",
   "execution_count": 14,
   "metadata": {},
   "outputs": [
    {
     "name": "stdout",
     "output_type": "stream",
     "text": [
      "Emma\n",
      "is\n",
      "a\n",
      "data\n",
      "scientist\n"
     ]
    }
   ],
   "source": [
    "str1 = 'Emma-is-a-data-scientist'\n",
    "s= str1.split('-')\n",
    "for i in s:\n",
    "    print(i)"
   ]
  },
  {
   "cell_type": "code",
   "execution_count": 16,
   "metadata": {},
   "outputs": [
    {
     "name": "stdout",
     "output_type": "stream",
     "text": [
      "Enter the string: arvind kumar\n",
      "ramuk dnivra\n"
     ]
    }
   ],
   "source": [
    "s  = input('Enter the string: ')\n",
    "rev = s[::-1]\n",
    "print(rev)\n"
   ]
  },
  {
   "cell_type": "markdown",
   "metadata": {},
   "source": [
    "# Ask the user to enter a string and displace k characters to the right. "
   ]
  },
  {
   "cell_type": "code",
   "execution_count": 4,
   "metadata": {},
   "outputs": [
    {
     "name": "stdout",
     "output_type": "stream",
     "text": [
      "Enter the string: arvind\n",
      "Enter the value of k: 2\n",
      "v\n",
      "vi\n",
      "vin\n",
      "vind\n",
      "vinda\n",
      "vindar\n",
      "vindar\n"
     ]
    }
   ],
   "source": [
    "s1 = input('Enter the string: ')\n",
    "k = int(input('Enter the value of k: '))\n",
    "i = 0\n",
    "s2 = ''\n",
    "while i<len(s1):\n",
    "    s2 = s2+s1[(i+k)%len(s1)]\n",
    "    print(s2)\n",
    "    i=i+1\n",
    "\n",
    "print(s2)"
   ]
  },
  {
   "cell_type": "code",
   "execution_count": null,
   "metadata": {},
   "outputs": [],
   "source": []
  }
 ],
 "metadata": {
  "kernelspec": {
   "display_name": "Python 3",
   "language": "python",
   "name": "python3"
  },
  "language_info": {
   "codemirror_mode": {
    "name": "ipython",
    "version": 3
   },
   "file_extension": ".py",
   "mimetype": "text/x-python",
   "name": "python",
   "nbconvert_exporter": "python",
   "pygments_lexer": "ipython3",
   "version": "3.7.5"
  }
 },
 "nbformat": 4,
 "nbformat_minor": 2
}
