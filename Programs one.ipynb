{
 "cells": [
  {
   "cell_type": "code",
   "execution_count": null,
   "metadata": {},
   "outputs": [],
   "source": [
    "n = int(input('How many names will be there?'))\n",
    "names = []\n",
    "for i in range(n):\n",
    "    name = input('Enter the name:')\n",
    "    names.append(name)\n",
    "print('The names are: ',names)\n",
    "names.sort()\n",
    "print('The sorted names are:',names)"
   ]
  },
  {
   "cell_type": "code",
   "execution_count": 6,
   "metadata": {},
   "outputs": [
    {
     "name": "stdout",
     "output_type": "stream",
     "text": [
      "How many numbers will be there?2\n",
      "Enter the numbers1\n",
      "Enter the numbers2\n",
      "The numbers are: [1, 2]\n",
      "Enter the number you want to insert in the list5\n",
      "Enter the position:6\n",
      "Please enter right position\n",
      "The updated list is  [1, 2]\n"
     ]
    }
   ],
   "source": [
    "n = int(input('How many numbers will be there?'))\n",
    "numbers = []\n",
    "for i in range(n):\n",
    "    num = int(input('Enter the numbers'))\n",
    "    numbers.append(num)\n",
    "print('The numbers are:',numbers)\n",
    "n1 = int(input('Enter the number you want to insert in the list'))\n",
    "pos= int(input('Enter the position:'))\n",
    "if pos>len(numbers)-1:\n",
    "    print('Please enter right position')\n",
    "else:\n",
    "    numbers.insert(pos,n1)\n",
    "\n",
    "print('The updated list is ',numbers)"
   ]
  },
  {
   "cell_type": "code",
   "execution_count": null,
   "metadata": {},
   "outputs": [],
   "source": [
    "n = int(input('How many numbers will be there?'))\n",
    "numbers = []\n",
    "for i in range(n):\n",
    "    num = int(input('Enter the numbers'))\n",
    "    numbers.append(num)\n",
    "print('The numbers are:',numbers)\n",
    "h = max(numbers)\n",
    "l = min(numbers)\n",
    "print('The highest number is:',h)\n",
    "print('The lowest number is:',l)"
   ]
  },
  {
   "cell_type": "code",
   "execution_count": null,
   "metadata": {},
   "outputs": [],
   "source": [
    "n = int(input('How many numbers will be there?'))\n",
    "numbers = []\n",
    "for i in range(n):\n",
    "    num = int(input('Enter the numbers'))\n",
    "    numbers.append(num)\n",
    "print('The numbers are:',numbers)\n",
    "max1 = max(numbers)\n",
    "numbers.remove(max1)\n",
    "max2 = max(numbers)\n",
    "print('The second maximum number is:',max2)\n"
   ]
  },
  {
   "cell_type": "code",
   "execution_count": null,
   "metadata": {},
   "outputs": [],
   "source": [
    "n = int(input('How many numbers will be there?'))\n",
    "numbers = []\n",
    "for i in range(n):\n",
    "    num = int(input('Enter the numbers'))\n",
    "    numbers.append(num)\n",
    "print('The numbers are:',numbers)\n",
    "n1 = int(input('Enter the number to be checked'))\n",
    "if n1 in numbers:\n",
    "    print(n1,'is found',numbers.count(n1),'times')\n",
    "else:\n",
    "    print(n1,'is not found in the list')"
   ]
  },
  {
   "cell_type": "code",
   "execution_count": null,
   "metadata": {},
   "outputs": [],
   "source": [
    "n = int(input('How many students will be there?'))\n",
    "names = []\n",
    "marks = []\n",
    "for i in range(n):\n",
    "    name = input('Enter the name')\n",
    "    num = int(input('Enter the marks'))\n",
    "    names.append(name)\n",
    "    marks.append(num)\n",
    "print('The names are:',names)\n",
    "print('The marks are',marks)\n",
    "h = max(marks)\n",
    "l = min(marks)\n",
    "for i in range(n):\n",
    "    if h == marks[i]:\n",
    "        print(names[i],'got the maximum marks')\n",
    "    if l == marks[i]:\n",
    "        print(names[i],'got the minimum marks')"
   ]
  },
  {
   "cell_type": "code",
   "execution_count": 1,
   "metadata": {},
   "outputs": [
    {
     "name": "stdout",
     "output_type": "stream",
     "text": [
      "{'a': 10, 'b': 20}\n"
     ]
    }
   ],
   "source": [
    "d  = dict({'a':10,'b':20})\n",
    "print(d)"
   ]
  },
  {
   "cell_type": "code",
   "execution_count": null,
   "metadata": {},
   "outputs": [],
   "source": []
  },
  {
   "cell_type": "code",
   "execution_count": 2,
   "metadata": {},
   "outputs": [
    {
     "name": "stdout",
     "output_type": "stream",
     "text": [
      "{'a': 10, 'b': 20}\n"
     ]
    }
   ],
   "source": [
    "d = dict([('a',10),('b',20)])\n",
    "print(d)"
   ]
  },
  {
   "cell_type": "code",
   "execution_count": 3,
   "metadata": {},
   "outputs": [
    {
     "name": "stdout",
     "output_type": "stream",
     "text": [
      "{'a': 10, 'b': 20}\n"
     ]
    }
   ],
   "source": [
    "d = dict((('a',10),('b',20)))\n",
    "print(d)"
   ]
  },
  {
   "cell_type": "code",
   "execution_count": 5,
   "metadata": {},
   "outputs": [
    {
     "name": "stdout",
     "output_type": "stream",
     "text": [
      "{'a': 10, 'b': 20, 'x': 100, 'y': 200}\n"
     ]
    }
   ],
   "source": [
    "d  = dict({'a':10,'b':20})\n",
    "d1  = dict({'c':10,'d':20})\n",
    "#d.update(d1)\n",
    "d.update({'x':100,'y':200})\n",
    "print(d)"
   ]
  },
  {
   "cell_type": "code",
   "execution_count": 12,
   "metadata": {},
   "outputs": [
    {
     "name": "stdout",
     "output_type": "stream",
     "text": [
      "{'a': 10, 'b': 20}\n",
      "{'a': 10, 'b': 20}\n",
      "{'a': 10, 'b': 20, 'x': 100}\n",
      "{'a': 10, 'b': 20, 'x': 100}\n"
     ]
    }
   ],
   "source": [
    "d  = dict({'a':10,'b':20})\n",
    "d1 = d\n",
    "print(d1)\n",
    "print(d)\n",
    "d1['x'] = 100\n",
    "print(d1)\n",
    "print(d)"
   ]
  },
  {
   "cell_type": "code",
   "execution_count": 15,
   "metadata": {},
   "outputs": [
    {
     "name": "stdout",
     "output_type": "stream",
     "text": [
      "{'a': 10, 'b': 20}\n",
      "{'a': 10, 'b': 20}\n",
      "{'a': 10, 'b': 20, 'x': 100}\n",
      "{'a': 10, 'b': 20}\n"
     ]
    }
   ],
   "source": [
    "d  = dict({'a':10,'b':20})\n",
    "d1 = d.copy()\n",
    "print(d1)\n",
    "print(d)\n",
    "d1['x'] = 100\n",
    "print(d1)\n",
    "print(d)"
   ]
  },
  {
   "cell_type": "code",
   "execution_count": 18,
   "metadata": {},
   "outputs": [
    {
     "name": "stdout",
     "output_type": "stream",
     "text": [
      "{'a': 10, 'b': 20}\n",
      "{'a': 10, 'b': 20}\n",
      "{'a': 10, 'b': 20, 'x': 100}\n",
      "{'a': 10, 'b': 20}\n"
     ]
    }
   ],
   "source": [
    "d  = dict({'a':10,'b':20})\n",
    "d1 = dict(d)\n",
    "print(d1)\n",
    "print(d)\n",
    "d1['x'] = 100\n",
    "print(d1)\n",
    "print(d)"
   ]
  }
 ],
 "metadata": {
  "kernelspec": {
   "display_name": "Python 3",
   "language": "python",
   "name": "python3"
  },
  "language_info": {
   "codemirror_mode": {
    "name": "ipython",
    "version": 3
   },
   "file_extension": ".py",
   "mimetype": "text/x-python",
   "name": "python",
   "nbconvert_exporter": "python",
   "pygments_lexer": "ipython3",
   "version": "3.7.5"
  }
 },
 "nbformat": 4,
 "nbformat_minor": 2
}
