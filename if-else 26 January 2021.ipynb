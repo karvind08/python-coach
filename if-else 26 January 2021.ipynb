{
 "cells": [
  {
   "cell_type": "markdown",
   "metadata": {},
   "source": [
    "# Relational Operators"
   ]
  },
  {
   "cell_type": "code",
   "execution_count": null,
   "metadata": {},
   "outputs": [],
   "source": [
    "<\n",
    ">\n",
    "<=\n",
    ">=\n",
    "==\n",
    "!="
   ]
  },
  {
   "cell_type": "markdown",
   "metadata": {},
   "source": [
    "# 1. Write a Python program to find whether a given number (accept from the user) is even or odd."
   ]
  },
  {
   "cell_type": "markdown",
   "metadata": {},
   "source": [
    "# 2. If cost price and selling price of an item is input through the keyboard, write a program to determine whether the seller has made profit or incurred loss. Also determine how much profit he made or loss he incurred."
   ]
  },
  {
   "cell_type": "code",
   "execution_count": 15,
   "metadata": {},
   "outputs": [
    {
     "name": "stdout",
     "output_type": "stream",
     "text": [
      "Enter cost price: 100\n",
      "Enter selling price: 80\n",
      "Seller incurred loss:  20\n"
     ]
    }
   ],
   "source": [
    "cp  = int(input('Enter cost price: '))\n",
    "sp = int(input('Enter selling price: '))\n",
    "p = sp-cp\n",
    "l = cp-sp\n",
    "if p>0:\n",
    "    print('Seller made profit of',p)\n",
    "else:\n",
    "    print('Seller incurred loss: ',l)"
   ]
  },
  {
   "cell_type": "markdown",
   "metadata": {},
   "source": [
    "# Any year is input through the keyboard. Write a program to determine whether the year is a leap year or not."
   ]
  },
  {
   "cell_type": "code",
   "execution_count": 18,
   "metadata": {},
   "outputs": [
    {
     "name": "stdout",
     "output_type": "stream",
     "text": [
      "Enter the year: 2021\n",
      "Not Leap Year\n"
     ]
    }
   ],
   "source": [
    "y = int(input('Enter the year: '))\n",
    "if y%100==0:\n",
    "    if y%400==0:\n",
    "        print('Leap Year')\n",
    "    else:\n",
    "        print('Not leap year')\n",
    "else:\n",
    "    if y%4==0:\n",
    "        print('Leap Year')\n",
    "    else:\n",
    "        print('Not Leap Year')"
   ]
  },
  {
   "cell_type": "markdown",
   "metadata": {},
   "source": [
    "# Write a program to check whether a triangle is valid or not, when the three angles of the triangle are entered through the keyboard. A triangle is valid if the sum of all the three angles is equal to 180 degrees."
   ]
  },
  {
   "cell_type": "code",
   "execution_count": 20,
   "metadata": {},
   "outputs": [
    {
     "name": "stdout",
     "output_type": "stream",
     "text": [
      "Enter the first angle: 50\n",
      "Enter the second angle: 60\n",
      "Enter the third angle: 40\n",
      "Invalid\n"
     ]
    }
   ],
   "source": [
    "a1 = int(input('Enter the first angle: '))\n",
    "a2 = int(input('Enter the second angle: '))\n",
    "a3 = int(input('Enter the third angle: '))\n",
    "s = a1+a2+a3\n",
    "if s==180:\n",
    "    print('Valid')\n",
    "else:\n",
    "    print('Invalid')"
   ]
  },
  {
   "cell_type": "markdown",
   "metadata": {},
   "source": [
    "# Given three points (x1, y1), (x2, y2) and (x3, y3), write a program to check if all the three points fall on one straight line."
   ]
  },
  {
   "cell_type": "code",
   "execution_count": 23,
   "metadata": {},
   "outputs": [
    {
     "name": "stdout",
     "output_type": "stream",
     "text": [
      "x1:1\n",
      "y1:2\n",
      "x2:3\n",
      "y2:4\n",
      "x3:-10\n",
      "y3:23\n",
      "Not\n"
     ]
    }
   ],
   "source": [
    "x1 = int(input('x1:'))\n",
    "y1 = int(input('y1:'))\n",
    "x2 = int(input('x2:'))\n",
    "y2 = int(input('y2:'))\n",
    "x3 = int(input('x3:'))\n",
    "y3 = int(input('y3:'))\n",
    "m = (y2-y1)/(x2-x1)\n",
    "n = (y3-y2)/(x3-x2)\n",
    "if m==n:\n",
    "    print('falls on straight line')\n",
    "else:\n",
    "    print('Not')"
   ]
  },
  {
   "cell_type": "markdown",
   "metadata": {},
   "source": [
    "# Logical Operators:"
   ]
  },
  {
   "cell_type": "code",
   "execution_count": null,
   "metadata": {},
   "outputs": [],
   "source": [
    "1. and\n",
    "2. or\n",
    "3. not "
   ]
  },
  {
   "cell_type": "code",
   "execution_count": 12,
   "metadata": {},
   "outputs": [
    {
     "name": "stdout",
     "output_type": "stream",
     "text": [
      "Hello\n"
     ]
    }
   ],
   "source": [
    "a = 1\n",
    "b = 0\n",
    "if not a:\n",
    "    print('True')\n",
    "else:\n",
    "    print('Hello')"
   ]
  },
  {
   "cell_type": "markdown",
   "metadata": {},
   "source": [
    "# Program to find the smallest element among three numbers. "
   ]
  },
  {
   "cell_type": "code",
   "execution_count": 27,
   "metadata": {},
   "outputs": [
    {
     "name": "stdout",
     "output_type": "stream",
     "text": [
      "First Number: 10\n",
      "Second Number: 10\n",
      "Third Number: 10\n",
      "smallest is 10\n"
     ]
    }
   ],
   "source": [
    "n1 = int(input('First Number: '))\n",
    "n2 = int(input('Second Number: '))\n",
    "n3 = int(input('Third Number: '))\n",
    "if n1<n2 and n1<n3:\n",
    "    print('smallest is',n1)\n",
    "elif n2<n1 and n2<n3:\n",
    "    print('smallest is',n2)\n",
    "else:\n",
    "    print('smallest is',n3)"
   ]
  },
  {
   "cell_type": "markdown",
   "metadata": {},
   "source": [
    "# Any year is input through the keyboard. Write a program to determine whether the year is a leap year or not using logical operators."
   ]
  },
  {
   "cell_type": "code",
   "execution_count": 30,
   "metadata": {},
   "outputs": [
    {
     "name": "stdout",
     "output_type": "stream",
     "text": [
      "Enter the year: 2020\n",
      "Leap\n"
     ]
    }
   ],
   "source": [
    "y = int(input('Enter the year: '))\n",
    "if y%100==0 and y%400==0 or y%100!=0 and y%4==0:\n",
    "    print('Leap')\n",
    "else:\n",
    "    print('not leap')"
   ]
  },
  {
   "cell_type": "markdown",
   "metadata": {},
   "source": [
    "# range function"
   ]
  },
  {
   "cell_type": "code",
   "execution_count": 35,
   "metadata": {},
   "outputs": [
    {
     "name": "stdout",
     "output_type": "stream",
     "text": [
      "range(0, 10)\n"
     ]
    }
   ],
   "source": [
    "n = range(10)\n",
    "print(n)"
   ]
  },
  {
   "cell_type": "code",
   "execution_count": 36,
   "metadata": {},
   "outputs": [
    {
     "name": "stdout",
     "output_type": "stream",
     "text": [
      "[0, 1, 2, 3, 4, 5, 6, 7, 8, 9]\n"
     ]
    }
   ],
   "source": [
    "n = range(10)\n",
    "n1 = list(n)\n",
    "print(n1)"
   ]
  },
  {
   "cell_type": "code",
   "execution_count": 37,
   "metadata": {},
   "outputs": [
    {
     "name": "stdout",
     "output_type": "stream",
     "text": [
      "range(1, 10)\n"
     ]
    }
   ],
   "source": [
    "n = range(1,10)\n",
    "print(n)"
   ]
  },
  {
   "cell_type": "code",
   "execution_count": 38,
   "metadata": {},
   "outputs": [
    {
     "name": "stdout",
     "output_type": "stream",
     "text": [
      "[1, 2, 3, 4, 5, 6, 7, 8, 9]\n"
     ]
    }
   ],
   "source": [
    "n = range(1,10)\n",
    "n1 = list(n)\n",
    "print(n1)"
   ]
  },
  {
   "cell_type": "code",
   "execution_count": 39,
   "metadata": {},
   "outputs": [
    {
     "name": "stdout",
     "output_type": "stream",
     "text": [
      "range(1, 10, 2)\n"
     ]
    }
   ],
   "source": [
    "n = range(1,10,2)\n",
    "print(n)"
   ]
  },
  {
   "cell_type": "code",
   "execution_count": 40,
   "metadata": {},
   "outputs": [
    {
     "name": "stdout",
     "output_type": "stream",
     "text": [
      "[1, 3, 5, 7, 9]\n"
     ]
    }
   ],
   "source": [
    "n = range(1,10,2)\n",
    "n1 = list(n)\n",
    "print(n1)"
   ]
  },
  {
   "cell_type": "code",
   "execution_count": null,
   "metadata": {},
   "outputs": [],
   "source": []
  }
 ],
 "metadata": {
  "kernelspec": {
   "display_name": "Python 3",
   "language": "python",
   "name": "python3"
  },
  "language_info": {
   "codemirror_mode": {
    "name": "ipython",
    "version": 3
   },
   "file_extension": ".py",
   "mimetype": "text/x-python",
   "name": "python",
   "nbconvert_exporter": "python",
   "pygments_lexer": "ipython3",
   "version": "3.7.5"
  }
 },
 "nbformat": 4,
 "nbformat_minor": 2
}
