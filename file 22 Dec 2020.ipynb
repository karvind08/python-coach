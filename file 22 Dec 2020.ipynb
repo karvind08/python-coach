{
 "cells": [
  {
   "cell_type": "code",
   "execution_count": 3,
   "metadata": {},
   "outputs": [],
   "source": [
    "f = open('a.txt','w')\n",
    "f.write('This is a text file example')\n",
    "f.close()"
   ]
  },
  {
   "cell_type": "code",
   "execution_count": 4,
   "metadata": {},
   "outputs": [],
   "source": [
    "with open('b.text','w') as f:\n",
    "    f.write('This is b file')"
   ]
  },
  {
   "cell_type": "code",
   "execution_count": 8,
   "metadata": {},
   "outputs": [
    {
     "name": "stdout",
     "output_type": "stream",
     "text": [
      "This is a text file example\n"
     ]
    },
    {
     "data": {
      "text/plain": [
       "str"
      ]
     },
     "execution_count": 8,
     "metadata": {},
     "output_type": "execute_result"
    }
   ],
   "source": [
    "f = open('a.txt','r')\n",
    "data=f.read()\n",
    "print(data)\n",
    "type(data)"
   ]
  },
  {
   "cell_type": "code",
   "execution_count": 9,
   "metadata": {},
   "outputs": [
    {
     "name": "stdout",
     "output_type": "stream",
     "text": [
      "This is a text file example\n",
      "This is second line\n",
      "This is third line\n",
      "This is fourth line\n"
     ]
    },
    {
     "data": {
      "text/plain": [
       "str"
      ]
     },
     "execution_count": 9,
     "metadata": {},
     "output_type": "execute_result"
    }
   ],
   "source": [
    "f = open('a.txt','r')\n",
    "data=f.read()\n",
    "print(data)\n",
    "type(data)"
   ]
  },
  {
   "cell_type": "code",
   "execution_count": 14,
   "metadata": {},
   "outputs": [
    {
     "name": "stdout",
     "output_type": "stream",
     "text": [
      "This is a text file example\n",
      "This is second line\n",
      "Th\n"
     ]
    }
   ],
   "source": [
    "f = open('a.txt','r')\n",
    "data=f.read(50)\n",
    "print(data)"
   ]
  },
  {
   "cell_type": "code",
   "execution_count": 19,
   "metadata": {},
   "outputs": [
    {
     "name": "stdout",
     "output_type": "stream",
     "text": [
      "This is a text file example\n",
      "\n"
     ]
    }
   ],
   "source": [
    "f = open('a.txt','r')\n",
    "data=f.readline()\n",
    "print(data)"
   ]
  },
  {
   "cell_type": "code",
   "execution_count": 20,
   "metadata": {},
   "outputs": [
    {
     "name": "stdout",
     "output_type": "stream",
     "text": [
      "This is a text file examp\n"
     ]
    }
   ],
   "source": [
    "f = open('a.txt','r')\n",
    "data=f.readline(25)\n",
    "print(data)"
   ]
  },
  {
   "cell_type": "code",
   "execution_count": 21,
   "metadata": {},
   "outputs": [
    {
     "name": "stdout",
     "output_type": "stream",
     "text": [
      "This is a text file example\n",
      "\n"
     ]
    }
   ],
   "source": [
    "f = open('a.txt','r')\n",
    "data=f.readline(60)\n",
    "print(data)"
   ]
  },
  {
   "cell_type": "code",
   "execution_count": 25,
   "metadata": {},
   "outputs": [
    {
     "name": "stdout",
     "output_type": "stream",
     "text": [
      "This is a text file example\n",
      "\n",
      "This is second line\n",
      "\n",
      "This is third line\n",
      "\n"
     ]
    }
   ],
   "source": [
    "f = open('a.txt','r')\n",
    "data=f.readline()\n",
    "data1=f.readline()\n",
    "data2=f.readline()\n",
    "print(data)\n",
    "print(data1)\n",
    "print(data2)"
   ]
  },
  {
   "cell_type": "code",
   "execution_count": 26,
   "metadata": {},
   "outputs": [
    {
     "name": "stdout",
     "output_type": "stream",
     "text": [
      "['This is a text file example\\n', 'This is second line\\n', 'This is third line\\n', 'This is fourth line']\n"
     ]
    }
   ],
   "source": [
    "f = open('a.txt','r')\n",
    "data=f.readlines()\n",
    "print(data)"
   ]
  },
  {
   "cell_type": "code",
   "execution_count": 1,
   "metadata": {},
   "outputs": [
    {
     "data": {
      "text/plain": [
       "<function TextIOWrapper.close()>"
      ]
     },
     "execution_count": 1,
     "metadata": {},
     "output_type": "execute_result"
    }
   ],
   "source": [
    "f = open('b.txt','w')\n",
    "f.write('Computer Science')\n",
    "f.close"
   ]
  },
  {
   "cell_type": "code",
   "execution_count": 2,
   "metadata": {},
   "outputs": [
    {
     "name": "stdout",
     "output_type": "stream",
     "text": [
      "\n"
     ]
    }
   ],
   "source": [
    "f = open('b.txt','r')\n",
    "data=f.read()\n",
    "print(data)"
   ]
  },
  {
   "cell_type": "markdown",
   "metadata": {},
   "source": [
    "# writelines()"
   ]
  },
  {
   "cell_type": "code",
   "execution_count": 2,
   "metadata": {},
   "outputs": [],
   "source": [
    "f = open('b.txt','w')\n",
    "f.write('First Line')\n",
    "l=['a','b','c','d']\n",
    "f.writelines(l)\n",
    "f.close()"
   ]
  },
  {
   "cell_type": "markdown",
   "metadata": {},
   "source": [
    "# Addition of two number in file"
   ]
  },
  {
   "cell_type": "code",
   "execution_count": 2,
   "metadata": {},
   "outputs": [
    {
     "name": "stdout",
     "output_type": "stream",
     "text": [
      "Enter the first number:8\n",
      "Enter the second number:6\n"
     ]
    }
   ],
   "source": [
    "f=open('sum.txt','w')\n",
    "a=int(input('Enter the first number:'))\n",
    "b=int(input('Enter the second number:'))\n",
    "s = a+b\n",
    "f.write('\\n A='+str(a))\n",
    "f.write('\\n B='+str(b))\n",
    "f.write('\\n S='+str(s))\n",
    "f.close()"
   ]
  },
  {
   "cell_type": "markdown",
   "metadata": {},
   "source": [
    "# Write a function in Python to read the content from a text file line by line and display the same on the screen."
   ]
  },
  {
   "cell_type": "code",
   "execution_count": 2,
   "metadata": {},
   "outputs": [
    {
     "name": "stdout",
     "output_type": "stream",
     "text": [
      "1. Write a Python function to find the Max of three numbers.\n",
      "\n",
      "2. Write a program to find out the factorial of a given number.\n",
      "\n",
      "3. Write a program to find out the sum of first N natural numbers.\n",
      "\n",
      "4. Write a Python function that takes a number as a parameter and check the number is prime or not.\n",
      "\n",
      "5. Write a Program to check whether a number is in a given range.\n",
      "\n",
      "6. Write a program to find out the sum of elements from a list.\n",
      "\n",
      "7. Write a program to find out the multiplication of elements from a list.\n",
      "\n",
      "8. Write a Python function to check whether a number is perfect or not.\n",
      "\n",
      "9. Write a Python function to create and print a list where the values are square of numbers between 1 and 20 (both included).\n",
      "\n",
      "10. Write a program to calculate sum of digits of a 5 digits number using function. \n",
      "\n",
      "11. Write a program to find out reverse number of a 5 digits number using function. \n",
      "\n",
      "12. Write a function that accepts a string and calculate the number of upper case letters and lower case letters.\n",
      "\n",
      "13. Write a function that takes a list and returns a new list with unique elements of the first list.\n",
      "\n",
      "14. Write a Python function that takes a list and returns a new list with even elements in the list.\n",
      "\n",
      "15. Write a program to find out the factorial of a given number using recursion.\n",
      "\n",
      "16. Write a program to find out the sum of first n natural numbers using recursion.\n",
      "\n",
      "17. Write a program to calculate sum of digits of a 5 digits number using recursion. \n",
      "\n"
     ]
    }
   ],
   "source": [
    "def read():\n",
    "    f = open('read.txt','r')\n",
    "    while True:\n",
    "        line = f.readline()\n",
    "        if line == '':\n",
    "            break\n",
    "        else:\n",
    "            print(line)     \n",
    "read()"
   ]
  },
  {
   "cell_type": "markdown",
   "metadata": {},
   "source": [
    "# Write a function in Python to read lines from a text file line by line and display those lines which are starting with an alphabet s."
   ]
  },
  {
   "cell_type": "code",
   "execution_count": 3,
   "metadata": {},
   "outputs": [
    {
     "name": "stdout",
     "output_type": "stream",
     "text": [
      "This is my first program of file handling\n",
      "\n",
      "This is Python course \n"
     ]
    }
   ],
   "source": [
    "def readal():\n",
    "    f = open('second1.txt','r')\n",
    "    lines = f.readlines()\n",
    "    #print(lines)\n",
    "    for i in lines:\n",
    "        if i[0]=='T':\n",
    "            print(i)\n",
    "readal()"
   ]
  },
  {
   "cell_type": "markdown",
   "metadata": {},
   "source": [
    "# Write a function in Python to read lines from a text file line by line and display those lines which are either starting with an alphabet s or starting with an alphabet d"
   ]
  },
  {
   "cell_type": "code",
   "execution_count": null,
   "metadata": {},
   "outputs": [],
   "source": [
    "def readald():\n",
    "    f = open('sample.txt','r')\n",
    "    lines = f.readlines()\n",
    "    for i in lines:\n",
    "        if i[0]=='R' or i[0]=='P':\n",
    "            print(i)\n",
    "readald()"
   ]
  },
  {
   "cell_type": "markdown",
   "metadata": {},
   "source": [
    "# Write a function in Python to count the number of lines from a text file which are starting with a character 's'."
   ]
  },
  {
   "cell_type": "code",
   "execution_count": 5,
   "metadata": {},
   "outputs": [
    {
     "name": "stdout",
     "output_type": "stream",
     "text": [
      "The lines are:  9\n"
     ]
    }
   ],
   "source": [
    "def readchar():\n",
    "    count = 0\n",
    "    f = open('read.txt','r')\n",
    "    lines = f.readlines()\n",
    "    for i in lines:\n",
    "        if i[0]=='1':\n",
    "            count+=1\n",
    "    return count\n",
    "c= readchar()\n",
    "print('The lines are: ',c)"
   ]
  },
  {
   "cell_type": "markdown",
   "metadata": {},
   "source": [
    "# Write a python function to read lines from a text file line by line and display those lines which are having more than 10 characters."
   ]
  },
  {
   "cell_type": "code",
   "execution_count": 6,
   "metadata": {},
   "outputs": [
    {
     "name": "stdout",
     "output_type": "stream",
     "text": [
      "4. Write a Python function that takes a number as a parameter and check the number is prime or not.\n",
      "\n",
      "9. Write a Python function to create and print a list where the values are square of numbers between 1 and 20 (both included).\n",
      "\n",
      "12. Write a function that accepts a string and calculate the number of upper case letters and lower case letters.\n",
      "\n",
      "13. Write a function that takes a list and returns a new list with unique elements of the first list.\n",
      "\n",
      "14. Write a Python function that takes a list and returns a new list with even elements in the list.\n",
      "\n"
     ]
    }
   ],
   "source": [
    "def countline():\n",
    "    f = open('read.txt','r')\n",
    "    lines = f.readlines()\n",
    "    for i in lines:\n",
    "        if len(i)>=100:\n",
    "            print(i)\n",
    "        \n",
    "countline()"
   ]
  },
  {
   "cell_type": "markdown",
   "metadata": {},
   "source": [
    "# Write a python function to read lines from a text file and count the total number of words in a file."
   ]
  },
  {
   "cell_type": "code",
   "execution_count": 7,
   "metadata": {},
   "outputs": [
    {
     "name": "stdout",
     "output_type": "stream",
     "text": [
      "The total number of words:  278\n"
     ]
    }
   ],
   "source": [
    "def countword():\n",
    "    f = open('read.txt','r')\n",
    "    text = f.read()\n",
    "    words = text.split()\n",
    "    count = 0\n",
    "    for i in words:\n",
    "        count+=1\n",
    "    print('The total number of words: ',count)\n",
    "\n",
    "countword()\n",
    "    "
   ]
  },
  {
   "cell_type": "markdown",
   "metadata": {},
   "source": [
    "# Write a python function to read content from a text file and display the occurances of the word 'to'."
   ]
  },
  {
   "cell_type": "code",
   "execution_count": 8,
   "metadata": {},
   "outputs": [
    {
     "name": "stdout",
     "output_type": "stream",
     "text": [
      "The occurance is:  13\n"
     ]
    }
   ],
   "source": [
    "def displayto():\n",
    "    f = open('read.txt','r')\n",
    "    text = f.read()\n",
    "    words = text.split()\n",
    "    count = 0\n",
    "    for i in words:\n",
    "        if i=='to':\n",
    "            count+=1\n",
    "    print('The occurance is: ',count)\n",
    "displayto()"
   ]
  },
  {
   "cell_type": "markdown",
   "metadata": {},
   "source": [
    "# Write a python function to read content from a text file and display the occurances of those words which are having 5 or more alphabets."
   ]
  },
  {
   "cell_type": "code",
   "execution_count": 9,
   "metadata": {},
   "outputs": [
    {
     "name": "stdout",
     "output_type": "stream",
     "text": [
      "The total number is:  5\n"
     ]
    }
   ],
   "source": [
    "def read5alpha():\n",
    "    f = open('read.txt','r')\n",
    "    text = f.read()\n",
    "    words = text.split()\n",
    "    count = 0\n",
    "    for i in words:\n",
    "        if len(i)>=10:\n",
    "            count+=1\n",
    "    print('The total number is: ',count)\n",
    "read5alpha()"
   ]
  },
  {
   "cell_type": "markdown",
   "metadata": {},
   "source": [
    "# Write a python function to read content from a text file and count and display the occurance of the words 'is','to'"
   ]
  },
  {
   "cell_type": "code",
   "execution_count": 10,
   "metadata": {},
   "outputs": [
    {
     "name": "stdout",
     "output_type": "stream",
     "text": [
      "The count is : 16\n"
     ]
    }
   ],
   "source": [
    "def readto():\n",
    "    f = open('read.txt','r')\n",
    "    count = 0\n",
    "    text = f.read()\n",
    "    words = text.split()\n",
    "    for i in words:\n",
    "        if i=='is' or i=='to':\n",
    "            count+=1\n",
    "    print('The count is :',count)\n",
    "readto()"
   ]
  },
  {
   "cell_type": "markdown",
   "metadata": {},
   "source": [
    "# Write a python program to combine each line from first file with corresponding line in the second file."
   ]
  },
  {
   "cell_type": "code",
   "execution_count": 11,
   "metadata": {},
   "outputs": [],
   "source": [
    "f1 = open('read1.txt','r')\n",
    "f2 = open('read2.txt','r')\n",
    "f3 = open('merge.txt','w')\n",
    "lines1 = f1.readlines()\n",
    "lines2 = f2.readlines()\n",
    "for i in range(len(lines1)):\n",
    "    m=lines1[i]+lines2[i]\n",
    "    f3.write(m)\n",
    "f1.close()\n",
    "f2.close()\n",
    "f3.close()"
   ]
  },
  {
   "cell_type": "markdown",
   "metadata": {},
   "source": [
    "# Write a python program to read content from a text file and write those lines in a file which are starting with 'a'"
   ]
  },
  {
   "cell_type": "code",
   "execution_count": 18,
   "metadata": {},
   "outputs": [
    {
     "name": "stdout",
     "output_type": "stream",
     "text": [
      "A partial function allows us to call a second function with fixed values in certain arguments. \n",
      "\n"
     ]
    }
   ],
   "source": [
    "f = open('sample.txt','r')\n",
    "while True:\n",
    "    line = f.readline()\n",
    "    if line=='':\n",
    "        break\n",
    "    if line[0]=='A':\n",
    "        print(line)\n",
    "f.close()"
   ]
  },
  {
   "cell_type": "markdown",
   "metadata": {},
   "source": [
    "# Write a python program to read content from a text file and write those lines in a file which are not starting with 'a'"
   ]
  },
  {
   "cell_type": "code",
   "execution_count": 22,
   "metadata": {},
   "outputs": [
    {
     "name": "stdout",
     "output_type": "stream",
     "text": [
      "What can partial functions do for us?\n",
      "\n",
      "\n",
      "\n",
      "A partial function allows us to call a second function with fixed values in certain arguments. \n",
      "\n",
      "For instance, we may have a function that computes an exponentiation. \n",
      "\n",
      "Then, we may need to create a new function that assigns a fixed value to either the base or the exponent.\n",
      "\n",
      "We can easily do this by using functoolâ€™s partial function, without having to replicate the body of the original function. Letâ€™s go through the implementation of the above example to get a better understanding.\n",
      "\n",
      "Implementing a partial exponentiation function\n",
      "\n",
      "First of all, weâ€™ll need the function from which the partial function will be based on. As mentioned before, weâ€™ll implement an exponentiation function:\n",
      "\n",
      "\n",
      "\n",
      "\n",
      "\n",
      "321-555-4321\n",
      "\n",
      "\n",
      "\n",
      "456-654-4568\n",
      "\n",
      "\n",
      "\n",
      "215.654.8546\n",
      "\n",
      "\n",
      "\n",
      "135*546*5647\n",
      "\n",
      "\n",
      "\n",
      "cat\n",
      "\n",
      "mat\n",
      "\n",
      "pat\n",
      "\n",
      "rat\n",
      "\n",
      "bat\n",
      "\n",
      "\n",
      "\n",
      "Ha HaHa\n",
      "\n",
      "\n",
      "\n",
      "\n",
      "\n",
      "\n",
      "\n",
      "\n",
      "\n",
      "\n",
      "\n",
      "\n",
      "\n",
      "\n",
      "\n",
      "CoreyMSchafer@gmail.com\n",
      "\n",
      "corey.schafer@university.edu\n",
      "\n",
      "corey.schafer@university.in\n",
      "\n",
      "corey-321-schafer@my-work.net  \n",
      "\n",
      "\n",
      "\n",
      "\n",
      "\n",
      "Patterns for e-mail:\n",
      "\n",
      "\n",
      "\n",
      "[a-zA-Z0-9.-]+@[a-zA-Z-]+\\.(com|edu|in|net)\n",
      "\n",
      "[a-zA-Z0-9.-]+@[a-zA-Z-]+\\.[a-z]{2,3}\n",
      "\n",
      "[a-zA-Z0-9.-]+@[a-zA-Z0-9-]+\\.[a-zA-Z0-9.-]+\n",
      "\n",
      "\n",
      "\n",
      "\n",
      "\n",
      "https://www.google.com\n",
      "\n",
      "http://coreyms.com\n",
      "\n",
      "https://youtube.com\n",
      "\n",
      "\n",
      "\n",
      "https?://(www\\.)?\\w+\\.\\w+\n",
      "\n",
      "\n",
      "\n",
      "https?://(www\\.)?(\\w+)(\\.\\w+)\n"
     ]
    }
   ],
   "source": [
    "f = open('sample.txt','r')\n",
    "while True:\n",
    "    line = f.readline()\n",
    "    if line=='':\n",
    "        break\n",
    "    if line[0]!='M':\n",
    "        print(line)\n",
    "f.close()"
   ]
  },
  {
   "cell_type": "markdown",
   "metadata": {},
   "source": [
    "# Write a python program to read content from a text file and write those lines in other file that does not contain 'z' letter."
   ]
  },
  {
   "cell_type": "code",
   "execution_count": 24,
   "metadata": {},
   "outputs": [],
   "source": [
    "f = open('sample.txt','r')\n",
    "f1 = open('nota.txt','w')\n",
    "while True:\n",
    "    line = f.readline()\n",
    "    if line=='':\n",
    "        break\n",
    "    if 'z' not in line:\n",
    "        f1.write(line)\n",
    "f.close()"
   ]
  },
  {
   "cell_type": "markdown",
   "metadata": {},
   "source": [
    "# Consider the binary file as 'emp.dat' and we are storing the details of employees such as empid,name,salary,gender and designation"
   ]
  },
  {
   "cell_type": "markdown",
   "metadata": {},
   "source": [
    "# Q1. Write a function to search and display the details of a particular employee whose empid is passed to function as a parameter."
   ]
  },
  {
   "cell_type": "markdown",
   "metadata": {},
   "source": [
    "# Q2. Write a function to search and display the names of all the employee whose salary is in the range of 50000 to 80000."
   ]
  },
  {
   "cell_type": "markdown",
   "metadata": {},
   "source": [
    "# Q3. Write a function to transfer all records from emp.dat to emp1.dat for those employee whose gender is M"
   ]
  },
  {
   "cell_type": "code",
   "execution_count": 25,
   "metadata": {},
   "outputs": [],
   "source": [
    "import pickle"
   ]
  },
  {
   "cell_type": "code",
   "execution_count": 50,
   "metadata": {},
   "outputs": [
    {
     "name": "stdout",
     "output_type": "stream",
     "text": [
      "Enter Emp Id: 1\n",
      "Enter Name: Reshu\n",
      "Enter Salary: 60000\n",
      "Enter Gender: F\n",
      "Enter DesignationProf\n",
      "Do you want to add more records(y/n)? y\n",
      "Enter Emp Id: 2\n",
      "Enter Name: Arvind\n",
      "Enter Salary: 40000\n",
      "Enter Gender: M\n",
      "Enter DesignationDirector\n",
      "Do you want to add more records(y/n)? y\n",
      "Enter Emp Id: 5\n",
      "Enter Name: Amit\n",
      "Enter Salary: 75000\n",
      "Enter Gender: M\n",
      "Enter DesignationAS\n",
      "Do you want to add more records(y/n)? n\n"
     ]
    }
   ],
   "source": [
    "def write():\n",
    "    f = open('emp.dat','wb')\n",
    "    records = []\n",
    "    while True:\n",
    "        eid = int(input('Enter Emp Id: '))\n",
    "        name=input('Enter Name: ')\n",
    "        salary = int(input('Enter Salary: '))\n",
    "        gender = input('Enter Gender: ')\n",
    "        desig = input('Enter Designation')\n",
    "        data = [eid,name,salary,gender,desig]\n",
    "        records.append(data)\n",
    "        ch = input('Do you want to add more records(y/n)? ')\n",
    "        if ch=='n':\n",
    "            break\n",
    "    pickle.dump(records,f)\n",
    "    f.close()\n",
    "write()"
   ]
  },
  {
   "cell_type": "code",
   "execution_count": 51,
   "metadata": {},
   "outputs": [
    {
     "name": "stdout",
     "output_type": "stream",
     "text": [
      "[1, 'Reshu', 60000, 'F', 'Prof']\n",
      "[2, 'Arvind', 40000, 'M', 'Director']\n",
      "[5, 'Amit', 75000, 'M', 'AS']\n"
     ]
    }
   ],
   "source": [
    "def read():\n",
    "    f = open('emp.dat','rb')\n",
    "    try:\n",
    "        res = pickle.load(f)\n",
    "        for i in res:\n",
    "            print(i)\n",
    "    except EOFError:\n",
    "        f.close()\n",
    "read()"
   ]
  },
  {
   "cell_type": "code",
   "execution_count": 52,
   "metadata": {},
   "outputs": [
    {
     "name": "stdout",
     "output_type": "stream",
     "text": [
      "Enter emp id: 2\n",
      "[2, 'Arvind', 40000, 'M', 'Director']\n"
     ]
    }
   ],
   "source": [
    "def search(n):\n",
    "    f = open('emp.dat','rb')\n",
    "    found = 0\n",
    "    try:\n",
    "        res = pickle.load(f)\n",
    "        for i in res:\n",
    "            if i[0]==n:\n",
    "                print(i)\n",
    "                found = 1\n",
    "                break\n",
    "    except EOFError:\n",
    "        f.close()\n",
    "    if found == 0:\n",
    "        print('Record not found!')\n",
    "n = int(input('Enter emp id: '))\n",
    "search(n)"
   ]
  },
  {
   "cell_type": "code",
   "execution_count": 53,
   "metadata": {},
   "outputs": [
    {
     "name": "stdout",
     "output_type": "stream",
     "text": [
      "Reshu\n",
      "Amit\n"
     ]
    }
   ],
   "source": [
    "def search_salary():\n",
    "    f = open('emp.dat','rb')\n",
    "    found = 0\n",
    "    try:\n",
    "        res = pickle.load(f)\n",
    "        for i in res:\n",
    "            if i[2]>=50000 and i[2]<=80000:\n",
    "                print(i[1])\n",
    "                found = 1\n",
    "    except EOFError:\n",
    "        f.close()\n",
    "        \n",
    "    if found == 0:\n",
    "        print('Record not found')\n",
    "        \n",
    "search_salary()"
   ]
  },
  {
   "cell_type": "code",
   "execution_count": 58,
   "metadata": {},
   "outputs": [],
   "source": [
    "def transfer():\n",
    "    f = open('emp.dat','rb')\n",
    "    f1 = open('emp1.dat','wb')\n",
    "    List = []\n",
    "    try:\n",
    "        rec = pickle.load(f)\n",
    "        for i in rec:\n",
    "            if i[3]=='M':\n",
    "                List.append(i)\n",
    "        pickle.dump(List,f1)\n",
    "    except EOFError:\n",
    "        f.close()\n",
    "        f1.close()\n",
    "transfer()\n",
    "    "
   ]
  },
  {
   "cell_type": "code",
   "execution_count": 62,
   "metadata": {},
   "outputs": [
    {
     "name": "stdout",
     "output_type": "stream",
     "text": [
      "[2, 'Arvind', 40000, 'M', 'Director']\n",
      "[5, 'Amit', 75000, 'M', 'AS']\n"
     ]
    }
   ],
   "source": [
    "def reademp1():\n",
    "    f = open('emp1.dat','rb')\n",
    "    while True:\n",
    "        try:\n",
    "            res = pickle.load(f)\n",
    "            for i in res:\n",
    "                print(i)\n",
    "        except EOFError:\n",
    "            break\n",
    "    f.close()\n",
    "reademp1()"
   ]
  }
 ],
 "metadata": {
  "kernelspec": {
   "display_name": "Python 3",
   "language": "python",
   "name": "python3"
  },
  "language_info": {
   "codemirror_mode": {
    "name": "ipython",
    "version": 3
   },
   "file_extension": ".py",
   "mimetype": "text/x-python",
   "name": "python",
   "nbconvert_exporter": "python",
   "pygments_lexer": "ipython3",
   "version": "3.7.5"
  }
 },
 "nbformat": 4,
 "nbformat_minor": 2
}
