{
 "cells": [
  {
   "cell_type": "markdown",
   "metadata": {},
   "source": [
    "# 1. Write a program to take the input from the user in set using add() method."
   ]
  },
  {
   "cell_type": "code",
   "execution_count": null,
   "metadata": {},
   "outputs": [],
   "source": [
    "s = set()\n",
    "print(s)\n",
    "n = int(input('Enter the number of elements: '))\n",
    "for i in range(n):\n",
    "    el = input('Enter the element: ')\n",
    "    s.add(el)\n",
    "print(s)"
   ]
  },
  {
   "cell_type": "markdown",
   "metadata": {},
   "source": [
    "# 2. Write a program to take the input from the user in set using update() method."
   ]
  },
  {
   "cell_type": "code",
   "execution_count": null,
   "metadata": {},
   "outputs": [],
   "source": [
    "s1 = {10,20}\n",
    "s = set()\n",
    "n = int(input('Enter the number of elements: '))\n",
    "for i in range(n):\n",
    "    el = input('Enter the element: ')\n",
    "    s.update(el)\n",
    "print(s)\n",
    "#s1.update(s)\n",
    "#print(s1)"
   ]
  },
  {
   "cell_type": "code",
   "execution_count": null,
   "metadata": {},
   "outputs": [],
   "source": [
    "s1 = {10,20}\n",
    "s = set()\n",
    "n = int(input('Enter the number of elements: '))\n",
    "for i in range(n):\n",
    "    el = int(input('Enter the element: '))\n",
    "    s.update(el)\n",
    "print(s)\n",
    "#s1.update(s)\n",
    "#print(s1)"
   ]
  },
  {
   "cell_type": "code",
   "execution_count": null,
   "metadata": {},
   "outputs": [],
   "source": [
    "s3 = {10,20}\n",
    "s2 = [1]\n",
    "s3.update(3)\n",
    "print(s3)"
   ]
  },
  {
   "cell_type": "markdown",
   "metadata": {},
   "source": [
    "# 3. Write a Python program to check if a given value is present in a set or not."
   ]
  },
  {
   "cell_type": "code",
   "execution_count": null,
   "metadata": {},
   "outputs": [],
   "source": [
    "s = set()\n",
    "print(s)\n",
    "n = int(input('Enter the number of elements: '))\n",
    "for i in range(n):\n",
    "    el = input('Enter the element: ')\n",
    "    s.update(el)\n",
    "print(s)\n",
    "num = input('Enter the element to be search: ')\n",
    "if num in s:\n",
    "    print(num,'exists in this set ')\n",
    "else:\n",
    "    print(num,'does not exists in this set')\n",
    "    "
   ]
  },
  {
   "cell_type": "markdown",
   "metadata": {},
   "source": [
    "# 4. Write a Python program to check if a given value is present in a set or not. if present delete it from the set and print the remaining values in the set."
   ]
  },
  {
   "cell_type": "code",
   "execution_count": null,
   "metadata": {},
   "outputs": [],
   "source": [
    "s = set()\n",
    "print(s)\n",
    "n = int(input('Enter the number of elements: '))\n",
    "for i in range(n):\n",
    "    el = input('Enter the element: ')\n",
    "    s.update(el)\n",
    "print(s)\n",
    "num = input('Enter the element to be search: ')\n",
    "if num in s:\n",
    "    s.discard(num)\n",
    "else:\n",
    "    print(num,'does not exists in this set')\n",
    "\n",
    "print('The updated set is ',s)\n",
    "    "
   ]
  },
  {
   "cell_type": "markdown",
   "metadata": {},
   "source": [
    "# 5. Write a program to check if a set is a subset of another set."
   ]
  },
  {
   "cell_type": "code",
   "execution_count": null,
   "metadata": {},
   "outputs": [],
   "source": [
    "x = set()\n",
    "y = set()\n",
    "n1 = int(input('Enter the number of elements for set x: '))\n",
    "for i in range(n1):\n",
    "    el1 = input('Enter the element: ')\n",
    "    x.update(el1)\n",
    "print(x)\n",
    "n2 = int(input('Enter the number of elements for set y: '))\n",
    "for i in range(n2):\n",
    "    el2 = input('Enter the element: ')\n",
    "    y.update(el2)\n",
    "print(y)\n",
    "print(x.issubset(y))\n",
    "print(y.issubset(x))"
   ]
  },
  {
   "cell_type": "markdown",
   "metadata": {},
   "source": [
    "# 6. Write a Python program to create a shallow copy of sets."
   ]
  },
  {
   "cell_type": "code",
   "execution_count": null,
   "metadata": {},
   "outputs": [],
   "source": [
    "p = set([\"Red\", \"Green\"])\n",
    "q = set([\"Green\", \"Red\"])\n",
    "r = p\n",
    "print(r)\n",
    "r.add('blue')\n",
    "print(r)\n",
    "print(p)"
   ]
  },
  {
   "cell_type": "code",
   "execution_count": null,
   "metadata": {},
   "outputs": [],
   "source": [
    "x = set()\n",
    "y = set()\n",
    "n1 = int(input('Enter the number of elements for set x: '))\n",
    "for i in range(n1):\n",
    "    el1 = input('Enter the element: ')\n",
    "    x.update(el1)\n",
    "print(x)\n",
    "n2 = int(input('Enter the number of elements for set y: '))\n",
    "for i in range(n2):\n",
    "    el2 = input('Enter the element: ')\n",
    "    y.update(el2)\n",
    "print(y)\n",
    "x = y\n",
    "print('The set x is',x)\n",
    "x.add('10')\n",
    "print('The set x after added item',x)\n",
    "print('The original set y',y)"
   ]
  },
  {
   "cell_type": "code",
   "execution_count": null,
   "metadata": {},
   "outputs": [],
   "source": [
    "x = set()\n",
    "y = set()\n",
    "n1 = int(input('Enter the number of elements for set x: '))\n",
    "for i in range(n1):\n",
    "    el1 = input('Enter the element: ')\n",
    "    x.update(el1)\n",
    "print(x)\n",
    "n2 = int(input('Enter the number of elements for set y: '))\n",
    "for i in range(n2):\n",
    "    el2 = input('Enter the element: ')\n",
    "    y.update(el2)\n",
    "print(y)\n",
    "x = y.copy()\n",
    "print('The set x is',x)\n",
    "x.add('10')\n",
    "print('The set x after added item',x)\n",
    "print('The original set y',y)"
   ]
  },
  {
   "cell_type": "markdown",
   "metadata": {},
   "source": [
    "# 7. Write a Python program to check if two given sets have no elements in common."
   ]
  },
  {
   "cell_type": "code",
   "execution_count": null,
   "metadata": {},
   "outputs": [],
   "source": [
    "x = {1,2,3,4}\n",
    "y = {4,5,6,7}\n",
    "z = {8}\n",
    "print(\"If two given sets have no elements in common\")\n",
    "print(\"Compare x and y:\")\n",
    "print(x.isdisjoint(y))\n",
    "print(\"Compare x and z:\")\n",
    "print(z.isdisjoint(x))\n",
    "print(\"Compare y and z:\")\n",
    "print(y.isdisjoint(z))\n"
   ]
  },
  {
   "cell_type": "code",
   "execution_count": null,
   "metadata": {},
   "outputs": [],
   "source": [
    "x = set()\n",
    "y = set()\n",
    "n1 = int(input('Enter the number of elements for set x: '))\n",
    "for i in range(n1):\n",
    "    el1 = input('Enter the element: ')\n",
    "    x.update(el1)\n",
    "print(x)\n",
    "n2 = int(input('Enter the number of elements for set y: '))\n",
    "for i in range(n2):\n",
    "    el2 = input('Enter the element: ')\n",
    "    y.update(el2)\n",
    "print(y)\n",
    "print(x.isdisjoint(y))\n",
    "print(y.isdisjoint(x))"
   ]
  },
  {
   "cell_type": "markdown",
   "metadata": {},
   "source": [
    "# 8. Write a Python program to check if a given set is superset of itself and superset of another given set."
   ]
  },
  {
   "cell_type": "code",
   "execution_count": null,
   "metadata": {},
   "outputs": [],
   "source": [
    "nums = {10,20,30,40,50}\n",
    "print(\"Original set: \",nums)\n",
    "num1 = {1, 2, 3, 4, 5, 7}\n",
    "num2 = {2, 4}\n",
    "num3 = {2, 4}\n",
    "print(nums.issuperset(nums))\n",
    "print(num1.issuperset(nums))\n",
    "print(num2.issuperset(nums))\n",
    "print(num3.issuperset(nums))\n",
    "print(num1.issuperset(num1))\n",
    "print(num1.issuperset(num2))"
   ]
  },
  {
   "cell_type": "markdown",
   "metadata": {},
   "source": [
    "# 9. Write a program to add multiple items to the existing set."
   ]
  },
  {
   "cell_type": "code",
   "execution_count": null,
   "metadata": {},
   "outputs": [],
   "source": [
    "s = set()\n",
    "n = int(input('Enter the number of elements: '))\n",
    "for i in range(n):\n",
    "    el = input('Enter the element: ')\n",
    "    s.add(el)\n",
    "print(s)\n",
    "items = []\n",
    "n2 = int(input('Enter the number of elements in list: '))\n",
    "for i in range(n2):\n",
    "    l = input('Enter the element for list: ')\n",
    "    items.append(l)\n",
    "print(items)\n",
    "s.update(items)\n",
    "print('The updates set s ',s)"
   ]
  },
  {
   "cell_type": "code",
   "execution_count": null,
   "metadata": {},
   "outputs": [],
   "source": [
    "s = set()\n",
    "l = [10,20,30]\n",
    "s.update(l)\n",
    "print(s)"
   ]
  },
  {
   "cell_type": "code",
   "execution_count": null,
   "metadata": {},
   "outputs": [],
   "source": [
    "s = {1,2,3}\n",
    "s.add(5)\n",
    "print(s)"
   ]
  },
  {
   "cell_type": "code",
   "execution_count": null,
   "metadata": {},
   "outputs": [],
   "source": [
    "s = {1,2,3}\n",
    "l = [4,5,6]\n",
    "s.update(l)\n",
    "print(s)"
   ]
  },
  {
   "cell_type": "code",
   "execution_count": null,
   "metadata": {},
   "outputs": [],
   "source": [
    "s = {1,2,3}\n",
    "l = {4,5,6}\n",
    "s.update(l)\n",
    "print(s)"
   ]
  },
  {
   "cell_type": "code",
   "execution_count": null,
   "metadata": {},
   "outputs": [],
   "source": [
    "s = {1,2,3}\n",
    "l = (4,5,6)\n",
    "s.update(l)\n",
    "print(s)"
   ]
  },
  {
   "cell_type": "code",
   "execution_count": null,
   "metadata": {},
   "outputs": [],
   "source": [
    "s = {1,2,3}\n",
    "s.discard(3)\n",
    "print(s)"
   ]
  },
  {
   "cell_type": "code",
   "execution_count": null,
   "metadata": {},
   "outputs": [],
   "source": [
    "s = {1,2,3}\n",
    "s.discard(6)\n",
    "print(s)"
   ]
  },
  {
   "cell_type": "code",
   "execution_count": null,
   "metadata": {},
   "outputs": [],
   "source": [
    "s = {1,2,3}\n",
    "s.remove(3)\n",
    "print(s)"
   ]
  },
  {
   "cell_type": "code",
   "execution_count": null,
   "metadata": {},
   "outputs": [],
   "source": [
    "s = {1,2,3}\n",
    "s.remove(6)\n",
    "print(s)"
   ]
  },
  {
   "cell_type": "code",
   "execution_count": null,
   "metadata": {},
   "outputs": [],
   "source": [
    "s = {1,2,3}\n",
    "del(s)"
   ]
  },
  {
   "cell_type": "code",
   "execution_count": null,
   "metadata": {},
   "outputs": [],
   "source": [
    "s = {1,2,3}\n",
    "e = s.pop()\n",
    "print(e)\n",
    "print(s)"
   ]
  },
  {
   "cell_type": "code",
   "execution_count": null,
   "metadata": {},
   "outputs": [],
   "source": [
    "a = {1,2,3,4}\n",
    "b = {3,4,5,6}\n",
    "d = a.difference(b)\n",
    "#print(a-b)\n",
    "print(d)"
   ]
  },
  {
   "cell_type": "code",
   "execution_count": null,
   "metadata": {},
   "outputs": [],
   "source": [
    "a = {1,2,3,4}\n",
    "b = {3,4,5,6}\n",
    "print(a^b)"
   ]
  },
  {
   "cell_type": "code",
   "execution_count": null,
   "metadata": {},
   "outputs": [],
   "source": [
    "a = {1,2,3,4}\n",
    "b = {3,4,5,6}\n",
    "d = a.symmetric_difference(b)\n",
    "print(d)\n",
    "#print(a^b)"
   ]
  },
  {
   "cell_type": "code",
   "execution_count": null,
   "metadata": {},
   "outputs": [],
   "source": [
    "s = set()\n",
    "s1 = set()\n",
    "s2 = set()\n",
    "s3 = set()\n",
    "n = int(input('Enter the number of cities: '))\n",
    "for i in range(n):\n",
    "    c = input('Enter the name of city: ')\n",
    "    s.add(c1)\n",
    "print('The total cities are: ',s)\n",
    "\n",
    "n1 = int(input('Enter the number of cities that are visited by sales person s1: '))\n",
    "for i in range(n1):\n",
    "    c1 = input('Enter the name of city: ')\n",
    "    s1.add(c1)\n",
    "print('The cities visited by sales person s1: ',s1)\n",
    "n2 = int(input('Enter the number of cities that are visited by sales person s2: '))\n",
    "for i in range(n2):\n",
    "    c2 = input('Enter the name of city: ')\n",
    "    s2.add(c2)\n",
    "print('The cities visited by sales person s1: ',s2)\n",
    "n3 = int(input('Enter the number of cities that are visited by sales person s3: '))\n",
    "for i in range(n3):\n",
    "    c3 = input('Enter the name of city: ')\n",
    "    s3.add(c3)\n",
    "print('The cities visited by sales person s1: ',s3)\n",
    "visit_city = ((s1|s2)|s3)\n",
    "print('The citites visited are: ',visit_city)\n",
    "rem = (s-visit_city)\n",
    "print('The remaining cities are: ',rem)"
   ]
  },
  {
   "cell_type": "code",
   "execution_count": 9,
   "metadata": {},
   "outputs": [
    {
     "name": "stdout",
     "output_type": "stream",
     "text": [
      "Enter the number of cities: 5\n",
      "Enter the city: pune\n",
      "Enter the city: dellhi\n",
      "Enter the city: meerut\n",
      "Enter the city: shimla\n",
      "Enter the city: kashi\n",
      "{'dellhi', 'pune', 'kashi', 'meerut', 'shimla'}\n",
      "Enter the number of cities: 1\n",
      "Enter the city: dellhi\n",
      "{'dellhi'}\n",
      "Enter the number of cities: 1\n",
      "Enter the city: meerut\n",
      "{'meerut'}\n",
      "Enter the number of cities: 1\n",
      "Enter the city: pune\n",
      "{'pune'}\n",
      "visited cities:  {'dellhi', 'meerut', 'pune'}\n",
      "non visited: {'kashi', 'shimla'}\n"
     ]
    }
   ],
   "source": [
    "s = set()\n",
    "n = int(input('Enter the number of cities: '))\n",
    "for i in range(n):\n",
    "    el = input('Enter the city: ')\n",
    "    s.add(el)\n",
    "print(s)\n",
    "\n",
    "s1 = set()\n",
    "n1 = int(input('Enter the number of cities: '))\n",
    "for i in range(n1):\n",
    "    el1 = input('Enter the city: ')\n",
    "    s1.add(el1)\n",
    "print(s1)\n",
    "\n",
    "s2 = set()\n",
    "n2 = int(input('Enter the number of cities: '))\n",
    "for i in range(n2):\n",
    "    el2 = input('Enter the city: ')\n",
    "    s2.add(el2)\n",
    "print(s2)\n",
    "\n",
    "s3 = set()\n",
    "n3 = int(input('Enter the number of cities: '))\n",
    "for i in range(n3):\n",
    "    el3 = input('Enter the city: ')\n",
    "    s3.add(el3)\n",
    "print(s3)\n",
    "a=s1.union(s2,s3)\n",
    "print('visited cities: ',a)\n",
    "\n",
    "nv = s.difference(a)\n",
    "print('non visited:',nv)"
   ]
  }
 ],
 "metadata": {
  "kernelspec": {
   "display_name": "Python 3",
   "language": "python",
   "name": "python3"
  },
  "language_info": {
   "codemirror_mode": {
    "name": "ipython",
    "version": 3
   },
   "file_extension": ".py",
   "mimetype": "text/x-python",
   "name": "python",
   "nbconvert_exporter": "python",
   "pygments_lexer": "ipython3",
   "version": "3.7.5"
  }
 },
 "nbformat": 4,
 "nbformat_minor": 2
}
