{
 "cells": [
  {
   "cell_type": "code",
   "execution_count": 4,
   "metadata": {},
   "outputs": [
    {
     "name": "stdout",
     "output_type": "stream",
     "text": [
      "arvind kumar\n"
     ]
    }
   ],
   "source": [
    "x = 'arvind'\n",
    "y = 'kumar'\n",
    "print(f\"{x} {y}\")"
   ]
  },
  {
   "cell_type": "code",
   "execution_count": 23,
   "metadata": {},
   "outputs": [
    {
     "name": "stdout",
     "output_type": "stream",
     "text": [
      "|arvind    |\n"
     ]
    }
   ],
   "source": [
    "x= 'arvind'\n",
    "print('|{:<10}|'.format(x))"
   ]
  },
  {
   "cell_type": "code",
   "execution_count": 24,
   "metadata": {},
   "outputs": [
    {
     "name": "stdout",
     "output_type": "stream",
     "text": [
      "|    arvind|\n"
     ]
    }
   ],
   "source": [
    "x= 'arvind'\n",
    "print('|{:>10}|'.format(x))"
   ]
  },
  {
   "cell_type": "code",
   "execution_count": 25,
   "metadata": {},
   "outputs": [
    {
     "name": "stdout",
     "output_type": "stream",
     "text": [
      "|  arvind  |\n"
     ]
    }
   ],
   "source": [
    "x= 'arvind'\n",
    "print('|{:^10}|'.format(x))"
   ]
  },
  {
   "cell_type": "code",
   "execution_count": 27,
   "metadata": {},
   "outputs": [
    {
     "name": "stdout",
     "output_type": "stream",
     "text": [
      "|arvind    |\n"
     ]
    }
   ],
   "source": [
    "x= 'arvind'\n",
    "print('|{0:<10}|'.format(x))"
   ]
  },
  {
   "cell_type": "code",
   "execution_count": 28,
   "metadata": {},
   "outputs": [
    {
     "name": "stdout",
     "output_type": "stream",
     "text": [
      "|    arvind|\n"
     ]
    }
   ],
   "source": [
    "x= 'arvind'\n",
    "print('|{0:>10}|'.format(x))"
   ]
  },
  {
   "cell_type": "code",
   "execution_count": 29,
   "metadata": {},
   "outputs": [
    {
     "name": "stdout",
     "output_type": "stream",
     "text": [
      "|  arvind  |\n"
     ]
    }
   ],
   "source": [
    "x= 'arvind'\n",
    "print('|{0:^10}|'.format(x))"
   ]
  },
  {
   "cell_type": "code",
   "execution_count": 30,
   "metadata": {},
   "outputs": [
    {
     "name": "stdout",
     "output_type": "stream",
     "text": [
      "|Arvind    |\n"
     ]
    }
   ],
   "source": [
    "print('|{x:<10}|'.format(x = 'Arvind'))"
   ]
  },
  {
   "cell_type": "code",
   "execution_count": 31,
   "metadata": {},
   "outputs": [
    {
     "name": "stdout",
     "output_type": "stream",
     "text": [
      "|    Arvind|\n"
     ]
    }
   ],
   "source": [
    "print('|{x:>10}|'.format(x = 'Arvind'))"
   ]
  },
  {
   "cell_type": "code",
   "execution_count": 32,
   "metadata": {},
   "outputs": [
    {
     "name": "stdout",
     "output_type": "stream",
     "text": [
      "|  Arvind  |\n"
     ]
    }
   ],
   "source": [
    "print('|{x:^10}|'.format(x = 'Arvind'))"
   ]
  },
  {
   "cell_type": "code",
   "execution_count": 34,
   "metadata": {
    "scrolled": true
   },
   "outputs": [
    {
     "name": "stdout",
     "output_type": "stream",
     "text": [
      "|Arvind    |\n"
     ]
    }
   ],
   "source": [
    "x = 'Arvind' \n",
    "print(f\"|{x:<10}|\")"
   ]
  },
  {
   "cell_type": "code",
   "execution_count": 35,
   "metadata": {},
   "outputs": [
    {
     "name": "stdout",
     "output_type": "stream",
     "text": [
      "|    Arvind|\n"
     ]
    }
   ],
   "source": [
    "x = 'Arvind' \n",
    "print(f\"|{x:>10}|\")"
   ]
  },
  {
   "cell_type": "code",
   "execution_count": 36,
   "metadata": {},
   "outputs": [
    {
     "name": "stdout",
     "output_type": "stream",
     "text": [
      "|  Arvind  |\n"
     ]
    }
   ],
   "source": [
    "x = 'Arvind' \n",
    "print(f\"|{x:^10}|\")"
   ]
  },
  {
   "cell_type": "code",
   "execution_count": 40,
   "metadata": {},
   "outputs": [
    {
     "name": "stdout",
     "output_type": "stream",
     "text": [
      "Names     Departments  Marks   Roll Numbers\n",
      "Arvind        CS        95             1\n",
      "Adesh         EE        96             2\n",
      "Amit         LIB        85             3\n",
      "Aryadeep      EC        98             4\n"
     ]
    }
   ],
   "source": [
    "names = ['Arvind','Adesh','Amit','Aryadeep']\n",
    "departments = ['CS','EE','LIB','EC']\n",
    "marks = [95,96,85,98]\n",
    "roll = [1,2,3,4]\n",
    "print(f\"{'Names':<10}{'Departments':^10}{'Marks':^10}{'Roll Numbers':>10}\")\n",
    "for i in range(4):\n",
    "    print(f\"{names[i]:<10}{departments[i]:^10}{marks[i]:^10}{roll[i]:>10}\")"
   ]
  },
  {
   "cell_type": "code",
   "execution_count": 49,
   "metadata": {},
   "outputs": [
    {
     "name": "stdout",
     "output_type": "stream",
     "text": [
      "Enter the string: arvind\n",
      "ARVIND\n",
      "True\n"
     ]
    }
   ],
   "source": [
    "s = input('Enter the string: ')\n",
    "s1 = s.upper()\n",
    "print(s1)\n",
    "print(s1.isupper())"
   ]
  },
  {
   "cell_type": "code",
   "execution_count": 50,
   "metadata": {},
   "outputs": [
    {
     "name": "stdout",
     "output_type": "stream",
     "text": [
      "Enter the string: arvind kumar\n",
      "arvind kumar\n"
     ]
    },
    {
     "data": {
      "text/plain": [
       "['arvind', 'kumar']"
      ]
     },
     "execution_count": 50,
     "metadata": {},
     "output_type": "execute_result"
    }
   ],
   "source": [
    "s = input('Enter the string: ')\n",
    "print(s)\n",
    "s.split()"
   ]
  },
  {
   "cell_type": "code",
   "execution_count": 63,
   "metadata": {},
   "outputs": [
    {
     "name": "stdout",
     "output_type": "stream",
     "text": [
      "this is a boy\n"
     ]
    }
   ],
   "source": [
    "l = ['this','is','a','boy']\n",
    "x= ' '.join(l)\n",
    "print(x)"
   ]
  }
 ],
 "metadata": {
  "kernelspec": {
   "display_name": "Python 3",
   "language": "python",
   "name": "python3"
  },
  "language_info": {
   "codemirror_mode": {
    "name": "ipython",
    "version": 3
   },
   "file_extension": ".py",
   "mimetype": "text/x-python",
   "name": "python",
   "nbconvert_exporter": "python",
   "pygments_lexer": "ipython3",
   "version": "3.7.5"
  }
 },
 "nbformat": 4,
 "nbformat_minor": 2
}
