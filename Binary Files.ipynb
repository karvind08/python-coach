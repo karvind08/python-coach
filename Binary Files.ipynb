{
 "cells": [
  {
   "cell_type": "markdown",
   "metadata": {},
   "source": [
    "# 1. Write a program to write data in binary file. "
   ]
  },
  {
   "cell_type": "code",
   "execution_count": null,
   "metadata": {},
   "outputs": [],
   "source": [
    "import pickle\n",
    "f = open('file.dat','wb')\n",
    "list1 = ['CSE','IT','ME']\n",
    "pickle.dump(list1,f)\n",
    "f.close()"
   ]
  },
  {
   "cell_type": "markdown",
   "metadata": {},
   "source": [
    "# 2. Write a program to read data from existing binary file. "
   ]
  },
  {
   "cell_type": "code",
   "execution_count": 6,
   "metadata": {},
   "outputs": [],
   "source": [
    "f = open('file.dat','rb')\n",
    "list2 = pickle.load(f)\n",
    "print(list2)\n",
    "f.close()"
   ]
  },
  {
   "cell_type": "markdown",
   "metadata": {},
   "source": [
    "# 3. Write a program to write & read data from the binary file. "
   ]
  },
  {
   "cell_type": "code",
   "execution_count": 15,
   "metadata": {},
   "outputs": [
    {
     "name": "stdout",
     "output_type": "stream",
     "text": [
      "['CSE', 'IT', 'ME']\n"
     ]
    }
   ],
   "source": [
    "import pickle\n",
    "f = open('file.dat','wb')\n",
    "list1 = ['CSE','IT','ME']\n",
    "pickle.dump(list1,f)\n",
    "f = open('file.dat','rb')\n",
    "list2 = pickle.load(f)\n",
    "print(list2)\n",
    "f.close()"
   ]
  },
  {
   "cell_type": "code",
   "execution_count": 16,
   "metadata": {},
   "outputs": [
    {
     "name": "stdout",
     "output_type": "stream",
     "text": [
      "{'a': 10, 'b': 20}\n"
     ]
    }
   ],
   "source": [
    "import pickle\n",
    "f = open('file.dat','wb')\n",
    "d = {'a':10,'b':20}\n",
    "pickle.dump(d,f)\n",
    "f = open('file.dat','rb')\n",
    "list2 = pickle.load(f)\n",
    "print(list2)\n",
    "f.close()"
   ]
  },
  {
   "cell_type": "code",
   "execution_count": 17,
   "metadata": {},
   "outputs": [
    {
     "name": "stdout",
     "output_type": "stream",
     "text": [
      "[1, 2, 3, 3]\n",
      "{'a': 10, 'b': 20}\n"
     ]
    }
   ],
   "source": [
    "f = open('file.dat','wb')\n",
    "d = {'a':10,'b':20}\n",
    "list1 = [1,2,3,3]\n",
    "pickle.dump(list1,f)\n",
    "pickle.dump(d,f)\n",
    "f = open('file.dat','rb')\n",
    "list2 = pickle.load(f)\n",
    "d1 = pickle.load(f)\n",
    "print(list2)\n",
    "print(d1)\n",
    "f.close()"
   ]
  },
  {
   "cell_type": "markdown",
   "metadata": {},
   "source": [
    "# 4. Write a program to insert record in a binary file."
   ]
  },
  {
   "cell_type": "code",
   "execution_count": 18,
   "metadata": {},
   "outputs": [
    {
     "name": "stdout",
     "output_type": "stream",
     "text": [
      "Enter the roll number: 1\n",
      "Enter the name: Arvind\n",
      "Enter the marks: 90\n",
      "Do you want to add more records(y/n)?y\n",
      "Enter the roll number: 2\n",
      "Enter the name: Amit\n",
      "Enter the marks: 85\n",
      "Do you want to add more records(y/n)?n\n"
     ]
    }
   ],
   "source": [
    "f = open('binary.dat','wb')\n",
    "records = []\n",
    "while True:\n",
    "    r = int(input('Enter the roll number: '))\n",
    "    name = input('Enter the name: ')\n",
    "    marks = input('Enter the marks: ')\n",
    "    data = [r,name,marks]\n",
    "    records.append(data)\n",
    "    ch = input('Do you want to add more records(y/n)?')\n",
    "    if ch == 'n':\n",
    "        break\n",
    "pickle.dump(records,f)\n",
    "f.close()"
   ]
  },
  {
   "cell_type": "markdown",
   "metadata": {},
   "source": [
    "# 5. Write a program to read records from binary file."
   ]
  },
  {
   "cell_type": "code",
   "execution_count": 21,
   "metadata": {},
   "outputs": [
    {
     "name": "stdout",
     "output_type": "stream",
     "text": [
      "[[1, 'Arvind', '90'], [2, 'Amit', '85']]\n"
     ]
    }
   ],
   "source": [
    "f = open('binary.dat','rb')\n",
    "s = pickle.load(f)\n",
    "print(s)"
   ]
  },
  {
   "cell_type": "code",
   "execution_count": 22,
   "metadata": {},
   "outputs": [
    {
     "name": "stdout",
     "output_type": "stream",
     "text": [
      "[1, 'Arvind', '90']\n",
      "[2, 'Amit', '85']\n"
     ]
    }
   ],
   "source": [
    "f = open('binary.dat','rb')\n",
    "s = pickle.load(f)\n",
    "for i in s:\n",
    "    print(i)"
   ]
  },
  {
   "cell_type": "code",
   "execution_count": 25,
   "metadata": {},
   "outputs": [
    {
     "name": "stdout",
     "output_type": "stream",
     "text": [
      "1 Arvind 90\n",
      "2 Amit 85\n"
     ]
    }
   ],
   "source": [
    "f = open('binary.dat','rb')\n",
    "s = pickle.load(f)\n",
    "for i in s:\n",
    "    r = i[0]\n",
    "    name = i[1]\n",
    "    marks = i[2]\n",
    "    print(r,name,marks)"
   ]
  },
  {
   "cell_type": "code",
   "execution_count": 6,
   "metadata": {},
   "outputs": [
    {
     "name": "stdout",
     "output_type": "stream",
     "text": [
      "Enter the roll number: 3\n",
      "Enter the name: abc\n",
      "Enter the marks: 98\n",
      "Do you want to add more records(y/n)?y\n",
      "Enter the roll number: 4\n",
      "Enter the name: xyz\n",
      "Enter the marks: 54\n",
      "Do you want to add more records(y/n)?n\n"
     ]
    }
   ],
   "source": [
    "f = open('binary.dat','ab')\n",
    "records = []\n",
    "while True:\n",
    "    r = int(input('Enter the roll number: '))\n",
    "    name = input('Enter the name: ')\n",
    "    marks = input('Enter the marks: ')\n",
    "    data = [r,name,marks]\n",
    "    records.append(data)\n",
    "    ch = input('Do you want to add more records(y/n)?')\n",
    "    if ch == 'n':\n",
    "        break\n",
    "pickle.dump(records,f)\n",
    "f.close()"
   ]
  },
  {
   "cell_type": "code",
   "execution_count": 8,
   "metadata": {},
   "outputs": [
    {
     "name": "stdout",
     "output_type": "stream",
     "text": [
      "[1, 'Arvind', '90']\n",
      "[2, 'Amit', '85']\n",
      "[3, 'abc', '98']\n",
      "[4, 'xyz', '54']\n"
     ]
    },
    {
     "ename": "EOFError",
     "evalue": "Ran out of input",
     "output_type": "error",
     "traceback": [
      "\u001b[1;31m---------------------------------------------------------------------------\u001b[0m",
      "\u001b[1;31mEOFError\u001b[0m                                  Traceback (most recent call last)",
      "\u001b[1;32m<ipython-input-8-5cd3b7569581>\u001b[0m in \u001b[0;36m<module>\u001b[1;34m\u001b[0m\n\u001b[0;32m      1\u001b[0m \u001b[0mf\u001b[0m \u001b[1;33m=\u001b[0m \u001b[0mopen\u001b[0m\u001b[1;33m(\u001b[0m\u001b[1;34m'binary.dat'\u001b[0m\u001b[1;33m,\u001b[0m\u001b[1;34m'rb'\u001b[0m\u001b[1;33m)\u001b[0m\u001b[1;33m\u001b[0m\u001b[1;33m\u001b[0m\u001b[0m\n\u001b[0;32m      2\u001b[0m \u001b[1;32mwhile\u001b[0m \u001b[1;32mTrue\u001b[0m\u001b[1;33m:\u001b[0m\u001b[1;33m\u001b[0m\u001b[1;33m\u001b[0m\u001b[0m\n\u001b[1;32m----> 3\u001b[1;33m     \u001b[0ms\u001b[0m \u001b[1;33m=\u001b[0m \u001b[0mpickle\u001b[0m\u001b[1;33m.\u001b[0m\u001b[0mload\u001b[0m\u001b[1;33m(\u001b[0m\u001b[0mf\u001b[0m\u001b[1;33m)\u001b[0m\u001b[1;33m\u001b[0m\u001b[1;33m\u001b[0m\u001b[0m\n\u001b[0m\u001b[0;32m      4\u001b[0m     \u001b[1;32mfor\u001b[0m \u001b[0mi\u001b[0m \u001b[1;32min\u001b[0m \u001b[0ms\u001b[0m\u001b[1;33m:\u001b[0m\u001b[1;33m\u001b[0m\u001b[1;33m\u001b[0m\u001b[0m\n\u001b[0;32m      5\u001b[0m             \u001b[0mprint\u001b[0m\u001b[1;33m(\u001b[0m\u001b[0mi\u001b[0m\u001b[1;33m)\u001b[0m\u001b[1;33m\u001b[0m\u001b[1;33m\u001b[0m\u001b[0m\n",
      "\u001b[1;31mEOFError\u001b[0m: Ran out of input"
     ]
    }
   ],
   "source": [
    "f = open('binary.dat','rb')\n",
    "while True:\n",
    "    s = pickle.load(f)\n",
    "    for i in s:\n",
    "            print(i)\n",
    "f.close()"
   ]
  },
  {
   "cell_type": "code",
   "execution_count": 9,
   "metadata": {},
   "outputs": [
    {
     "name": "stdout",
     "output_type": "stream",
     "text": [
      "[1, 'Arvind', '90']\n",
      "[2, 'Amit', '85']\n",
      "[3, 'abc', '98']\n",
      "[4, 'xyz', '54']\n"
     ]
    }
   ],
   "source": [
    "f = open('binary.dat','rb')\n",
    "try:\n",
    "    while True:\n",
    "        s = pickle.load(f)\n",
    "        for i in s:\n",
    "            print(i)\n",
    "except EOFError:\n",
    "    f.close()"
   ]
  },
  {
   "cell_type": "code",
   "execution_count": 12,
   "metadata": {},
   "outputs": [
    {
     "name": "stdout",
     "output_type": "stream",
     "text": [
      "Enter first number: 23\n",
      "Enter Second number: 0\n",
      "Can not divide by zero\n"
     ]
    }
   ],
   "source": [
    "a = int(input('Enter first number: '))\n",
    "b = int(input('Enter Second number: '))\n",
    "try:\n",
    "    c = a/b\n",
    "    print(c)\n",
    "except ZeroDivisionError:\n",
    "    print('Can not divide by zero')"
   ]
  },
  {
   "cell_type": "code",
   "execution_count": 13,
   "metadata": {},
   "outputs": [
    {
     "name": "stdout",
     "output_type": "stream",
     "text": [
      "Enter first number: 9\n",
      "Enter Second number: 0\n",
      "Can not divide by zero\n"
     ]
    }
   ],
   "source": [
    "a = int(input('Enter first number: '))\n",
    "b = int(input('Enter Second number: '))\n",
    "try:\n",
    "    c = a/b\n",
    "    print(c)\n",
    "except Exception:\n",
    "    print('Can not divide by zero')"
   ]
  },
  {
   "cell_type": "code",
   "execution_count": 16,
   "metadata": {},
   "outputs": [
    {
     "name": "stdout",
     "output_type": "stream",
     "text": [
      "File not found\n"
     ]
    }
   ],
   "source": [
    "try:\n",
    "    f = open('arv.dat','rb')\n",
    "    data = pickle.load(f)\n",
    "    print(data)\n",
    "    f.close()\n",
    "except Exception:\n",
    "    print('File not found')"
   ]
  },
  {
   "cell_type": "code",
   "execution_count": 21,
   "metadata": {},
   "outputs": [
    {
     "name": "stdout",
     "output_type": "stream",
     "text": [
      "Enter the roll number: 1\n",
      "Enter the name: arvind\n",
      "Enter the marks: 89\n",
      "Do you want to add more(y/n)?y\n",
      "Enter the roll number: 2\n",
      "Enter the name: abc\n",
      "Enter the marks: 78\n",
      "Do you want to add more(y/n)?n\n"
     ]
    }
   ],
   "source": [
    "def writedict():\n",
    "    f = open('dic.dat','wb')\n",
    "    d = {}\n",
    "    while True:\n",
    "        r = int(input('Enter the roll number: '))\n",
    "        name = input('Enter the name: ')\n",
    "        marks = int(input('Enter the marks: '))\n",
    "        d['roll'] = r\n",
    "        d['name'] = name\n",
    "        d['marks']= marks\n",
    "        pickle.dump(d,f)\n",
    "        ch = input('Do you want to add more(y/n)?')\n",
    "        if ch == 'n':\n",
    "            break\n",
    "    f.close()\n",
    "writedict()"
   ]
  },
  {
   "cell_type": "code",
   "execution_count": 22,
   "metadata": {},
   "outputs": [
    {
     "name": "stdout",
     "output_type": "stream",
     "text": [
      "{'roll': 1, 'name': 'arvind', 'marks': 89}\n",
      "{'roll': 2, 'name': 'abc', 'marks': 78}\n"
     ]
    }
   ],
   "source": [
    "def readdict():\n",
    "    f = open('dic.dat','rb')\n",
    "    try:\n",
    "        while True:\n",
    "            rec = pickle.load(f)\n",
    "            print(rec)\n",
    "    except EOFError:\n",
    "        f.close()\n",
    "readdict()"
   ]
  },
  {
   "cell_type": "code",
   "execution_count": 23,
   "metadata": {},
   "outputs": [
    {
     "name": "stdout",
     "output_type": "stream",
     "text": [
      "Enter the roll number: 5\n",
      "Enter the name: amit\n",
      "Enter the marks: 89\n",
      "Do you want to add more(y/n)?y\n",
      "Enter the roll number: 6\n",
      "Enter the name: kukku\n",
      "Enter the marks: 67\n",
      "Do you want to add more(y/n)?n\n"
     ]
    }
   ],
   "source": [
    "def writedict():\n",
    "    f = open('dic.dat','ab')\n",
    "    d = {}\n",
    "    while True:\n",
    "        r = int(input('Enter the roll number: '))\n",
    "        name = input('Enter the name: ')\n",
    "        marks = int(input('Enter the marks: '))\n",
    "        d['roll'] = r\n",
    "        d['name'] = name\n",
    "        d['marks']= marks\n",
    "        pickle.dump(d,f)\n",
    "        ch = input('Do you want to add more(y/n)?')\n",
    "        if ch == 'n':\n",
    "            break\n",
    "    f.close()\n",
    "writedict()"
   ]
  },
  {
   "cell_type": "code",
   "execution_count": 24,
   "metadata": {},
   "outputs": [
    {
     "name": "stdout",
     "output_type": "stream",
     "text": [
      "{'roll': 1, 'name': 'arvind', 'marks': 89}\n",
      "{'roll': 2, 'name': 'abc', 'marks': 78}\n",
      "{'roll': 5, 'name': 'amit', 'marks': 89}\n",
      "{'roll': 6, 'name': 'kukku', 'marks': 67}\n"
     ]
    }
   ],
   "source": [
    "def readdict():\n",
    "    f = open('dic.dat','rb')\n",
    "    try:\n",
    "        while True:\n",
    "            rec = pickle.load(f)\n",
    "            print(rec)\n",
    "    except EOFError:\n",
    "        f.close()\n",
    "readdict()"
   ]
  },
  {
   "cell_type": "code",
   "execution_count": null,
   "metadata": {},
   "outputs": [],
   "source": []
  },
  {
   "cell_type": "code",
   "execution_count": null,
   "metadata": {},
   "outputs": [],
   "source": []
  },
  {
   "cell_type": "code",
   "execution_count": null,
   "metadata": {},
   "outputs": [],
   "source": []
  },
  {
   "cell_type": "code",
   "execution_count": null,
   "metadata": {},
   "outputs": [],
   "source": []
  },
  {
   "cell_type": "code",
   "execution_count": null,
   "metadata": {},
   "outputs": [],
   "source": []
  },
  {
   "cell_type": "code",
   "execution_count": 4,
   "metadata": {},
   "outputs": [],
   "source": [
    "import pickle"
   ]
  },
  {
   "cell_type": "code",
   "execution_count": 5,
   "metadata": {},
   "outputs": [
    {
     "name": "stdout",
     "output_type": "stream",
     "text": [
      "[1, 'Arvind', '90']\n",
      "[2, 'Amit', '85']\n"
     ]
    }
   ],
   "source": [
    "f = open('binary.dat','rb')\n",
    "try:\n",
    "    while True:\n",
    "        s = pickle.load(f)\n",
    "        for i in s:\n",
    "            print(i)\n",
    "except EOFError:\n",
    "        f.close()\n",
    "f.close()"
   ]
  },
  {
   "cell_type": "markdown",
   "metadata": {},
   "source": [
    "# 6. Write a program to search record from binary file."
   ]
  },
  {
   "cell_type": "code",
   "execution_count": 35,
   "metadata": {},
   "outputs": [
    {
     "name": "stdout",
     "output_type": "stream",
     "text": [
      "Enter roll number to search: 2\n",
      "[2, 'Amit', '85']\n"
     ]
    }
   ],
   "source": [
    "f = open('binary.dat','rb')\n",
    "s = pickle.load(f)\n",
    "r = int(input('Enter roll number to search: '))\n",
    "found = 0\n",
    "for i in s:\n",
    "    if i[0]==r:\n",
    "        print(i)\n",
    "        found=1\n",
    "        \n",
    "if found==0:\n",
    "    print('Record not found')"
   ]
  },
  {
   "cell_type": "markdown",
   "metadata": {},
   "source": [
    "# Consider the binary file as 'emp.dat' storing the details of employees such as empid, name, salary, gender and designation. "
   ]
  },
  {
   "cell_type": "code",
   "execution_count": 17,
   "metadata": {},
   "outputs": [
    {
     "name": "stdout",
     "output_type": "stream",
     "text": [
      "Enter the Emp Id: 1\n",
      "Enter the Name: arvind\n",
      "Enter the Salary: 50000\n",
      "Enter the Gender(M/F): M\n",
      "Enter the Designation: AP\n",
      "Do you want to add more records(y/n)?: n\n"
     ]
    }
   ],
   "source": [
    "import pickle\n",
    "f = open('emp.dat','wb')\n",
    "list1 = []\n",
    "while True:\n",
    "    empid = int(input('Enter the Emp Id: '))\n",
    "    name = input('Enter the Name: ')\n",
    "    salary = int(input('Enter the Salary: '))\n",
    "    gender = input('Enter the Gender(M/F): ')\n",
    "    desig = input('Enter the Designation: ')\n",
    "    ls = [empid,name,salary,gender,desig]\n",
    "    list1.append(ls)\n",
    "    ch = input('Do you want to add more records(y/n)?: ')\n",
    "    if ch=='n':\n",
    "        break\n",
    "pickle.dump(list1,f)\n",
    "f.close()"
   ]
  },
  {
   "cell_type": "markdown",
   "metadata": {},
   "source": [
    "# Write a program to read all details from the file emp.dat"
   ]
  },
  {
   "cell_type": "code",
   "execution_count": 37,
   "metadata": {},
   "outputs": [
    {
     "name": "stdout",
     "output_type": "stream",
     "text": [
      "[1, 'Reshu', 60000, 'F', 'Prof']\n",
      "[2, 'Arvind', 40000, 'M', 'Director']\n",
      "[5, 'Amit', 75000, 'M', 'AS']\n"
     ]
    }
   ],
   "source": [
    "f = open('emp.dat','rb')\n",
    "try:\n",
    "    rec = pickle.load(f)\n",
    "    for i in rec:\n",
    "        print(i)\n",
    "except EOFerror:\n",
    "    f.close()"
   ]
  },
  {
   "cell_type": "markdown",
   "metadata": {},
   "source": [
    "# 7. Write a program to search and display the details of a perticular employee whose empid is passed as a parameter to the function"
   ]
  },
  {
   "cell_type": "code",
   "execution_count": 45,
   "metadata": {},
   "outputs": [
    {
     "name": "stdout",
     "output_type": "stream",
     "text": [
      "Enter emp id to search: 6\n",
      "Record not found\n"
     ]
    }
   ],
   "source": [
    "def searchemp(n):\n",
    "    f = open('emp.dat','rb')\n",
    "    found = 0\n",
    "    try:\n",
    "        rec = pickle.load(f)\n",
    "        for i in rec:\n",
    "            if i[0]==n:\n",
    "                print(i)\n",
    "                found = 1\n",
    "    except EOFError:\n",
    "        f.close()\n",
    "    if found == 0:\n",
    "        print('Record not found')\n",
    "\n",
    "n = int(input('Enter emp id to search: '))\n",
    "searchemp(n)"
   ]
  },
  {
   "cell_type": "code",
   "execution_count": 46,
   "metadata": {},
   "outputs": [
    {
     "name": "stdout",
     "output_type": "stream",
     "text": [
      "Enter emp id to search: 1\n",
      "[1, 'Reshu', 60000, 'F', 'Prof']\n"
     ]
    }
   ],
   "source": [
    "def searchemp():\n",
    "    f = open('emp.dat','rb')\n",
    "    n = int(input('Enter emp id to search: '))\n",
    "    found = 0\n",
    "    try:\n",
    "        rec = pickle.load(f)\n",
    "        for i in rec:\n",
    "            if i[0]==n:\n",
    "                print(i)\n",
    "                found = 1\n",
    "    except EOFError:\n",
    "        f.close()\n",
    "searchemp()"
   ]
  },
  {
   "cell_type": "code",
   "execution_count": 19,
   "metadata": {},
   "outputs": [
    {
     "name": "stdout",
     "output_type": "stream",
     "text": [
      "Enter the empid to search: 1\n",
      "[1, 'arvind', 50000, 'M', 'AP']\n"
     ]
    }
   ],
   "source": [
    "f = open('emp.dat','rb')\n",
    "n = int(input('Enter the empid to search: '))\n",
    "found = 0\n",
    "try:\n",
    "    rec = pickle.load(f)\n",
    "    for i in rec:\n",
    "        if i[0]==n:\n",
    "            print(i)\n",
    "            found=1\n",
    "except EOFerror:\n",
    "    f.close()\n",
    "if found ==0:\n",
    "    print('Record not found')"
   ]
  },
  {
   "cell_type": "code",
   "execution_count": 64,
   "metadata": {},
   "outputs": [],
   "source": [
    "import pickle"
   ]
  },
  {
   "cell_type": "markdown",
   "metadata": {},
   "source": [
    "# 8. Write a program to search and display the names of all employees whose salary is in the range of 50000 to 80000"
   ]
  },
  {
   "cell_type": "code",
   "execution_count": 74,
   "metadata": {},
   "outputs": [
    {
     "name": "stdout",
     "output_type": "stream",
     "text": [
      "Reshu\n",
      "Amit\n"
     ]
    }
   ],
   "source": [
    "def searchsal():\n",
    "    f  = open('emp.dat','rb')\n",
    "    found = 0\n",
    "    try:\n",
    "        rec = pickle.load(f)\n",
    "        for i in rec:\n",
    "            if i[2]>=50000 and i[2]<80000:\n",
    "                print(i[1])\n",
    "                found=1\n",
    "    except EOFError:\n",
    "        f.close()\n",
    "        \n",
    "    if found ==0:\n",
    "        print('Record not found')\n",
    "        \n",
    "searchsal()\n",
    "    "
   ]
  },
  {
   "cell_type": "markdown",
   "metadata": {},
   "source": [
    "# 9. Write a program to transfer all records from emp.dat file to emp1.dat file of those employees whose gender is 'M'"
   ]
  },
  {
   "cell_type": "code",
   "execution_count": 79,
   "metadata": {},
   "outputs": [],
   "source": [
    "def transfer():\n",
    "    f = open('emp.dat','rb')\n",
    "    f1 = open('emp2.dat','wb')\n",
    "    list1 = []\n",
    "    try:\n",
    "        rec = pickle.load(f)\n",
    "        for i in rec:\n",
    "            if i[3] == 'M':\n",
    "                list1.append(i)\n",
    "        pickle.dump(list1,f1)\n",
    "    except EOFError:\n",
    "        f.close()\n",
    "        f1.close()\n",
    "transfer()"
   ]
  },
  {
   "cell_type": "code",
   "execution_count": 77,
   "metadata": {},
   "outputs": [],
   "source": [
    "def transfer():\n",
    "    f = open('emp.dat','rb')\n",
    "    f1 = open('emp2.dat','wb')\n",
    "    list1 = []\n",
    "    try:\n",
    "        while True:\n",
    "            rec = pickle.load(f)\n",
    "            for i in rec:\n",
    "                if i[3] == 'M':\n",
    "                    list1.append(i)\n",
    "                    pickle.dump(list1,f1)\n",
    "    except EOFError:\n",
    "        f.close()\n",
    "        f1.close()\n",
    "transfer()"
   ]
  },
  {
   "cell_type": "code",
   "execution_count": 21,
   "metadata": {},
   "outputs": [],
   "source": [
    "f = open('emp.dat','rb')\n",
    "f1 = open('emp1.dat','wb')\n",
    "list1 = []\n",
    "try:\n",
    "    rec = pickle.load(f)\n",
    "    for i in rec:\n",
    "        if i[3] == 'M':\n",
    "            list1.append(i)\n",
    "    pickle.dump(list1,f1)\n",
    "except EOFError:\n",
    "    f.close()\n",
    "    f1.close()"
   ]
  },
  {
   "cell_type": "code",
   "execution_count": 80,
   "metadata": {},
   "outputs": [
    {
     "name": "stdout",
     "output_type": "stream",
     "text": [
      "[2, 'Arvind', 40000, 'M', 'Director']\n",
      "[5, 'Amit', 75000, 'M', 'AS']\n"
     ]
    }
   ],
   "source": [
    "f = open('emp2.dat','rb')\n",
    "try:\n",
    "    rec = pickle.load(f)\n",
    "    for i in rec:\n",
    "        print(i)\n",
    "except EOFerror:\n",
    "    f.close()"
   ]
  },
  {
   "cell_type": "markdown",
   "metadata": {},
   "source": [
    "# Copy records from one binary file to another based on conditions."
   ]
  },
  {
   "cell_type": "markdown",
   "metadata": {},
   "source": [
    "# A file sports.dat contains information in the following format: [event,participants] for each sportsperson. "
   ]
  },
  {
   "cell_type": "markdown",
   "metadata": {},
   "source": [
    "# Write a function that would read contents from 'sports.dat' file and creates a file names 'athletics.dat' copying only those records from 'sports.dat' where the event name is 'athletics'."
   ]
  },
  {
   "cell_type": "code",
   "execution_count": 12,
   "metadata": {},
   "outputs": [
    {
     "name": "stdout",
     "output_type": "stream",
     "text": [
      "Enter Event Name: cricket\n",
      "Enter Participant Name: arvind\n",
      "Do you want to add more records(y/n)?: y\n",
      "Enter Event Name: footbal\n",
      "Enter Participant Name: kukku\n",
      "Do you want to add more records(y/n)?: y\n",
      "Enter Event Name: badminton\n",
      "Enter Participant Name: amit\n",
      "Do you want to add more records(y/n)?: n\n",
      "Read from sports\n",
      "['cricket', 'arvind']\n",
      "['footbal', 'kukku']\n",
      "['badminton', 'amit']\n",
      "Read from athletics\n",
      "['cricket', 'arvind']\n"
     ]
    }
   ],
   "source": [
    "import pickle\n",
    "def write():\n",
    "    \n",
    "    f = open('sports.dat','wb')\n",
    "    list1 = []\n",
    "    while True:\n",
    "        e = input('Enter Event Name: ')\n",
    "        p = input('Enter Participant Name: ')\n",
    "        data = [e,p]\n",
    "        list1.append(data)\n",
    "        ch = input('Do you want to add more records(y/n)?: ')\n",
    "        if ch =='n' or ch=='N':\n",
    "            break\n",
    "    pickle.dump(list1,f)\n",
    "    f.close()\n",
    "    \n",
    "def read():\n",
    "    print('Read from sports')\n",
    "    f  = open('sports.dat','rb')\n",
    "    try:\n",
    "        rec = pickle.load(f)\n",
    "        for i in rec:\n",
    "            print(i)\n",
    "    except EOFError:\n",
    "        f.close()\n",
    "\n",
    "def copy():\n",
    "    f = open('sports.dat','rb')\n",
    "    f1 = open('athletics.dat','wb')\n",
    "    list1 = []\n",
    "    try:\n",
    "        rec = pickle.load(f)\n",
    "        for i in rec:\n",
    "            if i[0]=='cricket':\n",
    "                list1.append(i)\n",
    "        pickle.dump(list1,f1)\n",
    "    except EOFError:\n",
    "        f.close()\n",
    "        f1.close()\n",
    "        \n",
    "def readath():\n",
    "    print('Read from athletics')\n",
    "    f = open('athletics.dat','rb')\n",
    "    try:\n",
    "        rec = pickle.load(f)\n",
    "        for i in rec:\n",
    "            print(i)\n",
    "    except EOFError:\n",
    "        f.close()\n",
    "\n",
    "write()\n",
    "read()\n",
    "copy()\n",
    "readath()"
   ]
  },
  {
   "cell_type": "markdown",
   "metadata": {},
   "source": [
    "# 3 Write a program to read content from the binary file having information player id, player name, total runs and country and then perform the following operations. "
   ]
  },
  {
   "cell_type": "code",
   "execution_count": 81,
   "metadata": {},
   "outputs": [
    {
     "name": "stdout",
     "output_type": "stream",
     "text": [
      "Enter player id: 1\n",
      "Enter player name: arvind\n",
      "Enter total runs:  11200\n",
      "Enter country name: india\n",
      "Do you want to add more records: y\n",
      "Enter player id: 2\n",
      "Enter player name: amit\n",
      "Enter total runs:  5864\n",
      "Enter country name: aus\n",
      "Do you want to add more records: y\n",
      "Enter player id: 3\n",
      "Enter player name: kukku\n",
      "Enter total runs:  56324\n",
      "Enter country name: pak\n",
      "Do you want to add more records: n\n"
     ]
    }
   ],
   "source": [
    "def writeckt():\n",
    "    f = open('ckt.dat','wb')\n",
    "    players = {}\n",
    "    while True:\n",
    "        pid = int(input('Enter player id: '))\n",
    "        pname = input('Enter player name: ')\n",
    "        trun = int(input('Enter total runs:  '))\n",
    "        pcountry = input('Enter country name: ')\n",
    "        players['id'] = pid\n",
    "        players['name'] = pname\n",
    "        players['total-runs'] = trun\n",
    "        players['country'] = pcountry\n",
    "        pickle.dump(players,f)\n",
    "        ch = input('Do you want to add more records: ')\n",
    "        if ch == 'n':\n",
    "            break\n",
    "    f.close()\n",
    "writeckt()    "
   ]
  },
  {
   "cell_type": "markdown",
   "metadata": {},
   "source": [
    "# Reading file"
   ]
  },
  {
   "cell_type": "code",
   "execution_count": 91,
   "metadata": {},
   "outputs": [
    {
     "name": "stdout",
     "output_type": "stream",
     "text": [
      "{'id': 1, 'name': 'arvind', 'total-runs': 11200, 'country': 'india'}\n",
      "{'id': 2, 'name': 'amit', 'total-runs': 5864, 'country': 'aus'}\n",
      "{'id': 3, 'name': 'kukku', 'total-runs': 56324, 'country': 'pak'}\n",
      "{'id': 4, 'name': 'sachin', 'total-runs': 8564, 'country': 'india'}\n",
      "{'id': 5, 'name': 'pintu', 'total-runs': 6542, 'country': 'pak'}\n"
     ]
    }
   ],
   "source": [
    "def readckt():\n",
    "    f = open('ckt.dat','rb')\n",
    "    try:\n",
    "        while True:\n",
    "            rec = pickle.load(f)\n",
    "            print(rec)\n",
    "    except EOFError:\n",
    "        f.close()\n",
    "readckt()"
   ]
  },
  {
   "cell_type": "code",
   "execution_count": 90,
   "metadata": {},
   "outputs": [
    {
     "name": "stdout",
     "output_type": "stream",
     "text": [
      "Enter player id: 4\n",
      "Enter player name: sachin\n",
      "Enter total runs:  8564\n",
      "Enter country name: india\n",
      "Do you want to add more records: y\n",
      "Enter player id: 5\n",
      "Enter player name: pintu\n",
      "Enter total runs:  6542\n",
      "Enter country name: pak\n",
      "Do you want to add more records: n\n"
     ]
    }
   ],
   "source": [
    "def writecktappend():\n",
    "    f = open('ckt.dat','ab')\n",
    "    players = {}\n",
    "    while True:\n",
    "        pid = int(input('Enter player id: '))\n",
    "        pname = input('Enter player name: ')\n",
    "        trun = int(input('Enter total runs:  '))\n",
    "        pcountry = input('Enter country name: ')\n",
    "        players['id'] = pid\n",
    "        players['name'] = pname\n",
    "        players['total-runs'] = trun\n",
    "        players['country'] = pcountry\n",
    "        pickle.dump(players,f)\n",
    "        ch = input('Do you want to add more records: ')\n",
    "        if ch == 'n':\n",
    "            break\n",
    "    f.close()\n",
    "writecktappend()    "
   ]
  },
  {
   "cell_type": "markdown",
   "metadata": {},
   "source": [
    "# Input country name from the user and count the number of players of that country. \n"
   ]
  },
  {
   "cell_type": "code",
   "execution_count": 92,
   "metadata": {},
   "outputs": [
    {
     "name": "stdout",
     "output_type": "stream",
     "text": [
      "Enter country name: india\n",
      "total player from india are 2\n"
     ]
    }
   ],
   "source": [
    "def searchcountry():\n",
    "    f = open('ckt.dat','rb')\n",
    "    count = 0\n",
    "    found = 0\n",
    "    c  = input('Enter country name: ')\n",
    "    try:\n",
    "        while True:\n",
    "            rec = pickle.load(f)\n",
    "            if rec['country'] == c:\n",
    "                count+=1\n",
    "                found = 1\n",
    "    except EOFError:\n",
    "        f.close()\n",
    "    \n",
    "    if found == 0:\n",
    "        print('record not found')\n",
    "    else:\n",
    "        print('total player from',c,'are',count)\n",
    "searchcountry()"
   ]
  },
  {
   "cell_type": "markdown",
   "metadata": {},
   "source": [
    "# Display all records where player names starts from a. "
   ]
  },
  {
   "cell_type": "code",
   "execution_count": 98,
   "metadata": {},
   "outputs": [
    {
     "name": "stdout",
     "output_type": "stream",
     "text": [
      "{'id': 1, 'name': 'arvind', 'total-runs': 11200, 'country': 'india'}\n",
      "{'id': 2, 'name': 'amit', 'total-runs': 5864, 'country': 'aus'}\n"
     ]
    }
   ],
   "source": [
    "def searchwitha():\n",
    "    f = open('ckt.dat','rb')\n",
    "    found = 0\n",
    "    try:\n",
    "        while True:\n",
    "            rec = pickle.load(f)\n",
    "            if rec['name'].startswith('a') == True:\n",
    "                print(rec)\n",
    "                found = 1\n",
    "    except EOFError:\n",
    "        f.close()\n",
    "    \n",
    "    if found == 0:\n",
    "        print('record not found')\n",
    "    \n",
    "searchwitha()"
   ]
  },
  {
   "cell_type": "markdown",
   "metadata": {},
   "source": [
    "# Display records of players whose total runs are more than 10000. "
   ]
  },
  {
   "cell_type": "code",
   "execution_count": 100,
   "metadata": {},
   "outputs": [
    {
     "name": "stdout",
     "output_type": "stream",
     "text": [
      "{'id': 1, 'name': 'arvind', 'total-runs': 11200, 'country': 'india'}\n",
      "{'id': 3, 'name': 'kukku', 'total-runs': 56324, 'country': 'pak'}\n"
     ]
    }
   ],
   "source": [
    "def searchruns():\n",
    "    f = open('ckt.dat','rb')\n",
    "    found = 0\n",
    "    try:\n",
    "        while True:\n",
    "            rec = pickle.load(f)\n",
    "            if rec['total-runs']>=10000:\n",
    "                print(rec)\n",
    "                found = 1\n",
    "    except EOFError:\n",
    "        f.close()\n",
    "    \n",
    "    if found == 0:\n",
    "        print('record not found')\n",
    "    \n",
    "searchruns()"
   ]
  },
  {
   "cell_type": "code",
   "execution_count": null,
   "metadata": {},
   "outputs": [],
   "source": []
  },
  {
   "cell_type": "code",
   "execution_count": null,
   "metadata": {},
   "outputs": [],
   "source": []
  },
  {
   "cell_type": "code",
   "execution_count": null,
   "metadata": {},
   "outputs": [],
   "source": []
  },
  {
   "cell_type": "code",
   "execution_count": 2,
   "metadata": {},
   "outputs": [
    {
     "name": "stdout",
     "output_type": "stream",
     "text": [
      "Read from sports\n"
     ]
    },
    {
     "ename": "UnpicklingError",
     "evalue": "invalid load key, '\\xd0'.",
     "output_type": "error",
     "traceback": [
      "\u001b[1;31m---------------------------------------------------------------------------\u001b[0m",
      "\u001b[1;31mUnpicklingError\u001b[0m                           Traceback (most recent call last)",
      "\u001b[1;32m<ipython-input-2-70044598a720>\u001b[0m in \u001b[0;36m<module>\u001b[1;34m\u001b[0m\n\u001b[0;32m      9\u001b[0m     \u001b[1;32mexcept\u001b[0m \u001b[0mEOFError\u001b[0m\u001b[1;33m:\u001b[0m\u001b[1;33m\u001b[0m\u001b[1;33m\u001b[0m\u001b[0m\n\u001b[0;32m     10\u001b[0m         \u001b[0mf\u001b[0m\u001b[1;33m.\u001b[0m\u001b[0mclose\u001b[0m\u001b[1;33m(\u001b[0m\u001b[1;33m)\u001b[0m\u001b[1;33m\u001b[0m\u001b[1;33m\u001b[0m\u001b[0m\n\u001b[1;32m---> 11\u001b[1;33m \u001b[0mread\u001b[0m\u001b[1;33m(\u001b[0m\u001b[1;33m)\u001b[0m\u001b[1;33m\u001b[0m\u001b[1;33m\u001b[0m\u001b[0m\n\u001b[0m",
      "\u001b[1;32m<ipython-input-2-70044598a720>\u001b[0m in \u001b[0;36mread\u001b[1;34m()\u001b[0m\n\u001b[0;32m      4\u001b[0m     \u001b[0mf\u001b[0m  \u001b[1;33m=\u001b[0m \u001b[0mopen\u001b[0m\u001b[1;33m(\u001b[0m\u001b[1;34m'ppp.doc'\u001b[0m\u001b[1;33m,\u001b[0m\u001b[1;34m'rb'\u001b[0m\u001b[1;33m)\u001b[0m\u001b[1;33m\u001b[0m\u001b[1;33m\u001b[0m\u001b[0m\n\u001b[0;32m      5\u001b[0m     \u001b[1;32mtry\u001b[0m\u001b[1;33m:\u001b[0m\u001b[1;33m\u001b[0m\u001b[1;33m\u001b[0m\u001b[0m\n\u001b[1;32m----> 6\u001b[1;33m         \u001b[0mrec\u001b[0m \u001b[1;33m=\u001b[0m \u001b[0mpickle\u001b[0m\u001b[1;33m.\u001b[0m\u001b[0mload\u001b[0m\u001b[1;33m(\u001b[0m\u001b[0mf\u001b[0m\u001b[1;33m)\u001b[0m\u001b[1;33m\u001b[0m\u001b[1;33m\u001b[0m\u001b[0m\n\u001b[0m\u001b[0;32m      7\u001b[0m         \u001b[1;32mfor\u001b[0m \u001b[0mi\u001b[0m \u001b[1;32min\u001b[0m \u001b[0mrec\u001b[0m\u001b[1;33m:\u001b[0m\u001b[1;33m\u001b[0m\u001b[1;33m\u001b[0m\u001b[0m\n\u001b[0;32m      8\u001b[0m             \u001b[0mprint\u001b[0m\u001b[1;33m(\u001b[0m\u001b[0mi\u001b[0m\u001b[1;33m)\u001b[0m\u001b[1;33m\u001b[0m\u001b[1;33m\u001b[0m\u001b[0m\n",
      "\u001b[1;31mUnpicklingError\u001b[0m: invalid load key, '\\xd0'."
     ]
    }
   ],
   "source": [
    "import pickle\n",
    "def read():\n",
    "    print('Read from sports')\n",
    "    f  = open('ppp.doc','rb')\n",
    "    try:\n",
    "        rec = pickle.load(f)\n",
    "        for i in rec:\n",
    "            print(i)\n",
    "    except EOFError:\n",
    "        f.close()\n",
    "read()"
   ]
  },
  {
   "cell_type": "code",
   "execution_count": 1,
   "metadata": {},
   "outputs": [
    {
     "ename": "ShellError",
     "evalue": "The command `antiword ppp.doc` failed with exit code 127\n------------- stdout -------------\n------------- stderr -------------\n",
     "output_type": "error",
     "traceback": [
      "\u001b[1;31m---------------------------------------------------------------------------\u001b[0m",
      "\u001b[1;31mFileNotFoundError\u001b[0m                         Traceback (most recent call last)",
      "\u001b[1;32mc:\\users\\arvind\\appdata\\local\\programs\\python\\python37\\lib\\site-packages\\textract\\parsers\\utils.py\u001b[0m in \u001b[0;36mrun\u001b[1;34m(self, args)\u001b[0m\n\u001b[0;32m     83\u001b[0m                 \u001b[0margs\u001b[0m\u001b[1;33m,\u001b[0m\u001b[1;33m\u001b[0m\u001b[1;33m\u001b[0m\u001b[0m\n\u001b[1;32m---> 84\u001b[1;33m                 \u001b[0mstdout\u001b[0m\u001b[1;33m=\u001b[0m\u001b[0msubprocess\u001b[0m\u001b[1;33m.\u001b[0m\u001b[0mPIPE\u001b[0m\u001b[1;33m,\u001b[0m \u001b[0mstderr\u001b[0m\u001b[1;33m=\u001b[0m\u001b[0msubprocess\u001b[0m\u001b[1;33m.\u001b[0m\u001b[0mPIPE\u001b[0m\u001b[1;33m,\u001b[0m\u001b[1;33m\u001b[0m\u001b[1;33m\u001b[0m\u001b[0m\n\u001b[0m\u001b[0;32m     85\u001b[0m             )\n",
      "\u001b[1;32mc:\\users\\arvind\\appdata\\local\\programs\\python\\python37\\lib\\subprocess.py\u001b[0m in \u001b[0;36m__init__\u001b[1;34m(self, args, bufsize, executable, stdin, stdout, stderr, preexec_fn, close_fds, shell, cwd, env, universal_newlines, startupinfo, creationflags, restore_signals, start_new_session, pass_fds, encoding, errors, text)\u001b[0m\n\u001b[0;32m    799\u001b[0m                                 \u001b[0merrread\u001b[0m\u001b[1;33m,\u001b[0m \u001b[0merrwrite\u001b[0m\u001b[1;33m,\u001b[0m\u001b[1;33m\u001b[0m\u001b[1;33m\u001b[0m\u001b[0m\n\u001b[1;32m--> 800\u001b[1;33m                                 restore_signals, start_new_session)\n\u001b[0m\u001b[0;32m    801\u001b[0m         \u001b[1;32mexcept\u001b[0m\u001b[1;33m:\u001b[0m\u001b[1;33m\u001b[0m\u001b[1;33m\u001b[0m\u001b[0m\n",
      "\u001b[1;32mc:\\users\\arvind\\appdata\\local\\programs\\python\\python37\\lib\\subprocess.py\u001b[0m in \u001b[0;36m_execute_child\u001b[1;34m(self, args, executable, preexec_fn, close_fds, pass_fds, cwd, env, startupinfo, creationflags, shell, p2cread, p2cwrite, c2pread, c2pwrite, errread, errwrite, unused_restore_signals, unused_start_new_session)\u001b[0m\n\u001b[0;32m   1206\u001b[0m                                          \u001b[0mos\u001b[0m\u001b[1;33m.\u001b[0m\u001b[0mfspath\u001b[0m\u001b[1;33m(\u001b[0m\u001b[0mcwd\u001b[0m\u001b[1;33m)\u001b[0m \u001b[1;32mif\u001b[0m \u001b[0mcwd\u001b[0m \u001b[1;32mis\u001b[0m \u001b[1;32mnot\u001b[0m \u001b[1;32mNone\u001b[0m \u001b[1;32melse\u001b[0m \u001b[1;32mNone\u001b[0m\u001b[1;33m,\u001b[0m\u001b[1;33m\u001b[0m\u001b[1;33m\u001b[0m\u001b[0m\n\u001b[1;32m-> 1207\u001b[1;33m                                          startupinfo)\n\u001b[0m\u001b[0;32m   1208\u001b[0m             \u001b[1;32mfinally\u001b[0m\u001b[1;33m:\u001b[0m\u001b[1;33m\u001b[0m\u001b[1;33m\u001b[0m\u001b[0m\n",
      "\u001b[1;31mFileNotFoundError\u001b[0m: [WinError 2] The system cannot find the file specified",
      "\nDuring handling of the above exception, another exception occurred:\n",
      "\u001b[1;31mShellError\u001b[0m                                Traceback (most recent call last)",
      "\u001b[1;32m<ipython-input-1-1f57a135721b>\u001b[0m in \u001b[0;36m<module>\u001b[1;34m\u001b[0m\n\u001b[0;32m      1\u001b[0m \u001b[1;32mimport\u001b[0m \u001b[0mtextract\u001b[0m\u001b[1;33m\u001b[0m\u001b[1;33m\u001b[0m\u001b[0m\n\u001b[1;32m----> 2\u001b[1;33m \u001b[0mtext\u001b[0m \u001b[1;33m=\u001b[0m \u001b[0mtextract\u001b[0m\u001b[1;33m.\u001b[0m\u001b[0mprocess\u001b[0m\u001b[1;33m(\u001b[0m\u001b[1;34m\"ppp.doc\"\u001b[0m\u001b[1;33m)\u001b[0m\u001b[1;33m\u001b[0m\u001b[1;33m\u001b[0m\u001b[0m\n\u001b[0m\u001b[0;32m      3\u001b[0m \u001b[0mprint\u001b[0m\u001b[1;33m(\u001b[0m\u001b[0mtext\u001b[0m\u001b[1;33m)\u001b[0m\u001b[1;33m\u001b[0m\u001b[1;33m\u001b[0m\u001b[0m\n",
      "\u001b[1;32mc:\\users\\arvind\\appdata\\local\\programs\\python\\python37\\lib\\site-packages\\textract\\parsers\\__init__.py\u001b[0m in \u001b[0;36mprocess\u001b[1;34m(filename, encoding, extension, **kwargs)\u001b[0m\n\u001b[0;32m     75\u001b[0m \u001b[1;33m\u001b[0m\u001b[0m\n\u001b[0;32m     76\u001b[0m     \u001b[0mparser\u001b[0m \u001b[1;33m=\u001b[0m \u001b[0mfiletype_module\u001b[0m\u001b[1;33m.\u001b[0m\u001b[0mParser\u001b[0m\u001b[1;33m(\u001b[0m\u001b[1;33m)\u001b[0m\u001b[1;33m\u001b[0m\u001b[1;33m\u001b[0m\u001b[0m\n\u001b[1;32m---> 77\u001b[1;33m     \u001b[1;32mreturn\u001b[0m \u001b[0mparser\u001b[0m\u001b[1;33m.\u001b[0m\u001b[0mprocess\u001b[0m\u001b[1;33m(\u001b[0m\u001b[0mfilename\u001b[0m\u001b[1;33m,\u001b[0m \u001b[0mencoding\u001b[0m\u001b[1;33m,\u001b[0m \u001b[1;33m**\u001b[0m\u001b[0mkwargs\u001b[0m\u001b[1;33m)\u001b[0m\u001b[1;33m\u001b[0m\u001b[1;33m\u001b[0m\u001b[0m\n\u001b[0m\u001b[0;32m     78\u001b[0m \u001b[1;33m\u001b[0m\u001b[0m\n\u001b[0;32m     79\u001b[0m \u001b[1;33m\u001b[0m\u001b[0m\n",
      "\u001b[1;32mc:\\users\\arvind\\appdata\\local\\programs\\python\\python37\\lib\\site-packages\\textract\\parsers\\utils.py\u001b[0m in \u001b[0;36mprocess\u001b[1;34m(self, filename, encoding, **kwargs)\u001b[0m\n\u001b[0;32m     44\u001b[0m         \u001b[1;31m# output encoding\u001b[0m\u001b[1;33m\u001b[0m\u001b[1;33m\u001b[0m\u001b[1;33m\u001b[0m\u001b[0m\n\u001b[0;32m     45\u001b[0m         \u001b[1;31m# http://nedbatchelder.com/text/unipain/unipain.html#35\u001b[0m\u001b[1;33m\u001b[0m\u001b[1;33m\u001b[0m\u001b[1;33m\u001b[0m\u001b[0m\n\u001b[1;32m---> 46\u001b[1;33m         \u001b[0mbyte_string\u001b[0m \u001b[1;33m=\u001b[0m \u001b[0mself\u001b[0m\u001b[1;33m.\u001b[0m\u001b[0mextract\u001b[0m\u001b[1;33m(\u001b[0m\u001b[0mfilename\u001b[0m\u001b[1;33m,\u001b[0m \u001b[1;33m**\u001b[0m\u001b[0mkwargs\u001b[0m\u001b[1;33m)\u001b[0m\u001b[1;33m\u001b[0m\u001b[1;33m\u001b[0m\u001b[0m\n\u001b[0m\u001b[0;32m     47\u001b[0m         \u001b[0municode_string\u001b[0m \u001b[1;33m=\u001b[0m \u001b[0mself\u001b[0m\u001b[1;33m.\u001b[0m\u001b[0mdecode\u001b[0m\u001b[1;33m(\u001b[0m\u001b[0mbyte_string\u001b[0m\u001b[1;33m)\u001b[0m\u001b[1;33m\u001b[0m\u001b[1;33m\u001b[0m\u001b[0m\n\u001b[0;32m     48\u001b[0m         \u001b[1;32mreturn\u001b[0m \u001b[0mself\u001b[0m\u001b[1;33m.\u001b[0m\u001b[0mencode\u001b[0m\u001b[1;33m(\u001b[0m\u001b[0municode_string\u001b[0m\u001b[1;33m,\u001b[0m \u001b[0mencoding\u001b[0m\u001b[1;33m)\u001b[0m\u001b[1;33m\u001b[0m\u001b[1;33m\u001b[0m\u001b[0m\n",
      "\u001b[1;32mc:\\users\\arvind\\appdata\\local\\programs\\python\\python37\\lib\\site-packages\\textract\\parsers\\doc_parser.py\u001b[0m in \u001b[0;36mextract\u001b[1;34m(self, filename, **kwargs)\u001b[0m\n\u001b[0;32m      7\u001b[0m \u001b[1;33m\u001b[0m\u001b[0m\n\u001b[0;32m      8\u001b[0m     \u001b[1;32mdef\u001b[0m \u001b[0mextract\u001b[0m\u001b[1;33m(\u001b[0m\u001b[0mself\u001b[0m\u001b[1;33m,\u001b[0m \u001b[0mfilename\u001b[0m\u001b[1;33m,\u001b[0m \u001b[1;33m**\u001b[0m\u001b[0mkwargs\u001b[0m\u001b[1;33m)\u001b[0m\u001b[1;33m:\u001b[0m\u001b[1;33m\u001b[0m\u001b[1;33m\u001b[0m\u001b[0m\n\u001b[1;32m----> 9\u001b[1;33m         \u001b[0mstdout\u001b[0m\u001b[1;33m,\u001b[0m \u001b[0mstderr\u001b[0m \u001b[1;33m=\u001b[0m \u001b[0mself\u001b[0m\u001b[1;33m.\u001b[0m\u001b[0mrun\u001b[0m\u001b[1;33m(\u001b[0m\u001b[1;33m[\u001b[0m\u001b[1;34m'antiword'\u001b[0m\u001b[1;33m,\u001b[0m \u001b[0mfilename\u001b[0m\u001b[1;33m]\u001b[0m\u001b[1;33m)\u001b[0m\u001b[1;33m\u001b[0m\u001b[1;33m\u001b[0m\u001b[0m\n\u001b[0m\u001b[0;32m     10\u001b[0m         \u001b[1;32mreturn\u001b[0m \u001b[0mstdout\u001b[0m\u001b[1;33m\u001b[0m\u001b[1;33m\u001b[0m\u001b[0m\n",
      "\u001b[1;32mc:\\users\\arvind\\appdata\\local\\programs\\python\\python37\\lib\\site-packages\\textract\\parsers\\utils.py\u001b[0m in \u001b[0;36mrun\u001b[1;34m(self, args)\u001b[0m\n\u001b[0;32m     89\u001b[0m                 \u001b[1;31m# This is equivalent to getting exitcode 127 from sh\u001b[0m\u001b[1;33m\u001b[0m\u001b[1;33m\u001b[0m\u001b[1;33m\u001b[0m\u001b[0m\n\u001b[0;32m     90\u001b[0m                 raise exceptions.ShellError(\n\u001b[1;32m---> 91\u001b[1;33m                     \u001b[1;34m' '\u001b[0m\u001b[1;33m.\u001b[0m\u001b[0mjoin\u001b[0m\u001b[1;33m(\u001b[0m\u001b[0margs\u001b[0m\u001b[1;33m)\u001b[0m\u001b[1;33m,\u001b[0m \u001b[1;36m127\u001b[0m\u001b[1;33m,\u001b[0m \u001b[1;34m''\u001b[0m\u001b[1;33m,\u001b[0m \u001b[1;34m''\u001b[0m\u001b[1;33m,\u001b[0m\u001b[1;33m\u001b[0m\u001b[1;33m\u001b[0m\u001b[0m\n\u001b[0m\u001b[0;32m     92\u001b[0m                 )\n\u001b[0;32m     93\u001b[0m \u001b[1;33m\u001b[0m\u001b[0m\n",
      "\u001b[1;31mShellError\u001b[0m: The command `antiword ppp.doc` failed with exit code 127\n------------- stdout -------------\n------------- stderr -------------\n"
     ]
    }
   ],
   "source": [
    "import textract\n",
    "text = textract.process(\"ppp.doc\")\n",
    "print(text)"
   ]
  },
  {
   "cell_type": "code",
   "execution_count": 2,
   "metadata": {},
   "outputs": [
    {
     "ename": "ModuleNotFoundError",
     "evalue": "No module named 'exceptions'",
     "output_type": "error",
     "traceback": [
      "\u001b[1;31m---------------------------------------------------------------------------\u001b[0m",
      "\u001b[1;31mModuleNotFoundError\u001b[0m                       Traceback (most recent call last)",
      "\u001b[1;32m<ipython-input-2-b217082df483>\u001b[0m in \u001b[0;36m<module>\u001b[1;34m\u001b[0m\n\u001b[1;32m----> 1\u001b[1;33m \u001b[1;32mimport\u001b[0m \u001b[0mdocx\u001b[0m\u001b[1;33m\u001b[0m\u001b[1;33m\u001b[0m\u001b[0m\n\u001b[0m\u001b[0;32m      2\u001b[0m \u001b[1;33m\u001b[0m\u001b[0m\n\u001b[0;32m      3\u001b[0m \u001b[1;32mdef\u001b[0m \u001b[0mreadtxt\u001b[0m\u001b[1;33m(\u001b[0m\u001b[0mfilename\u001b[0m\u001b[1;33m)\u001b[0m\u001b[1;33m:\u001b[0m\u001b[1;33m\u001b[0m\u001b[1;33m\u001b[0m\u001b[0m\n\u001b[0;32m      4\u001b[0m     \u001b[0mdoc\u001b[0m \u001b[1;33m=\u001b[0m \u001b[0mdocx\u001b[0m\u001b[1;33m.\u001b[0m\u001b[0mDocument\u001b[0m\u001b[1;33m(\u001b[0m\u001b[1;34m'ppp.doc'\u001b[0m\u001b[1;33m)\u001b[0m\u001b[1;33m\u001b[0m\u001b[1;33m\u001b[0m\u001b[0m\n\u001b[0;32m      5\u001b[0m     \u001b[0mfullText\u001b[0m \u001b[1;33m=\u001b[0m \u001b[1;33m[\u001b[0m\u001b[1;33m]\u001b[0m\u001b[1;33m\u001b[0m\u001b[1;33m\u001b[0m\u001b[0m\n",
      "\u001b[1;32mc:\\users\\arvind\\appdata\\local\\programs\\python\\python37\\lib\\site-packages\\docx.py\u001b[0m in \u001b[0;36m<module>\u001b[1;34m\u001b[0m\n\u001b[0;32m     28\u001b[0m     \u001b[0mTAGS\u001b[0m \u001b[1;33m=\u001b[0m \u001b[1;33m{\u001b[0m\u001b[1;33m}\u001b[0m\u001b[1;33m\u001b[0m\u001b[1;33m\u001b[0m\u001b[0m\n\u001b[0;32m     29\u001b[0m \u001b[1;33m\u001b[0m\u001b[0m\n\u001b[1;32m---> 30\u001b[1;33m \u001b[1;32mfrom\u001b[0m \u001b[0mexceptions\u001b[0m \u001b[1;32mimport\u001b[0m \u001b[0mPendingDeprecationWarning\u001b[0m\u001b[1;33m\u001b[0m\u001b[1;33m\u001b[0m\u001b[0m\n\u001b[0m\u001b[0;32m     31\u001b[0m \u001b[1;32mfrom\u001b[0m \u001b[0mwarnings\u001b[0m \u001b[1;32mimport\u001b[0m \u001b[0mwarn\u001b[0m\u001b[1;33m\u001b[0m\u001b[1;33m\u001b[0m\u001b[0m\n\u001b[0;32m     32\u001b[0m \u001b[1;33m\u001b[0m\u001b[0m\n",
      "\u001b[1;31mModuleNotFoundError\u001b[0m: No module named 'exceptions'"
     ]
    }
   ],
   "source": [
    "import docx\n",
    "\n",
    "def readtxt(filename):\n",
    "    doc = docx.Document('ppp.doc')\n",
    "    fullText = []\n",
    "    for para in doc.paragraphs:\n",
    "        fullText.append(para.text)\n",
    "    return '\\n'.join(fullText)\n",
    "\n",
    "print (readtxt('ttt.doc'))"
   ]
  },
  {
   "cell_type": "code",
   "execution_count": null,
   "metadata": {},
   "outputs": [],
   "source": []
  },
  {
   "cell_type": "code",
   "execution_count": null,
   "metadata": {},
   "outputs": [],
   "source": []
  }
 ],
 "metadata": {
  "kernelspec": {
   "display_name": "Python 3",
   "language": "python",
   "name": "python3"
  },
  "language_info": {
   "codemirror_mode": {
    "name": "ipython",
    "version": 3
   },
   "file_extension": ".py",
   "mimetype": "text/x-python",
   "name": "python",
   "nbconvert_exporter": "python",
   "pygments_lexer": "ipython3",
   "version": "3.7.5"
  }
 },
 "nbformat": 4,
 "nbformat_minor": 2
}
