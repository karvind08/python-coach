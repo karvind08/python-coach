{
 "cells": [
  {
   "cell_type": "code",
   "execution_count": 1,
   "metadata": {},
   "outputs": [],
   "source": [
    "import math"
   ]
  },
  {
   "cell_type": "code",
   "execution_count": 2,
   "metadata": {},
   "outputs": [
    {
     "data": {
      "text/plain": [
       "'The area is 12.566370614359172'"
      ]
     },
     "execution_count": 2,
     "metadata": {},
     "output_type": "execute_result"
    }
   ],
   "source": [
    "def area(r):\n",
    "    a = math.pi*r**2\n",
    "    return 'The area is {}'.format(a)\n",
    "\n",
    "\n",
    "area(2)"
   ]
  },
  {
   "cell_type": "code",
   "execution_count": 4,
   "metadata": {},
   "outputs": [
    {
     "name": "stdout",
     "output_type": "stream",
     "text": [
      "The area is 3.141592653589793\n",
      "The area is 12.566370614359172\n",
      "The area is 28.274333882308138\n",
      "The area is 50.26548245743669\n",
      "The area is 78.53981633974483\n"
     ]
    }
   ],
   "source": [
    "def area(r):\n",
    "    a = math.pi*r**2\n",
    "    return 'The area is {}'.format(a)\n",
    "\n",
    "\n",
    "L = [1,2,3,4,5]\n",
    "areas = []\n",
    "for i in L:\n",
    "    b = area(i)\n",
    "    areas.append(b)\n",
    "    \n",
    "for i in areas:\n",
    "    print(i)"
   ]
  },
  {
   "cell_type": "code",
   "execution_count": 5,
   "metadata": {},
   "outputs": [
    {
     "name": "stdout",
     "output_type": "stream",
     "text": [
      "<map object at 0x000001E45A42DA48>\n"
     ]
    }
   ],
   "source": [
    "def area(r):\n",
    "    a = math.pi*r**2\n",
    "    return 'The area is {}'.format(a)\n",
    "\n",
    "L = [1,2,3,4,5]\n",
    "res = map(area,L)\n",
    "print(res)"
   ]
  },
  {
   "cell_type": "code",
   "execution_count": 6,
   "metadata": {},
   "outputs": [
    {
     "name": "stdout",
     "output_type": "stream",
     "text": [
      "The area is 3.141592653589793\n",
      "The area is 12.566370614359172\n",
      "The area is 28.274333882308138\n",
      "The area is 50.26548245743669\n",
      "The area is 78.53981633974483\n"
     ]
    }
   ],
   "source": [
    "def area(r):\n",
    "    a = math.pi*r**2\n",
    "    return 'The area is {}'.format(a)\n",
    "\n",
    "L = [1,2,3,4,5]\n",
    "res = map(area,L)\n",
    "for i in res:\n",
    "    print(i)"
   ]
  },
  {
   "cell_type": "code",
   "execution_count": null,
   "metadata": {},
   "outputs": [],
   "source": []
  }
 ],
 "metadata": {
  "kernelspec": {
   "display_name": "Python 3",
   "language": "python",
   "name": "python3"
  },
  "language_info": {
   "codemirror_mode": {
    "name": "ipython",
    "version": 3
   },
   "file_extension": ".py",
   "mimetype": "text/x-python",
   "name": "python",
   "nbconvert_exporter": "python",
   "pygments_lexer": "ipython3",
   "version": "3.7.5"
  }
 },
 "nbformat": 4,
 "nbformat_minor": 2
}
