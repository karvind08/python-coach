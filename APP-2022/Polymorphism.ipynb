{
 "cells": [
  {
   "cell_type": "markdown",
   "metadata": {},
   "source": [
    "# Operator Overloading"
   ]
  },
  {
   "cell_type": "code",
   "execution_count": 12,
   "metadata": {},
   "outputs": [
    {
     "name": "stdout",
     "output_type": "stream",
     "text": [
      "Enter the first number: 23\n",
      "Enter the second number: 2\n",
      "The sum is 25\n"
     ]
    }
   ],
   "source": [
    "a = int(input('Enter the first number: '))\n",
    "b = int(input('Enter the second number: '))\n",
    "s = a+b\n",
    "print('The sum is',s)"
   ]
  },
  {
   "cell_type": "code",
   "execution_count": 13,
   "metadata": {},
   "outputs": [
    {
     "name": "stdout",
     "output_type": "stream",
     "text": [
      "Enter the first number: hello\n",
      "Enter the second number: worls\n",
      "Result:  helloworls\n"
     ]
    }
   ],
   "source": [
    "a = input('Enter the first number: ')\n",
    "b = input('Enter the second number: ')\n",
    "s = a+b\n",
    "print('Result: ',s)"
   ]
  },
  {
   "cell_type": "code",
   "execution_count": null,
   "metadata": {},
   "outputs": [],
   "source": []
  },
  {
   "cell_type": "markdown",
   "metadata": {},
   "source": [
    "# Overloading "
   ]
  },
  {
   "cell_type": "code",
   "execution_count": 1,
   "metadata": {},
   "outputs": [
    {
     "name": "stdout",
     "output_type": "stream",
     "text": [
      "None None\n"
     ]
    }
   ],
   "source": [
    "class Overload:\n",
    "    def display(self,a =None, b = None):\n",
    "        print(a,b)\n",
    "        \n",
    "obj = Overload()\n",
    "obj.display()"
   ]
  },
  {
   "cell_type": "code",
   "execution_count": 2,
   "metadata": {},
   "outputs": [
    {
     "name": "stdout",
     "output_type": "stream",
     "text": [
      "10 None\n"
     ]
    }
   ],
   "source": [
    "class Overload:\n",
    "    def display(self,a =None, b = None):\n",
    "        print(a,b)\n",
    "        \n",
    "obj = Overload()\n",
    "obj.display(10)"
   ]
  },
  {
   "cell_type": "code",
   "execution_count": 1,
   "metadata": {},
   "outputs": [
    {
     "name": "stdout",
     "output_type": "stream",
     "text": [
      "None None\n",
      "10 None\n",
      "10 20\n"
     ]
    }
   ],
   "source": [
    "class Overload:\n",
    "    def display(self,a =None, b = None):\n",
    "        print(a,b)\n",
    "        \n",
    "obj = Overload()\n",
    "obj.display()\n",
    "obj.display(10)\n",
    "obj.display(10,20)"
   ]
  },
  {
   "cell_type": "code",
   "execution_count": 5,
   "metadata": {},
   "outputs": [
    {
     "name": "stdout",
     "output_type": "stream",
     "text": [
      "10 20 30\n",
      "(30,)\n"
     ]
    }
   ],
   "source": [
    "class Overload:\n",
    "    def display(self,a =None, b = None,*data):\n",
    "        print(a,b,*data)\n",
    "\n",
    "        \n",
    "obj = Overload()\n",
    "obj.display(10,20,30)"
   ]
  },
  {
   "cell_type": "code",
   "execution_count": 6,
   "metadata": {},
   "outputs": [
    {
     "name": "stdout",
     "output_type": "stream",
     "text": [
      "10 20 30 100\n"
     ]
    }
   ],
   "source": [
    "class Overload:\n",
    "    def display(self,a =None, b = None,*data):\n",
    "        print(a,b,*data)\n",
    "\n",
    "        \n",
    "obj = Overload()\n",
    "obj.display(10,20,30,100)"
   ]
  },
  {
   "cell_type": "code",
   "execution_count": 7,
   "metadata": {},
   "outputs": [
    {
     "name": "stdout",
     "output_type": "stream",
     "text": [
      "Bicycle\n"
     ]
    }
   ],
   "source": [
    "class Father:\n",
    "    def transport(self):\n",
    "        print('Bicycle')\n",
    "        \n",
    "class Son(Father):\n",
    "    pass\n",
    "\n",
    "S = Son()\n",
    "S.transport()"
   ]
  },
  {
   "cell_type": "code",
   "execution_count": 8,
   "metadata": {},
   "outputs": [
    {
     "name": "stdout",
     "output_type": "stream",
     "text": [
      "Bike\n"
     ]
    }
   ],
   "source": [
    "class Father:\n",
    "    def transport(self):\n",
    "        print('Bicycle')\n",
    "        \n",
    "class Son(Father):\n",
    "    def transport(self):\n",
    "        print('Bike')\n",
    "\n",
    "S = Son()\n",
    "S.transport()"
   ]
  },
  {
   "cell_type": "code",
   "execution_count": 11,
   "metadata": {},
   "outputs": [
    {
     "name": "stdout",
     "output_type": "stream",
     "text": [
      "Bicycle\n"
     ]
    }
   ],
   "source": [
    "class Father:\n",
    "    def transport(self):\n",
    "        print('Bicycle')\n",
    "        \n",
    "class Son(Father):\n",
    "    def transport(self):\n",
    "           super().transport()\n",
    "\n",
    "S = Son()\n",
    "S.transport()"
   ]
  },
  {
   "cell_type": "code",
   "execution_count": null,
   "metadata": {},
   "outputs": [],
   "source": []
  },
  {
   "cell_type": "code",
   "execution_count": null,
   "metadata": {},
   "outputs": [],
   "source": []
  }
 ],
 "metadata": {
  "kernelspec": {
   "display_name": "Python 3",
   "language": "python",
   "name": "python3"
  },
  "language_info": {
   "codemirror_mode": {
    "name": "ipython",
    "version": 3
   },
   "file_extension": ".py",
   "mimetype": "text/x-python",
   "name": "python",
   "nbconvert_exporter": "python",
   "pygments_lexer": "ipython3",
   "version": "3.7.5"
  }
 },
 "nbformat": 4,
 "nbformat_minor": 2
}
