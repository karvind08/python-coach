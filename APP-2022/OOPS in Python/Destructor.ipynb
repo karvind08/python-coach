{
 "cells": [
  {
   "cell_type": "code",
   "execution_count": 2,
   "metadata": {},
   "outputs": [
    {
     "name": "stdout",
     "output_type": "stream",
     "text": [
      "Constructor Executed\n",
      "Destructor executed\n"
     ]
    }
   ],
   "source": [
    "class Example:\n",
    "    def __init__(self):\n",
    "        print(\"Constructor Executed\")\n",
    "        \n",
    "    def __del__(self):\n",
    "        print('Destructor executed')\n",
    "        \n",
    "E = Example()\n",
    "del E"
   ]
  },
  {
   "cell_type": "code",
   "execution_count": 4,
   "metadata": {},
   "outputs": [
    {
     "name": "stdout",
     "output_type": "stream",
     "text": [
      "Constructor Executed\n",
      "1\n",
      "Arvind\n",
      "Destructor executed\n"
     ]
    }
   ],
   "source": [
    "class Example:\n",
    "    def __init__(self,r,name):\n",
    "        print(\"Constructor Executed\")\n",
    "        self.r = r\n",
    "        self.name = name\n",
    "        \n",
    "    def display(self):\n",
    "        print(self.r)\n",
    "        print(self.name)\n",
    "        \n",
    "    def __del__(self):\n",
    "        print('Destructor executed')\n",
    "        \n",
    "E = Example(1,'Arvind')\n",
    "E.display()\n",
    "del E"
   ]
  },
  {
   "cell_type": "code",
   "execution_count": null,
   "metadata": {},
   "outputs": [],
   "source": []
  }
 ],
 "metadata": {
  "kernelspec": {
   "display_name": "Python 3",
   "language": "python",
   "name": "python3"
  },
  "language_info": {
   "codemirror_mode": {
    "name": "ipython",
    "version": 3
   },
   "file_extension": ".py",
   "mimetype": "text/x-python",
   "name": "python",
   "nbconvert_exporter": "python",
   "pygments_lexer": "ipython3",
   "version": "3.7.5"
  }
 },
 "nbformat": 4,
 "nbformat_minor": 2
}
