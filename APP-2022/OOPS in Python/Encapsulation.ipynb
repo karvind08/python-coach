{
 "cells": [
  {
   "cell_type": "markdown",
   "metadata": {},
   "source": [
    "# Encapsulation"
   ]
  },
  {
   "cell_type": "code",
   "execution_count": 2,
   "metadata": {},
   "outputs": [
    {
     "name": "stdout",
     "output_type": "stream",
     "text": [
      "Encapsulation\n",
      "10\n"
     ]
    }
   ],
   "source": [
    "class Encapsulation:\n",
    "    n = 10\n",
    "    def display(self):\n",
    "        print(\"Encapsulation\")\n",
    "        print(self.n)\n",
    "        \n",
    "E = Encapsulation()\n",
    "E.display()"
   ]
  },
  {
   "cell_type": "code",
   "execution_count": 8,
   "metadata": {},
   "outputs": [
    {
     "name": "stdout",
     "output_type": "stream",
     "text": [
      "Encapsulation\n"
     ]
    }
   ],
   "source": [
    "class Encapsulation:\n",
    "    __n = 10\n",
    "    def display(self):\n",
    "        print(\"Encapsulation\")\n",
    "        \n",
    "        \n",
    "E = Encapsulation()\n",
    "E.display()\n",
    "#print(E.n)"
   ]
  },
  {
   "cell_type": "code",
   "execution_count": 9,
   "metadata": {},
   "outputs": [
    {
     "name": "stdout",
     "output_type": "stream",
     "text": [
      "Encapsulation\n"
     ]
    },
    {
     "ename": "AttributeError",
     "evalue": "'Encapsulation' object has no attribute 'n'",
     "output_type": "error",
     "traceback": [
      "\u001b[1;31m---------------------------------------------------------------------------\u001b[0m",
      "\u001b[1;31mAttributeError\u001b[0m                            Traceback (most recent call last)",
      "\u001b[1;32m<ipython-input-9-09d61e0b5eaf>\u001b[0m in \u001b[0;36m<module>\u001b[1;34m\u001b[0m\n\u001b[0;32m      7\u001b[0m \u001b[0mE\u001b[0m \u001b[1;33m=\u001b[0m \u001b[0mEncapsulation\u001b[0m\u001b[1;33m(\u001b[0m\u001b[1;33m)\u001b[0m\u001b[1;33m\u001b[0m\u001b[1;33m\u001b[0m\u001b[0m\n\u001b[0;32m      8\u001b[0m \u001b[0mE\u001b[0m\u001b[1;33m.\u001b[0m\u001b[0mdisplay\u001b[0m\u001b[1;33m(\u001b[0m\u001b[1;33m)\u001b[0m\u001b[1;33m\u001b[0m\u001b[1;33m\u001b[0m\u001b[0m\n\u001b[1;32m----> 9\u001b[1;33m \u001b[0mprint\u001b[0m\u001b[1;33m(\u001b[0m\u001b[0mE\u001b[0m\u001b[1;33m.\u001b[0m\u001b[0mn\u001b[0m\u001b[1;33m)\u001b[0m\u001b[1;33m\u001b[0m\u001b[1;33m\u001b[0m\u001b[0m\n\u001b[0m",
      "\u001b[1;31mAttributeError\u001b[0m: 'Encapsulation' object has no attribute 'n'"
     ]
    }
   ],
   "source": [
    "class Encapsulation:\n",
    "    __n = 10\n",
    "    def display(self):\n",
    "        print(\"Encapsulation\")\n",
    "        \n",
    "        \n",
    "E = Encapsulation()\n",
    "E.display()\n",
    "print(E.n)"
   ]
  },
  {
   "cell_type": "code",
   "execution_count": 12,
   "metadata": {},
   "outputs": [
    {
     "name": "stdout",
     "output_type": "stream",
     "text": [
      "Encapsulation\n",
      "10\n"
     ]
    }
   ],
   "source": [
    "class Encapsulation:\n",
    "    __n = 10\n",
    "    def display(self):\n",
    "        print(\"Encapsulation\")\n",
    "        print(self.__n)\n",
    "        \n",
    "E = Encapsulation()\n",
    "E.display()\n",
    "#print(E.n)"
   ]
  },
  {
   "cell_type": "code",
   "execution_count": null,
   "metadata": {},
   "outputs": [],
   "source": []
  },
  {
   "cell_type": "code",
   "execution_count": null,
   "metadata": {},
   "outputs": [],
   "source": []
  },
  {
   "cell_type": "code",
   "execution_count": null,
   "metadata": {},
   "outputs": [],
   "source": []
  }
 ],
 "metadata": {
  "kernelspec": {
   "display_name": "Python 3",
   "language": "python",
   "name": "python3"
  },
  "language_info": {
   "codemirror_mode": {
    "name": "ipython",
    "version": 3
   },
   "file_extension": ".py",
   "mimetype": "text/x-python",
   "name": "python",
   "nbconvert_exporter": "python",
   "pygments_lexer": "ipython3",
   "version": "3.9.1"
  }
 },
 "nbformat": 4,
 "nbformat_minor": 4
}
