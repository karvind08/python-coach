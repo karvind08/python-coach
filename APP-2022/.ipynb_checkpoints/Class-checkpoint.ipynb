{
 "cells": [
  {
   "cell_type": "code",
   "execution_count": 5,
   "metadata": {},
   "outputs": [
    {
     "name": "stdout",
     "output_type": "stream",
     "text": [
      "<__main__.Test object at 0x0000026C4228E588>\n"
     ]
    }
   ],
   "source": [
    "class Test:\n",
    "    pass\n",
    "    \n",
    "T = Test()\n",
    "print(T)"
   ]
  },
  {
   "cell_type": "code",
   "execution_count": 6,
   "metadata": {},
   "outputs": [
    {
     "name": "stdout",
     "output_type": "stream",
     "text": [
      "Hello\n"
     ]
    }
   ],
   "source": [
    "class Example:\n",
    "    def display(self):\n",
    "        print(\"Hello\")\n",
    "        \n",
    "E = Example()\n",
    "E.display()"
   ]
  },
  {
   "cell_type": "code",
   "execution_count": null,
   "metadata": {},
   "outputs": [],
   "source": [
    "#  E.display(10,20)\n",
    "# Example.display(E,10,20)"
   ]
  },
  {
   "cell_type": "markdown",
   "metadata": {},
   "source": [
    "# Access the class variables with object"
   ]
  },
  {
   "cell_type": "code",
   "execution_count": 9,
   "metadata": {},
   "outputs": [
    {
     "name": "stdout",
     "output_type": "stream",
     "text": [
      "Display Function\n",
      "Show function\n",
      "The roll number is:  10\n",
      "The Name is:  Arvind\n",
      "The Branch is:  CSE\n"
     ]
    }
   ],
   "source": [
    "class Student:\n",
    "    r = 10\n",
    "    name = \"Arvind\"\n",
    "    branch = \"CSE\"\n",
    "    def display(self):\n",
    "        print(\"Display Function\")\n",
    "    def show(self):\n",
    "        print('Show function')\n",
    "        \n",
    "S  = Student()\n",
    "S.display()\n",
    "S.show()\n",
    "print('The roll number is: ',S.r)\n",
    "print('The Name is: ',S.name)\n",
    "print('The Branch is: ',S.branch)"
   ]
  },
  {
   "cell_type": "markdown",
   "metadata": {},
   "source": [
    "# Access the class variables with class name"
   ]
  },
  {
   "cell_type": "code",
   "execution_count": 10,
   "metadata": {},
   "outputs": [
    {
     "name": "stdout",
     "output_type": "stream",
     "text": [
      "Display Function\n",
      "Show function\n",
      "The roll number is:  10\n",
      "The Name is:  Arvind\n",
      "The Branch is:  CSE\n"
     ]
    }
   ],
   "source": [
    "class Student:\n",
    "    r = 10\n",
    "    name = \"Arvind\"\n",
    "    branch = \"CSE\"\n",
    "    def display(self):\n",
    "        print(\"Display Function\")\n",
    "    def show(self):\n",
    "        print('Show function')\n",
    "        \n",
    "S  = Student()\n",
    "S.display()\n",
    "S.show()\n",
    "print('The roll number is: ',Student.r)\n",
    "print('The Name is: ',Student.name)\n",
    "print('The Branch is: ',Student.branch)"
   ]
  },
  {
   "cell_type": "markdown",
   "metadata": {},
   "source": [
    "# Class Variables & Instance Variables"
   ]
  },
  {
   "cell_type": "markdown",
   "metadata": {},
   "source": [
    "# How to access class variables in function?"
   ]
  },
  {
   "cell_type": "code",
   "execution_count": 12,
   "metadata": {},
   "outputs": [
    {
     "name": "stdout",
     "output_type": "stream",
     "text": [
      "Roll Number:  10\n",
      "Name:  Arvind\n",
      "Branch:  CSE\n"
     ]
    }
   ],
   "source": [
    "class Student:\n",
    "    r = 10\n",
    "    name = \"Arvind\"\n",
    "    branch = \"CSE\"\n",
    "    def display(self):\n",
    "        print('Roll Number: ',self.r)\n",
    "        print('Name: ',self.name)\n",
    "        print('Branch: ',self.branch)\n",
    "S  = Student()\n",
    "S.display()"
   ]
  },
  {
   "cell_type": "markdown",
   "metadata": {},
   "source": [
    "# How to access Instance variables"
   ]
  },
  {
   "cell_type": "code",
   "execution_count": 14,
   "metadata": {},
   "outputs": [
    {
     "name": "stdout",
     "output_type": "stream",
     "text": [
      "Roll Number:  1\n",
      "Name:  Arvind\n"
     ]
    }
   ],
   "source": [
    "class Student:\n",
    "    branch = \"CSE\"\n",
    "    def display(self,r,name):\n",
    "        print('Roll Number: ',r)\n",
    "        print('Name: ',name)\n",
    "        \n",
    "S  = Student()\n",
    "S.display(1,'Arvind')"
   ]
  },
  {
   "cell_type": "code",
   "execution_count": 17,
   "metadata": {},
   "outputs": [
    {
     "name": "stdout",
     "output_type": "stream",
     "text": [
      "Roll Number:  1\n",
      "Name:  Arvind\n",
      "Branch:  CSE\n",
      "Branch from object\n",
      "Branch:  CSE\n"
     ]
    }
   ],
   "source": [
    "class Student:\n",
    "    branch = \"CSE\"\n",
    "    def display(self,r,name):\n",
    "        print('Roll Number: ',r)\n",
    "        print('Name: ',name)\n",
    "        print('Branch: ',self.branch)\n",
    "        \n",
    "S  = Student()\n",
    "S.display(1,'Arvind')\n",
    "print('Branch from object')\n",
    "print('Branch: ',S.branch)"
   ]
  },
  {
   "cell_type": "code",
   "execution_count": 19,
   "metadata": {},
   "outputs": [
    {
     "name": "stdout",
     "output_type": "stream",
     "text": [
      "Roll Number:  1\n",
      "Name:  Arvind\n",
      "Branch:  CSE\n"
     ]
    }
   ],
   "source": [
    "class Student:\n",
    "    branch = \"CSE\"\n",
    "    def display(self,r,name):\n",
    "        self.r = r\n",
    "        self.name = name\n",
    "        print('Roll Number: ',r)\n",
    "        print('Name: ',name)\n",
    "        print('Branch: ',self.branch)\n",
    "        \n",
    "S  = Student()\n",
    "S.display(1,'Arvind')"
   ]
  },
  {
   "cell_type": "code",
   "execution_count": 21,
   "metadata": {},
   "outputs": [
    {
     "name": "stdout",
     "output_type": "stream",
     "text": [
      "Roll Number:  1\n",
      "Name:  Arvind\n"
     ]
    }
   ],
   "source": [
    "class Student:\n",
    "    def display(self,r,name):\n",
    "        self.r = r\n",
    "        self.name = name\n",
    "        print('Roll Number: ',self.r)\n",
    "        print('Name: ',self.name)\n",
    "        \n",
    "S  = Student()\n",
    "S.display(1,'Arvind')"
   ]
  },
  {
   "cell_type": "markdown",
   "metadata": {},
   "source": [
    "# Constructor"
   ]
  },
  {
   "cell_type": "code",
   "execution_count": 25,
   "metadata": {},
   "outputs": [
    {
     "name": "stdout",
     "output_type": "stream",
     "text": [
      "The roll number is:  10  and name:  Arvind\n"
     ]
    }
   ],
   "source": [
    "class Student:\n",
    "    def __init__(self,r,name):\n",
    "        self.r = r\n",
    "        self.name = name\n",
    "        \n",
    "    def display(self):\n",
    "        print('The roll number is: ',self.r,' and name: ',self.name)\n",
    "        \n",
    "S = Student(10,'Arvind')\n",
    "S.display()"
   ]
  },
  {
   "cell_type": "markdown",
   "metadata": {},
   "source": [
    "# Public Access Specifier"
   ]
  },
  {
   "cell_type": "code",
   "execution_count": 26,
   "metadata": {},
   "outputs": [
    {
     "name": "stdout",
     "output_type": "stream",
     "text": [
      "Roll Number:  10\n",
      "Name:  Arvind\n",
      "Branch:  CSE\n",
      "Outside Class\n",
      "Arvind\n",
      "CSE\n",
      "10\n"
     ]
    }
   ],
   "source": [
    "class Student:\n",
    "    r = 10\n",
    "    name = \"Arvind\"\n",
    "    branch = \"CSE\"\n",
    "    def display(self):\n",
    "        print('Roll Number: ',self.r)\n",
    "        print('Name: ',self.name)\n",
    "        print('Branch: ',self.branch)\n",
    "S  = Student()\n",
    "S.display()\n",
    "print('Outside Class')\n",
    "print(S.name)\n",
    "print(S.branch)\n",
    "print(S.r)"
   ]
  },
  {
   "cell_type": "code",
   "execution_count": 30,
   "metadata": {},
   "outputs": [
    {
     "name": "stdout",
     "output_type": "stream",
     "text": [
      "1 arvind\n",
      "CSE\n"
     ]
    }
   ],
   "source": [
    "class Student:\n",
    "    def __init__(self,r,name,branch):\n",
    "        self.r = r\n",
    "        self.name = name\n",
    "        self.branch = branch\n",
    "    def display(self):\n",
    "        print(self.r,self.name)\n",
    "        \n",
    "S = Student(1,'arvind','CSE')\n",
    "S.display()\n",
    "print(S.branch)"
   ]
  },
  {
   "cell_type": "markdown",
   "metadata": {},
   "source": [
    "# Protected Access Specifier"
   ]
  },
  {
   "cell_type": "markdown",
   "metadata": {},
   "source": [
    "# Data are protected while method is public:"
   ]
  },
  {
   "cell_type": "code",
   "execution_count": 31,
   "metadata": {},
   "outputs": [
    {
     "name": "stdout",
     "output_type": "stream",
     "text": [
      "Roll Number:  10\n",
      "Name:  Arvind\n",
      "Branch:  CSE\n"
     ]
    }
   ],
   "source": [
    "class Student:\n",
    "    _r = 10\n",
    "    _name = \"Arvind\"\n",
    "    _branch = \"CSE\"\n",
    "    def display(self):\n",
    "        print('Roll Number: ',self._r)\n",
    "        print('Name: ',self._name)\n",
    "        print('Branch: ',self._branch)\n",
    "S  = Student()\n",
    "S.display()"
   ]
  },
  {
   "cell_type": "code",
   "execution_count": 35,
   "metadata": {},
   "outputs": [
    {
     "name": "stdout",
     "output_type": "stream",
     "text": [
      "Roll Number:  10\n",
      "Name:  Arvind\n",
      "Branch:  CSE\n",
      "Outside Class\n"
     ]
    }
   ],
   "source": [
    "class Student:\n",
    "    _r = 10\n",
    "    _name = \"Arvind\"\n",
    "    _branch = \"CSE\"\n",
    "    def display(self):\n",
    "        print('Roll Number: ',self._r)\n",
    "        print('Name: ',self._name)\n",
    "        print('Branch: ',self._branch)\n",
    "S  = Student()\n",
    "S.display()\n",
    "print('Outside Class')\n",
    "print(S.name)\n",
    "print(S.branch)\n",
    "print(S.r)"
   ]
  },
  {
   "cell_type": "markdown",
   "metadata": {},
   "source": [
    "# Data and methods both are protected:"
   ]
  },
  {
   "cell_type": "code",
   "execution_count": 37,
   "metadata": {},
   "outputs": [
    {
     "name": "stdout",
     "output_type": "stream",
     "text": [
      "Roll Number:  10\n",
      "Name:  Arvind\n",
      "Branch:  CSE\n"
     ]
    }
   ],
   "source": [
    "class Student:\n",
    "    _r = 10\n",
    "    _name = \"Arvind\"\n",
    "    _branch = \"CSE\"\n",
    "    def _display(self):\n",
    "        print('Roll Number: ',self._r)\n",
    "        print('Name: ',self._name)\n",
    "        print('Branch: ',self._branch)\n",
    "S  = Student()\n",
    "S._display()"
   ]
  },
  {
   "cell_type": "code",
   "execution_count": 38,
   "metadata": {},
   "outputs": [
    {
     "name": "stdout",
     "output_type": "stream",
     "text": [
      "Roll Number:  10\n",
      "Name:  Arvind\n",
      "Branch:  CSE\n",
      "Outside Class\n"
     ]
    },
    {
     "ename": "AttributeError",
     "evalue": "'Student' object has no attribute 'name'",
     "output_type": "error",
     "traceback": [
      "\u001b[1;31m---------------------------------------------------------------------------\u001b[0m",
      "\u001b[1;31mAttributeError\u001b[0m                            Traceback (most recent call last)",
      "\u001b[1;32m<ipython-input-38-6e77dbf5bdfd>\u001b[0m in \u001b[0;36m<module>\u001b[1;34m\u001b[0m\n\u001b[0;32m     10\u001b[0m \u001b[0mS\u001b[0m\u001b[1;33m.\u001b[0m\u001b[0m_display\u001b[0m\u001b[1;33m(\u001b[0m\u001b[1;33m)\u001b[0m\u001b[1;33m\u001b[0m\u001b[1;33m\u001b[0m\u001b[0m\n\u001b[0;32m     11\u001b[0m \u001b[0mprint\u001b[0m\u001b[1;33m(\u001b[0m\u001b[1;34m'Outside Class'\u001b[0m\u001b[1;33m)\u001b[0m\u001b[1;33m\u001b[0m\u001b[1;33m\u001b[0m\u001b[0m\n\u001b[1;32m---> 12\u001b[1;33m \u001b[0mprint\u001b[0m\u001b[1;33m(\u001b[0m\u001b[0mS\u001b[0m\u001b[1;33m.\u001b[0m\u001b[0mname\u001b[0m\u001b[1;33m)\u001b[0m\u001b[1;33m\u001b[0m\u001b[1;33m\u001b[0m\u001b[0m\n\u001b[0m\u001b[0;32m     13\u001b[0m \u001b[0mprint\u001b[0m\u001b[1;33m(\u001b[0m\u001b[0mS\u001b[0m\u001b[1;33m.\u001b[0m\u001b[0mbranch\u001b[0m\u001b[1;33m)\u001b[0m\u001b[1;33m\u001b[0m\u001b[1;33m\u001b[0m\u001b[0m\n\u001b[0;32m     14\u001b[0m \u001b[0mprint\u001b[0m\u001b[1;33m(\u001b[0m\u001b[0mS\u001b[0m\u001b[1;33m.\u001b[0m\u001b[0mr\u001b[0m\u001b[1;33m)\u001b[0m\u001b[1;33m\u001b[0m\u001b[1;33m\u001b[0m\u001b[0m\n",
      "\u001b[1;31mAttributeError\u001b[0m: 'Student' object has no attribute 'name'"
     ]
    }
   ],
   "source": [
    "class Student:\n",
    "    _r = 10\n",
    "    _name = \"Arvind\"\n",
    "    _branch = \"CSE\"\n",
    "    def _display(self):\n",
    "        print('Roll Number: ',self._r)\n",
    "        print('Name: ',self._name)\n",
    "        print('Branch: ',self._branch)\n",
    "S  = Student()\n",
    "S._display()\n",
    "print('Outside Class')\n",
    "print(S.name)\n",
    "print(S.branch)\n",
    "print(S.r)"
   ]
  },
  {
   "cell_type": "markdown",
   "metadata": {},
   "source": [
    "# Protected Data and methods are accessible in derived class"
   ]
  },
  {
   "cell_type": "code",
   "execution_count": 42,
   "metadata": {},
   "outputs": [
    {
     "name": "stdout",
     "output_type": "stream",
     "text": [
      "CSE\n",
      "Roll Number:  10\n",
      "Name:  Arvind\n"
     ]
    }
   ],
   "source": [
    "class Student:\n",
    "    _r = 10\n",
    "    _name = \"Arvind\"\n",
    "    _branch = \"CSE\"\n",
    "    def _display_roll_name(self):\n",
    "        print('Roll Number: ',self._r)\n",
    "        print('Name: ',self._name)\n",
    "        \n",
    "class Teacher(Student):\n",
    "    def display(self):\n",
    "        print(self._branch)\n",
    "        self._display_roll_name()\n",
    "        \n",
    "T = Teacher()\n",
    "T.display()"
   ]
  },
  {
   "cell_type": "code",
   "execution_count": null,
   "metadata": {},
   "outputs": [],
   "source": []
  },
  {
   "cell_type": "code",
   "execution_count": null,
   "metadata": {},
   "outputs": [],
   "source": []
  }
 ],
 "metadata": {
  "kernelspec": {
   "display_name": "Python 3",
   "language": "python",
   "name": "python3"
  },
  "language_info": {
   "codemirror_mode": {
    "name": "ipython",
    "version": 3
   },
   "file_extension": ".py",
   "mimetype": "text/x-python",
   "name": "python",
   "nbconvert_exporter": "python",
   "pygments_lexer": "ipython3",
   "version": "3.7.5"
  }
 },
 "nbformat": 4,
 "nbformat_minor": 2
}
