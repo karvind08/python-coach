{
 "cells": [
  {
   "cell_type": "markdown",
   "metadata": {},
   "source": [
    "# Single Inheritance:"
   ]
  },
  {
   "cell_type": "code",
   "execution_count": 6,
   "metadata": {},
   "outputs": [
    {
     "name": "stdout",
     "output_type": "stream",
     "text": [
      "Child Class\n",
      "Parent Class\n",
      "Parent Class\n"
     ]
    }
   ],
   "source": [
    "class Parent:\n",
    "    def parent(self):\n",
    "        print('Parent Class')\n",
    "        \n",
    "class Child(Parent):\n",
    "    def child(self):\n",
    "        print(\"Child Class\")\n",
    "        \n",
    "C = Child()\n",
    "C.child()\n",
    "C.parent()\n",
    "P = Parent()\n",
    "P.parent()\n",
    "#P.child()"
   ]
  },
  {
   "cell_type": "markdown",
   "metadata": {},
   "source": [
    "# Multi-Level Inheritance:"
   ]
  },
  {
   "cell_type": "code",
   "execution_count": 9,
   "metadata": {},
   "outputs": [
    {
     "name": "stdout",
     "output_type": "stream",
     "text": [
      "Child Class\n",
      "Parent Class\n",
      "Grand Parent Class\n"
     ]
    }
   ],
   "source": [
    "class Grandparent:\n",
    "    def gdisplay(self):\n",
    "        print('Grand Parent Class')\n",
    "        \n",
    "class Parent(Grandparent):\n",
    "    def pdisplay(self):\n",
    "        print('Parent Class')\n",
    "        \n",
    "class Child(Parent):\n",
    "    def cdisplay(self):\n",
    "        print('Child Class')\n",
    "         \n",
    "C =  Child()\n",
    "C.cdisplay()\n",
    "C.pdisplay()\n",
    "C.gdisplay()"
   ]
  },
  {
   "cell_type": "markdown",
   "metadata": {},
   "source": [
    "# Hierarchical Inheritance:"
   ]
  },
  {
   "cell_type": "code",
   "execution_count": 5,
   "metadata": {},
   "outputs": [
    {
     "name": "stdout",
     "output_type": "stream",
     "text": [
      "Child 2 Class\n",
      "Parent class\n",
      "Child 1 Class\n",
      "Parent class\n"
     ]
    }
   ],
   "source": [
    "class Parent:\n",
    "    def pdisplay(self):\n",
    "        print('Parent class')\n",
    "        \n",
    "class Child1(Parent):\n",
    "    def c1display(self):\n",
    "        print('Child 1 Class')\n",
    "        \n",
    "class Child2(Parent):\n",
    "    def c2display(self):\n",
    "        print(\"Child 2 Class\")\n",
    "    \n",
    "C2 = Child2()\n",
    "C2.c2display()\n",
    "C2.pdisplay()\n",
    "\n",
    "C1 = Child1()\n",
    "C1.c1display()\n",
    "C1.pdisplay()"
   ]
  },
  {
   "cell_type": "markdown",
   "metadata": {},
   "source": [
    "# Multiple Inheritance"
   ]
  },
  {
   "cell_type": "code",
   "execution_count": 6,
   "metadata": {},
   "outputs": [
    {
     "name": "stdout",
     "output_type": "stream",
     "text": [
      "Son Class\n",
      "Mother Class\n",
      "Parent Class\n"
     ]
    }
   ],
   "source": [
    "class Father:\n",
    "    def pdisplay(self):\n",
    "        print(\"Parent Class\")\n",
    "        \n",
    "class Mother:\n",
    "    def mdisplay(self):\n",
    "        print('Mother Class')\n",
    "        \n",
    "class Son(Father,Mother):\n",
    "    def sdisplay(self):\n",
    "        print(\"Son Class\")\n",
    "        \n",
    "S = Son()\n",
    "S.sdisplay()\n",
    "S.mdisplay()\n",
    "S.pdisplay()\n"
   ]
  },
  {
   "cell_type": "code",
   "execution_count": null,
   "metadata": {},
   "outputs": [],
   "source": []
  },
  {
   "cell_type": "code",
   "execution_count": null,
   "metadata": {},
   "outputs": [],
   "source": []
  }
 ],
 "metadata": {
  "kernelspec": {
   "display_name": "Python 3",
   "language": "python",
   "name": "python3"
  },
  "language_info": {
   "codemirror_mode": {
    "name": "ipython",
    "version": 3
   },
   "file_extension": ".py",
   "mimetype": "text/x-python",
   "name": "python",
   "nbconvert_exporter": "python",
   "pygments_lexer": "ipython3",
   "version": "3.9.1"
  }
 },
 "nbformat": 4,
 "nbformat_minor": 4
}
