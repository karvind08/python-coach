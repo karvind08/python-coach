{
 "cells": [
  {
   "cell_type": "markdown",
   "metadata": {},
   "source": [
    "# Method Overriding"
   ]
  },
  {
   "cell_type": "code",
   "execution_count": 1,
   "metadata": {},
   "outputs": [
    {
     "name": "stdout",
     "output_type": "stream",
     "text": [
      "I have basic phone\n"
     ]
    }
   ],
   "source": [
    "class A:\n",
    "    def phone(self):\n",
    "        print('I have basic phone')\n",
    "        \n",
    "class B(A):\n",
    "    pass\n",
    "\n",
    "B1 = B()\n",
    "B1.phone()"
   ]
  },
  {
   "cell_type": "code",
   "execution_count": 2,
   "metadata": {},
   "outputs": [
    {
     "name": "stdout",
     "output_type": "stream",
     "text": [
      "I have smart phone\n"
     ]
    }
   ],
   "source": [
    "class A:\n",
    "    def phone(self):\n",
    "        print('I have basic phone')\n",
    "        \n",
    "class B(A):\n",
    "    def phone(self):\n",
    "        print('I have smart phone')\n",
    "\n",
    "B1 = B()\n",
    "B1.phone()"
   ]
  },
  {
   "cell_type": "code",
   "execution_count": 3,
   "metadata": {},
   "outputs": [
    {
     "name": "stdout",
     "output_type": "stream",
     "text": [
      "I have basic phone\n"
     ]
    }
   ],
   "source": [
    "class A:\n",
    "    def phone(self):\n",
    "        print('I have basic phone')\n",
    "        \n",
    "class B(A):\n",
    "    def phone(self):\n",
    "        super().phone()\n",
    "B1 = B()\n",
    "B1.phone()"
   ]
  },
  {
   "cell_type": "code",
   "execution_count": 4,
   "metadata": {},
   "outputs": [
    {
     "name": "stdout",
     "output_type": "stream",
     "text": [
      "Multiplication 200\n"
     ]
    }
   ],
   "source": [
    "class Add:\n",
    "    def result(self,a,b):\n",
    "        s = a+b\n",
    "        print('Sum: ',s)\n",
    "        \n",
    "class Multiplication(Add):\n",
    "    def result(self,a,b):\n",
    "        s = a*b\n",
    "        print('Multiplication',s)\n",
    "        \n",
    "M = Multiplication()\n",
    "M.result(10,20)"
   ]
  },
  {
   "cell_type": "code",
   "execution_count": 5,
   "metadata": {},
   "outputs": [
    {
     "name": "stdout",
     "output_type": "stream",
     "text": [
      "Sum:  5\n"
     ]
    }
   ],
   "source": [
    "class Add:\n",
    "    def result(self,a,b):\n",
    "        s = a+b\n",
    "        print('Sum is: ',s)\n",
    "        \n",
    "class Multiplication(Add):\n",
    "    def result(self,a,b):\n",
    "        super().result(2,3)\n",
    "        \n",
    "M = Multiplication()\n",
    "M.result(10,20)"
   ]
  },
  {
   "cell_type": "code",
   "execution_count": null,
   "metadata": {},
   "outputs": [],
   "source": []
  }
 ],
 "metadata": {
  "kernelspec": {
   "display_name": "Python 3",
   "language": "python",
   "name": "python3"
  },
  "language_info": {
   "codemirror_mode": {
    "name": "ipython",
    "version": 3
   },
   "file_extension": ".py",
   "mimetype": "text/x-python",
   "name": "python",
   "nbconvert_exporter": "python",
   "pygments_lexer": "ipython3",
   "version": "3.9.1"
  }
 },
 "nbformat": 4,
 "nbformat_minor": 4
}
