{
 "cells": [
  {
   "cell_type": "markdown",
   "metadata": {},
   "source": [
    "# Write a program to find out the sum of elements of a list."
   ]
  },
  {
   "cell_type": "code",
   "execution_count": 1,
   "metadata": {},
   "outputs": [
    {
     "name": "stdout",
     "output_type": "stream",
     "text": [
      "How many element do you want to enter?3\n",
      "Enter the element: 2\n",
      "Enter the element: 3\n",
      "Enter the element: 4\n",
      "The sum of elements of List 9\n"
     ]
    }
   ],
   "source": [
    "def sum_of_list(L1):\n",
    "    s = 0\n",
    "    for i in L1:\n",
    "        s = s+i\n",
    "    print(\"The sum of elements of List\",s)\n",
    "    \n",
    "L1 = []\n",
    "n = int(input(\"How many element do you want to enter?\"))\n",
    "for i in range(n):\n",
    "    el = int(input(\"Enter the element: \"))\n",
    "    L1.append(el)\n",
    "sum_of_list(L1)"
   ]
  },
  {
   "cell_type": "markdown",
   "metadata": {},
   "source": [
    "# Write a Python function to create and print a list where the values are square of numbers between 1 and 20 (both included)."
   ]
  },
  {
   "cell_type": "code",
   "execution_count": 3,
   "metadata": {},
   "outputs": [
    {
     "name": "stdout",
     "output_type": "stream",
     "text": [
      "[1, 4, 9, 16, 25, 36, 49, 64, 81, 100, 121, 144, 169, 196, 225, 256, 289, 324, 361, 400]\n"
     ]
    }
   ],
   "source": [
    "L1 = []\n",
    "def square():\n",
    "    for i in range(1,21):\n",
    "        L1.append(i*i)\n",
    "    print(L1)\n",
    "        \n",
    "square()"
   ]
  },
  {
   "cell_type": "markdown",
   "metadata": {},
   "source": [
    "# Write a Python function that takes a list and returns a new list with even elements in the list."
   ]
  },
  {
   "cell_type": "code",
   "execution_count": 4,
   "metadata": {},
   "outputs": [
    {
     "name": "stdout",
     "output_type": "stream",
     "text": [
      "How many element do you want to enter?5\n",
      "Enter the element: 1\n",
      "Enter the element: 2\n",
      "Enter the element: 3\n",
      "Enter the element: 4\n",
      "Enter the element: 5\n",
      "The List of even elements [2, 4]\n"
     ]
    }
   ],
   "source": [
    "L2 = []\n",
    "def Even(L1):\n",
    "    for i in L1:\n",
    "        if i%2==0:\n",
    "            L2.append(i)\n",
    "    print(\"The List of even elements\",L2)\n",
    "    \n",
    "L1 = []\n",
    "n = int(input(\"How many element do you want to enter?\"))\n",
    "for i in range(n):\n",
    "    el = int(input(\"Enter the element: \"))\n",
    "    L1.append(el)\n",
    "\n",
    "Even(L1)"
   ]
  },
  {
   "cell_type": "markdown",
   "metadata": {},
   "source": [
    "# Recursion"
   ]
  },
  {
   "cell_type": "code",
   "execution_count": 2,
   "metadata": {},
   "outputs": [
    {
     "name": "stdout",
     "output_type": "stream",
     "text": [
      "Enter the five digit number: 12435\n",
      "The sum of digits is 15\n"
     ]
    }
   ],
   "source": [
    "def sum_of_digits(n):\n",
    "    if n==0:\n",
    "        return 0;\n",
    "    else:\n",
    "        return n%10+sum_of_digits(n//10)\n",
    "    \n",
    "n = int(input('Enter the five digit number: '))\n",
    "res = sum_of_digits(n)\n",
    "print('The sum of digits is',res)"
   ]
  },
  {
   "cell_type": "code",
   "execution_count": 3,
   "metadata": {},
   "outputs": [
    {
     "name": "stdout",
     "output_type": "stream",
     "text": [
      "Enter five digits number: 12546\n",
      "The reverse number is 64521\n"
     ]
    }
   ],
   "source": [
    "def revnum(n,r):\n",
    "    if n==0:\n",
    "        return r\n",
    "    else:\n",
    "        return revnum(n//10,r*10+n%10)\n",
    "    \n",
    "n = int(input('Enter five digits number: ')) #12345\n",
    "res = revnum(n,0)\n",
    "print('The reverse number is',res)"
   ]
  },
  {
   "cell_type": "code",
   "execution_count": null,
   "metadata": {},
   "outputs": [],
   "source": []
  },
  {
   "cell_type": "code",
   "execution_count": null,
   "metadata": {},
   "outputs": [],
   "source": []
  },
  {
   "cell_type": "code",
   "execution_count": null,
   "metadata": {},
   "outputs": [],
   "source": []
  }
 ],
 "metadata": {
  "kernelspec": {
   "display_name": "Python 3",
   "language": "python",
   "name": "python3"
  },
  "language_info": {
   "codemirror_mode": {
    "name": "ipython",
    "version": 3
   },
   "file_extension": ".py",
   "mimetype": "text/x-python",
   "name": "python",
   "nbconvert_exporter": "python",
   "pygments_lexer": "ipython3",
   "version": "3.7.5"
  }
 },
 "nbformat": 4,
 "nbformat_minor": 2
}
