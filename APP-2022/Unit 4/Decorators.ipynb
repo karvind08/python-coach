{
 "cells": [
  {
   "cell_type": "code",
   "execution_count": 1,
   "metadata": {},
   "outputs": [
    {
     "data": {
      "text/plain": [
       "10"
      ]
     },
     "execution_count": 1,
     "metadata": {},
     "output_type": "execute_result"
    }
   ],
   "source": [
    "def num():\n",
    "    return 10\n",
    "\n",
    "num()"
   ]
  },
  {
   "cell_type": "code",
   "execution_count": 2,
   "metadata": {},
   "outputs": [
    {
     "data": {
      "text/plain": [
       "20"
      ]
     },
     "execution_count": 2,
     "metadata": {},
     "output_type": "execute_result"
    }
   ],
   "source": [
    "def decor(fun):\n",
    "    def inner():\n",
    "        a = fun()\n",
    "        return a+10\n",
    "    return inner\n",
    "\n",
    "@decor\n",
    "def num():\n",
    "    return 10\n",
    "\n",
    "num()"
   ]
  },
  {
   "cell_type": "code",
   "execution_count": 4,
   "metadata": {},
   "outputs": [
    {
     "data": {
      "text/plain": [
       "200"
      ]
     },
     "execution_count": 4,
     "metadata": {},
     "output_type": "execute_result"
    }
   ],
   "source": [
    "def decor1(fun):\n",
    "    def inner():\n",
    "        a = fun()\n",
    "        return a+10\n",
    "    return inner\n",
    "\n",
    "def decor2(fun):\n",
    "    def inner():\n",
    "        a = fun()\n",
    "        return a*10\n",
    "    return inner\n",
    "\n",
    "@decor2\n",
    "@decor1\n",
    "def num():\n",
    "    return 10\n",
    "\n",
    "num()"
   ]
  },
  {
   "cell_type": "code",
   "execution_count": 11,
   "metadata": {},
   "outputs": [
    {
     "name": "stdout",
     "output_type": "stream",
     "text": [
      "Decorator Start\n",
      "Decorating Class A Methods\n",
      "Decorator End\n",
      "Decorator Start\n",
      "Decorating Class B Methods\n",
      "Decorator End\n"
     ]
    }
   ],
   "source": [
    "class A:\n",
    "    def decor(fun):\n",
    "        def inner(self):\n",
    "            print(\"Decorator Start\")\n",
    "            fun(self)\n",
    "            print(\"Decorator End\")\n",
    "        return inner\n",
    "    \n",
    "    @decor\n",
    "    def fun1(self):\n",
    "         print(\"Decorating Class A Methods\")\n",
    "    \n",
    "class B(A):\n",
    "    @A.decor\n",
    "    def fun2(self):\n",
    "        print(\"Decorating Class B Methods\")\n",
    "        \n",
    "obj = B()\n",
    "obj.fun1()\n",
    "obj.fun2()"
   ]
  },
  {
   "cell_type": "code",
   "execution_count": null,
   "metadata": {},
   "outputs": [],
   "source": []
  }
 ],
 "metadata": {
  "kernelspec": {
   "display_name": "Python 3",
   "language": "python",
   "name": "python3"
  },
  "language_info": {
   "codemirror_mode": {
    "name": "ipython",
    "version": 3
   },
   "file_extension": ".py",
   "mimetype": "text/x-python",
   "name": "python",
   "nbconvert_exporter": "python",
   "pygments_lexer": "ipython3",
   "version": "3.7.5"
  }
 },
 "nbformat": 4,
 "nbformat_minor": 2
}
