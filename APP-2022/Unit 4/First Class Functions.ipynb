{
 "cells": [
  {
   "cell_type": "code",
   "execution_count": 8,
   "metadata": {},
   "outputs": [],
   "source": [
    "p = print"
   ]
  },
  {
   "cell_type": "code",
   "execution_count": 9,
   "metadata": {},
   "outputs": [
    {
     "name": "stdout",
     "output_type": "stream",
     "text": [
      "Hello Arvind\n"
     ]
    }
   ],
   "source": [
    "p('Hello Arvind')"
   ]
  },
  {
   "cell_type": "code",
   "execution_count": 4,
   "metadata": {},
   "outputs": [
    {
     "data": {
      "text/plain": [
       "builtin_function_or_method"
      ]
     },
     "execution_count": 4,
     "metadata": {},
     "output_type": "execute_result"
    }
   ],
   "source": [
    "type(p)"
   ]
  },
  {
   "cell_type": "code",
   "execution_count": 10,
   "metadata": {},
   "outputs": [
    {
     "name": "stdout",
     "output_type": "stream",
     "text": [
      "Enter the string:hello\n"
     ]
    },
    {
     "data": {
      "text/plain": [
       "'HELLO'"
      ]
     },
     "execution_count": 10,
     "metadata": {},
     "output_type": "execute_result"
    }
   ],
   "source": [
    "def word(text):\n",
    "    return text.upper()\n",
    "\n",
    "s = input('Enter the string:')\n",
    "word(s)"
   ]
  },
  {
   "cell_type": "code",
   "execution_count": 14,
   "metadata": {},
   "outputs": [
    {
     "name": "stdout",
     "output_type": "stream",
     "text": [
      "Enter the string:hi guys\n"
     ]
    },
    {
     "data": {
      "text/plain": [
       "'HI GUYS'"
      ]
     },
     "execution_count": 14,
     "metadata": {},
     "output_type": "execute_result"
    }
   ],
   "source": [
    "def word(text):\n",
    "    return text.upper()\n",
    "\n",
    "s = input('Enter the string:')\n",
    "word(s)\n",
    "fun = word\n",
    "fun(s)"
   ]
  },
  {
   "cell_type": "code",
   "execution_count": 18,
   "metadata": {},
   "outputs": [
    {
     "name": "stdout",
     "output_type": "stream",
     "text": [
      "Enter the text: hello\n",
      "HELLO\n",
      "Enter the text: MINE\n",
      "mine\n"
     ]
    }
   ],
   "source": [
    "def speaker1(text):\n",
    "    return text.upper()\n",
    "\n",
    "def speaker2(text):\n",
    "    return text.lower()\n",
    "\n",
    "def player(fun):\n",
    "    s = input('Enter the text: ')\n",
    "    voice = fun\n",
    "    print(voice(s))\n",
    "    \n",
    "player(speaker1)\n",
    "player(speaker2)"
   ]
  },
  {
   "cell_type": "code",
   "execution_count": 19,
   "metadata": {},
   "outputs": [
    {
     "name": "stdout",
     "output_type": "stream",
     "text": [
      "Enter the text: hello\n",
      "HELLO\n",
      "Enter the text: MINE\n",
      "mine\n"
     ]
    }
   ],
   "source": [
    "def speaker1(text):\n",
    "    return text.upper()\n",
    "\n",
    "def speaker2(text):\n",
    "    return text.lower()\n",
    "\n",
    "def player(fun):\n",
    "    s = input('Enter the text: ')\n",
    "    voice = fun(s)\n",
    "    print(voice)\n",
    "    \n",
    "player(speaker1)\n",
    "player(speaker2)"
   ]
  },
  {
   "cell_type": "code",
   "execution_count": 20,
   "metadata": {},
   "outputs": [
    {
     "name": "stdout",
     "output_type": "stream",
     "text": [
      "25\n"
     ]
    }
   ],
   "source": [
    "def add(x):\n",
    "    def inner_add(y):\n",
    "        return x+y\n",
    "    return inner_add\n",
    "\n",
    "sums = add(15)\n",
    "print (sums(10))"
   ]
  }
 ],
 "metadata": {
  "kernelspec": {
   "display_name": "Python 3",
   "language": "python",
   "name": "python3"
  },
  "language_info": {
   "codemirror_mode": {
    "name": "ipython",
    "version": 3
   },
   "file_extension": ".py",
   "mimetype": "text/x-python",
   "name": "python",
   "nbconvert_exporter": "python",
   "pygments_lexer": "ipython3",
   "version": "3.7.5"
  }
 },
 "nbformat": 4,
 "nbformat_minor": 2
}
