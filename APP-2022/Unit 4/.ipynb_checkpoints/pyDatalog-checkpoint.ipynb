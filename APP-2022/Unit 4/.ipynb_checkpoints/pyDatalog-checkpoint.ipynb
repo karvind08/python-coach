{
 "cells": [
  {
   "cell_type": "code",
   "execution_count": 1,
   "metadata": {},
   "outputs": [],
   "source": [
    "from pyDatalog import pyDatalog"
   ]
  },
  {
   "cell_type": "code",
   "execution_count": 2,
   "metadata": {},
   "outputs": [],
   "source": [
    "pyDatalog.create_terms('X,Y')"
   ]
  },
  {
   "cell_type": "code",
   "execution_count": 3,
   "metadata": {},
   "outputs": [
    {
     "name": "stdout",
     "output_type": "stream",
     "text": [
      "Enter the Name: Arvind\n",
      "X      | Y           \n",
      "-------|-------------\n",
      "Arvind | Hello Arvind\n"
     ]
    }
   ],
   "source": [
    "print((X==input('Enter the Name: ')) & (Y=='Hello '+X))"
   ]
  },
  {
   "cell_type": "code",
   "execution_count": 4,
   "metadata": {},
   "outputs": [
    {
     "name": "stdout",
     "output_type": "stream",
     "text": [
      "X | Y\n",
      "--|--\n",
      "2 | 3\n"
     ]
    }
   ],
   "source": [
    "print((X==2) & (Y==X+1))"
   ]
  },
  {
   "cell_type": "code",
   "execution_count": 5,
   "metadata": {},
   "outputs": [
    {
     "name": "stdout",
     "output_type": "stream",
     "text": [
      "[]\n"
     ]
    }
   ],
   "source": [
    "print((X==2) & (X==Y+1))"
   ]
  },
  {
   "cell_type": "code",
   "execution_count": 6,
   "metadata": {},
   "outputs": [
    {
     "name": "stdout",
     "output_type": "stream",
     "text": [
      "X         | Y\n",
      "----------|--\n",
      "(1, 2, 3) | 2\n"
     ]
    }
   ],
   "source": [
    "print((X==(1,2,3)) &(Y==X[1]))"
   ]
  },
  {
   "cell_type": "code",
   "execution_count": 3,
   "metadata": {},
   "outputs": [],
   "source": [
    "def twice(a):\n",
    "    return a*2\n",
    "\n"
   ]
  },
  {
   "cell_type": "code",
   "execution_count": 4,
   "metadata": {},
   "outputs": [],
   "source": [
    "pyDatalog.create_terms('twice')"
   ]
  },
  {
   "cell_type": "code",
   "execution_count": 6,
   "metadata": {},
   "outputs": [
    {
     "name": "stdout",
     "output_type": "stream",
     "text": [
      "X | Y \n",
      "--|---\n",
      "5 | 10\n"
     ]
    }
   ],
   "source": [
    "print((X==5) & (Y==twice(X)))"
   ]
  },
  {
   "cell_type": "code",
   "execution_count": 8,
   "metadata": {},
   "outputs": [],
   "source": [
    "pyDatalog.create_terms('I')"
   ]
  },
  {
   "cell_type": "code",
   "execution_count": 13,
   "metadata": {},
   "outputs": [
    {
     "name": "stdout",
     "output_type": "stream",
     "text": [
      "I\n",
      "-\n",
      "4\n",
      "3\n",
      "2\n",
      "1\n",
      "0\n"
     ]
    }
   ],
   "source": [
    "print(I.in_((0,1,2,3,4)))"
   ]
  },
  {
   "cell_type": "code",
   "execution_count": 14,
   "metadata": {},
   "outputs": [
    {
     "name": "stdout",
     "output_type": "stream",
     "text": [
      "I\n",
      "-\n",
      "9\n",
      "8\n",
      "7\n",
      "6\n",
      "5\n",
      "4\n",
      "3\n",
      "2\n",
      "1\n",
      "0\n"
     ]
    }
   ],
   "source": [
    "print(I.in_(range(10)))"
   ]
  },
  {
   "cell_type": "code",
   "execution_count": 15,
   "metadata": {},
   "outputs": [
    {
     "name": "stdout",
     "output_type": "stream",
     "text": [
      "I\n",
      "-\n",
      "9\n",
      "8\n",
      "7\n",
      "6\n",
      "5\n",
      "4\n",
      "3\n",
      "2\n",
      "1\n"
     ]
    }
   ],
   "source": [
    "print(I.in_(range(1,10)))"
   ]
  },
  {
   "cell_type": "code",
   "execution_count": 16,
   "metadata": {},
   "outputs": [
    {
     "name": "stdout",
     "output_type": "stream",
     "text": [
      "I\n",
      "-\n",
      "9\n",
      "7\n",
      "5\n",
      "3\n",
      "1\n"
     ]
    }
   ],
   "source": [
    "print(I.in_(range(1,10,2)))"
   ]
  },
  {
   "cell_type": "code",
   "execution_count": 18,
   "metadata": {},
   "outputs": [
    {
     "name": "stdout",
     "output_type": "stream",
     "text": [
      "I\n",
      "-\n",
      "9\n",
      "8\n",
      "7\n",
      "6\n",
      "5\n",
      "4\n",
      "3\n"
     ]
    }
   ],
   "source": [
    "print(I.in_(range(10)) &( I>2))"
   ]
  },
  {
   "cell_type": "code",
   "execution_count": 19,
   "metadata": {},
   "outputs": [
    {
     "name": "stdout",
     "output_type": "stream",
     "text": [
      "I\n",
      "-\n",
      "1\n",
      "0\n"
     ]
    }
   ],
   "source": [
    "print(I.in_(range(10)) &( I<2))"
   ]
  },
  {
   "cell_type": "markdown",
   "metadata": {},
   "source": [
    "# Nested Loops"
   ]
  },
  {
   "cell_type": "code",
   "execution_count": 24,
   "metadata": {},
   "outputs": [],
   "source": [
    "pyDatalog.create_terms('I,J,K')"
   ]
  },
  {
   "cell_type": "code",
   "execution_count": 23,
   "metadata": {},
   "outputs": [
    {
     "name": "stdout",
     "output_type": "stream",
     "text": [
      "I | J\n",
      "--|--\n",
      "1 | 1\n",
      "1 | 2\n",
      "1 | 3\n",
      "1 | 4\n",
      "1 | 5\n",
      "2 | 1\n",
      "2 | 2\n",
      "2 | 3\n",
      "2 | 4\n",
      "2 | 5\n",
      "3 | 1\n",
      "3 | 2\n",
      "3 | 3\n",
      "3 | 4\n",
      "3 | 5\n",
      "4 | 1\n",
      "4 | 2\n",
      "4 | 3\n",
      "4 | 4\n",
      "4 | 5\n",
      "5 | 1\n",
      "5 | 2\n",
      "5 | 3\n",
      "5 | 4\n",
      "5 | 5\n"
     ]
    }
   ],
   "source": [
    "print(I.in_(range(5,0,-1)) &\n",
    "     J.in_(range(5,0,-1)))"
   ]
  },
  {
   "cell_type": "code",
   "execution_count": 29,
   "metadata": {},
   "outputs": [
    {
     "name": "stdout",
     "output_type": "stream",
     "text": [
      "I | J | K\n",
      "--|---|--\n",
      "1 | 1 | 2\n",
      "1 | 2 | 3\n",
      "1 | 3 | 4\n",
      "2 | 1 | 3\n",
      "2 | 2 | 4\n",
      "3 | 1 | 4\n"
     ]
    }
   ],
   "source": [
    "print(I.in_(range(5,0,-1)) &\n",
    "     J.in_(range(5,0,-1)) &\n",
    "     (K==I+J) &\n",
    "      (K<5)\n",
    "     )"
   ]
  },
  {
   "cell_type": "markdown",
   "metadata": {},
   "source": [
    "# Logic Functions and dictionaries"
   ]
  },
  {
   "cell_type": "code",
   "execution_count": 35,
   "metadata": {},
   "outputs": [],
   "source": [
    "pyDatalog.create_terms('X,Y,salary')"
   ]
  },
  {
   "cell_type": "code",
   "execution_count": 40,
   "metadata": {},
   "outputs": [
    {
     "name": "stdout",
     "output_type": "stream",
     "text": [
      "X    | Y    \n",
      "-----|------\n",
      "emp2 | 20000\n",
      "emp1 | 10000\n"
     ]
    }
   ],
   "source": [
    "salary['emp1'] = 10000\n",
    "salary['emp2'] = 20000\n",
    "print(salary[X] == Y)"
   ]
  },
  {
   "cell_type": "code",
   "execution_count": 41,
   "metadata": {},
   "outputs": [
    {
     "name": "stdout",
     "output_type": "stream",
     "text": [
      "Y    \n",
      "-----\n",
      "10000\n"
     ]
    }
   ],
   "source": [
    "print(salary['emp1']==Y)"
   ]
  },
  {
   "cell_type": "code",
   "execution_count": 42,
   "metadata": {},
   "outputs": [
    {
     "name": "stdout",
     "output_type": "stream",
     "text": [
      "Y    \n",
      "-----\n",
      "20000\n"
     ]
    }
   ],
   "source": [
    "print(salary['emp2']==Y)"
   ]
  },
  {
   "cell_type": "code",
   "execution_count": 43,
   "metadata": {},
   "outputs": [],
   "source": [
    "salary['emp1'] = 50000"
   ]
  },
  {
   "cell_type": "code",
   "execution_count": 44,
   "metadata": {},
   "outputs": [
    {
     "name": "stdout",
     "output_type": "stream",
     "text": [
      "Y    \n",
      "-----\n",
      "50000\n"
     ]
    }
   ],
   "source": [
    "print(salary['emp1']==Y)"
   ]
  },
  {
   "cell_type": "code",
   "execution_count": 49,
   "metadata": {},
   "outputs": [
    {
     "name": "stdout",
     "output_type": "stream",
     "text": [
      "X    | Y    \n",
      "-----|------\n",
      "emp2 | 20000\n",
      "emp1 | 50000\n"
     ]
    }
   ],
   "source": [
    "print(salary[X]==Y)"
   ]
  },
  {
   "cell_type": "code",
   "execution_count": 52,
   "metadata": {},
   "outputs": [
    {
     "name": "stdout",
     "output_type": "stream",
     "text": [
      "X    | Y    \n",
      "-----|------\n",
      "emp1 | 10000\n",
      "emp2 | 20000\n"
     ]
    }
   ],
   "source": [
    "salary['emp1'] = 10000\n",
    "salary['emp2'] = 20000\n",
    "print(salary[X] == Y)"
   ]
  },
  {
   "cell_type": "code",
   "execution_count": 58,
   "metadata": {},
   "outputs": [
    {
     "name": "stdout",
     "output_type": "stream",
     "text": [
      "True\n"
     ]
    }
   ],
   "source": [
    "print(salary[X]==0)"
   ]
  },
  {
   "cell_type": "code",
   "execution_count": 65,
   "metadata": {},
   "outputs": [],
   "source": [
    "pyDatalog.create_terms('factorial, N')"
   ]
  },
  {
   "cell_type": "code",
   "execution_count": 67,
   "metadata": {},
   "outputs": [
    {
     "name": "stdout",
     "output_type": "stream",
     "text": [
      "N  \n",
      "---\n",
      "120\n"
     ]
    }
   ],
   "source": [
    "factorial[N] = N*factorial[N-1]\n",
    "factorial[1] = 1\n",
    "print(factorial[5]==N)"
   ]
  },
  {
   "cell_type": "code",
   "execution_count": null,
   "metadata": {},
   "outputs": [],
   "source": []
  }
 ],
 "metadata": {
  "kernelspec": {
   "display_name": "Python 3",
   "language": "python",
   "name": "python3"
  },
  "language_info": {
   "codemirror_mode": {
    "name": "ipython",
    "version": 3
   },
   "file_extension": ".py",
   "mimetype": "text/x-python",
   "name": "python",
   "nbconvert_exporter": "python",
   "pygments_lexer": "ipython3",
   "version": "3.7.5"
  }
 },
 "nbformat": 4,
 "nbformat_minor": 2
}
