{
 "cells": [
  {
   "cell_type": "markdown",
   "metadata": {},
   "source": [
    "# Map Function"
   ]
  },
  {
   "cell_type": "code",
   "execution_count": 2,
   "metadata": {},
   "outputs": [],
   "source": [
    "import math"
   ]
  },
  {
   "cell_type": "code",
   "execution_count": 3,
   "metadata": {},
   "outputs": [
    {
     "data": {
      "text/plain": [
       "'The area is 12.566370614359172'"
      ]
     },
     "execution_count": 3,
     "metadata": {},
     "output_type": "execute_result"
    }
   ],
   "source": [
    "def area(r):\n",
    "    a = math.pi*r**2\n",
    "    return 'The area is {}'.format(a)\n",
    "\n",
    "area(2)"
   ]
  },
  {
   "cell_type": "code",
   "execution_count": 5,
   "metadata": {},
   "outputs": [
    {
     "name": "stdout",
     "output_type": "stream",
     "text": [
      "['The area is 3.141592653589793', 'The area is 12.566370614359172', 'The area is 28.274333882308138', 'The area is 50.26548245743669', 'The area is 78.53981633974483']\n"
     ]
    }
   ],
   "source": [
    "def area(r):\n",
    "    a = math.pi*r**2\n",
    "    return 'The area is {}'.format(a)\n",
    "\n",
    "\n",
    "radius = [1,2,3,4,5]\n",
    "areas = []\n",
    "for r in radius:\n",
    "    b = area(r)\n",
    "    areas.append(b)\n",
    "print(areas)"
   ]
  },
  {
   "cell_type": "code",
   "execution_count": 6,
   "metadata": {},
   "outputs": [
    {
     "name": "stdout",
     "output_type": "stream",
     "text": [
      "The area is 3.141592653589793\n",
      "The area is 12.566370614359172\n",
      "The area is 28.274333882308138\n",
      "The area is 50.26548245743669\n",
      "The area is 78.53981633974483\n"
     ]
    }
   ],
   "source": [
    "def area(r):\n",
    "    a = math.pi*r**2\n",
    "    return 'The area is {}'.format(a)\n",
    "\n",
    "\n",
    "radius = [1,2,3,4,5]\n",
    "areas = []\n",
    "for r in radius:\n",
    "    b = area(r)\n",
    "    areas.append(b)\n",
    "\n",
    "for i in areas:\n",
    "    print(i)"
   ]
  },
  {
   "cell_type": "code",
   "execution_count": 7,
   "metadata": {},
   "outputs": [
    {
     "name": "stdout",
     "output_type": "stream",
     "text": [
      "<map object at 0x000001C387D1E708>\n"
     ]
    }
   ],
   "source": [
    "def area(r):\n",
    "    a = math.pi*r**2\n",
    "    return 'The area is {}'.format(a)\n",
    "\n",
    "\n",
    "radius = [1,2,3,4,5]\n",
    "areas = map(area,radius)\n",
    "print(areas)"
   ]
  },
  {
   "cell_type": "code",
   "execution_count": 8,
   "metadata": {},
   "outputs": [
    {
     "name": "stdout",
     "output_type": "stream",
     "text": [
      "The area is 3.141592653589793\n",
      "The area is 12.566370614359172\n",
      "The area is 28.274333882308138\n",
      "The area is 50.26548245743669\n",
      "The area is 78.53981633974483\n"
     ]
    }
   ],
   "source": [
    "def area(r):\n",
    "    a = math.pi*r**2\n",
    "    return 'The area is {}'.format(a)\n",
    "\n",
    "\n",
    "radius = [1,2,3,4,5]\n",
    "areas = map(area,radius)\n",
    "for i in areas:\n",
    "    print(i)"
   ]
  },
  {
   "cell_type": "markdown",
   "metadata": {},
   "source": [
    "# Lambda Function"
   ]
  },
  {
   "cell_type": "code",
   "execution_count": 10,
   "metadata": {},
   "outputs": [
    {
     "data": {
      "text/plain": [
       "36"
      ]
     },
     "execution_count": 10,
     "metadata": {},
     "output_type": "execute_result"
    }
   ],
   "source": [
    "d = lambda x: x**2\n",
    "d(6)"
   ]
  },
  {
   "cell_type": "code",
   "execution_count": 19,
   "metadata": {},
   "outputs": [
    {
     "name": "stdout",
     "output_type": "stream",
     "text": [
      "The square is  1\n",
      "The square is  4\n",
      "The square is  9\n",
      "The square is  16\n",
      "The square is  25\n",
      "The square is  36\n"
     ]
    }
   ],
   "source": [
    "l = [1,2,3,4,5,6]\n",
    "res =  map(lambda i:i**2,l)\n",
    "for i in res:\n",
    "    print('The square is ',i)"
   ]
  },
  {
   "cell_type": "code",
   "execution_count": 11,
   "metadata": {},
   "outputs": [
    {
     "name": "stdout",
     "output_type": "stream",
     "text": [
      "<map object at 0x000001C388F947C8>\n"
     ]
    }
   ],
   "source": [
    "radius = [1,2,3,4,5]\n",
    "areas = map(lambda r: math.pi*r**2,radius)\n",
    "print(areas)"
   ]
  },
  {
   "cell_type": "code",
   "execution_count": 13,
   "metadata": {},
   "outputs": [
    {
     "name": "stdout",
     "output_type": "stream",
     "text": [
      "The area is  3.141592653589793\n",
      "The area is  12.566370614359172\n",
      "The area is  28.274333882308138\n",
      "The area is  50.26548245743669\n",
      "The area is  78.53981633974483\n"
     ]
    }
   ],
   "source": [
    "radius = [1,2,3,4,5]\n",
    "areas = map(lambda r: math.pi*r**2,radius)\n",
    "for a in areas:\n",
    "    print('The area is ',a)"
   ]
  },
  {
   "cell_type": "code",
   "execution_count": 21,
   "metadata": {},
   "outputs": [
    {
     "data": {
      "text/plain": [
       "'The 6 is even'"
      ]
     },
     "execution_count": 21,
     "metadata": {},
     "output_type": "execute_result"
    }
   ],
   "source": [
    "def evenorodd(n):\n",
    "    if n%2==0:\n",
    "        return 'The {} is even'.format(n)\n",
    "    else:\n",
    "        return 'The {} is odd'.format(n)\n",
    "    \n",
    "evenorodd(6)"
   ]
  },
  {
   "cell_type": "code",
   "execution_count": 22,
   "metadata": {},
   "outputs": [
    {
     "name": "stdout",
     "output_type": "stream",
     "text": [
      "The 1 is odd\n",
      "The 2 is even\n",
      "The 3 is odd\n",
      "The 4 is even\n",
      "The 5 is odd\n",
      "The 6 is even\n",
      "The 7 is odd\n",
      "The 8 is even\n"
     ]
    }
   ],
   "source": [
    "def evenorodd(n):\n",
    "    if n%2==0:\n",
    "        return 'The {} is even'.format(n)\n",
    "    else:\n",
    "        return 'The {} is odd'.format(n)\n",
    "    \n",
    "number = [1,2,3,4,5,6,7,8]\n",
    "L = []\n",
    "for i in number:\n",
    "    r = evenorodd(i)\n",
    "    L.append(r)\n",
    "    \n",
    "for l in L:\n",
    "    print(l)"
   ]
  },
  {
   "cell_type": "code",
   "execution_count": 23,
   "metadata": {},
   "outputs": [
    {
     "name": "stdout",
     "output_type": "stream",
     "text": [
      "The 1 is odd\n",
      "The 2 is even\n",
      "The 3 is odd\n",
      "The 4 is even\n",
      "The 5 is odd\n",
      "The 6 is even\n",
      "The 7 is odd\n",
      "The 8 is even\n"
     ]
    }
   ],
   "source": [
    "def evenorodd(n):\n",
    "    if n%2==0:\n",
    "        return 'The {} is even'.format(n)\n",
    "    else:\n",
    "        return 'The {} is odd'.format(n)\n",
    "    \n",
    "number = [1,2,3,4,5,6,7,8]\n",
    "res = map(evenorodd,number)\n",
    "for i in res:\n",
    "    print(i)"
   ]
  },
  {
   "cell_type": "code",
   "execution_count": 29,
   "metadata": {},
   "outputs": [
    {
     "name": "stdout",
     "output_type": "stream",
     "text": [
      "True\n",
      "False\n",
      "True\n",
      "False\n",
      "True\n",
      "False\n",
      "True\n",
      "False\n"
     ]
    }
   ],
   "source": [
    "number = [1,2,3,4,5,6,7,8]\n",
    "res = map(lambda n:n%2==0,number)\n",
    "for i in res:\n",
    "    print(i)"
   ]
  },
  {
   "cell_type": "code",
   "execution_count": 24,
   "metadata": {},
   "outputs": [
    {
     "name": "stdout",
     "output_type": "stream",
     "text": [
      "This is 1 and 3\n"
     ]
    }
   ],
   "source": [
    "s = 'This is {} and {}'.format(1,3)\n",
    "print(s)"
   ]
  },
  {
   "cell_type": "code",
   "execution_count": 25,
   "metadata": {},
   "outputs": [
    {
     "name": "stdout",
     "output_type": "stream",
     "text": [
      "This is 3 and 1\n"
     ]
    }
   ],
   "source": [
    "s = 'This is {1} and {0}'.format(1,3)\n",
    "print(s)"
   ]
  },
  {
   "cell_type": "code",
   "execution_count": 27,
   "metadata": {},
   "outputs": [
    {
     "name": "stdout",
     "output_type": "stream",
     "text": [
      "This is 3 and 1\n"
     ]
    }
   ],
   "source": [
    "print('This is {b} and {a}'.format(a=1,b=3))"
   ]
  },
  {
   "cell_type": "markdown",
   "metadata": {},
   "source": [
    "# Filter Function"
   ]
  },
  {
   "cell_type": "code",
   "execution_count": 30,
   "metadata": {},
   "outputs": [
    {
     "name": "stdout",
     "output_type": "stream",
     "text": [
      "The 1 is odd\n",
      "The 2 is even\n",
      "The 3 is odd\n",
      "The 4 is even\n",
      "The 5 is odd\n",
      "The 6 is even\n",
      "The 7 is odd\n",
      "The 8 is even\n"
     ]
    }
   ],
   "source": [
    "def evenorodd(n):\n",
    "    if n%2==0:\n",
    "        return 'The {} is even'.format(n)\n",
    "    else:\n",
    "        return 'The {} is odd'.format(n)\n",
    "    \n",
    "number = [1,2,3,4,5,6,7,8]\n",
    "L = []\n",
    "for i in number:\n",
    "    r = evenorodd(i)\n",
    "    L.append(r)\n",
    "    \n",
    "for l in L:\n",
    "    print(l)"
   ]
  },
  {
   "cell_type": "code",
   "execution_count": 32,
   "metadata": {},
   "outputs": [
    {
     "name": "stdout",
     "output_type": "stream",
     "text": [
      "2\n",
      "4\n",
      "6\n",
      "8\n"
     ]
    }
   ],
   "source": [
    "def evenorodd(n):\n",
    "    if n%2==0:\n",
    "        return True\n",
    "    else:\n",
    "        return False\n",
    "    \n",
    "number = [1,2,3,4,5,6,7,8]\n",
    "res = filter(evenorodd,number)\n",
    "    \n",
    "for i in res:\n",
    "    print(i)"
   ]
  },
  {
   "cell_type": "code",
   "execution_count": 33,
   "metadata": {},
   "outputs": [
    {
     "name": "stdout",
     "output_type": "stream",
     "text": [
      "1\n",
      "3\n",
      "5\n",
      "7\n"
     ]
    }
   ],
   "source": [
    "def evenorodd(n):\n",
    "    if n%2!=0:\n",
    "        return True\n",
    "    else:\n",
    "        return False\n",
    "    \n",
    "number = [1,2,3,4,5,6,7,8]\n",
    "res = filter(evenorodd,number)\n",
    "    \n",
    "for i in res:\n",
    "    print(i)"
   ]
  },
  {
   "cell_type": "code",
   "execution_count": 34,
   "metadata": {},
   "outputs": [
    {
     "name": "stdout",
     "output_type": "stream",
     "text": [
      "2\n",
      "4\n",
      "6\n",
      "8\n"
     ]
    }
   ],
   "source": [
    "number = [1,2,3,4,5,6,7,8]\n",
    "res = filter(lambda n:n%2==0,number)\n",
    "    \n",
    "for i in res:\n",
    "    print(i)"
   ]
  },
  {
   "cell_type": "code",
   "execution_count": 35,
   "metadata": {},
   "outputs": [
    {
     "name": "stdout",
     "output_type": "stream",
     "text": [
      "1\n",
      "3\n",
      "5\n",
      "7\n"
     ]
    }
   ],
   "source": [
    "number = [1,2,3,4,5,6,7,8]\n",
    "res = filter(lambda n:n%2!=0,number)\n",
    "    \n",
    "for i in res:\n",
    "    print(i)"
   ]
  }
 ],
 "metadata": {
  "kernelspec": {
   "display_name": "Python 3",
   "language": "python",
   "name": "python3"
  },
  "language_info": {
   "codemirror_mode": {
    "name": "ipython",
    "version": 3
   },
   "file_extension": ".py",
   "mimetype": "text/x-python",
   "name": "python",
   "nbconvert_exporter": "python",
   "pygments_lexer": "ipython3",
   "version": "3.7.5"
  }
 },
 "nbformat": 4,
 "nbformat_minor": 2
}
