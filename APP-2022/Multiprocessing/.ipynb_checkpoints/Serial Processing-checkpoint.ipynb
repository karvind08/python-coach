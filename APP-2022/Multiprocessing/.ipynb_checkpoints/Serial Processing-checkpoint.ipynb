{
 "cells": [
  {
   "cell_type": "markdown",
   "metadata": {},
   "source": [
    "# Serial Processing"
   ]
  },
  {
   "cell_type": "code",
   "execution_count": 1,
   "metadata": {},
   "outputs": [],
   "source": [
    "import time"
   ]
  },
  {
   "cell_type": "code",
   "execution_count": 16,
   "metadata": {},
   "outputs": [
    {
     "name": "stdout",
     "output_type": "stream",
     "text": [
      "Sleeping 1 second\n",
      "Done Sleeping\n",
      "Sleeping 1 second\n",
      "Done Sleeping\n",
      "Sleeping 1 second\n",
      "Done Sleeping\n",
      "Finished in 3.03\n"
     ]
    }
   ],
   "source": [
    "start = time.perf_counter()\n",
    "def do_something():\n",
    "    print('Sleeping 1 second')\n",
    "    time.sleep(1)\n",
    "    print('Done Sleeping')\n",
    "    \n",
    "do_something()\n",
    "do_something()\n",
    "do_something()\n",
    "finish = time.perf_counter()\n",
    "print('Finished in {}'.format(round(finish-start,2)))"
   ]
  },
  {
   "cell_type": "markdown",
   "metadata": {},
   "source": [
    "# Multiprocessing approach"
   ]
  },
  {
   "cell_type": "code",
   "execution_count": 11,
   "metadata": {},
   "outputs": [
    {
     "name": "stdout",
     "output_type": "stream",
     "text": [
      "Finished in 0.0\n"
     ]
    }
   ],
   "source": [
    "import time\n",
    "from multiprocessing import *\n",
    "\n",
    "start = time.perf_counter()\n",
    "def multi():\n",
    "    print('Sleeping 1 second')\n",
    "    time.sleep(1)\n",
    "    print('Done Sleeping')\n",
    "    \n",
    "p1 = Process(target=multi)\n",
    "p2 = Process(target=multi)\n",
    "finish = time.perf_counter()\n",
    "print('Finished in {}'.format(round(finish-start,2)))\n"
   ]
  },
  {
   "cell_type": "markdown",
   "metadata": {},
   "source": [
    "# It has finished without executing"
   ]
  },
  {
   "cell_type": "code",
   "execution_count": 17,
   "metadata": {},
   "outputs": [
    {
     "name": "stdout",
     "output_type": "stream",
     "text": [
      "Finished in 0.01\n"
     ]
    }
   ],
   "source": [
    "import time\n",
    "from multiprocessing import *\n",
    "\n",
    "start = time.perf_counter()\n",
    "def multi():\n",
    "    print('Sleeping 1 second')\n",
    "    time.sleep(1)\n",
    "    print('Done Sleeping')\n",
    "    \n",
    "p1 = Process(target=multi)\n",
    "p2 = Process(target=multi)\n",
    "p1.start()\n",
    "p2.start()\n",
    "finish = time.perf_counter()\n",
    "print('Finished in {}'.format(round(finish-start,2)))\n"
   ]
  },
  {
   "cell_type": "markdown",
   "metadata": {},
   "source": [
    "# it is finished without the completion of p1 & p2 processes."
   ]
  },
  {
   "cell_type": "code",
   "execution_count": 20,
   "metadata": {},
   "outputs": [
    {
     "name": "stdout",
     "output_type": "stream",
     "text": [
      "Finished in 0.11\n"
     ]
    }
   ],
   "source": [
    "import time\n",
    "from multiprocessing import *\n",
    "\n",
    "start = time.perf_counter()\n",
    "def multi():\n",
    "    print('Sleeping 1 second')\n",
    "    time.sleep(1)\n",
    "    print('Done Sleeping')\n",
    "    \n",
    "p1 = Process(target=multi)\n",
    "p2 = Process(target=multi)\n",
    "p1.start()\n",
    "p2.start()\n",
    "p1.join()\n",
    "p2.join()\n",
    "finish = time.perf_counter()\n",
    "print('Finished in {}'.format(round(finish-start,2)))\n"
   ]
  },
  {
   "cell_type": "code",
   "execution_count": null,
   "metadata": {},
   "outputs": [],
   "source": []
  },
  {
   "cell_type": "code",
   "execution_count": null,
   "metadata": {},
   "outputs": [],
   "source": []
  }
 ],
 "metadata": {
  "kernelspec": {
   "display_name": "Python 3",
   "language": "python",
   "name": "python3"
  },
  "language_info": {
   "codemirror_mode": {
    "name": "ipython",
    "version": 3
   },
   "file_extension": ".py",
   "mimetype": "text/x-python",
   "name": "python",
   "nbconvert_exporter": "python",
   "pygments_lexer": "ipython3",
   "version": "3.7.5"
  }
 },
 "nbformat": 4,
 "nbformat_minor": 2
}
