{
 "cells": [
  {
   "cell_type": "code",
   "execution_count": 2,
   "metadata": {},
   "outputs": [],
   "source": [
    "import re"
   ]
  },
  {
   "cell_type": "code",
   "execution_count": 22,
   "metadata": {},
   "outputs": [
    {
     "name": "stdout",
     "output_type": "stream",
     "text": [
      "<re.Match object; span=(0, 3), match='abc'>\n"
     ]
    }
   ],
   "source": [
    "s1 = 'abcdefghijklabas'\n",
    "pattern = re.compile('abc')\n",
    "res = pattern.finditer(s1)\n",
    "for i in res:\n",
    "    print(i)\n"
   ]
  },
  {
   "cell_type": "code",
   "execution_count": 23,
   "metadata": {},
   "outputs": [
    {
     "name": "stdout",
     "output_type": "stream",
     "text": [
      "abc\n"
     ]
    }
   ],
   "source": [
    "print(s1[0:3])"
   ]
  },
  {
   "cell_type": "code",
   "execution_count": 7,
   "metadata": {},
   "outputs": [
    {
     "name": "stdout",
     "output_type": "stream",
     "text": [
      "\ttab\n"
     ]
    }
   ],
   "source": [
    "print('\\ttab')"
   ]
  },
  {
   "cell_type": "code",
   "execution_count": 8,
   "metadata": {},
   "outputs": [
    {
     "name": "stdout",
     "output_type": "stream",
     "text": [
      "\\ttab\n"
     ]
    }
   ],
   "source": [
    "print('\\\\ttab')"
   ]
  },
  {
   "cell_type": "code",
   "execution_count": 10,
   "metadata": {},
   "outputs": [
    {
     "name": "stdout",
     "output_type": "stream",
     "text": [
      "None\n"
     ]
    }
   ],
   "source": [
    "s1 ='ab regular expression specifies a set of strings that matches'\n",
    "res = re.match('reg',s1)\n",
    "print(res)"
   ]
  },
  {
   "cell_type": "code",
   "execution_count": 12,
   "metadata": {},
   "outputs": [
    {
     "name": "stdout",
     "output_type": "stream",
     "text": [
      "<re.Match object; span=(0, 2), match='ab'>\n"
     ]
    }
   ],
   "source": [
    "s1 ='''ab regular expression specifies a set of strings that matches\n",
    "the functions in this module let you check if'''\n",
    "res = re.match('ab',s1)\n",
    "print(res)"
   ]
  },
  {
   "cell_type": "code",
   "execution_count": 13,
   "metadata": {},
   "outputs": [
    {
     "name": "stdout",
     "output_type": "stream",
     "text": [
      "None\n"
     ]
    }
   ],
   "source": [
    "s1 ='''regular expression specifies ab set of strings that matches\n",
    "the functions in this module let you check if'''\n",
    "res = re.match('ab',s1)\n",
    "print(res)"
   ]
  },
  {
   "cell_type": "code",
   "execution_count": 15,
   "metadata": {},
   "outputs": [
    {
     "name": "stdout",
     "output_type": "stream",
     "text": [
      "<re.Match object; span=(0, 2), match='ab'>\n"
     ]
    }
   ],
   "source": [
    "s1 ='''ab regular expression specifies ab set of strings that matches\n",
    "ab the functions in this module let you check if'''\n",
    "res = re.match('ab',s1)\n",
    "print(res)"
   ]
  },
  {
   "cell_type": "code",
   "execution_count": 19,
   "metadata": {},
   "outputs": [
    {
     "name": "stdout",
     "output_type": "stream",
     "text": [
      "0\n",
      "0\n",
      "0\n"
     ]
    }
   ],
   "source": [
    "l1 = ['arv','ami','ade']\n",
    "for i in l1:\n",
    "    res = re.match('a',i)\n",
    "    print(res)"
   ]
  },
  {
   "cell_type": "code",
   "execution_count": 20,
   "metadata": {},
   "outputs": [
    {
     "name": "stdout",
     "output_type": "stream",
     "text": [
      "(0, 1)\n",
      "(0, 1)\n",
      "(0, 1)\n"
     ]
    }
   ],
   "source": [
    "l1 = ['arv','ami','ade']\n",
    "for i in l1:\n",
    "    res = re.match('a',i)\n",
    "    print(res.span())"
   ]
  },
  {
   "cell_type": "code",
   "execution_count": 21,
   "metadata": {},
   "outputs": [
    {
     "name": "stdout",
     "output_type": "stream",
     "text": [
      "arv\n",
      "ami\n",
      "ade\n"
     ]
    }
   ],
   "source": [
    "l1 = ['arv','ami','ade']\n",
    "for i in l1:\n",
    "    res = re.match('a',i)\n",
    "    print(res.string)"
   ]
  },
  {
   "cell_type": "code",
   "execution_count": 31,
   "metadata": {},
   "outputs": [
    {
     "name": "stdout",
     "output_type": "stream",
     "text": [
      "['a', 'a']\n"
     ]
    }
   ],
   "source": [
    "s1 = 'This is Regular Expression in Python Programming'\n",
    "patter = '[abc]'\n",
    "res = re.findall(patter,s1)\n",
    "print(res)"
   ]
  },
  {
   "cell_type": "code",
   "execution_count": 48,
   "metadata": {},
   "outputs": [
    {
     "name": "stdout",
     "output_type": "stream",
     "text": [
      "['This is Regul', 'r Expression in Python Progr', 'mming']\n"
     ]
    }
   ],
   "source": [
    "s1 = 'This is Regular Expression in Python Programming'\n",
    "patter = '[^abc]'\n",
    "res = re.findall(patter,s1)\n",
    "print(res)"
   ]
  },
  {
   "cell_type": "code",
   "execution_count": 49,
   "metadata": {},
   "outputs": [
    {
     "name": "stdout",
     "output_type": "stream",
     "text": [
      "['This is Regul', 'r Expression in Python Progr', 'mming']\n"
     ]
    }
   ],
   "source": [
    "s1 = 'This is Regular Expression in Python Programming'\n",
    "patter = '[^abc]+'\n",
    "res = re.findall(patter,s1)\n",
    "print(res)"
   ]
  },
  {
   "cell_type": "code",
   "execution_count": 32,
   "metadata": {},
   "outputs": [
    {
     "name": "stdout",
     "output_type": "stream",
     "text": [
      "['h', 'i', 's', 'i', 's', 'e', 'g', 'u', 'l', 'a', 'r', 'x', 'p', 'r', 'e', 's', 's', 'i', 'o', 'n', 'i', 'n', 'y', 't', 'h', 'o', 'n', 'r', 'o', 'g', 'r', 'a', 'm', 'm', 'i', 'n', 'g']\n"
     ]
    }
   ],
   "source": [
    "s1 = 'This is Regular Expression in Python Programming'\n",
    "patter = '[a-z]'\n",
    "res = re.findall(patter,s1)\n",
    "print(res)"
   ]
  },
  {
   "cell_type": "code",
   "execution_count": 35,
   "metadata": {},
   "outputs": [
    {
     "name": "stdout",
     "output_type": "stream",
     "text": [
      "['This', 'Regular', 'Expression', 'Python', 'Programming']\n"
     ]
    }
   ],
   "source": [
    "s1 = 'This is Regular Expression in Python Programming'\n",
    "patter = '[A-Z][a-z]'\n",
    "res = re.findall(patter,s1)\n",
    "print(res)"
   ]
  },
  {
   "cell_type": "code",
   "execution_count": 36,
   "metadata": {},
   "outputs": [
    {
     "name": "stdout",
     "output_type": "stream",
     "text": [
      "['This', 'Regular', 'Expression', 'Python', 'Programming']\n"
     ]
    }
   ],
   "source": [
    "s1 = 'This is Regular Expression in Python Programming'\n",
    "patter = '[A-Z][a-z]*'\n",
    "res = re.findall(patter,s1)\n",
    "print(res)"
   ]
  },
  {
   "cell_type": "code",
   "execution_count": 37,
   "metadata": {},
   "outputs": [
    {
     "name": "stdout",
     "output_type": "stream",
     "text": [
      "['This', 'Regular', 'Expression', 'Python', 'Programming']\n"
     ]
    }
   ],
   "source": [
    "s1 = 'This is Regular Expression in Python Programming'\n",
    "patter = '[A-Z][a-z]+'\n",
    "res = re.findall(patter,s1)\n",
    "print(res)"
   ]
  },
  {
   "cell_type": "code",
   "execution_count": 41,
   "metadata": {},
   "outputs": [
    {
     "name": "stdout",
     "output_type": "stream",
     "text": [
      "['T', 'h', 'i', 's', 'i', 's', 'R', 'e', 'g', 'u', 'l', 'a', 'r', 'E', 'x', 'p', 'r', 'e', 's', 's', 'i', 'o', 'n', 'i', 'n', 'P', 'y', 't', 'h', 'o', 'n', 'P', 'r', 'o', 'g', 'r', 'a', 'm', 'm', 'i', 'n', 'g']\n"
     ]
    }
   ],
   "source": [
    "s1 = 'This is Regular Expression in Python Programming'\n",
    "patter = '\\w'\n",
    "res = re.findall(patter,s1)\n",
    "print(res)"
   ]
  },
  {
   "cell_type": "code",
   "execution_count": 42,
   "metadata": {},
   "outputs": [
    {
     "name": "stdout",
     "output_type": "stream",
     "text": [
      "['This', 'is', 'Regular', 'Expression', 'in', 'Python', 'Programming']\n"
     ]
    }
   ],
   "source": [
    "s1 = 'This is Regular Expression in Python Programming'\n",
    "patter = '\\w+'\n",
    "res = re.findall(patter,s1)\n",
    "print(res)"
   ]
  },
  {
   "cell_type": "code",
   "execution_count": 43,
   "metadata": {},
   "outputs": [
    {
     "name": "stdout",
     "output_type": "stream",
     "text": [
      "['This', '', 'is', '', 'Regular', '', 'Expression', '', 'in', '', 'Python', '', 'Programming', '']\n"
     ]
    }
   ],
   "source": [
    "s1 = 'This is Regular Expression in Python Programming'\n",
    "patter = '\\w*'\n",
    "res = re.findall(patter,s1)\n",
    "print(res)"
   ]
  },
  {
   "cell_type": "code",
   "execution_count": 44,
   "metadata": {},
   "outputs": [
    {
     "name": "stdout",
     "output_type": "stream",
     "text": [
      "[' ', ' ', ' ', ' ', ' ', ' ']\n"
     ]
    }
   ],
   "source": [
    "s1 = 'This is Regular Expression in Python Programming'\n",
    "patter = '\\W'\n",
    "res = re.findall(patter,s1)\n",
    "print(res)"
   ]
  },
  {
   "cell_type": "code",
   "execution_count": 45,
   "metadata": {},
   "outputs": [
    {
     "name": "stdout",
     "output_type": "stream",
     "text": [
      "[' ', ' ', ' ', ' ', ' ', ' ']\n"
     ]
    }
   ],
   "source": [
    "s1 = 'This is Regular Expression in Python Programming'\n",
    "patter = '\\W+'\n",
    "res = re.findall(patter,s1)\n",
    "print(res)"
   ]
  },
  {
   "cell_type": "code",
   "execution_count": 46,
   "metadata": {},
   "outputs": [
    {
     "name": "stdout",
     "output_type": "stream",
     "text": [
      "['', '', '', '', ' ', '', '', ' ', '', '', '', '', '', '', '', ' ', '', '', '', '', '', '', '', '', '', '', ' ', '', '', ' ', '', '', '', '', '', '', ' ', '', '', '', '', '', '', '', '', '', '', '', '']\n"
     ]
    }
   ],
   "source": [
    "s1 = 'This is Regular Expression in Python Programming'\n",
    "patter = '\\W*'\n",
    "res = re.findall(patter,s1)\n",
    "print(res)"
   ]
  },
  {
   "cell_type": "code",
   "execution_count": 50,
   "metadata": {},
   "outputs": [
    {
     "name": "stdout",
     "output_type": "stream",
     "text": [
      "Hi arvind how are you, i am good\n"
     ]
    }
   ],
   "source": [
    "s1 =  '''Hi arvind\n",
    "how are you,\n",
    "i am good'''\n",
    "res = re.sub('\\n',' ',s1)\n",
    "print(res)"
   ]
  },
  {
   "cell_type": "code",
   "execution_count": null,
   "metadata": {},
   "outputs": [],
   "source": []
  },
  {
   "cell_type": "code",
   "execution_count": null,
   "metadata": {},
   "outputs": [],
   "source": []
  },
  {
   "cell_type": "code",
   "execution_count": null,
   "metadata": {},
   "outputs": [],
   "source": []
  }
 ],
 "metadata": {
  "kernelspec": {
   "display_name": "Python 3",
   "language": "python",
   "name": "python3"
  },
  "language_info": {
   "codemirror_mode": {
    "name": "ipython",
    "version": 3
   },
   "file_extension": ".py",
   "mimetype": "text/x-python",
   "name": "python",
   "nbconvert_exporter": "python",
   "pygments_lexer": "ipython3",
   "version": "3.7.5"
  }
 },
 "nbformat": 4,
 "nbformat_minor": 2
}
