{
 "cells": [
  {
   "cell_type": "code",
   "execution_count": 1,
   "metadata": {},
   "outputs": [],
   "source": [
    "import tkinter"
   ]
  },
  {
   "cell_type": "code",
   "execution_count": null,
   "metadata": {},
   "outputs": [],
   "source": [
    "window = tkinter.Tk()\n",
    "window.title('GUI App')\n",
    "label = tkinter.Label(window,text='Hello Arvind').pack()\n",
    "window.mainloop()"
   ]
  },
  {
   "cell_type": "code",
   "execution_count": 2,
   "metadata": {},
   "outputs": [],
   "source": [
    "window = tkinter.Tk()\n",
    "window.title('GUI App')\n",
    "l1 = tkinter.Label(window,text='Hello Arvind',font=('Arial Bold',25))\n",
    "l1.grid(column=0,row=0)\n",
    "window.mainloop()"
   ]
  },
  {
   "cell_type": "code",
   "execution_count": 3,
   "metadata": {},
   "outputs": [],
   "source": [
    "window = tkinter.Tk()\n",
    "window.title('GUI App')\n",
    "l1 = tkinter.Label(window,text='Hello Arvind',font=('Arial Bold',25))\n",
    "window.geometry('400x300')\n",
    "l1.grid(column=0,row=0)\n",
    "window.mainloop()"
   ]
  },
  {
   "cell_type": "code",
   "execution_count": 5,
   "metadata": {},
   "outputs": [],
   "source": [
    "window = tkinter.Tk()\n",
    "window.title('GUI App')\n",
    "l1 = tkinter.Label(window,text='Hello Arvind',font=('Arial Bold',25))\n",
    "window.geometry('400x300')\n",
    "l1.grid(column=0,row=0)\n",
    "bt = tkinter.Button(window,text='Click Here')\n",
    "bt.grid(column=0,row=1)\n",
    "window.mainloop()"
   ]
  },
  {
   "cell_type": "code",
   "execution_count": 6,
   "metadata": {},
   "outputs": [],
   "source": [
    "window = tkinter.Tk()\n",
    "window.title('GUI App')\n",
    "l1 = tkinter.Label(window,text='Hello Arvind',font=('Arial Bold',25))\n",
    "window.geometry('400x300')\n",
    "l1.grid(column=0,row=0)\n",
    "bt = tkinter.Button(window,text='Click Here',bg='blue',fg='white')\n",
    "bt.grid(column=0,row=1)\n",
    "window.mainloop()"
   ]
  },
  {
   "cell_type": "code",
   "execution_count": 8,
   "metadata": {},
   "outputs": [],
   "source": [
    "window = tkinter.Tk()\n",
    "window.title('GUI App')\n",
    "l1 = tkinter.Label(window,text='Hello Arvind',font=('Arial Bold',25))\n",
    "window.geometry('400x300')\n",
    "l1.grid(column=0,row=0)\n",
    "def clicked():\n",
    "    l1.configure(text='Button was clicked')\n",
    "bt = tkinter.Button(window,text='Now Click',bg='blue',fg='white',command = clicked)\n",
    "bt.grid(column=0,row=1)\n",
    "window.mainloop()"
   ]
  },
  {
   "cell_type": "code",
   "execution_count": 6,
   "metadata": {},
   "outputs": [],
   "source": [
    "window = tkinter.Tk()\n",
    "window.title('GUI App')\n",
    "l1 = tkinter.Label(window,text='Enter the text',font=('Arial Bold',15))\n",
    "window.geometry('400x300')\n",
    "l1.grid(column=0,row=0)\n",
    "txt = tkinter.Entry(window,width=10)\n",
    "txt.grid(column=1,row=0)\n",
    "def clicked():\n",
    "    res = 'Welcome to '+txt.get()\n",
    "    l1.configure(text=res)\n",
    "bt = tkinter.Button(window,text='Now Click',bg='blue',fg='white',command = clicked)\n",
    "bt.grid(column=0,row=1)\n",
    "window.mainloop()"
   ]
  },
  {
   "cell_type": "code",
   "execution_count": null,
   "metadata": {},
   "outputs": [],
   "source": []
  },
  {
   "cell_type": "code",
   "execution_count": null,
   "metadata": {},
   "outputs": [],
   "source": []
  }
 ],
 "metadata": {
  "kernelspec": {
   "display_name": "Python 3",
   "language": "python",
   "name": "python3"
  },
  "language_info": {
   "codemirror_mode": {
    "name": "ipython",
    "version": 3
   },
   "file_extension": ".py",
   "mimetype": "text/x-python",
   "name": "python",
   "nbconvert_exporter": "python",
   "pygments_lexer": "ipython3",
   "version": "3.7.5"
  }
 },
 "nbformat": 4,
 "nbformat_minor": 2
}
