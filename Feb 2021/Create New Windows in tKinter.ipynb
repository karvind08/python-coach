{
 "cells": [
  {
   "cell_type": "code",
   "execution_count": 1,
   "metadata": {},
   "outputs": [],
   "source": [
    "from tkinter import *\n",
    "from PIL import Image, ImageTk"
   ]
  },
  {
   "cell_type": "code",
   "execution_count": 5,
   "metadata": {},
   "outputs": [],
   "source": [
    "window = Tk()\n",
    "window.title('Create New Windows in tKinter')\n",
    "window.geometry('500x400')\n",
    "\n",
    "top = Toplevel()\n",
    "label = Label(top,text='Hello World').pack()\n",
    "\n",
    "window.mainloop()"
   ]
  },
  {
   "cell_type": "markdown",
   "metadata": {},
   "source": [
    "# Putting images "
   ]
  },
  {
   "cell_type": "code",
   "execution_count": 9,
   "metadata": {},
   "outputs": [],
   "source": [
    "window = Tk()\n",
    "window.title('Create New Windows in tKinter')\n",
    "window.geometry('500x400')\n",
    "\n",
    "top = Toplevel()\n",
    "my_img = ImageTk.PhotoImage(Image.open(r'C:\\Users\\Arvind\\Desktop\\ka.jpg'))\n",
    "my_label = Label(top, image=my_img).pack()\n",
    "\n",
    "window.mainloop()"
   ]
  },
  {
   "cell_type": "markdown",
   "metadata": {},
   "source": [
    "# changing the title of new window"
   ]
  },
  {
   "cell_type": "code",
   "execution_count": 11,
   "metadata": {},
   "outputs": [],
   "source": [
    "window = Tk()\n",
    "window.title('Create New Windows in tKinter')\n",
    "window.geometry('500x400')\n",
    "window.iconbitmap(r'C:\\Users\\Arvind\\Desktop\\icon1.ico')\n",
    "top = Toplevel()\n",
    "top.title('New Window')\n",
    "top.iconbitmap(r'C:\\Users\\Arvind\\Desktop\\icon2.ico')\n",
    "my_img = ImageTk.PhotoImage(Image.open(r'C:\\Users\\Arvind\\Desktop\\ka.jpg'))\n",
    "my_label = Label(top, image=my_img).pack()\n",
    "\n",
    "window.mainloop()"
   ]
  },
  {
   "cell_type": "markdown",
   "metadata": {},
   "source": [
    "# changing the favicon of new window"
   ]
  },
  {
   "cell_type": "code",
   "execution_count": null,
   "metadata": {},
   "outputs": [],
   "source": [
    "window = Tk()\n",
    "window.title('Create New Windows in tKinter')\n",
    "window.geometry('500x400')\n",
    "window.iconbitmap(r'C:\\Users\\Arvind\\Desktop\\icon1.ico')\n",
    "top = Toplevel()\n",
    "top.title('New Window')\n",
    "top.iconbitmap(r'C:\\Users\\Arvind\\Desktop\\icon2.ico')\n",
    "my_img = ImageTk.PhotoImage(Image.open(r'C:\\Users\\Arvind\\Desktop\\ka.jpg'))\n",
    "my_label = Label(top, image=my_img).pack()\n",
    "\n",
    "window.mainloop()"
   ]
  },
  {
   "cell_type": "markdown",
   "metadata": {},
   "source": [
    "# Open new window by clicking a button"
   ]
  },
  {
   "cell_type": "code",
   "execution_count": 13,
   "metadata": {},
   "outputs": [],
   "source": [
    "window = Tk()\n",
    "window.title('Create New Windows in tKinter')\n",
    "window.geometry('500x400')\n",
    "window.iconbitmap(r'C:\\Users\\Arvind\\Desktop\\icon1.ico')\n",
    "\n",
    "def open():\n",
    "    top = Toplevel()\n",
    "    top.title('New Window')\n",
    "    top.iconbitmap(r'C:\\Users\\Arvind\\Desktop\\icon2.ico')\n",
    "    my_img = ImageTk.PhotoImage(Image.open(r'C:\\Users\\Arvind\\Desktop\\ka.jpg'))\n",
    "    my_label = Label(top, image=my_img).pack()\n",
    "\n",
    "\n",
    "btn = Button(window,text='Click Me',command=open).pack()\n",
    "\n",
    "\n",
    "window.mainloop()"
   ]
  },
  {
   "cell_type": "markdown",
   "metadata": {},
   "source": [
    "# but it wont show you the image"
   ]
  },
  {
   "cell_type": "code",
   "execution_count": 14,
   "metadata": {},
   "outputs": [],
   "source": [
    "window = Tk()\n",
    "window.title('Create New Windows in tKinter')\n",
    "window.geometry('500x400')\n",
    "window.iconbitmap(r'C:\\Users\\Arvind\\Desktop\\icon1.ico')\n",
    "\n",
    "def open():\n",
    "    top = Toplevel()\n",
    "    top.title('New Window')\n",
    "    top.iconbitmap(r'C:\\Users\\Arvind\\Desktop\\icon2.ico')\n",
    "    my_img = ImageTk.PhotoImage(Image.open(r'C:\\Users\\Arvind\\Desktop\\ka.jpg'))\n",
    "    my_label = Label(top, image=my_img).pack()\n",
    "\n",
    "\n",
    "btn = Button(window,text='Click Me',command=open).pack()\n",
    "\n",
    "\n",
    "window.mainloop()"
   ]
  },
  {
   "cell_type": "markdown",
   "metadata": {},
   "source": [
    "# Now it will show you the image in new window"
   ]
  },
  {
   "cell_type": "code",
   "execution_count": 15,
   "metadata": {},
   "outputs": [],
   "source": [
    "window = Tk()\n",
    "window.title('Create New Windows in tKinter')\n",
    "window.geometry('500x400')\n",
    "window.iconbitmap(r'C:\\Users\\Arvind\\Desktop\\icon1.ico')\n",
    "\n",
    "def open():\n",
    "    global my_img\n",
    "    top = Toplevel()\n",
    "    top.title('New Window')\n",
    "    top.iconbitmap(r'C:\\Users\\Arvind\\Desktop\\icon2.ico')\n",
    "    my_img = ImageTk.PhotoImage(Image.open(r'C:\\Users\\Arvind\\Desktop\\ka.jpg'))\n",
    "    my_label = Label(top, image=my_img).pack()\n",
    "\n",
    "\n",
    "btn = Button(window,text='Click Me',command=open).pack()\n",
    "\n",
    "\n",
    "window.mainloop()"
   ]
  },
  {
   "cell_type": "markdown",
   "metadata": {},
   "source": [
    "# Click button to close the file"
   ]
  },
  {
   "cell_type": "code",
   "execution_count": 17,
   "metadata": {},
   "outputs": [],
   "source": [
    "window = Tk()\n",
    "window.title('Create New Windows in tKinter')\n",
    "window.geometry('500x400')\n",
    "window.iconbitmap(r'C:\\Users\\Arvind\\Desktop\\icon1.ico')\n",
    "\n",
    "def open():\n",
    "    global my_img\n",
    "    top = Toplevel()\n",
    "    top.title('New Window')\n",
    "    top.iconbitmap(r'C:\\Users\\Arvind\\Desktop\\icon2.ico')\n",
    "    my_img = ImageTk.PhotoImage(Image.open(r'C:\\Users\\Arvind\\Desktop\\ka.jpg'))\n",
    "    my_label = Label(top, image=my_img).pack()\n",
    "    btn2 = Button(top,text='Click me to close',command=top.destroy).pack()\n",
    "\n",
    "\n",
    "btn = Button(window,text='Click Me',command=open).pack()\n",
    "\n",
    "\n",
    "window.mainloop()"
   ]
  },
  {
   "cell_type": "markdown",
   "metadata": {},
   "source": [
    "# Classes with tKinter"
   ]
  },
  {
   "cell_type": "code",
   "execution_count": 18,
   "metadata": {},
   "outputs": [
    {
     "name": "stdout",
     "output_type": "stream",
     "text": [
      "You have clicked a button\n"
     ]
    }
   ],
   "source": [
    "window = Tk()\n",
    "window.title('Classes with tKinter')\n",
    "window.geometry('500x400')\n",
    "window.iconbitmap(r'C:\\Users\\Arvind\\Desktop\\icon1.ico')\n",
    "\n",
    "class Elder:\n",
    "    def __init__(self,master):\n",
    "        myFrame = Frame(master)\n",
    "        myFrame.pack()\n",
    "        \n",
    "        self.myButton = Button(master,text='Click Me',command=self.clicker)\n",
    "        self.myButton.pack(pady=20)\n",
    "        \n",
    "    def clicker(self):\n",
    "        print('You have clicked a button')\n",
    "\n",
    "e = Elder(window)\n",
    "\n",
    "window.mainloop()"
   ]
  },
  {
   "cell_type": "code",
   "execution_count": null,
   "metadata": {},
   "outputs": [],
   "source": []
  },
  {
   "cell_type": "code",
   "execution_count": null,
   "metadata": {},
   "outputs": [],
   "source": []
  }
 ],
 "metadata": {
  "kernelspec": {
   "display_name": "Python 3",
   "language": "python",
   "name": "python3"
  },
  "language_info": {
   "codemirror_mode": {
    "name": "ipython",
    "version": 3
   },
   "file_extension": ".py",
   "mimetype": "text/x-python",
   "name": "python",
   "nbconvert_exporter": "python",
   "pygments_lexer": "ipython3",
   "version": "3.7.5"
  }
 },
 "nbformat": 4,
 "nbformat_minor": 2
}
