{
 "cells": [
  {
   "cell_type": "code",
   "execution_count": 1,
   "metadata": {},
   "outputs": [],
   "source": [
    "f = open('first.txt','w')\n",
    "f.write('This is my first program of file handling')\n",
    "f.close()"
   ]
  },
  {
   "cell_type": "code",
   "execution_count": 2,
   "metadata": {},
   "outputs": [],
   "source": [
    "with open('second.txt','w') as f:\n",
    "    f.write('This is my second file with statement')"
   ]
  },
  {
   "cell_type": "code",
   "execution_count": 13,
   "metadata": {},
   "outputs": [
    {
     "name": "stdout",
     "output_type": "stream",
     "text": [
      "This is my first program of file handling\n",
      "This is Python course \n"
     ]
    }
   ],
   "source": [
    "f  = open('first.txt','r')\n",
    "data = f.read()\n",
    "print(data)"
   ]
  },
  {
   "cell_type": "code",
   "execution_count": 12,
   "metadata": {},
   "outputs": [
    {
     "name": "stdout",
     "output_type": "stream",
     "text": [
      "This is my first pro\n"
     ]
    },
    {
     "data": {
      "text/plain": [
       "str"
      ]
     },
     "execution_count": 12,
     "metadata": {},
     "output_type": "execute_result"
    }
   ],
   "source": [
    "f  = open('first.txt','r')\n",
    "data = f.read(20)\n",
    "print(data)\n",
    "type(data)"
   ]
  },
  {
   "cell_type": "code",
   "execution_count": 20,
   "metadata": {},
   "outputs": [
    {
     "name": "stdout",
     "output_type": "stream",
     "text": [
      "This is my first program of file handling\n",
      "\n"
     ]
    }
   ],
   "source": [
    "f  = open('first.txt','r')\n",
    "data = f.readline()\n",
    "print(data)"
   ]
  },
  {
   "cell_type": "code",
   "execution_count": 21,
   "metadata": {},
   "outputs": [
    {
     "name": "stdout",
     "output_type": "stream",
     "text": [
      "This is my first program of file handling\n",
      "\n",
      "This is Python course \n"
     ]
    }
   ],
   "source": [
    "f  = open('first.txt','r')\n",
    "data = f.readline()\n",
    "print(data)\n",
    "data = f.readline()\n",
    "print(data)"
   ]
  },
  {
   "cell_type": "code",
   "execution_count": 22,
   "metadata": {},
   "outputs": [
    {
     "name": "stdout",
     "output_type": "stream",
     "text": [
      "['This is my first program of file handling\\n', 'This is Python course ']\n"
     ]
    }
   ],
   "source": [
    "f  = open('first.txt','r')\n",
    "data = f.readlines()\n",
    "print(data)"
   ]
  },
  {
   "cell_type": "code",
   "execution_count": 23,
   "metadata": {},
   "outputs": [],
   "source": [
    "f  = open('third.txt','w')\n",
    "f.write('This is third file')\n",
    "f.close()"
   ]
  },
  {
   "cell_type": "code",
   "execution_count": 25,
   "metadata": {},
   "outputs": [],
   "source": [
    "f  = open('third.txt','w')\n",
    "f.write('This is third file')\n",
    "f.write('\\nThis is Python')\n",
    "f.close()"
   ]
  },
  {
   "cell_type": "code",
   "execution_count": 26,
   "metadata": {},
   "outputs": [],
   "source": [
    "f  = open('third.txt','w')\n",
    "f.write('\\nThis is Python and I am arvind')\n",
    "f.close()"
   ]
  },
  {
   "cell_type": "code",
   "execution_count": 27,
   "metadata": {},
   "outputs": [],
   "source": [
    "f  = open('third.txt','a')\n",
    "f.write('\\n Actolaze Technology LLP')\n",
    "f.close()"
   ]
  },
  {
   "cell_type": "code",
   "execution_count": 28,
   "metadata": {},
   "outputs": [],
   "source": [
    "f  = open('nayi.txt','a')\n",
    "f.write('\\n Actolaze Technology LLP')\n",
    "list1 = ['a','b','c']\n",
    "f.writelines(list1)\n",
    "f.close()"
   ]
  },
  {
   "cell_type": "code",
   "execution_count": 31,
   "metadata": {},
   "outputs": [
    {
     "name": "stdout",
     "output_type": "stream",
     "text": [
      "Enter the number324\n",
      "Enter the number654\n"
     ]
    }
   ],
   "source": [
    "f = open('sum.txt','a')\n",
    "a = int(input('Enter the number'))\n",
    "b = int(input('Enter the number'))\n",
    "sum = a+b\n",
    "f.write('\\n A ='+str(a))\n",
    "f.write('\\n B = '+str(b))\n",
    "f.write('\\n Sum = '+str(sum))\n",
    "f.close()"
   ]
  },
  {
   "cell_type": "code",
   "execution_count": 33,
   "metadata": {},
   "outputs": [
    {
     "name": "stdout",
     "output_type": "stream",
     "text": [
      "\n",
      "\n",
      " A =54\n",
      "\n",
      " B = 65\n",
      "\n",
      " Sum = 119\n",
      "\n",
      " A =100\n",
      "\n",
      " B = 200\n",
      "\n",
      " Sum = 300\n",
      "\n",
      " A =324\n",
      "\n",
      " B = 654\n",
      "\n",
      " Sum = 978\n"
     ]
    }
   ],
   "source": [
    "f = open('sum.txt','r')\n",
    "while True:\n",
    "    s= f.readline()\n",
    "    if s == '':\n",
    "        break\n",
    "    else:\n",
    "        print(s)"
   ]
  },
  {
   "cell_type": "code",
   "execution_count": null,
   "metadata": {},
   "outputs": [],
   "source": []
  },
  {
   "cell_type": "code",
   "execution_count": null,
   "metadata": {},
   "outputs": [],
   "source": []
  }
 ],
 "metadata": {
  "kernelspec": {
   "display_name": "Python 3",
   "language": "python",
   "name": "python3"
  },
  "language_info": {
   "codemirror_mode": {
    "name": "ipython",
    "version": 3
   },
   "file_extension": ".py",
   "mimetype": "text/x-python",
   "name": "python",
   "nbconvert_exporter": "python",
   "pygments_lexer": "ipython3",
   "version": "3.7.5"
  }
 },
 "nbformat": 4,
 "nbformat_minor": 2
}
